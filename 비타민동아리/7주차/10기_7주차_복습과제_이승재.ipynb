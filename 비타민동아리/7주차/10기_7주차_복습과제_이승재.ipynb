{
  "nbformat": 4,
  "nbformat_minor": 0,
  "metadata": {
    "colab": {
      "provenance": [],
      "collapsed_sections": []
    },
    "kernelspec": {
      "name": "python3",
      "display_name": "Python 3"
    },
    "language_info": {
      "name": "python"
    }
  },
  "cells": [
    {
      "cell_type": "markdown",
      "source": [
        "# 데이터불러오기"
      ],
      "metadata": {
        "id": "szoHrFfPb2hr"
      }
    },
    {
      "cell_type": "code",
      "source": [
        "import pandas as pd\n",
        "import numpy as np\n",
        "import matplotlib.pyplot as plt\n",
        "from sklearn.preprocessing import StandardScaler\n",
        "from google.colab import files\n",
        "files.upload()\n",
        "df = pd.read_csv('train.csv')"
      ],
      "metadata": {
        "id": "iDMvID5Lb3mR",
        "colab": {
          "base_uri": "https://localhost:8080/",
          "height": 77
        },
        "outputId": "01d747fd-dd25-4328-9c45-418af9b20e73"
      },
      "execution_count": 1,
      "outputs": [
        {
          "output_type": "display_data",
          "data": {
            "text/plain": [
              "<IPython.core.display.HTML object>"
            ],
            "text/html": [
              "\n",
              "     <input type=\"file\" id=\"files-b587bd6f-37ed-487f-be3a-d8952f092afa\" name=\"files[]\" multiple disabled\n",
              "        style=\"border:none\" />\n",
              "     <output id=\"result-b587bd6f-37ed-487f-be3a-d8952f092afa\">\n",
              "      Upload widget is only available when the cell has been executed in the\n",
              "      current browser session. Please rerun this cell to enable.\n",
              "      </output>\n",
              "      <script>// Copyright 2017 Google LLC\n",
              "//\n",
              "// Licensed under the Apache License, Version 2.0 (the \"License\");\n",
              "// you may not use this file except in compliance with the License.\n",
              "// You may obtain a copy of the License at\n",
              "//\n",
              "//      http://www.apache.org/licenses/LICENSE-2.0\n",
              "//\n",
              "// Unless required by applicable law or agreed to in writing, software\n",
              "// distributed under the License is distributed on an \"AS IS\" BASIS,\n",
              "// WITHOUT WARRANTIES OR CONDITIONS OF ANY KIND, either express or implied.\n",
              "// See the License for the specific language governing permissions and\n",
              "// limitations under the License.\n",
              "\n",
              "/**\n",
              " * @fileoverview Helpers for google.colab Python module.\n",
              " */\n",
              "(function(scope) {\n",
              "function span(text, styleAttributes = {}) {\n",
              "  const element = document.createElement('span');\n",
              "  element.textContent = text;\n",
              "  for (const key of Object.keys(styleAttributes)) {\n",
              "    element.style[key] = styleAttributes[key];\n",
              "  }\n",
              "  return element;\n",
              "}\n",
              "\n",
              "// Max number of bytes which will be uploaded at a time.\n",
              "const MAX_PAYLOAD_SIZE = 100 * 1024;\n",
              "\n",
              "function _uploadFiles(inputId, outputId) {\n",
              "  const steps = uploadFilesStep(inputId, outputId);\n",
              "  const outputElement = document.getElementById(outputId);\n",
              "  // Cache steps on the outputElement to make it available for the next call\n",
              "  // to uploadFilesContinue from Python.\n",
              "  outputElement.steps = steps;\n",
              "\n",
              "  return _uploadFilesContinue(outputId);\n",
              "}\n",
              "\n",
              "// This is roughly an async generator (not supported in the browser yet),\n",
              "// where there are multiple asynchronous steps and the Python side is going\n",
              "// to poll for completion of each step.\n",
              "// This uses a Promise to block the python side on completion of each step,\n",
              "// then passes the result of the previous step as the input to the next step.\n",
              "function _uploadFilesContinue(outputId) {\n",
              "  const outputElement = document.getElementById(outputId);\n",
              "  const steps = outputElement.steps;\n",
              "\n",
              "  const next = steps.next(outputElement.lastPromiseValue);\n",
              "  return Promise.resolve(next.value.promise).then((value) => {\n",
              "    // Cache the last promise value to make it available to the next\n",
              "    // step of the generator.\n",
              "    outputElement.lastPromiseValue = value;\n",
              "    return next.value.response;\n",
              "  });\n",
              "}\n",
              "\n",
              "/**\n",
              " * Generator function which is called between each async step of the upload\n",
              " * process.\n",
              " * @param {string} inputId Element ID of the input file picker element.\n",
              " * @param {string} outputId Element ID of the output display.\n",
              " * @return {!Iterable<!Object>} Iterable of next steps.\n",
              " */\n",
              "function* uploadFilesStep(inputId, outputId) {\n",
              "  const inputElement = document.getElementById(inputId);\n",
              "  inputElement.disabled = false;\n",
              "\n",
              "  const outputElement = document.getElementById(outputId);\n",
              "  outputElement.innerHTML = '';\n",
              "\n",
              "  const pickedPromise = new Promise((resolve) => {\n",
              "    inputElement.addEventListener('change', (e) => {\n",
              "      resolve(e.target.files);\n",
              "    });\n",
              "  });\n",
              "\n",
              "  const cancel = document.createElement('button');\n",
              "  inputElement.parentElement.appendChild(cancel);\n",
              "  cancel.textContent = 'Cancel upload';\n",
              "  const cancelPromise = new Promise((resolve) => {\n",
              "    cancel.onclick = () => {\n",
              "      resolve(null);\n",
              "    };\n",
              "  });\n",
              "\n",
              "  // Wait for the user to pick the files.\n",
              "  const files = yield {\n",
              "    promise: Promise.race([pickedPromise, cancelPromise]),\n",
              "    response: {\n",
              "      action: 'starting',\n",
              "    }\n",
              "  };\n",
              "\n",
              "  cancel.remove();\n",
              "\n",
              "  // Disable the input element since further picks are not allowed.\n",
              "  inputElement.disabled = true;\n",
              "\n",
              "  if (!files) {\n",
              "    return {\n",
              "      response: {\n",
              "        action: 'complete',\n",
              "      }\n",
              "    };\n",
              "  }\n",
              "\n",
              "  for (const file of files) {\n",
              "    const li = document.createElement('li');\n",
              "    li.append(span(file.name, {fontWeight: 'bold'}));\n",
              "    li.append(span(\n",
              "        `(${file.type || 'n/a'}) - ${file.size} bytes, ` +\n",
              "        `last modified: ${\n",
              "            file.lastModifiedDate ? file.lastModifiedDate.toLocaleDateString() :\n",
              "                                    'n/a'} - `));\n",
              "    const percent = span('0% done');\n",
              "    li.appendChild(percent);\n",
              "\n",
              "    outputElement.appendChild(li);\n",
              "\n",
              "    const fileDataPromise = new Promise((resolve) => {\n",
              "      const reader = new FileReader();\n",
              "      reader.onload = (e) => {\n",
              "        resolve(e.target.result);\n",
              "      };\n",
              "      reader.readAsArrayBuffer(file);\n",
              "    });\n",
              "    // Wait for the data to be ready.\n",
              "    let fileData = yield {\n",
              "      promise: fileDataPromise,\n",
              "      response: {\n",
              "        action: 'continue',\n",
              "      }\n",
              "    };\n",
              "\n",
              "    // Use a chunked sending to avoid message size limits. See b/62115660.\n",
              "    let position = 0;\n",
              "    do {\n",
              "      const length = Math.min(fileData.byteLength - position, MAX_PAYLOAD_SIZE);\n",
              "      const chunk = new Uint8Array(fileData, position, length);\n",
              "      position += length;\n",
              "\n",
              "      const base64 = btoa(String.fromCharCode.apply(null, chunk));\n",
              "      yield {\n",
              "        response: {\n",
              "          action: 'append',\n",
              "          file: file.name,\n",
              "          data: base64,\n",
              "        },\n",
              "      };\n",
              "\n",
              "      let percentDone = fileData.byteLength === 0 ?\n",
              "          100 :\n",
              "          Math.round((position / fileData.byteLength) * 100);\n",
              "      percent.textContent = `${percentDone}% done`;\n",
              "\n",
              "    } while (position < fileData.byteLength);\n",
              "  }\n",
              "\n",
              "  // All done.\n",
              "  yield {\n",
              "    response: {\n",
              "      action: 'complete',\n",
              "    }\n",
              "  };\n",
              "}\n",
              "\n",
              "scope.google = scope.google || {};\n",
              "scope.google.colab = scope.google.colab || {};\n",
              "scope.google.colab._files = {\n",
              "  _uploadFiles,\n",
              "  _uploadFilesContinue,\n",
              "};\n",
              "})(self);\n",
              "</script> "
            ]
          },
          "metadata": {}
        },
        {
          "output_type": "stream",
          "name": "stdout",
          "text": [
            "Saving train.csv to train.csv\n"
          ]
        }
      ]
    },
    {
      "cell_type": "markdown",
      "source": [
        "#### df 데이터 프레임에서 Cabin, Name, Ticket 열은 제거해주세요"
      ],
      "metadata": {
        "id": "0Moc0vwecY8J"
      }
    },
    {
      "cell_type": "code",
      "source": [
        "df = df.drop(['Cabin','Name','Ticket'], axis = 'columns')"
      ],
      "metadata": {
        "id": "G4a9YfMNcHI9"
      },
      "execution_count": 2,
      "outputs": []
    },
    {
      "cell_type": "markdown",
      "source": [
        "#### df 데이터 프레임의 모든 결측치를 제거해봅시다"
      ],
      "metadata": {
        "id": "1HpPS63gcjfE"
      }
    },
    {
      "cell_type": "code",
      "source": [
        "df = df.dropna(axis = 0)"
      ],
      "metadata": {
        "id": "y6v6hiJtcm4W"
      },
      "execution_count": 3,
      "outputs": []
    },
    {
      "cell_type": "markdown",
      "source": [
        "#### 원할한 과제 진행을 위해 아래 코드 한번 실행시켜주세요"
      ],
      "metadata": {
        "id": "KIuumlZWdTfm"
      }
    },
    {
      "cell_type": "code",
      "source": [
        "df = df.reset_index(drop=True)"
      ],
      "metadata": {
        "id": "Q2pu1lHVdXuh"
      },
      "execution_count": 4,
      "outputs": []
    },
    {
      "cell_type": "code",
      "source": [
        "df"
      ],
      "metadata": {
        "colab": {
          "base_uri": "https://localhost:8080/",
          "height": 424
        },
        "id": "zsf8BHe5BAg7",
        "outputId": "6e5763d8-ffed-4c60-9ac2-403275f408ab"
      },
      "execution_count": 5,
      "outputs": [
        {
          "output_type": "execute_result",
          "data": {
            "text/plain": [
              "     Survived  Pclass     Sex   Age  SibSp  Parch     Fare Embarked\n",
              "0           0       3    male  22.0      1      0   7.2500        S\n",
              "1           1       1  female  38.0      1      0  71.2833        C\n",
              "2           1       3  female  26.0      0      0   7.9250        S\n",
              "3           1       1  female  35.0      1      0  53.1000        S\n",
              "4           0       3    male  35.0      0      0   8.0500        S\n",
              "..        ...     ...     ...   ...    ...    ...      ...      ...\n",
              "707         0       3  female  39.0      0      5  29.1250        Q\n",
              "708         0       2    male  27.0      0      0  13.0000        S\n",
              "709         1       1  female  19.0      0      0  30.0000        S\n",
              "710         1       1    male  26.0      0      0  30.0000        C\n",
              "711         0       3    male  32.0      0      0   7.7500        Q\n",
              "\n",
              "[712 rows x 8 columns]"
            ],
            "text/html": [
              "\n",
              "  <div id=\"df-f64dacd7-695c-49c4-98da-a6ba7d68f349\">\n",
              "    <div class=\"colab-df-container\">\n",
              "      <div>\n",
              "<style scoped>\n",
              "    .dataframe tbody tr th:only-of-type {\n",
              "        vertical-align: middle;\n",
              "    }\n",
              "\n",
              "    .dataframe tbody tr th {\n",
              "        vertical-align: top;\n",
              "    }\n",
              "\n",
              "    .dataframe thead th {\n",
              "        text-align: right;\n",
              "    }\n",
              "</style>\n",
              "<table border=\"1\" class=\"dataframe\">\n",
              "  <thead>\n",
              "    <tr style=\"text-align: right;\">\n",
              "      <th></th>\n",
              "      <th>Survived</th>\n",
              "      <th>Pclass</th>\n",
              "      <th>Sex</th>\n",
              "      <th>Age</th>\n",
              "      <th>SibSp</th>\n",
              "      <th>Parch</th>\n",
              "      <th>Fare</th>\n",
              "      <th>Embarked</th>\n",
              "    </tr>\n",
              "  </thead>\n",
              "  <tbody>\n",
              "    <tr>\n",
              "      <th>0</th>\n",
              "      <td>0</td>\n",
              "      <td>3</td>\n",
              "      <td>male</td>\n",
              "      <td>22.0</td>\n",
              "      <td>1</td>\n",
              "      <td>0</td>\n",
              "      <td>7.2500</td>\n",
              "      <td>S</td>\n",
              "    </tr>\n",
              "    <tr>\n",
              "      <th>1</th>\n",
              "      <td>1</td>\n",
              "      <td>1</td>\n",
              "      <td>female</td>\n",
              "      <td>38.0</td>\n",
              "      <td>1</td>\n",
              "      <td>0</td>\n",
              "      <td>71.2833</td>\n",
              "      <td>C</td>\n",
              "    </tr>\n",
              "    <tr>\n",
              "      <th>2</th>\n",
              "      <td>1</td>\n",
              "      <td>3</td>\n",
              "      <td>female</td>\n",
              "      <td>26.0</td>\n",
              "      <td>0</td>\n",
              "      <td>0</td>\n",
              "      <td>7.9250</td>\n",
              "      <td>S</td>\n",
              "    </tr>\n",
              "    <tr>\n",
              "      <th>3</th>\n",
              "      <td>1</td>\n",
              "      <td>1</td>\n",
              "      <td>female</td>\n",
              "      <td>35.0</td>\n",
              "      <td>1</td>\n",
              "      <td>0</td>\n",
              "      <td>53.1000</td>\n",
              "      <td>S</td>\n",
              "    </tr>\n",
              "    <tr>\n",
              "      <th>4</th>\n",
              "      <td>0</td>\n",
              "      <td>3</td>\n",
              "      <td>male</td>\n",
              "      <td>35.0</td>\n",
              "      <td>0</td>\n",
              "      <td>0</td>\n",
              "      <td>8.0500</td>\n",
              "      <td>S</td>\n",
              "    </tr>\n",
              "    <tr>\n",
              "      <th>...</th>\n",
              "      <td>...</td>\n",
              "      <td>...</td>\n",
              "      <td>...</td>\n",
              "      <td>...</td>\n",
              "      <td>...</td>\n",
              "      <td>...</td>\n",
              "      <td>...</td>\n",
              "      <td>...</td>\n",
              "    </tr>\n",
              "    <tr>\n",
              "      <th>707</th>\n",
              "      <td>0</td>\n",
              "      <td>3</td>\n",
              "      <td>female</td>\n",
              "      <td>39.0</td>\n",
              "      <td>0</td>\n",
              "      <td>5</td>\n",
              "      <td>29.1250</td>\n",
              "      <td>Q</td>\n",
              "    </tr>\n",
              "    <tr>\n",
              "      <th>708</th>\n",
              "      <td>0</td>\n",
              "      <td>2</td>\n",
              "      <td>male</td>\n",
              "      <td>27.0</td>\n",
              "      <td>0</td>\n",
              "      <td>0</td>\n",
              "      <td>13.0000</td>\n",
              "      <td>S</td>\n",
              "    </tr>\n",
              "    <tr>\n",
              "      <th>709</th>\n",
              "      <td>1</td>\n",
              "      <td>1</td>\n",
              "      <td>female</td>\n",
              "      <td>19.0</td>\n",
              "      <td>0</td>\n",
              "      <td>0</td>\n",
              "      <td>30.0000</td>\n",
              "      <td>S</td>\n",
              "    </tr>\n",
              "    <tr>\n",
              "      <th>710</th>\n",
              "      <td>1</td>\n",
              "      <td>1</td>\n",
              "      <td>male</td>\n",
              "      <td>26.0</td>\n",
              "      <td>0</td>\n",
              "      <td>0</td>\n",
              "      <td>30.0000</td>\n",
              "      <td>C</td>\n",
              "    </tr>\n",
              "    <tr>\n",
              "      <th>711</th>\n",
              "      <td>0</td>\n",
              "      <td>3</td>\n",
              "      <td>male</td>\n",
              "      <td>32.0</td>\n",
              "      <td>0</td>\n",
              "      <td>0</td>\n",
              "      <td>7.7500</td>\n",
              "      <td>Q</td>\n",
              "    </tr>\n",
              "  </tbody>\n",
              "</table>\n",
              "<p>712 rows × 8 columns</p>\n",
              "</div>\n",
              "      <button class=\"colab-df-convert\" onclick=\"convertToInteractive('df-f64dacd7-695c-49c4-98da-a6ba7d68f349')\"\n",
              "              title=\"Convert this dataframe to an interactive table.\"\n",
              "              style=\"display:none;\">\n",
              "        \n",
              "  <svg xmlns=\"http://www.w3.org/2000/svg\" height=\"24px\"viewBox=\"0 0 24 24\"\n",
              "       width=\"24px\">\n",
              "    <path d=\"M0 0h24v24H0V0z\" fill=\"none\"/>\n",
              "    <path d=\"M18.56 5.44l.94 2.06.94-2.06 2.06-.94-2.06-.94-.94-2.06-.94 2.06-2.06.94zm-11 1L8.5 8.5l.94-2.06 2.06-.94-2.06-.94L8.5 2.5l-.94 2.06-2.06.94zm10 10l.94 2.06.94-2.06 2.06-.94-2.06-.94-.94-2.06-.94 2.06-2.06.94z\"/><path d=\"M17.41 7.96l-1.37-1.37c-.4-.4-.92-.59-1.43-.59-.52 0-1.04.2-1.43.59L10.3 9.45l-7.72 7.72c-.78.78-.78 2.05 0 2.83L4 21.41c.39.39.9.59 1.41.59.51 0 1.02-.2 1.41-.59l7.78-7.78 2.81-2.81c.8-.78.8-2.07 0-2.86zM5.41 20L4 18.59l7.72-7.72 1.47 1.35L5.41 20z\"/>\n",
              "  </svg>\n",
              "      </button>\n",
              "      \n",
              "  <style>\n",
              "    .colab-df-container {\n",
              "      display:flex;\n",
              "      flex-wrap:wrap;\n",
              "      gap: 12px;\n",
              "    }\n",
              "\n",
              "    .colab-df-convert {\n",
              "      background-color: #E8F0FE;\n",
              "      border: none;\n",
              "      border-radius: 50%;\n",
              "      cursor: pointer;\n",
              "      display: none;\n",
              "      fill: #1967D2;\n",
              "      height: 32px;\n",
              "      padding: 0 0 0 0;\n",
              "      width: 32px;\n",
              "    }\n",
              "\n",
              "    .colab-df-convert:hover {\n",
              "      background-color: #E2EBFA;\n",
              "      box-shadow: 0px 1px 2px rgba(60, 64, 67, 0.3), 0px 1px 3px 1px rgba(60, 64, 67, 0.15);\n",
              "      fill: #174EA6;\n",
              "    }\n",
              "\n",
              "    [theme=dark] .colab-df-convert {\n",
              "      background-color: #3B4455;\n",
              "      fill: #D2E3FC;\n",
              "    }\n",
              "\n",
              "    [theme=dark] .colab-df-convert:hover {\n",
              "      background-color: #434B5C;\n",
              "      box-shadow: 0px 1px 3px 1px rgba(0, 0, 0, 0.15);\n",
              "      filter: drop-shadow(0px 1px 2px rgba(0, 0, 0, 0.3));\n",
              "      fill: #FFFFFF;\n",
              "    }\n",
              "  </style>\n",
              "\n",
              "      <script>\n",
              "        const buttonEl =\n",
              "          document.querySelector('#df-f64dacd7-695c-49c4-98da-a6ba7d68f349 button.colab-df-convert');\n",
              "        buttonEl.style.display =\n",
              "          google.colab.kernel.accessAllowed ? 'block' : 'none';\n",
              "\n",
              "        async function convertToInteractive(key) {\n",
              "          const element = document.querySelector('#df-f64dacd7-695c-49c4-98da-a6ba7d68f349');\n",
              "          const dataTable =\n",
              "            await google.colab.kernel.invokeFunction('convertToInteractive',\n",
              "                                                     [key], {});\n",
              "          if (!dataTable) return;\n",
              "\n",
              "          const docLinkHtml = 'Like what you see? Visit the ' +\n",
              "            '<a target=\"_blank\" href=https://colab.research.google.com/notebooks/data_table.ipynb>data table notebook</a>'\n",
              "            + ' to learn more about interactive tables.';\n",
              "          element.innerHTML = '';\n",
              "          dataTable['output_type'] = 'display_data';\n",
              "          await google.colab.output.renderOutput(dataTable, element);\n",
              "          const docLink = document.createElement('div');\n",
              "          docLink.innerHTML = docLinkHtml;\n",
              "          element.appendChild(docLink);\n",
              "        }\n",
              "      </script>\n",
              "    </div>\n",
              "  </div>\n",
              "  "
            ]
          },
          "metadata": {},
          "execution_count": 5
        }
      ]
    },
    {
      "cell_type": "markdown",
      "source": [
        "#### df 데이터 프레임을 features와 target으로 구분지읍시다\n",
        "#### target = Survived, features는 그 외 모든 변수"
      ],
      "metadata": {
        "id": "Qbt6Gwmyc_V6"
      }
    },
    {
      "cell_type": "code",
      "source": [
        "features = df.drop(['Survived'], axis = 1)\n",
        "target = df['Survived']"
      ],
      "metadata": {
        "id": "46O8JUEScozG"
      },
      "execution_count": 6,
      "outputs": []
    },
    {
      "cell_type": "markdown",
      "source": [
        "#### features 데이터 프레임을 카테고리형 변수(Pclass, Sex, Embarked),\n",
        "#### 연속형 변수('Age','SibSp','Parch','Fare')로 구분하여 각각\n",
        "#### features_cat, features_con 변수에 저장해주세요"
      ],
      "metadata": {
        "id": "xXqEC1Asdk7b"
      }
    },
    {
      "cell_type": "code",
      "source": [
        "features_cat = features[['Pclass', 'Sex', 'Embarked']]\n",
        "features_con = features[['Age','SibSp','Parch','Fare']]"
      ],
      "metadata": {
        "id": "XT8FK7rAdnLV"
      },
      "execution_count": 7,
      "outputs": []
    },
    {
      "cell_type": "markdown",
      "source": [
        "#### features_cat.info()를 통해 데이터의 자료형을 확인해봅시다"
      ],
      "metadata": {
        "id": "fD5c1zD3e2g8"
      }
    },
    {
      "cell_type": "code",
      "source": [
        "features_cat.info()"
      ],
      "metadata": {
        "colab": {
          "base_uri": "https://localhost:8080/"
        },
        "id": "GtuqLus1enFT",
        "outputId": "430c0b96-ce0a-4b95-c69c-23ec1fe7c5fd"
      },
      "execution_count": 8,
      "outputs": [
        {
          "output_type": "stream",
          "name": "stdout",
          "text": [
            "<class 'pandas.core.frame.DataFrame'>\n",
            "RangeIndex: 712 entries, 0 to 711\n",
            "Data columns (total 3 columns):\n",
            " #   Column    Non-Null Count  Dtype \n",
            "---  ------    --------------  ----- \n",
            " 0   Pclass    712 non-null    int64 \n",
            " 1   Sex       712 non-null    object\n",
            " 2   Embarked  712 non-null    object\n",
            "dtypes: int64(1), object(2)\n",
            "memory usage: 16.8+ KB\n"
          ]
        }
      ]
    },
    {
      "cell_type": "markdown",
      "source": [
        "#### features_cat 데이터프레임을 숫자로 인코딩합시다\n",
        "#### 그리고 features_cat의 모든 열이 int 자료형으로 지정되도록 확인합시다"
      ],
      "metadata": {
        "id": "dEWpQr2xpEC3"
      }
    },
    {
      "cell_type": "code",
      "source": [
        "features_cat.head()"
      ],
      "metadata": {
        "colab": {
          "base_uri": "https://localhost:8080/",
          "height": 206
        },
        "id": "IdlrZqGFBTz5",
        "outputId": "4f6e0f0c-c18e-4554-ef93-2c1f8f234a61"
      },
      "execution_count": 21,
      "outputs": [
        {
          "output_type": "execute_result",
          "data": {
            "text/plain": [
              "   Pclass     Sex Embarked\n",
              "0       3    male        S\n",
              "1       1  female        C\n",
              "2       3  female        S\n",
              "3       1  female        S\n",
              "4       3    male        S"
            ],
            "text/html": [
              "\n",
              "  <div id=\"df-36d3c1e6-5659-41ef-b15f-632dd8f0229b\">\n",
              "    <div class=\"colab-df-container\">\n",
              "      <div>\n",
              "<style scoped>\n",
              "    .dataframe tbody tr th:only-of-type {\n",
              "        vertical-align: middle;\n",
              "    }\n",
              "\n",
              "    .dataframe tbody tr th {\n",
              "        vertical-align: top;\n",
              "    }\n",
              "\n",
              "    .dataframe thead th {\n",
              "        text-align: right;\n",
              "    }\n",
              "</style>\n",
              "<table border=\"1\" class=\"dataframe\">\n",
              "  <thead>\n",
              "    <tr style=\"text-align: right;\">\n",
              "      <th></th>\n",
              "      <th>Pclass</th>\n",
              "      <th>Sex</th>\n",
              "      <th>Embarked</th>\n",
              "    </tr>\n",
              "  </thead>\n",
              "  <tbody>\n",
              "    <tr>\n",
              "      <th>0</th>\n",
              "      <td>3</td>\n",
              "      <td>male</td>\n",
              "      <td>S</td>\n",
              "    </tr>\n",
              "    <tr>\n",
              "      <th>1</th>\n",
              "      <td>1</td>\n",
              "      <td>female</td>\n",
              "      <td>C</td>\n",
              "    </tr>\n",
              "    <tr>\n",
              "      <th>2</th>\n",
              "      <td>3</td>\n",
              "      <td>female</td>\n",
              "      <td>S</td>\n",
              "    </tr>\n",
              "    <tr>\n",
              "      <th>3</th>\n",
              "      <td>1</td>\n",
              "      <td>female</td>\n",
              "      <td>S</td>\n",
              "    </tr>\n",
              "    <tr>\n",
              "      <th>4</th>\n",
              "      <td>3</td>\n",
              "      <td>male</td>\n",
              "      <td>S</td>\n",
              "    </tr>\n",
              "  </tbody>\n",
              "</table>\n",
              "</div>\n",
              "      <button class=\"colab-df-convert\" onclick=\"convertToInteractive('df-36d3c1e6-5659-41ef-b15f-632dd8f0229b')\"\n",
              "              title=\"Convert this dataframe to an interactive table.\"\n",
              "              style=\"display:none;\">\n",
              "        \n",
              "  <svg xmlns=\"http://www.w3.org/2000/svg\" height=\"24px\"viewBox=\"0 0 24 24\"\n",
              "       width=\"24px\">\n",
              "    <path d=\"M0 0h24v24H0V0z\" fill=\"none\"/>\n",
              "    <path d=\"M18.56 5.44l.94 2.06.94-2.06 2.06-.94-2.06-.94-.94-2.06-.94 2.06-2.06.94zm-11 1L8.5 8.5l.94-2.06 2.06-.94-2.06-.94L8.5 2.5l-.94 2.06-2.06.94zm10 10l.94 2.06.94-2.06 2.06-.94-2.06-.94-.94-2.06-.94 2.06-2.06.94z\"/><path d=\"M17.41 7.96l-1.37-1.37c-.4-.4-.92-.59-1.43-.59-.52 0-1.04.2-1.43.59L10.3 9.45l-7.72 7.72c-.78.78-.78 2.05 0 2.83L4 21.41c.39.39.9.59 1.41.59.51 0 1.02-.2 1.41-.59l7.78-7.78 2.81-2.81c.8-.78.8-2.07 0-2.86zM5.41 20L4 18.59l7.72-7.72 1.47 1.35L5.41 20z\"/>\n",
              "  </svg>\n",
              "      </button>\n",
              "      \n",
              "  <style>\n",
              "    .colab-df-container {\n",
              "      display:flex;\n",
              "      flex-wrap:wrap;\n",
              "      gap: 12px;\n",
              "    }\n",
              "\n",
              "    .colab-df-convert {\n",
              "      background-color: #E8F0FE;\n",
              "      border: none;\n",
              "      border-radius: 50%;\n",
              "      cursor: pointer;\n",
              "      display: none;\n",
              "      fill: #1967D2;\n",
              "      height: 32px;\n",
              "      padding: 0 0 0 0;\n",
              "      width: 32px;\n",
              "    }\n",
              "\n",
              "    .colab-df-convert:hover {\n",
              "      background-color: #E2EBFA;\n",
              "      box-shadow: 0px 1px 2px rgba(60, 64, 67, 0.3), 0px 1px 3px 1px rgba(60, 64, 67, 0.15);\n",
              "      fill: #174EA6;\n",
              "    }\n",
              "\n",
              "    [theme=dark] .colab-df-convert {\n",
              "      background-color: #3B4455;\n",
              "      fill: #D2E3FC;\n",
              "    }\n",
              "\n",
              "    [theme=dark] .colab-df-convert:hover {\n",
              "      background-color: #434B5C;\n",
              "      box-shadow: 0px 1px 3px 1px rgba(0, 0, 0, 0.15);\n",
              "      filter: drop-shadow(0px 1px 2px rgba(0, 0, 0, 0.3));\n",
              "      fill: #FFFFFF;\n",
              "    }\n",
              "  </style>\n",
              "\n",
              "      <script>\n",
              "        const buttonEl =\n",
              "          document.querySelector('#df-36d3c1e6-5659-41ef-b15f-632dd8f0229b button.colab-df-convert');\n",
              "        buttonEl.style.display =\n",
              "          google.colab.kernel.accessAllowed ? 'block' : 'none';\n",
              "\n",
              "        async function convertToInteractive(key) {\n",
              "          const element = document.querySelector('#df-36d3c1e6-5659-41ef-b15f-632dd8f0229b');\n",
              "          const dataTable =\n",
              "            await google.colab.kernel.invokeFunction('convertToInteractive',\n",
              "                                                     [key], {});\n",
              "          if (!dataTable) return;\n",
              "\n",
              "          const docLinkHtml = 'Like what you see? Visit the ' +\n",
              "            '<a target=\"_blank\" href=https://colab.research.google.com/notebooks/data_table.ipynb>data table notebook</a>'\n",
              "            + ' to learn more about interactive tables.';\n",
              "          element.innerHTML = '';\n",
              "          dataTable['output_type'] = 'display_data';\n",
              "          await google.colab.output.renderOutput(dataTable, element);\n",
              "          const docLink = document.createElement('div');\n",
              "          docLink.innerHTML = docLinkHtml;\n",
              "          element.appendChild(docLink);\n",
              "        }\n",
              "      </script>\n",
              "    </div>\n",
              "  </div>\n",
              "  "
            ]
          },
          "metadata": {},
          "execution_count": 21
        }
      ]
    },
    {
      "cell_type": "code",
      "source": [
        "from sklearn.preprocessing import LabelEncoder\n",
        "le = LabelEncoder()\n",
        "features_cat['Sex'] = le.fit_transform(features_cat['Sex'])\n",
        "features_cat['Embarked'] = le.fit_transform(features_cat['Embarked'])\n",
        "features_cat['Pclass'] = le.fit_transform(features_cat['Pclass'])"
      ],
      "metadata": {
        "id": "4xhCal7hpH5r",
        "colab": {
          "base_uri": "https://localhost:8080/"
        },
        "outputId": "df9f3cb1-5e66-4b0c-e2fa-e7c076b22c5a"
      },
      "execution_count": 9,
      "outputs": [
        {
          "output_type": "stream",
          "name": "stderr",
          "text": [
            "/usr/local/lib/python3.7/dist-packages/ipykernel_launcher.py:3: SettingWithCopyWarning: \n",
            "A value is trying to be set on a copy of a slice from a DataFrame.\n",
            "Try using .loc[row_indexer,col_indexer] = value instead\n",
            "\n",
            "See the caveats in the documentation: https://pandas.pydata.org/pandas-docs/stable/user_guide/indexing.html#returning-a-view-versus-a-copy\n",
            "  This is separate from the ipykernel package so we can avoid doing imports until\n",
            "/usr/local/lib/python3.7/dist-packages/ipykernel_launcher.py:4: SettingWithCopyWarning: \n",
            "A value is trying to be set on a copy of a slice from a DataFrame.\n",
            "Try using .loc[row_indexer,col_indexer] = value instead\n",
            "\n",
            "See the caveats in the documentation: https://pandas.pydata.org/pandas-docs/stable/user_guide/indexing.html#returning-a-view-versus-a-copy\n",
            "  after removing the cwd from sys.path.\n",
            "/usr/local/lib/python3.7/dist-packages/ipykernel_launcher.py:5: SettingWithCopyWarning: \n",
            "A value is trying to be set on a copy of a slice from a DataFrame.\n",
            "Try using .loc[row_indexer,col_indexer] = value instead\n",
            "\n",
            "See the caveats in the documentation: https://pandas.pydata.org/pandas-docs/stable/user_guide/indexing.html#returning-a-view-versus-a-copy\n",
            "  \"\"\"\n"
          ]
        }
      ]
    },
    {
      "cell_type": "code",
      "source": [
        "features_cat.info()"
      ],
      "metadata": {
        "colab": {
          "base_uri": "https://localhost:8080/"
        },
        "id": "SGm95XaBSaGa",
        "outputId": "38c00a5a-863d-4d1b-c48a-7ed4f8f984c0"
      },
      "execution_count": 10,
      "outputs": [
        {
          "output_type": "stream",
          "name": "stdout",
          "text": [
            "<class 'pandas.core.frame.DataFrame'>\n",
            "RangeIndex: 712 entries, 0 to 711\n",
            "Data columns (total 3 columns):\n",
            " #   Column    Non-Null Count  Dtype\n",
            "---  ------    --------------  -----\n",
            " 0   Pclass    712 non-null    int64\n",
            " 1   Sex       712 non-null    int64\n",
            " 2   Embarked  712 non-null    int64\n",
            "dtypes: int64(3)\n",
            "memory usage: 16.8 KB\n"
          ]
        }
      ]
    },
    {
      "cell_type": "markdown",
      "source": [
        "#### features_con 데이터 프레임은 표준화 작업을 진행해줍시다\n",
        "#### 그리고 features_con_std 변수에 데이터 프레임 형태로 저장해줍시다"
      ],
      "metadata": {
        "id": "oIzlG9dmf1vb"
      }
    },
    {
      "cell_type": "code",
      "source": [
        "stand = StandardScaler()\n",
        "features_con_std = pd.DataFrame(stand.fit_transform(features_con),columns = features_con.columns)"
      ],
      "metadata": {
        "id": "jThMcurOgAqI"
      },
      "execution_count": 11,
      "outputs": []
    },
    {
      "cell_type": "markdown",
      "source": [
        "#### 경사 하강법 구현을 위해 적절한 데이터를 찾아보겠습니다"
      ],
      "metadata": {
        "id": "lKXgaMjkhzEb"
      }
    },
    {
      "cell_type": "code",
      "source": [
        "f, axes = plt.subplots(4, 4)\n",
        "f.set_size_inches((20, 15))\n",
        "plt.subplots_adjust(wspace = 0.3, hspace = 0.3)\n",
        "\n",
        "col_lis = list(features_con_std.columns)\n",
        "for i in range(4):\n",
        "  for j in range(4):\n",
        "    axes[i,j].scatter(features_con_std[col_lis[i]],features_con_std[col_lis[j]],s = 4)\n",
        "    axes[i,j].set_xlabel(col_lis[i])\n",
        "    axes[i,j].set_ylabel(col_lis[j])\n",
        "\n",
        "plt.show()"
      ],
      "metadata": {
        "colab": {
          "base_uri": "https://localhost:8080/",
          "height": 879
        },
        "id": "IoBlx6tQhJ72",
        "outputId": "44d8c239-aa0a-41e0-fe99-d6166cb92c67"
      },
      "execution_count": 12,
      "outputs": [
        {
          "output_type": "display_data",
          "data": {
            "text/plain": [
              "<Figure size 1440x1080 with 16 Axes>"
            ],
            "image/png": "[encoded data removed]"
          },
          "metadata": {
            "needs_background": "light"
          }
        }
      ]
    },
    {
      "cell_type": "markdown",
      "source": [
        "#### 앞으로의 실습에서 features_con_std 데이터 프레임의 \n",
        "#### x = Age, y = Fare를 사용해보도록 합시다"
      ],
      "metadata": {
        "id": "GJt6uRdPh3vV"
      }
    },
    {
      "cell_type": "markdown",
      "source": [
        "#### 우선 훈련셋, 테스트 셋으로 데이터 구분합시다(test_size = 0.3, random_state = 42)"
      ],
      "metadata": {
        "id": "uxr_-S1njYsI"
      }
    },
    {
      "cell_type": "code",
      "source": [
        "from sklearn.model_selection import train_test_split\n",
        "x_train, x_test, y_train, y_test = train_test_split(features_con_std['Age'],features_con_std['Fare'], test_size = 0.3, random_state = 42)"
      ],
      "metadata": {
        "id": "0SjcD-x6h7_k"
      },
      "execution_count": 13,
      "outputs": []
    },
    {
      "cell_type": "markdown",
      "source": [
        "#### 경사하강법 코드를 실행하여 최적의 w,b를 찾아주세요"
      ],
      "metadata": {
        "id": "I4U8AILsjysc"
      }
    },
    {
      "cell_type": "code",
      "source": [
        "errors = []\n",
        "ww = []\n",
        "# random 한 값으로 w, b의 초기값을 설정합니다\n",
        "w = np.random.uniform(low=-1.0, high=1.0)\n",
        "b = np.random.uniform(low=-1.0, high=1.0)\n",
        "\n",
        "x = x_train\n",
        "y = y_train\n",
        "\n",
        "#에포크()\n",
        "num_epoch = 150\n",
        "learning_rate = 0.1\n",
        "\n",
        "for epoch in range(num_epoch):\n",
        "    y_hat = x * w + b\n",
        "    error = ((y_hat - y)**2).mean()\n",
        "    if error < 0.0005:\n",
        "        break\n",
        "    \n",
        "    w = w - learning_rate * ((y_hat - y) * x).mean()\n",
        "    b = b - learning_rate * (y_hat - y).mean()\n",
        "    \n",
        "    errors.append(error)\n",
        "    ww.append(w)\n",
        "\n",
        "    if epoch % 5 == 0:\n",
        "        print(\"{0:2} w = {1:.5f}, b = {2:.5f} error = {3:.5f}\".format(epoch, w, b, error))\n",
        "\n",
        "print(\"----\" * 15)\n",
        "print(epoch,'w:' ,round(w,5),'b:' ,round(b,5), 'error:',round(error,5))"
      ],
      "metadata": {
        "colab": {
          "base_uri": "https://localhost:8080/"
        },
        "id": "Mnvr_E46ikB_",
        "outputId": "b5f4719c-0c5c-41e3-b721-aa3b343325f4"
      },
      "execution_count": 14,
      "outputs": [
        {
          "output_type": "stream",
          "name": "stdout",
          "text": [
            " 0 w = -0.19335, b = -0.01595 error = 0.87969\n",
            " 5 w = -0.07848, b = -0.02925 error = 0.81541\n",
            "10 w = -0.01118, b = -0.03753 error = 0.79330\n",
            "15 w = 0.02826, b = -0.04267 error = 0.78570\n",
            "20 w = 0.05138, b = -0.04586 error = 0.78308\n",
            "25 w = 0.06492, b = -0.04782 error = 0.78218\n",
            "30 w = 0.07286, b = -0.04903 error = 0.78187\n",
            "35 w = 0.07751, b = -0.04978 error = 0.78176\n",
            "40 w = 0.08024, b = -0.05024 error = 0.78173\n",
            "45 w = 0.08184, b = -0.05052 error = 0.78171\n",
            "50 w = 0.08277, b = -0.05069 error = 0.78171\n",
            "55 w = 0.08332, b = -0.05079 error = 0.78171\n",
            "60 w = 0.08364, b = -0.05086 error = 0.78171\n",
            "65 w = 0.08383, b = -0.05090 error = 0.78171\n",
            "70 w = 0.08394, b = -0.05092 error = 0.78171\n",
            "75 w = 0.08401, b = -0.05093 error = 0.78171\n",
            "80 w = 0.08405, b = -0.05094 error = 0.78171\n",
            "85 w = 0.08407, b = -0.05095 error = 0.78171\n",
            "90 w = 0.08408, b = -0.05095 error = 0.78171\n",
            "95 w = 0.08409, b = -0.05095 error = 0.78171\n",
            "100 w = 0.08409, b = -0.05095 error = 0.78171\n",
            "105 w = 0.08410, b = -0.05095 error = 0.78171\n",
            "110 w = 0.08410, b = -0.05095 error = 0.78171\n",
            "115 w = 0.08410, b = -0.05096 error = 0.78171\n",
            "120 w = 0.08410, b = -0.05096 error = 0.78171\n",
            "125 w = 0.08410, b = -0.05096 error = 0.78171\n",
            "130 w = 0.08410, b = -0.05096 error = 0.78171\n",
            "135 w = 0.08410, b = -0.05096 error = 0.78171\n",
            "140 w = 0.08410, b = -0.05096 error = 0.78171\n",
            "145 w = 0.08410, b = -0.05096 error = 0.78171\n",
            "------------------------------------------------------------\n",
            "149 w: 0.0841 b: -0.05096 error: 0.78171\n"
          ]
        }
      ]
    },
    {
      "cell_type": "markdown",
      "source": [
        "#### 실습 결과 나타난 최적의 w, b 값을 이용하여 predict 데이터를 만드세요\n"
      ],
      "metadata": {
        "id": "i2UrPlMoj5L9"
      }
    },
    {
      "cell_type": "code",
      "source": [
        "y_pred = np.array(w*x_test+ b)"
      ],
      "metadata": {
        "id": "m2rfd02ui3ph"
      },
      "execution_count": 15,
      "outputs": []
    },
    {
      "cell_type": "markdown",
      "source": [
        "#### y_test와 y_pred를 이용하여 MSE를 구해보세요"
      ],
      "metadata": {
        "id": "j9OqC-hbj8_Q"
      }
    },
    {
      "cell_type": "code",
      "source": [
        "from sklearn.metrics import mean_squared_error\n",
        "mean_squared_error(y_pred, y_test)"
      ],
      "metadata": {
        "colab": {
          "base_uri": "https://localhost:8080/"
        },
        "id": "pMJivk3Pi5pp",
        "outputId": "4e0ed47b-4e8a-435a-c647-ed6fb25dc9ac"
      },
      "execution_count": 16,
      "outputs": [
        {
          "output_type": "execute_result",
          "data": {
            "text/plain": [
              "1.4880360397968269"
            ]
          },
          "metadata": {},
          "execution_count": 16
        }
      ]
    },
    {
      "cell_type": "markdown",
      "source": [
        "#### w값에 따른 오차를 그래프를 통해 시각화 해보세요\n",
        "#### 위 경사하강법 코드에서 만든 ww, errors 리스트를 활용"
      ],
      "metadata": {
        "id": "JNAIvWizkPqt"
      }
    },
    {
      "cell_type": "code",
      "source": [
        "plt.plot(ww, errors)\n",
        "plt.xlabel('w')\n",
        "plt.ylabel('error')"
      ],
      "metadata": {
        "colab": {
          "base_uri": "https://localhost:8080/",
          "height": 297
        },
        "id": "_6jOeAzWi7p4",
        "outputId": "a58413fb-da0f-4e1f-b38e-16808e030922"
      },
      "execution_count": 17,
      "outputs": [
        {
          "output_type": "execute_result",
          "data": {
            "text/plain": [
              "Text(0, 0.5, 'error')"
            ]
          },
          "metadata": {},
          "execution_count": 17
        },
        {
          "output_type": "display_data",
          "data": {
            "text/plain": [
              "<Figure size 432x288 with 1 Axes>"
            ],
            "image/png": "[encoded data removed]"
          },
          "metadata": {
            "needs_background": "light"
          }
        }
      ]
    },
    {
      "cell_type": "markdown",
      "source": [
        "#### 경사하강법을 통해 구한 식을 plt.plot을 통한 직선, Width와 Weight의 분포는 plt.scatter로 같이 시각화 해봅시다"
      ],
      "metadata": {
        "id": "u-MTiGArkSeE"
      }
    },
    {
      "cell_type": "code",
      "source": [
        "plt.scatter(features_con_std['Age'],features_con_std['Fare'],s = 4)\n",
        "plt.plot(features_con_std['Fare'],w*np.array(features_con_std['Age']) + b,c = 'red')\n",
        "plt.xlabel('Age')\n",
        "plt.ylabel('Fare');"
      ],
      "metadata": {
        "colab": {
          "base_uri": "https://localhost:8080/",
          "height": 279
        },
        "id": "H9haBNLljAFE",
        "outputId": "a9f3e2fd-d95e-4ba7-c3a8-d770774d7f9e"
      },
      "execution_count": 18,
      "outputs": [
        {
          "output_type": "display_data",
          "data": {
            "text/plain": [
              "<Figure size 432x288 with 1 Axes>"
            ],
            "image/png": "[encoded data removed]"
          },
          "metadata": {
            "needs_background": "light"
          }
        }
      ]
    },
    {
      "cell_type": "markdown",
      "source": [
        "## 확률적 경사하강법(직접 구현보단 SGDRegressor라는 패키지를 사용합시다)"
      ],
      "metadata": {
        "id": "KTcD_e02mQq1"
      }
    },
    {
      "cell_type": "markdown",
      "source": [
        "### SGDRegressor 패키지를 불러오고, 파라미터 세팅은 아래와 같이 진행해봅시다\n",
        "### from sklearn.linear_model import SGDRegressor"
      ],
      "metadata": {
        "id": "zPqyeAr2mViA"
      }
    },
    {
      "cell_type": "markdown",
      "source": [
        "#### shuffle = True\n",
        "#### learning_rate = 'invscaling'\n",
        "#### eta0 = 0.5\n",
        "#### max_iter = 1000\n",
        "#### penalty = None"
      ],
      "metadata": {
        "id": "OkSDwYJZmYQ4"
      }
    },
    {
      "cell_type": "code",
      "source": [
        "from sklearn.linear_model import SGDRegressor\n",
        "sgd_reg = SGDRegressor(max_iter = 1000, penalty = None, learning_rate = 'invscaling',eta0 = 0.5, shuffle = True)"
      ],
      "metadata": {
        "id": "tXNSPRkTmTHZ"
      },
      "execution_count": 22,
      "outputs": []
    },
    {
      "cell_type": "markdown",
      "source": [
        "#### 데이터를 훈련, 테스트 셋으로 나누어주세요(test_size = 0.1, random_state = 42)"
      ],
      "metadata": {
        "id": "CIaWfAyGmo9i"
      }
    },
    {
      "cell_type": "code",
      "source": [
        "from sklearn.model_selection import train_test_split\n",
        "x_train, x_test, y_train, y_test = train_test_split(features_con_std['Age'],features_con_std['Fare'],test_size = 0.1, random_state = 42)"
      ],
      "metadata": {
        "id": "A_8RyaSnmnDO"
      },
      "execution_count": 19,
      "outputs": []
    },
    {
      "cell_type": "markdown",
      "source": [
        "#### SGDRegressor에 데이터를 투입하기 위해선 데이터가 (-1,1) 형태의 넘파이 배열이여야 합니다\n",
        "#### array([1],\n",
        "####           [2],\n",
        "####           [3])\n",
        "#### x_train, y_train을 형태로 reshape 함수를 이용해 가공해주세요"
      ],
      "metadata": {
        "id": "etpf93Cbm1GK"
      }
    },
    {
      "cell_type": "code",
      "source": [
        "x = np.array(x_train).reshape(-1,1)\n",
        "y = np.array(y_train).reshape(-1,1)"
      ],
      "metadata": {
        "id": "fMc5WuOPm2c5"
      },
      "execution_count": 20,
      "outputs": []
    },
    {
      "cell_type": "markdown",
      "source": [
        "#### 위에서 선언한 sgd_reg에 x와 y를 fit해주세요"
      ],
      "metadata": {
        "id": "T7665_uVm9PL"
      }
    },
    {
      "cell_type": "code",
      "source": [
        "\n",
        "sgd_reg.fit(x,y)\n",
        "\n",
        "print(sgd_reg.coef_)\n",
        "print(sgd_reg.intercept_)"
      ],
      "metadata": {
        "colab": {
          "base_uri": "https://localhost:8080/"
        },
        "id": "WbZO6_Cvm7-V",
        "outputId": "49b86cec-31d8-4f6d-d20f-20673a0ba7f2"
      },
      "execution_count": 23,
      "outputs": [
        {
          "output_type": "stream",
          "name": "stdout",
          "text": [
            "[0.0766115]\n",
            "[-0.24360896]\n"
          ]
        },
        {
          "output_type": "stream",
          "name": "stderr",
          "text": [
            "/usr/local/lib/python3.7/dist-packages/sklearn/utils/validation.py:993: DataConversionWarning: A column-vector y was passed when a 1d array was expected. Please change the shape of y to (n_samples, ), for example using ravel().\n",
            "  y = column_or_1d(y, warn=True)\n"
          ]
        }
      ]
    },
    {
      "cell_type": "markdown",
      "source": [
        "#### 학습된 모델에 x_test를 통해 y_pred를 만들어주세요\n",
        "#### (이때 투입될 x_test도 reshape(-1,1)해야 투입 가능합니다)"
      ],
      "metadata": {
        "id": "xUEDGMpBnAlW"
      }
    },
    {
      "cell_type": "code",
      "source": [
        "y_pred = sgd_reg.predict(np.array(x_test).reshape(-1,1))"
      ],
      "metadata": {
        "id": "Fy4YUCe7nBXz"
      },
      "execution_count": 25,
      "outputs": []
    },
    {
      "cell_type": "markdown",
      "source": [
        "#### 마찬가지로 예측치와 y_test간의 mse를 산출해봅시다"
      ],
      "metadata": {
        "id": "l-JUJ6bbnHKo"
      }
    },
    {
      "cell_type": "code",
      "source": [
        "mean_squared_error(y_pred, y_test)"
      ],
      "metadata": {
        "colab": {
          "base_uri": "https://localhost:8080/"
        },
        "id": "fvJSxzKKnICU",
        "outputId": "d1183f29-047a-4549-e8db-4f75d833f61e"
      },
      "execution_count": 27,
      "outputs": [
        {
          "output_type": "execute_result",
          "data": {
            "text/plain": [
              "2.3969217633506217"
            ]
          },
          "metadata": {},
          "execution_count": 27
        }
      ]
    },
    {
      "cell_type": "markdown",
      "source": [
        "## 미니배치 경사하강법"
      ],
      "metadata": {
        "id": "RFivXNyInKw6"
      }
    },
    {
      "cell_type": "markdown",
      "source": [
        "### 다시 한번 훈련, 테스트 데이터를 나눠볼게요(x = Age열, y = Fare열)\n",
        "### test_size = 0.1, random_state = 42"
      ],
      "metadata": {
        "id": "PxbjveUvnMvM"
      }
    },
    {
      "cell_type": "code",
      "source": [
        "from sklearn.model_selection import train_test_split\n",
        "x_train, x_test, y_train, y_test = train_test_split(features_con_std['Age'], features_con_std['Fare'], test_size = 0.1, random_state = 42)"
      ],
      "metadata": {
        "id": "Hz2O8_5JnQGT"
      },
      "execution_count": 28,
      "outputs": []
    },
    {
      "cell_type": "markdown",
      "source": [
        "### 이번엔 4개의 훈련, 테스트 데이터 모두 np.array를 통해 넘파이 배열로 전환해주세요"
      ],
      "metadata": {
        "id": "XPuN4JY8nZEn"
      }
    },
    {
      "cell_type": "code",
      "source": [
        "x_train = np.array(x_train).reshape(-1,1)\n",
        "y_train = np.array(y_train).reshape(-1,1)\n",
        "x_test = np.array(x_test).reshape(-1,1)\n",
        "y_test = np.array(y_test).reshape(-1,1)"
      ],
      "metadata": {
        "id": "9uzHpUEXnaBx"
      },
      "execution_count": 29,
      "outputs": []
    },
    {
      "cell_type": "markdown",
      "source": [
        "#### 혹시 모르니 중간에 x_train, y_train, x_test, y_test의 shape을 확인해주고 갑시다. train은 640, test는 72가 나오면 맞습니다"
      ],
      "metadata": {
        "id": "UkqZPXPPnf1u"
      }
    },
    {
      "cell_type": "code",
      "source": [
        "print(x_train.shape)\n",
        "print(y_train.shape)\n",
        "print(x_test.shape)\n",
        "print(y_test.shape)"
      ],
      "metadata": {
        "colab": {
          "base_uri": "https://localhost:8080/"
        },
        "id": "eutie-6yndjz",
        "outputId": "e3128a75-454d-4154-b3b5-24bbc582de4d"
      },
      "execution_count": 30,
      "outputs": [
        {
          "output_type": "stream",
          "name": "stdout",
          "text": [
            "(640, 1)\n",
            "(640, 1)\n",
            "(72, 1)\n",
            "(72, 1)\n"
          ]
        }
      ]
    },
    {
      "cell_type": "markdown",
      "source": [
        "#### 미니배치 경사하강법 코드는 아래와 같습니다. \n"
      ],
      "metadata": {
        "id": "aCulsqO3nl_w"
      }
    },
    {
      "cell_type": "code",
      "source": [
        "num_epoch=10\n",
        "learning_rate=0.1\n",
        "w = np.random.uniform(low=0, high=1.0)\n",
        "b = np.random.uniform(low=0, high=1.0)\n",
        "ww = []\n",
        "err = []\n",
        "\n",
        "for epoch in range(num_epoch):\n",
        "    print(\"epoch: \", epoch)\n",
        "    print(\"-\"*50)\n",
        "    batch_size = 60\n",
        "    batch_number = 100/10\n",
        "    start = 0\n",
        "    end = 60\n",
        "    for iteration in range(int(batch_number)):\n",
        "    \n",
        "        #매 iteration마다 batch_size=60에 해당하는 데이터 셋을 가져옴\n",
        "        x_batch = x_train[start: end]\n",
        "        y_batch = y_train[start: end]\n",
        "        \n",
        "        start += 10\n",
        "        end += 10\n",
        "\n",
        "        # 선택한 batch의 예측값\n",
        "        predict_batch = w*x_batch + b\n",
        "\n",
        "        # 가중치 업데이트\n",
        "        w = w - 2*learning_rate*((predict_batch - y_batch)*x_batch).mean()\n",
        "        b = b - 2*learning_rate * (predict_batch - y_batch).mean()\n",
        "\n",
        "        #error값은 전체 데이터셋의 오류값을 계산해야한다.\n",
        "        predict = w*x + b\n",
        "        error = ((y - predict)**2).mean()\n",
        "\n",
        "        print(\"iteration \", iteration, \"w =\", w, \"b= \",b, 'error= ', error)\n",
        "        ww.append(w)\n",
        "        err.append(error)\n",
        "\n",
        "    if error < 0.000001:\n",
        "            break\n",
        "print(\"최종: \",\"w= \", w, \"b= \", b, \"error= \", error)"
      ],
      "metadata": {
        "colab": {
          "base_uri": "https://localhost:8080/"
        },
        "id": "VOXNv7N1nn00",
        "outputId": "cf7f2583-5631-408d-fd80-69f806633d4a"
      },
      "execution_count": 31,
      "outputs": [
        {
          "output_type": "stream",
          "name": "stdout",
          "text": [
            "epoch:  0\n",
            "--------------------------------------------------\n",
            "iteration  0 w = 0.056494056704381804 b=  0.5066644150814259 error=  1.1490571451057687\n",
            "iteration  1 w = 0.10391639775571967 b=  0.4229938301259181 error=  1.0641568198388804\n",
            "iteration  2 w = 0.12840093820844262 b=  0.36574674029450344 error=  1.0160188251376046\n",
            "iteration  3 w = 0.14683433271054208 b=  0.31723336158329973 error=  0.9809990448036767\n",
            "iteration  4 w = 0.1584021692810753 b=  0.27598995143141014 error=  0.9549187609250452\n",
            "iteration  5 w = 0.15224484877935396 b=  0.21082198271684657 error=  0.9179714267883053\n",
            "iteration  6 w = 0.1446423994863418 b=  0.1557821785643446 error=  0.893230016946189\n",
            "iteration  7 w = 0.12983445806853508 b=  0.11658742839512014 error=  0.8787297156208691\n",
            "iteration  8 w = 0.12147921557445487 b=  0.09006117765756493 error=  0.8709843800533819\n",
            "iteration  9 w = 0.10917293507065197 b=  0.07069782095310176 error=  0.8661532930156405\n",
            "epoch:  1\n",
            "--------------------------------------------------\n",
            "iteration  0 w = 0.13934662822771499 b=  0.07884075251259588 error=  0.869402735676511\n",
            "iteration  1 w = 0.17179209638884668 b=  0.07988680581185087 error=  0.8732060794828117\n",
            "iteration  2 w = 0.18956183348176756 b=  0.08975397863998208 error=  0.8783945482538524\n",
            "iteration  3 w = 0.19569224208254873 b=  0.09645358880668602 error=  0.8812305201450655\n",
            "iteration  4 w = 0.19668603300729126 b=  0.09994554226173183 error=  0.8823500013590009\n",
            "iteration  5 w = 0.18394642571161202 b=  0.0702333989663042 error=  0.8729445516472646\n",
            "iteration  6 w = 0.17025962998308142 b=  0.04377846755622843 error=  0.8660058850088556\n",
            "iteration  7 w = 0.150785691922033 b=  0.027344739939886748 error=  0.8613814288116973\n",
            "iteration  8 w = 0.13736561317497428 b=  0.019267888828606618 error=  0.8592855982153708\n",
            "iteration  9 w = 0.12085674242933131 b=  0.014513312431490906 error=  0.8578540051155625\n",
            "epoch:  2\n",
            "--------------------------------------------------\n",
            "iteration  0 w = 0.15077266443825188 b=  0.03339034683456964 error=  0.862167078318586\n",
            "iteration  1 w = 0.18101400184605543 b=  0.043409522247698236 error=  0.8675430293734381\n",
            "iteration  2 w = 0.19764630793569674 b=  0.06036738449802438 error=  0.8734061054407094\n",
            "iteration  3 w = 0.20215213688888842 b=  0.07294622176955907 error=  0.8768513961479828\n",
            "iteration  4 w = 0.20181525196390576 b=  0.08121625693499222 error=  0.8786409821013479\n",
            "iteration  5 w = 0.18822508762850032 b=  0.055283055863910115 error=  0.8707434266265597\n",
            "iteration  6 w = 0.17377641140414163 b=  0.03188124364614582 error=  0.8647713717185399\n",
            "iteration  7 w = 0.15371084314981326 b=  0.0178764207737726 error=  0.8605949031026039\n",
            "iteration  8 w = 0.13966941961416457 b=  0.011777124117138826 error=  0.8587084150532032\n",
            "iteration  9 w = 0.12262974021508508 b=  0.008585976329949906 error=  0.8573843577322144\n",
            "epoch:  3\n",
            "--------------------------------------------------\n",
            "iteration  0 w = 0.1523947196297365 b=  0.028572179086075476 error=  0.8616980497134097\n",
            "iteration  1 w = 0.18230642947196884 b=  0.039538384391703235 error=  0.8671577249656736\n",
            "iteration  2 w = 0.19875177021881424 b=  0.057241776575356375 error=  0.8730316186423692\n",
            "iteration  3 w = 0.20303566662087358 b=  0.07044599636707871 error=  0.8764948089266958\n",
            "iteration  4 w = 0.20252526131869106 b=  0.07922655444823791 error=  0.8783242110032244\n",
            "iteration  5 w = 0.18882124791739724 b=  0.0536958736697136 error=  0.8705626561977322\n",
            "iteration  6 w = 0.174273723927298 b=  0.030620282938041476 error=  0.8646765427486969\n",
            "iteration  7 w = 0.15413041963410942 b=  0.016874646403267926 error=  0.8605347356764022\n",
            "iteration  8 w = 0.14001009137603565 b=  0.01098773768475859 error=  0.8586623426639794\n",
            "iteration  9 w = 0.12290093810104664 b=  0.007964119720960987 error=  0.8573433025745306\n",
            "epoch:  4\n",
            "--------------------------------------------------\n",
            "iteration  0 w = 0.15263057375684105 b=  0.028063023117923077 error=  0.8616581255012511\n",
            "iteration  1 w = 0.18249239478168972 b=  0.03912864537067717 error=  0.867126819800154\n",
            "iteration  2 w = 0.19890756328056897 b=  0.05690985610208192 error=  0.8730005763193056\n",
            "iteration  3 w = 0.2031602083031688 b=  0.07018049676218277 error=  0.8764639809049383\n",
            "iteration  4 w = 0.2026263746116104 b=  0.0790156317120447 error=  0.878296360010285\n",
            "iteration  5 w = 0.18890661504497608 b=  0.05352778769494629 error=  0.8705477221837956\n",
            "iteration  6 w = 0.1743458087900389 b=  0.03048707213240602 error=  0.8646695822601774\n",
            "iteration  7 w = 0.1541919338166422 b=  0.01676909155920423 error=  0.8605303659984044\n",
            "iteration  8 w = 0.14006122221268652 b=  0.010905057979151252 error=  0.8586588118275884\n",
            "iteration  9 w = 0.12294265601649522 b=  0.00789942468907793 error=  0.857339689982693\n",
            "epoch:  5\n",
            "--------------------------------------------------\n",
            "iteration  0 w = 0.15266552229658148 b=  0.02800947181115978 error=  0.8616550095730384\n",
            "iteration  1 w = 0.18251972674673456 b=  0.0390854465855444 error=  0.8671248336424806\n",
            "iteration  2 w = 0.19893008276238966 b=  0.05687469018286673 error=  0.8729984695907342\n",
            "iteration  3 w = 0.20317821350362864 b=  0.07015236934235672 error=  0.8764616991997052\n",
            "iteration  4 w = 0.2026411143605845 b=  0.07899334330100016 error=  0.8782942409025551\n",
            "iteration  5 w = 0.18891911396495967 b=  0.05351005204236739 error=  0.8705467594072669\n",
            "iteration  6 w = 0.17435646430614576 b=  0.03047306779504073 error=  0.8646693011204885\n",
            "iteration  7 w = 0.15420110676329318 b=  0.016758037948333117 error=  0.8605301996814585\n",
            "iteration  8 w = 0.14006898121156205 b=  0.0108964781620479 error=  0.8586586387095192\n",
            "iteration  9 w = 0.12294909901462824 b=  0.007892780677576067 error=  0.8573394166121922\n",
            "epoch:  6\n",
            "--------------------------------------------------\n",
            "iteration  0 w = 0.1526707757580129 b=  0.0280038793351375 error=  0.8616548502165491\n",
            "iteration  1 w = 0.18252381013141805 b=  0.039080918829322894 error=  0.8671248227803574\n",
            "iteration  2 w = 0.19893340439546012 b=  0.05687097730859972 error=  0.8729984304853161\n",
            "iteration  3 w = 0.2031808696262465 b=  0.07014939982698838 error=  0.8764616113937824\n",
            "iteration  4 w = 0.20264330275635728 b=  0.0789909991878324 error=  0.8782941467977082\n",
            "iteration  5 w = 0.1889209758918256 b=  0.053508190867709825 error=  0.8705467544025041\n",
            "iteration  6 w = 0.1743580631333122 b=  0.03047160629276029 error=  0.8646693426863102\n",
            "iteration  7 w = 0.15420249213371778 b=  0.016756891232390405 error=  0.8605302284404885\n",
            "iteration  8 w = 0.14007016802667444 b=  0.010895600520431297 error=  0.8586586518228628\n",
            "iteration  9 w = 0.12295009685194273 b=  0.007892112191304352 error=  0.8573394048214151\n",
            "epoch:  7\n",
            "--------------------------------------------------\n",
            "iteration  0 w = 0.15267157385696603 b=  0.028003301605368916 error=  0.8616548601305482\n",
            "iteration  1 w = 0.18252442769091967 b=  0.03908044847601941 error=  0.8671248529172025\n",
            "iteration  2 w = 0.1989339019889189 b=  0.05687058731339106 error=  0.8729984552261293\n",
            "iteration  3 w = 0.20318126756290197 b=  0.07014908794827449 error=  0.8764616262683103\n",
            "iteration  4 w = 0.20264363219619116 b=  0.07899075440401734 error=  0.878294157320876\n",
            "iteration  5 w = 0.1889212568824845 b=  0.05350799716565369 error=  0.8705467690925968\n",
            "iteration  6 w = 0.1743583057031837 b=  0.030471455471807504 error=  0.8646693582702024\n",
            "iteration  7 w = 0.1542027033158296 b=  0.016756773987127264 error=  0.8605302387539906\n",
            "iteration  8 w = 0.14007035059223424 b=  0.010895512780727683 error=  0.858658658142802\n",
            "iteration  9 w = 0.12295025168663432 b=  0.007892047172323603 error=  0.8573394062707127\n",
            "epoch:  8\n",
            "--------------------------------------------------\n",
            "iteration  0 w = 0.15267169603235237 b=  0.0280032429270561 error=  0.8616548653828104\n",
            "iteration  1 w = 0.18252452192413182 b=  0.039080400282759276 error=  0.8671248610098303\n",
            "iteration  2 w = 0.19893397739301785 b=  0.0568705466663868 error=  0.8729984623719076\n",
            "iteration  3 w = 0.2031813278696075 b=  0.07014905544846961 error=  0.8764616316337193\n",
            "iteration  4 w = 0.20264368229740418 b=  0.0789907291193545 error=  0.8782941616486607\n",
            "iteration  5 w = 0.18892129969257682 b=  0.053507977261092805 error=  0.8705467730326749\n",
            "iteration  6 w = 0.17435834280127524 b=  0.030471440179010417 error=  0.8646693616704813\n",
            "iteration  7 w = 0.15420273572287294 b=  0.016756762274636613 error=  0.8605302409835136\n",
            "iteration  8 w = 0.14007037878800035 b=  0.010895504340139073 error=  0.8586586595840133\n",
            "iteration  9 w = 0.12295027574438191 b=  0.007892041218746853 error=  0.8573394068473009\n",
            "epoch:  9\n",
            "--------------------------------------------------\n",
            "iteration  0 w = 0.15267171483705355 b=  0.028003237128897913 error=  0.8616548665969243\n",
            "iteration  1 w = 0.18252453639499855 b=  0.03908039545174434 error=  0.8671248626333791\n",
            "iteration  2 w = 0.19893398891534314 b=  0.056870542480257295 error=  0.8729984638366002\n",
            "iteration  3 w = 0.20318133708541314 b=  0.07014905210228575 error=  0.8764616327950538\n",
            "iteration  4 w = 0.2026436899728665 b=  0.07899072655169824 error=  0.8782941626099298\n",
            "iteration  5 w = 0.18892130625946946 b=  0.053507975256477075 error=  0.8705467738228512\n",
            "iteration  6 w = 0.17435834850742354 b=  0.030471438672087885 error=  0.8646693623040665\n",
            "iteration  7 w = 0.1542027407193679 b=  0.016756761149349764 error=  0.8605302413973629\n",
            "iteration  8 w = 0.14007038315472076 b=  0.010895503583204433 error=  0.8586586598573038\n",
            "iteration  9 w = 0.12295027948583254 b=  0.00789204073692506 error=  0.8573394069745837\n",
            "최종:  w=  0.12295027948583254 b=  0.00789204073692506 error=  0.8573394069745837\n"
          ]
        }
      ]
    },
    {
      "cell_type": "markdown",
      "source": [
        "### 위에서 얻은 최종 w와 b값을 통해 y_pred를 넘파이 배열로 만들어 볼게요"
      ],
      "metadata": {
        "id": "sNncgUC7ooTU"
      }
    },
    {
      "cell_type": "code",
      "source": [
        "y_pred = np.array(w*x_test+b)"
      ],
      "metadata": {
        "id": "5qu_LV3On3sF"
      },
      "execution_count": 32,
      "outputs": []
    },
    {
      "cell_type": "markdown",
      "source": [
        "### y_test와 y_pred를 이용해 mse를 구해봅시다"
      ],
      "metadata": {
        "id": "FiT0Am4QoqNY"
      }
    },
    {
      "cell_type": "code",
      "source": [
        "mean_squared_error(y_pred, y_test)"
      ],
      "metadata": {
        "colab": {
          "base_uri": "https://localhost:8080/"
        },
        "id": "r330X_70n5qK",
        "outputId": "5cf047a8-085b-4d67-eb6c-7fb47e200095"
      },
      "execution_count": 33,
      "outputs": [
        {
          "output_type": "execute_result",
          "data": {
            "text/plain": [
              "2.191705048041672"
            ]
          },
          "metadata": {},
          "execution_count": 33
        }
      ]
    },
    {
      "cell_type": "markdown",
      "source": [
        "#### w값에 따른 오차를 그래프를 통해 시각화 해보세요\n",
        "#### 위에서 만든 ww, err 리스트를 활용"
      ],
      "metadata": {
        "id": "IEv3F36Kosbs"
      }
    },
    {
      "cell_type": "code",
      "source": [
        "plt.plot(ww, err)\n",
        "plt.xlabel('w')\n",
        "plt.ylabel('error')"
      ],
      "metadata": {
        "colab": {
          "base_uri": "https://localhost:8080/",
          "height": 297
        },
        "id": "w_ymE9KSn7fk",
        "outputId": "f9958f50-a94a-4aa9-8e35-5eec12dff5e9"
      },
      "execution_count": 34,
      "outputs": [
        {
          "output_type": "execute_result",
          "data": {
            "text/plain": [
              "Text(0, 0.5, 'error')"
            ]
          },
          "metadata": {},
          "execution_count": 34
        },
        {
          "output_type": "display_data",
          "data": {
            "text/plain": [
              "<Figure size 432x288 with 1 Axes>"
            ],
            "image/png": "[encoded data removed]"
          },
          "metadata": {
            "needs_background": "light"
          }
        }
      ]
    },
    {
      "cell_type": "markdown",
      "source": [
        "#### 경사하강법을 통해 구한 식을 plt.plot을 통한 직선, Width와 Weight의 분포는 plt.scatter로 같이 시각화 해봅시다"
      ],
      "metadata": {
        "id": "jAqXBAkcoujD"
      }
    },
    {
      "cell_type": "code",
      "source": [
        "plt.scatter(features_con_std['Age'],features_con_std['Fare'],s = 4)\n",
        "plt.plot(features_con_std['Fare'],w*np.array(features_con_std['Age']) + b,c = 'red')\n",
        "plt.xlabel('Age')\n",
        "plt.ylabel('Fare');"
      ],
      "metadata": {
        "colab": {
          "base_uri": "https://localhost:8080/",
          "height": 279
        },
        "id": "5e0iBrJMoAYW",
        "outputId": "f21f9350-fb2d-4e70-c57b-da30af57e75f"
      },
      "execution_count": 35,
      "outputs": [
        {
          "output_type": "display_data",
          "data": {
            "text/plain": [
              "<Figure size 432x288 with 1 Axes>"
            ],
            "image/png": "[encoded data removed]"
          },
          "metadata": {
            "needs_background": "light"
          }
        }
      ]
    },
    {
      "cell_type": "markdown",
      "source": [
        "# 분류\n",
        "## SGDclassifier"
      ],
      "metadata": {
        "id": "viGZhp3uqbNb"
      }
    },
    {
      "cell_type": "markdown",
      "source": [
        "#### SGD classifier에 넣을 데이터는 target, features_con_std입니다"
      ],
      "metadata": {
        "id": "VP1i4W3wqfhm"
      }
    },
    {
      "cell_type": "markdown",
      "source": [
        "#### features_con_std, 그리고 target를 훈련, 테스트 데이터로 분할합시다(test_size = 0.3, random_state = 42)"
      ],
      "metadata": {
        "id": "hy4ZuqcRq423"
      }
    },
    {
      "cell_type": "code",
      "source": [
        "from sklearn.model_selection import train_test_split\n",
        "x_train, x_test, y_train, y_test = train_test_split(features_con_std, target,test_size = 0.3, random_state = 42)"
      ],
      "metadata": {
        "id": "v-nXgSSWq2bM"
      },
      "execution_count": 36,
      "outputs": []
    },
    {
      "cell_type": "markdown",
      "source": [
        "#### 훈련 데이터 셋을 SGDClassifier로 학습 시키고 훈련데이터로 점수를 확인해봅시다\n",
        "#### SGDClassifier의 파라미터에 loss = 'log', max_iter = 100으로 지정해볼게요"
      ],
      "metadata": {
        "id": "pdOCVoX0rGQ2"
      }
    },
    {
      "cell_type": "code",
      "source": [
        "from sklearn.linear_model import SGDClassifier\n",
        "\n",
        "sc = SGDClassifier(loss = 'log', max_iter = 100)\n",
        "sc.fit(x_train, y_train)\n",
        "\n",
        "print(sc.score(x_train, y_train))"
      ],
      "metadata": {
        "colab": {
          "base_uri": "https://localhost:8080/"
        },
        "id": "OiZVZOnnrHb-",
        "outputId": "2a01dcaa-1ccd-485c-c8df-543e88b18527"
      },
      "execution_count": 37,
      "outputs": [
        {
          "output_type": "stream",
          "name": "stdout",
          "text": [
            "0.7028112449799196\n"
          ]
        }
      ]
    },
    {
      "cell_type": "code",
      "source": [
        "sc.score(x_test, y_test)"
      ],
      "metadata": {
        "colab": {
          "base_uri": "https://localhost:8080/"
        },
        "id": "zo1TJAburLks",
        "outputId": "cd234ce7-cd17-47cc-fbc1-952ab8e5cc7f"
      },
      "execution_count": 38,
      "outputs": [
        {
          "output_type": "execute_result",
          "data": {
            "text/plain": [
              "0.6542056074766355"
            ]
          },
          "metadata": {},
          "execution_count": 38
        }
      ]
    },
    {
      "cell_type": "markdown",
      "source": [
        "## Cross-entropy"
      ],
      "metadata": {
        "id": "fzz_NJiDrSNy"
      }
    },
    {
      "cell_type": "markdown",
      "source": [
        "#### logistic 회귀 모델의 성능을 cross-entropy를 통해 평가해보겠습니다."
      ],
      "metadata": {
        "id": "XE0kPDcVrbrR"
      }
    },
    {
      "cell_type": "markdown",
      "source": [
        "#### 우선 lg라는 logisticRegression 객체를 만듭시다"
      ],
      "metadata": {
        "id": "cCj_zqjuuTsC"
      }
    },
    {
      "cell_type": "code",
      "source": [
        "from sklearn.linear_model import LogisticRegression\n",
        "lg = LogisticRegression()"
      ],
      "metadata": {
        "id": "oVusyV2ar9T8"
      },
      "execution_count": 39,
      "outputs": []
    },
    {
      "cell_type": "markdown",
      "source": [
        "#### features_con_std와 target을 이용해 훈련, 테스트 데이터 셋을 나눠 줍시다\n",
        "#### 그리고 모델에 fit시킵시다\n",
        "#### test_size = 0.3, random_state = 42"
      ],
      "metadata": {
        "id": "bWskQjoBuH-M"
      }
    },
    {
      "cell_type": "code",
      "source": [
        "from sklearn.model_selection import train_test_split\n",
        "x_train, x_test, y_train, y_test = train_test_split(features_con_std, target, test_size = 0.3, random_state = 42)\n",
        "lg.fit(x_train, y_train)"
      ],
      "metadata": {
        "colab": {
          "base_uri": "https://localhost:8080/"
        },
        "id": "8rCBmViEr4lg",
        "outputId": "3c69561c-fbd0-4d4b-f7e2-7ac36565d6f4"
      },
      "execution_count": 40,
      "outputs": [
        {
          "output_type": "execute_result",
          "data": {
            "text/plain": [
              "LogisticRegression()"
            ]
          },
          "metadata": {},
          "execution_count": 40
        }
      ]
    },
    {
      "cell_type": "markdown",
      "source": [
        "#### 시그모이드 함수(sigmoid(x))를 선언해주세요"
      ],
      "metadata": {
        "id": "btWiD6zTuZNE"
      }
    },
    {
      "cell_type": "code",
      "source": [
        "def sigmoid(x):\n",
        "  return 1 / (1 +np.exp(-x))"
      ],
      "metadata": {
        "id": "yYLgty7ysJi8"
      },
      "execution_count": 41,
      "outputs": []
    },
    {
      "cell_type": "markdown",
      "source": [
        "#### 다 구현하였다면 아래의 코드를 실행하여 예측치(확률)을 구합시다"
      ],
      "metadata": {
        "id": "KedhhXNeudds"
      }
    },
    {
      "cell_type": "code",
      "source": [
        "pred = []\n",
        "for i in (np.array(x_test).dot(lg.coef_.T)+ lg.intercept_[0]).reshape(-1):\n",
        "  pred.append(sigmoid(i))\n",
        "pred = np.array(pred)"
      ],
      "metadata": {
        "id": "0Y9BFTuqsK7R"
      },
      "execution_count": 42,
      "outputs": []
    },
    {
      "cell_type": "markdown",
      "source": [
        "#### 아래의 cross_entropy 함수에 예측치와 실제값을 넣어주어 cross-entropy를 출력해주세요.\n",
        "#### 단, 실제값(y_test)는 np.array로 변환해야 코드가 실행됩니다"
      ],
      "metadata": {
        "id": "nzWXT9AJuoQI"
      }
    },
    {
      "cell_type": "code",
      "source": [
        "def cross_entropy(pred, target):\n",
        "    # 교차 엔트로피 합\n",
        "    delta = 1e-7        # log 0을 계산할 수 없으므로, 아주 작은 값을 넣음\n",
        "    return -np.sum(target * np.log(pred + delta))\n",
        "\n",
        "cross_entropy(pred, np.array(y_test))"
      ],
      "metadata": {
        "colab": {
          "base_uri": "https://localhost:8080/"
        },
        "id": "Ic1P1AzosMoK",
        "outputId": "5f855fff-0758-43f2-b036-b28b85b6fbb5"
      },
      "execution_count": 45,
      "outputs": [
        {
          "output_type": "execute_result",
          "data": {
            "text/plain": [
              "70.64941406674733"
            ]
          },
          "metadata": {},
          "execution_count": 45
        }
      ]
    },
    {
      "cell_type": "markdown",
      "source": [
        "#### 위에서 구한 pred는 로지스틱을 통해 산출한 확률이었습니다"
      ],
      "metadata": {
        "id": "2mBpMno1xybR"
      }
    },
    {
      "cell_type": "markdown",
      "source": [
        "#### pred 배열을 전부 np.round로 반올림하고 int자료형으로 전환해 분류형으로 만들고 pred_int 변수에 저장해주세요"
      ],
      "metadata": {
        "id": "0azBxVq-u4ji"
      }
    },
    {
      "cell_type": "code",
      "source": [
        "pred_int = np.round(pred).astype(int)\n",
        "pred_int"
      ],
      "metadata": {
        "colab": {
          "base_uri": "https://localhost:8080/"
        },
        "id": "6XkAsuddtuLD",
        "outputId": "e533e02c-8af1-47c5-f3f8-6783acee4ad1"
      },
      "execution_count": 48,
      "outputs": [
        {
          "output_type": "execute_result",
          "data": {
            "text/plain": [
              "array([1, 0, 1, 1, 0, 1, 0, 1, 0, 0, 0, 0, 0, 0, 0, 0, 0, 1, 1, 0, 0, 0,\n",
              "       1, 1, 0, 0, 1, 0, 0, 1, 0, 0, 0, 0, 1, 0, 0, 1, 1, 0, 1, 0, 0, 0,\n",
              "       0, 0, 0, 0, 1, 0, 0, 0, 0, 0, 0, 0, 1, 1, 0, 0, 1, 1, 0, 0, 0, 0,\n",
              "       0, 0, 1, 0, 1, 1, 0, 0, 0, 0, 1, 0, 0, 0, 0, 0, 0, 0, 0, 0, 0, 1,\n",
              "       0, 0, 0, 0, 0, 1, 1, 0, 1, 0, 1, 0, 0, 0, 1, 1, 0, 0, 0, 0, 0, 0,\n",
              "       0, 0, 0, 0, 1, 0, 0, 0, 0, 0, 0, 1, 0, 0, 0, 0, 0, 0, 0, 0, 0, 0,\n",
              "       0, 0, 0, 0, 0, 1, 0, 0, 0, 0, 1, 0, 0, 0, 0, 1, 0, 0, 1, 1, 1, 0,\n",
              "       0, 0, 1, 0, 0, 0, 0, 1, 0, 0, 0, 1, 1, 0, 0, 1, 0, 0, 0, 0, 1, 0,\n",
              "       0, 0, 0, 0, 0, 0, 0, 0, 0, 0, 0, 0, 1, 0, 0, 0, 0, 0, 0, 0, 1, 0,\n",
              "       0, 1, 0, 1, 0, 1, 0, 0, 0, 0, 0, 0, 0, 1, 0, 0])"
            ]
          },
          "metadata": {},
          "execution_count": 48
        }
      ]
    },
    {
      "cell_type": "markdown",
      "source": [
        "#### pred_int를 이용해 모델의 정확도를 구해주세요"
      ],
      "metadata": {
        "id": "CDa3DnP1zJtI"
      }
    },
    {
      "cell_type": "code",
      "source": [
        "from sklearn.metrics import accuracy_score\n",
        "accuracy_score(pred_int,np.array(y_test))"
      ],
      "metadata": {
        "colab": {
          "base_uri": "https://localhost:8080/"
        },
        "id": "UxjVH2-UtigD",
        "outputId": "8e943646-0660-4956-befb-384ce713fe9c"
      },
      "execution_count": 49,
      "outputs": [
        {
          "output_type": "execute_result",
          "data": {
            "text/plain": [
              "0.6588785046728972"
            ]
          },
          "metadata": {},
          "execution_count": 49
        }
      ]
    },
    {
      "cell_type": "markdown",
      "source": [
        "#### 성능이 너무 떨어지죠...? 이번엔 실습에서 제외하였던 변수들을 나머지 모두 사용하볼게요"
      ],
      "metadata": {
        "id": "TGWrhLCdsVsZ"
      }
    },
    {
      "cell_type": "markdown",
      "source": [
        "#### 아까 따로 분리해둔 카테고리 변수를 더미변수로써 사용할 겁니다\n",
        "#### 그전에 카테고리 변수들의 자료형을 features_cat.info()를 통해 확인해줍시다"
      ],
      "metadata": {
        "id": "fhKLGzYrvEre"
      }
    },
    {
      "cell_type": "code",
      "source": [
        "features_cat.info()"
      ],
      "metadata": {
        "colab": {
          "base_uri": "https://localhost:8080/"
        },
        "id": "iwL3qItpvNP5",
        "outputId": "99046c9f-b3dc-4780-e619-14b1abac17ab"
      },
      "execution_count": 50,
      "outputs": [
        {
          "output_type": "stream",
          "name": "stdout",
          "text": [
            "<class 'pandas.core.frame.DataFrame'>\n",
            "RangeIndex: 712 entries, 0 to 711\n",
            "Data columns (total 3 columns):\n",
            " #   Column    Non-Null Count  Dtype\n",
            "---  ------    --------------  -----\n",
            " 0   Pclass    712 non-null    int64\n",
            " 1   Sex       712 non-null    int64\n",
            " 2   Embarked  712 non-null    int64\n",
            "dtypes: int64(3)\n",
            "memory usage: 16.8 KB\n"
          ]
        }
      ]
    },
    {
      "cell_type": "markdown",
      "source": [
        "#### 싹다 object 자료형으로 전환해주세요"
      ],
      "metadata": {
        "id": "H17xRbuEvNl-"
      }
    },
    {
      "cell_type": "code",
      "source": [
        "features_cat.astype(str)"
      ],
      "metadata": {
        "id": "cHNSbyRYsfH4",
        "colab": {
          "base_uri": "https://localhost:8080/",
          "height": 424
        },
        "outputId": "7ef6c596-9914-49dd-bbc4-0209d4e8ba90"
      },
      "execution_count": 56,
      "outputs": [
        {
          "output_type": "execute_result",
          "data": {
            "text/plain": [
              "    Pclass Sex Embarked\n",
              "0        2   1        2\n",
              "1        0   0        0\n",
              "2        2   0        2\n",
              "3        0   0        2\n",
              "4        2   1        2\n",
              "..     ...  ..      ...\n",
              "707      2   0        1\n",
              "708      1   1        2\n",
              "709      0   0        2\n",
              "710      0   1        0\n",
              "711      2   1        1\n",
              "\n",
              "[712 rows x 3 columns]"
            ],
            "text/html": [
              "\n",
              "  <div id=\"df-da9bbb37-7919-43e9-8b67-239630a0d833\">\n",
              "    <div class=\"colab-df-container\">\n",
              "      <div>\n",
              "<style scoped>\n",
              "    .dataframe tbody tr th:only-of-type {\n",
              "        vertical-align: middle;\n",
              "    }\n",
              "\n",
              "    .dataframe tbody tr th {\n",
              "        vertical-align: top;\n",
              "    }\n",
              "\n",
              "    .dataframe thead th {\n",
              "        text-align: right;\n",
              "    }\n",
              "</style>\n",
              "<table border=\"1\" class=\"dataframe\">\n",
              "  <thead>\n",
              "    <tr style=\"text-align: right;\">\n",
              "      <th></th>\n",
              "      <th>Pclass</th>\n",
              "      <th>Sex</th>\n",
              "      <th>Embarked</th>\n",
              "    </tr>\n",
              "  </thead>\n",
              "  <tbody>\n",
              "    <tr>\n",
              "      <th>0</th>\n",
              "      <td>2</td>\n",
              "      <td>1</td>\n",
              "      <td>2</td>\n",
              "    </tr>\n",
              "    <tr>\n",
              "      <th>1</th>\n",
              "      <td>0</td>\n",
              "      <td>0</td>\n",
              "      <td>0</td>\n",
              "    </tr>\n",
              "    <tr>\n",
              "      <th>2</th>\n",
              "      <td>2</td>\n",
              "      <td>0</td>\n",
              "      <td>2</td>\n",
              "    </tr>\n",
              "    <tr>\n",
              "      <th>3</th>\n",
              "      <td>0</td>\n",
              "      <td>0</td>\n",
              "      <td>2</td>\n",
              "    </tr>\n",
              "    <tr>\n",
              "      <th>4</th>\n",
              "      <td>2</td>\n",
              "      <td>1</td>\n",
              "      <td>2</td>\n",
              "    </tr>\n",
              "    <tr>\n",
              "      <th>...</th>\n",
              "      <td>...</td>\n",
              "      <td>...</td>\n",
              "      <td>...</td>\n",
              "    </tr>\n",
              "    <tr>\n",
              "      <th>707</th>\n",
              "      <td>2</td>\n",
              "      <td>0</td>\n",
              "      <td>1</td>\n",
              "    </tr>\n",
              "    <tr>\n",
              "      <th>708</th>\n",
              "      <td>1</td>\n",
              "      <td>1</td>\n",
              "      <td>2</td>\n",
              "    </tr>\n",
              "    <tr>\n",
              "      <th>709</th>\n",
              "      <td>0</td>\n",
              "      <td>0</td>\n",
              "      <td>2</td>\n",
              "    </tr>\n",
              "    <tr>\n",
              "      <th>710</th>\n",
              "      <td>0</td>\n",
              "      <td>1</td>\n",
              "      <td>0</td>\n",
              "    </tr>\n",
              "    <tr>\n",
              "      <th>711</th>\n",
              "      <td>2</td>\n",
              "      <td>1</td>\n",
              "      <td>1</td>\n",
              "    </tr>\n",
              "  </tbody>\n",
              "</table>\n",
              "<p>712 rows × 3 columns</p>\n",
              "</div>\n",
              "      <button class=\"colab-df-convert\" onclick=\"convertToInteractive('df-da9bbb37-7919-43e9-8b67-239630a0d833')\"\n",
              "              title=\"Convert this dataframe to an interactive table.\"\n",
              "              style=\"display:none;\">\n",
              "        \n",
              "  <svg xmlns=\"http://www.w3.org/2000/svg\" height=\"24px\"viewBox=\"0 0 24 24\"\n",
              "       width=\"24px\">\n",
              "    <path d=\"M0 0h24v24H0V0z\" fill=\"none\"/>\n",
              "    <path d=\"M18.56 5.44l.94 2.06.94-2.06 2.06-.94-2.06-.94-.94-2.06-.94 2.06-2.06.94zm-11 1L8.5 8.5l.94-2.06 2.06-.94-2.06-.94L8.5 2.5l-.94 2.06-2.06.94zm10 10l.94 2.06.94-2.06 2.06-.94-2.06-.94-.94-2.06-.94 2.06-2.06.94z\"/><path d=\"M17.41 7.96l-1.37-1.37c-.4-.4-.92-.59-1.43-.59-.52 0-1.04.2-1.43.59L10.3 9.45l-7.72 7.72c-.78.78-.78 2.05 0 2.83L4 21.41c.39.39.9.59 1.41.59.51 0 1.02-.2 1.41-.59l7.78-7.78 2.81-2.81c.8-.78.8-2.07 0-2.86zM5.41 20L4 18.59l7.72-7.72 1.47 1.35L5.41 20z\"/>\n",
              "  </svg>\n",
              "      </button>\n",
              "      \n",
              "  <style>\n",
              "    .colab-df-container {\n",
              "      display:flex;\n",
              "      flex-wrap:wrap;\n",
              "      gap: 12px;\n",
              "    }\n",
              "\n",
              "    .colab-df-convert {\n",
              "      background-color: #E8F0FE;\n",
              "      border: none;\n",
              "      border-radius: 50%;\n",
              "      cursor: pointer;\n",
              "      display: none;\n",
              "      fill: #1967D2;\n",
              "      height: 32px;\n",
              "      padding: 0 0 0 0;\n",
              "      width: 32px;\n",
              "    }\n",
              "\n",
              "    .colab-df-convert:hover {\n",
              "      background-color: #E2EBFA;\n",
              "      box-shadow: 0px 1px 2px rgba(60, 64, 67, 0.3), 0px 1px 3px 1px rgba(60, 64, 67, 0.15);\n",
              "      fill: #174EA6;\n",
              "    }\n",
              "\n",
              "    [theme=dark] .colab-df-convert {\n",
              "      background-color: #3B4455;\n",
              "      fill: #D2E3FC;\n",
              "    }\n",
              "\n",
              "    [theme=dark] .colab-df-convert:hover {\n",
              "      background-color: #434B5C;\n",
              "      box-shadow: 0px 1px 3px 1px rgba(0, 0, 0, 0.15);\n",
              "      filter: drop-shadow(0px 1px 2px rgba(0, 0, 0, 0.3));\n",
              "      fill: #FFFFFF;\n",
              "    }\n",
              "  </style>\n",
              "\n",
              "      <script>\n",
              "        const buttonEl =\n",
              "          document.querySelector('#df-da9bbb37-7919-43e9-8b67-239630a0d833 button.colab-df-convert');\n",
              "        buttonEl.style.display =\n",
              "          google.colab.kernel.accessAllowed ? 'block' : 'none';\n",
              "\n",
              "        async function convertToInteractive(key) {\n",
              "          const element = document.querySelector('#df-da9bbb37-7919-43e9-8b67-239630a0d833');\n",
              "          const dataTable =\n",
              "            await google.colab.kernel.invokeFunction('convertToInteractive',\n",
              "                                                     [key], {});\n",
              "          if (!dataTable) return;\n",
              "\n",
              "          const docLinkHtml = 'Like what you see? Visit the ' +\n",
              "            '<a target=\"_blank\" href=https://colab.research.google.com/notebooks/data_table.ipynb>data table notebook</a>'\n",
              "            + ' to learn more about interactive tables.';\n",
              "          element.innerHTML = '';\n",
              "          dataTable['output_type'] = 'display_data';\n",
              "          await google.colab.output.renderOutput(dataTable, element);\n",
              "          const docLink = document.createElement('div');\n",
              "          docLink.innerHTML = docLinkHtml;\n",
              "          element.appendChild(docLink);\n",
              "        }\n",
              "      </script>\n",
              "    </div>\n",
              "  </div>\n",
              "  "
            ]
          },
          "metadata": {},
          "execution_count": 56
        }
      ]
    },
    {
      "cell_type": "markdown",
      "source": [
        "#### pd.get_dummies를 통해 더미변수화 해주시되, drop_first=True를 꼭 추가해주세요"
      ],
      "metadata": {
        "id": "w6upowMevRzA"
      }
    },
    {
      "cell_type": "code",
      "source": [
        "features_cat_dum = pd.get_dummies(features_cat, drop_first = True)"
      ],
      "metadata": {
        "id": "7y0B2ZOVspqO"
      },
      "execution_count": 52,
      "outputs": []
    },
    {
      "cell_type": "markdown",
      "source": [
        "#### 더미화된 데이터프레임, 그리고 아까 사용한 features_con_std 데이터프레임을\n",
        "#### pd.concat을 활용해서 양옆으로 결합해주세요\n",
        "#### 이 데이터 프레임은 features_com이란 변수에 저장해줍시다"
      ],
      "metadata": {
        "id": "7PF3G5EGvo9a"
      }
    },
    {
      "cell_type": "code",
      "source": [
        "features_cat_dum.info()"
      ],
      "metadata": {
        "colab": {
          "base_uri": "https://localhost:8080/"
        },
        "id": "Q43z1zi2VrV1",
        "outputId": "a3fa177a-add3-4c05-b0dd-4c3dc528f51b"
      },
      "execution_count": 57,
      "outputs": [
        {
          "output_type": "stream",
          "name": "stdout",
          "text": [
            "<class 'pandas.core.frame.DataFrame'>\n",
            "RangeIndex: 712 entries, 0 to 711\n",
            "Data columns (total 3 columns):\n",
            " #   Column    Non-Null Count  Dtype\n",
            "---  ------    --------------  -----\n",
            " 0   Pclass    712 non-null    int64\n",
            " 1   Sex       712 non-null    int64\n",
            " 2   Embarked  712 non-null    int64\n",
            "dtypes: int64(3)\n",
            "memory usage: 16.8 KB\n"
          ]
        }
      ]
    },
    {
      "cell_type": "code",
      "source": [
        "features_com = pd.concat([features_cat_dum, features_con_std])"
      ],
      "metadata": {
        "id": "EcCg7Ysqs1hp"
      },
      "execution_count": 58,
      "outputs": []
    },
    {
      "cell_type": "markdown",
      "source": [
        "#### features_com, target으로 훈련, 테스트 데이터를 나눕시다\n",
        "#### 그리고 훈련데이터를 아까 선언한 lg에 fit해주세요\n",
        "#### test_size = 0.3, random_state = 42"
      ],
      "metadata": {
        "id": "g9EaqV5rv9GS"
      }
    },
    {
      "cell_type": "code",
      "source": [
        "from sklearn.model_selection import train_test_split\n",
        "x_train, x_test, y_train, y_test = train_test_split(features_com, target, test_size = 0.3, random_state = 42)\n",
        "lg.fit(x_train, y_train)"
      ],
      "metadata": {
        "colab": {
          "base_uri": "https://localhost:8080/",
          "height": 360
        },
        "id": "W80JnVbRs8sm",
        "outputId": "786c2d02-4bfa-44d3-a979-c0582afbc25c"
      },
      "execution_count": 59,
      "outputs": [
        {
          "output_type": "error",
          "ename": "ValueError",
          "evalue": "ignored",
          "traceback": [
            "\u001b[0;31m---------------------------------------------------------------------------\u001b[0m",
            "\u001b[0;31mValueError\u001b[0m                                Traceback (most recent call last)",
            "\u001b[0;32m<ipython-input-59-273508c59183>\u001b[0m in \u001b[0;36m<module>\u001b[0;34m\u001b[0m\n\u001b[1;32m      1\u001b[0m \u001b[0;32mfrom\u001b[0m \u001b[0msklearn\u001b[0m\u001b[0;34m.\u001b[0m\u001b[0mmodel_selection\u001b[0m \u001b[0;32mimport\u001b[0m \u001b[0mtrain_test_split\u001b[0m\u001b[0;34m\u001b[0m\u001b[0;34m\u001b[0m\u001b[0m\n\u001b[0;32m----> 2\u001b[0;31m \u001b[0mx_train\u001b[0m\u001b[0;34m,\u001b[0m \u001b[0mx_test\u001b[0m\u001b[0;34m,\u001b[0m \u001b[0my_train\u001b[0m\u001b[0;34m,\u001b[0m \u001b[0my_test\u001b[0m \u001b[0;34m=\u001b[0m \u001b[0mtrain_test_split\u001b[0m\u001b[0;34m(\u001b[0m\u001b[0mfeatures_com\u001b[0m\u001b[0;34m,\u001b[0m \u001b[0mtarget\u001b[0m\u001b[0;34m,\u001b[0m \u001b[0mtest_size\u001b[0m \u001b[0;34m=\u001b[0m \u001b[0;36m0.3\u001b[0m\u001b[0;34m,\u001b[0m \u001b[0mrandom_state\u001b[0m \u001b[0;34m=\u001b[0m \u001b[0;36m42\u001b[0m\u001b[0;34m)\u001b[0m\u001b[0;34m\u001b[0m\u001b[0;34m\u001b[0m\u001b[0m\n\u001b[0m\u001b[1;32m      3\u001b[0m \u001b[0mlg\u001b[0m\u001b[0;34m.\u001b[0m\u001b[0mfit\u001b[0m\u001b[0;34m(\u001b[0m\u001b[0mx_train\u001b[0m\u001b[0;34m,\u001b[0m \u001b[0my_train\u001b[0m\u001b[0;34m)\u001b[0m\u001b[0;34m\u001b[0m\u001b[0;34m\u001b[0m\u001b[0m\n",
            "\u001b[0;32m/usr/local/lib/python3.7/dist-packages/sklearn/model_selection/_split.py\u001b[0m in \u001b[0;36mtrain_test_split\u001b[0;34m(test_size, train_size, random_state, shuffle, stratify, *arrays)\u001b[0m\n\u001b[1;32m   2415\u001b[0m         \u001b[0;32mraise\u001b[0m \u001b[0mValueError\u001b[0m\u001b[0;34m(\u001b[0m\u001b[0;34m\"At least one array required as input\"\u001b[0m\u001b[0;34m)\u001b[0m\u001b[0;34m\u001b[0m\u001b[0;34m\u001b[0m\u001b[0m\n\u001b[1;32m   2416\u001b[0m \u001b[0;34m\u001b[0m\u001b[0m\n\u001b[0;32m-> 2417\u001b[0;31m     \u001b[0marrays\u001b[0m \u001b[0;34m=\u001b[0m \u001b[0mindexable\u001b[0m\u001b[0;34m(\u001b[0m\u001b[0;34m*\u001b[0m\u001b[0marrays\u001b[0m\u001b[0;34m)\u001b[0m\u001b[0;34m\u001b[0m\u001b[0;34m\u001b[0m\u001b[0m\n\u001b[0m\u001b[1;32m   2418\u001b[0m \u001b[0;34m\u001b[0m\u001b[0m\n\u001b[1;32m   2419\u001b[0m     \u001b[0mn_samples\u001b[0m \u001b[0;34m=\u001b[0m \u001b[0m_num_samples\u001b[0m\u001b[0;34m(\u001b[0m\u001b[0marrays\u001b[0m\u001b[0;34m[\u001b[0m\u001b[0;36m0\u001b[0m\u001b[0;34m]\u001b[0m\u001b[0;34m)\u001b[0m\u001b[0;34m\u001b[0m\u001b[0;34m\u001b[0m\u001b[0m\n",
            "\u001b[0;32m/usr/local/lib/python3.7/dist-packages/sklearn/utils/validation.py\u001b[0m in \u001b[0;36mindexable\u001b[0;34m(*iterables)\u001b[0m\n\u001b[1;32m    376\u001b[0m \u001b[0;34m\u001b[0m\u001b[0m\n\u001b[1;32m    377\u001b[0m     \u001b[0mresult\u001b[0m \u001b[0;34m=\u001b[0m \u001b[0;34m[\u001b[0m\u001b[0m_make_indexable\u001b[0m\u001b[0;34m(\u001b[0m\u001b[0mX\u001b[0m\u001b[0;34m)\u001b[0m \u001b[0;32mfor\u001b[0m \u001b[0mX\u001b[0m \u001b[0;32min\u001b[0m \u001b[0miterables\u001b[0m\u001b[0;34m]\u001b[0m\u001b[0;34m\u001b[0m\u001b[0;34m\u001b[0m\u001b[0m\n\u001b[0;32m--> 378\u001b[0;31m     \u001b[0mcheck_consistent_length\u001b[0m\u001b[0;34m(\u001b[0m\u001b[0;34m*\u001b[0m\u001b[0mresult\u001b[0m\u001b[0;34m)\u001b[0m\u001b[0;34m\u001b[0m\u001b[0;34m\u001b[0m\u001b[0m\n\u001b[0m\u001b[1;32m    379\u001b[0m     \u001b[0;32mreturn\u001b[0m \u001b[0mresult\u001b[0m\u001b[0;34m\u001b[0m\u001b[0;34m\u001b[0m\u001b[0m\n\u001b[1;32m    380\u001b[0m \u001b[0;34m\u001b[0m\u001b[0m\n",
            "\u001b[0;32m/usr/local/lib/python3.7/dist-packages/sklearn/utils/validation.py\u001b[0m in \u001b[0;36mcheck_consistent_length\u001b[0;34m(*arrays)\u001b[0m\n\u001b[1;32m    332\u001b[0m         raise ValueError(\n\u001b[1;32m    333\u001b[0m             \u001b[0;34m\"Found input variables with inconsistent numbers of samples: %r\"\u001b[0m\u001b[0;34m\u001b[0m\u001b[0;34m\u001b[0m\u001b[0m\n\u001b[0;32m--> 334\u001b[0;31m             \u001b[0;34m%\u001b[0m \u001b[0;34m[\u001b[0m\u001b[0mint\u001b[0m\u001b[0;34m(\u001b[0m\u001b[0ml\u001b[0m\u001b[0;34m)\u001b[0m \u001b[0;32mfor\u001b[0m \u001b[0ml\u001b[0m \u001b[0;32min\u001b[0m \u001b[0mlengths\u001b[0m\u001b[0;34m]\u001b[0m\u001b[0;34m\u001b[0m\u001b[0;34m\u001b[0m\u001b[0m\n\u001b[0m\u001b[1;32m    335\u001b[0m         )\n\u001b[1;32m    336\u001b[0m \u001b[0;34m\u001b[0m\u001b[0m\n",
            "\u001b[0;31mValueError\u001b[0m: Found input variables with inconsistent numbers of samples: [1424, 712]"
          ]
        }
      ]
    },
    {
      "cell_type": "markdown",
      "source": [
        "#### 위에서 구현한 로지스틱 회귀 코드를 그대로 가져왔습니다. 똑같이 실행해볼까요?"
      ],
      "metadata": {
        "id": "PvVKTSnhwy44"
      }
    },
    {
      "cell_type": "code",
      "source": [
        "pred = []\n",
        "for i in (np.array(x_test).dot(lg.coef_.T)+ lg.intercept_[0]).reshape(-1):\n",
        "  pred.append(sigmoid(i))\n",
        "pred = np.array(pred)"
      ],
      "metadata": {
        "id": "OiVucQ_dtCRu"
      },
      "execution_count": 60,
      "outputs": []
    },
    {
      "cell_type": "markdown",
      "source": [
        "#### cross-entropy와 정확도를 확인해주세요(각 함수들의 괄호를 채워주시면 됩니다)"
      ],
      "metadata": {
        "id": "oQQEbbMTw8f_"
      }
    },
    {
      "cell_type": "code",
      "source": [
        "cross_entropy(pred, np.array(y_test))"
      ],
      "metadata": {
        "colab": {
          "base_uri": "https://localhost:8080/"
        },
        "id": "JTguJQiLtDzq",
        "outputId": "9c9a638b-c0a4-4822-94a0-4933837aa511"
      },
      "execution_count": null,
      "outputs": [
        {
          "output_type": "execute_result",
          "data": {
            "text/plain": [
              "46.926110280282145"
            ]
          },
          "metadata": {},
          "execution_count": 126
        }
      ]
    },
    {
      "cell_type": "code",
      "source": [
        "accuracy_score(pred, np.array(y_test))"
      ],
      "metadata": {
        "colab": {
          "base_uri": "https://localhost:8080/"
        },
        "id": "Rmr_yfOLwTRh",
        "outputId": "ab31b50f-2b49-497f-8867-7be0f9cb7cc4"
      },
      "execution_count": null,
      "outputs": [
        {
          "output_type": "execute_result",
          "data": {
            "text/plain": [
              "0.822429906542056"
            ]
          },
          "metadata": {},
          "execution_count": 127
        }
      ]
    },
    {
      "cell_type": "markdown",
      "source": [
        "#### 성능이 좋아졌으면 성공하셨고, 아니면 실수한 부분 없는지 체크해보시면 될 듯 합니다!"
      ],
      "metadata": {
        "id": "tPRh1PjGxEjm"
      }
    },
    {
      "cell_type": "markdown",
      "source": [
        "#### 로지스틱도 경사하강법으로 계수랑 절편 찾는 거 구현하고 싶었는데 능력부족으로 하지 못했습니다 ㅠㅠ"
      ],
      "metadata": {
        "id": "bA2jIU6HxO9B"
      }
    },
    {
      "cell_type": "markdown",
      "source": [
        "https://tobigs.gitbook.io/tobigs/data-analysis/undefined-1/python-1\n",
        "\n",
        "혹시라도 관심있으신 분들은 이 링크 참조해주시면 될 거 같아요!!\n",
        "\n",
        "고생 많으셨습니다."
      ],
      "metadata": {
        "id": "7O4Ae_iTxVB7"
      }
    }
  ]
}