{
  "nbformat": 4,
  "nbformat_minor": 0,
  "metadata": {
    "colab": {
      "provenance": [],
      "toc_visible": true
    },
    "kernelspec": {
      "name": "python3",
      "display_name": "Python 3"
    },
    "language_info": {
      "name": "python"
    }
  },
  "cells": [
    {
      "cell_type": "markdown",
      "source": [
        "# K-means Clustering\n"
      ],
      "metadata": {
        "id": "umLz6XnmqaI9"
      }
    },
    {
      "cell_type": "markdown",
      "source": [
        "K-means 알고리즘은 다음과 같은 과정으로 진행됩니다. \n",
        "\n",
        "Step 1. 군집의 개수 K 설정  \n",
        "Step 2. 무작위로 K개의 초기 중심점 설정  \n",
        "Step 3. 각 데이터에서 가장 가까운 중심을 찾아 할당  \n",
        "Step 4. 군집에 속한 데이터의 평균값으로 군집 중심점 재설정  \n",
        "Step 5. 데이터를 군집에 재할당  \n",
        "\n",
        "중심점의 위치가 더 이상 변하지 않을 때까지 Step 4,5 반복"
      ],
      "metadata": {
        "id": "Y_2Q0L_TqzZ9"
      }
    },
    {
      "cell_type": "markdown",
      "source": [
        "<img src = \"https://i.imgur.com/WL1tIZ4.gif\" height = 300 width = 500>"
      ],
      "metadata": {
        "id": "o2g5ycO9rxAp"
      }
    },
    {
      "cell_type": "markdown",
      "source": [
        "K-means 알고리즘을 Python으로 직접 구현하여 원리를 이해한 후, sklearn 라이브러리를 활용하여 구현하도록 하겠습니다."
      ],
      "metadata": {
        "id": "EcokhS4lsRys"
      }
    },
    {
      "cell_type": "markdown",
      "source": [
        "## K-means 알고리즘 직접 구현"
      ],
      "metadata": {
        "id": "KqkqqWLosdFq"
      }
    },
    {
      "cell_type": "markdown",
      "source": [
        "<b>Iris Dataset</b>\n",
        "\n",
        "원래 label이 제공되지만, label이 없다고 가정하고 비지도학습 알고리즘인 K-means 군집화를 진행하도록 하겠습니다."
      ],
      "metadata": {
        "id": "qwR8BpIssnet"
      }
    },
    {
      "cell_type": "code",
      "source": [
        "# iris dataset 불러오기\n",
        "from sklearn import datasets\n",
        "iris = datasets.load_iris().data\n",
        "\n",
        "# 데이터 일부 확인\n",
        "print(iris[:5])"
      ],
      "metadata": {
        "colab": {
          "base_uri": "https://localhost:8080/"
        },
        "id": "VMEGx-oprwfe",
        "outputId": "74ae73f3-8ead-401d-f82f-320fd71c0fad"
      },
      "execution_count": 1,
      "outputs": [
        {
          "output_type": "stream",
          "name": "stdout",
          "text": [
            "[[5.1 3.5 1.4 0.2]\n",
            " [4.9 3.  1.4 0.2]\n",
            " [4.7 3.2 1.3 0.2]\n",
            " [4.6 3.1 1.5 0.2]\n",
            " [5.  3.6 1.4 0.2]]\n"
          ]
        }
      ]
    },
    {
      "cell_type": "markdown",
      "source": [
        "각 row는 하나의 데이터 sample을 나타냅니다. \n",
        "\n",
        "각 column은 feature를 나타내며 순서대로 sepal length(꽃받침의 길이), sepal width(꽃받침의 넓이), patal length(꽃잎의 길이), peatal width(꽃잎의 넓이)를 의미합니다.\n",
        "\n",
        "sepal length와 width 두 가지 feature만을 고려하여 군집화하도록 하겠습니다."
      ],
      "metadata": {
        "id": "pHLyN553tuYz"
      }
    },
    {
      "cell_type": "code",
      "source": [
        "# sepal length, sepal width 두 가지 feature만 고려\n",
        "# 산점도 그리기(x축: length, y축: width)\n",
        "\n",
        "from matplotlib import pyplot as plt\n",
        "\n",
        "x = iris[:, 0]   #sepal length\n",
        "y = iris[:, 1]   #sepal width\n",
        "\n",
        "plt.scatter(x, y, alpha=0.5)\n",
        "plt.xlabel('sepal length (cm)')\n",
        "plt.ylabel('sepal width (cm)')\n",
        "plt.show()"
      ],
      "metadata": {
        "colab": {
          "base_uri": "https://localhost:8080/",
          "height": 282
        },
        "id": "OeAkBVO3qyUy",
        "outputId": "b94f1891-c0d5-4556-f942-b65d9b49f7b8"
      },
      "execution_count": 2,
      "outputs": [
        {
          "output_type": "display_data",
          "data": {
            "text/plain": [
              "<Figure size 432x288 with 1 Axes>"
            ],
            "image/png": "[encoded data removed]"
          },
          "metadata": {
            "needs_background": "light"
          }
        }
      ]
    },
    {
      "cell_type": "markdown",
      "source": [
        "K-means 알고리즘으로 비슷한 붓꽃끼리 군집화하는 것을 구현하도록 하겠습니다."
      ],
      "metadata": {
        "id": "pzYPzUdrz9xV"
      }
    },
    {
      "cell_type": "markdown",
      "source": [
        "### Step 1. 군집의 개수 K 설정\n",
        "3가지 종이 존재하므로 K=3으로 설정하겠습니다."
      ],
      "metadata": {
        "id": "DTvItKc20wfH"
      }
    },
    {
      "cell_type": "markdown",
      "source": [
        "### Step 2. 무작위로 K개의 초기 중심점 설정"
      ],
      "metadata": {
        "id": "aCX0OpUf0_Af"
      }
    },
    {
      "cell_type": "code",
      "execution_count": 4,
      "metadata": {
        "id": "Ym6XMk34qB05"
      },
      "outputs": [],
      "source": [
        "import numpy as np\n",
        "# Q. 군집 개수 k를 3으로 설정해주세요.\n",
        "k = 3\n",
        "\n",
        "# Q. 랜덤으로 x, y 좌표 3개(k개)를 생성합니다\n",
        "# (np.random.uniform은 주어진 최소, 최대값 사이에서 k 개 만큼 실수 난수를 생성합니다.)\n",
        "centroids_x = np.random.uniform(min(x), max(x), 3)\n",
        "centroids_y = np.random.uniform(min(y), max(y), 3)\n",
        "\n",
        "centroids = list(zip(centroids_x, centroids_y))\n",
        "centroids = np.array(centroids)"
      ]
    },
    {
      "cell_type": "markdown",
      "source": [
        "centroids 는 임의로 생성한 (x, y) 좌표 3개를 갖게 됩니다."
      ],
      "metadata": {
        "id": "9E2H57sb1U3l"
      }
    },
    {
      "cell_type": "markdown",
      "source": [
        "(random이기 때문에 매 실행마다 결과가 다릅니다.)"
      ],
      "metadata": {
        "id": "AgiuFL9C8-Ed"
      }
    },
    {
      "cell_type": "code",
      "source": [
        "# centroids 위치 확인\n",
        "plt.scatter(x, y, alpha=0.5)\t# 데이터들은 파란색으로 표시되고\n",
        "plt.scatter(centroids_x, centroids_y)\t# centroids는 주황색으로 표시됩니다\n",
        "plt.show()"
      ],
      "metadata": {
        "colab": {
          "base_uri": "https://localhost:8080/",
          "height": 268
        },
        "id": "TXLpIf8h1RHx",
        "outputId": "26cca504-074f-4ace-ee1d-467182f5fba9"
      },
      "execution_count": 5,
      "outputs": [
        {
          "output_type": "display_data",
          "data": {
            "text/plain": [
              "<Figure size 432x288 with 1 Axes>"
            ],
            "image/png": "[encoded data removed]"
          },
          "metadata": {
            "needs_background": "light"
          }
        }
      ]
    },
    {
      "cell_type": "markdown",
      "source": [
        "### Step 3. 각 데이터에서 가장 가까운 중심을 찾아 할당"
      ],
      "metadata": {
        "id": "Ff9fXX-d2Wey"
      }
    },
    {
      "cell_type": "markdown",
      "source": [
        "Centroids를 지정했다면 이제 해당 centroids에 가까운 데이터들을 할당해줍니다.  \n",
        "이 때 ‘가깝다’ 라는 것을 정량적으로 계산하기 위해 각 데이터를 벡터로 간주하여 유클리드 거리를 계산하도록 하겠습니다.  \n",
        "먼저 두 데이터 포인트 사이의 거리를 계산하는 distance() 함수를 작성합니다."
      ],
      "metadata": {
        "id": "8ZdieqLZ2et9"
      }
    },
    {
      "cell_type": "markdown",
      "source": [
        "$distance = \\sqrt{(a_1 - b_1)^2 + (a_2 - b_2)^2 + \\cdots + (a_n - b_n)^2}$"
      ],
      "metadata": {
        "id": "bef1F9__21f2"
      }
    },
    {
      "cell_type": "code",
      "source": [
        "# 유클리드 거리 계산 함수\n",
        "def distance(a, b):\n",
        "    return sum([(el_a - el_b)**2 for el_a, el_b in list(zip(a, b))]) ** 0.5"
      ],
      "metadata": {
        "id": "aCyrWScE2J0L"
      },
      "execution_count": 6,
      "outputs": []
    },
    {
      "cell_type": "markdown",
      "source": [
        "이제 각 데이터들 별로 3개의 centroids와의 거리를 측정합니다. 이 때 labels 란 배열을 생성하고, 가장 가까운 centroids의 index를 저장하도록 합니다."
      ],
      "metadata": {
        "id": "J5PB9jos3Uk9"
      }
    },
    {
      "cell_type": "code",
      "source": [
        "# 각 데이터 포인트를 그룹화 할 labels을 생성합니다 (0, 1, 또는 2)\n",
        "labels = np.zeros(len(iris))\n",
        "\n",
        "sepal_length_width = np.array(list(zip(x, y)))\n",
        "\n",
        "# 각 데이터를 순회하면서 centroids와의 거리를 측정합니다\n",
        "for i in range(len(iris)):\n",
        "  distances = np.zeros(k)\t# 초기 거리는 모두 0으로 초기화 해줍니다\n",
        "  for j in range(k):\n",
        "    # Q. 각 데이터와 centroid 사이의 유클리드 거리를 계산해주세요. (위에서 유클리드 거리를 계산하는 함수를 정의했습니다.)\n",
        "    distances[j] = distance(sepal_length_width[i], centroids[j])\n",
        "  # Q. 각 데이터에서 가장 가까운 centroid의 index를 cluster에 반환해주세요.\n",
        "  cluster = np.argmin(distances)\t# (np.argmin은 가장 작은 값의 index를 반환합니다)\n",
        "  labels[i] = cluster"
      ],
      "metadata": {
        "id": "QEZWfX0C3MjP"
      },
      "execution_count": 7,
      "outputs": []
    },
    {
      "cell_type": "markdown",
      "source": [
        "이렇게 생성한 labels에는 0, 1 또는 2 가 저장되어 각 데이터가 어느 centroid그룹에 속해있는지를 나타내게 됩니다.  \n",
        "각 데이터가 어느 그룹에 속하게 되었는지 눈으로 확인하기 위해 시각화 해봅시다."
      ],
      "metadata": {
        "id": "f41ZiTix8qoE"
      }
    },
    {
      "cell_type": "code",
      "source": [
        "plt.scatter(x, y, c=labels, alpha=0.5)\n",
        "plt.scatter(centroids_x, centroids_y, c='red')\t# centroid는 빨간색으로 나타냅니다\n",
        "plt.show()"
      ],
      "metadata": {
        "colab": {
          "base_uri": "https://localhost:8080/",
          "height": 268
        },
        "id": "Jc5cgKuH8pTG",
        "outputId": "aadd5ac0-550f-49ee-86ea-27858db08591"
      },
      "execution_count": 8,
      "outputs": [
        {
          "output_type": "display_data",
          "data": {
            "text/plain": [
              "<Figure size 432x288 with 1 Axes>"
            ],
            "image/png": "[encoded data removed]"
          },
          "metadata": {
            "needs_background": "light"
          }
        }
      ]
    },
    {
      "cell_type": "markdown",
      "source": [
        "데이터들이 가까운 centroid에 잘 할당되어있지만, 처음 centroid를 선택할 때 랜덤으로 선택한 탓에 데이터를 잘 그룹화한 것 같지는 않습니다."
      ],
      "metadata": {
        "id": "Cqucu2xr9JV2"
      }
    },
    {
      "cell_type": "markdown",
      "source": [
        "### Step 4. 군집에 속한 데이터의 평균값으로 군집 중심점 재설정"
      ],
      "metadata": {
        "id": "hrx3gmW79UoZ"
      }
    },
    {
      "cell_type": "markdown",
      "source": [
        "이제 centroids를 새롭게 지정함으로써 데이터를 더 잘 그룹화 할 수 있도록 만들어봅시다.  \n",
        "우선 기존에 지정한 centroids를 복사해두어 centroids_old 에 저장하도록 합시다.  \n",
        "이때 deep copy(깊은 복사)를 하기위해 python 라이브러리인 copy 를 import하여 활용합니다."
      ],
      "metadata": {
        "id": "MDw-1p359WVx"
      }
    },
    {
      "cell_type": "code",
      "source": [
        "from copy import deepcopy\n",
        "centroids_old = deepcopy(centroids)"
      ],
      "metadata": {
        "id": "ePIGXO0A8wDX"
      },
      "execution_count": 9,
      "outputs": []
    },
    {
      "cell_type": "markdown",
      "source": [
        "이제 각 그룹별로 데이터의 평균을 계산합니다. 즉, 각 데이터들의 평균 x좌표와 평균 y좌표를 계산하여 하나의 좌표를 계산합니다. 이렇게 계산된 좌표는 새로운 centroid로 지정됩니다."
      ],
      "metadata": {
        "id": "huhS2lzZ9fuu"
      }
    },
    {
      "cell_type": "code",
      "source": [
        "for i in range(k):\n",
        "  # 각 그룹에 속한 데이터들만 골라 points에 저장합니다\n",
        "  points = [ sepal_length_width[j] for j in range(len(sepal_length_width)) if labels[j] == i ]\n",
        "  \n",
        "  # points의 각 feature, 즉 각 좌표의 평균 지점을 centroid로 지정합니다\n",
        "  # Q. points의 평균을 구해주세요.\n",
        "  centroids[i] = np.mean(points, axis=0)"
      ],
      "metadata": {
        "id": "8vNH_5aR9eQg"
      },
      "execution_count": 10,
      "outputs": []
    },
    {
      "cell_type": "markdown",
      "source": [
        "새롭게 지정된 centroids는 어디에 위치하는지 확인해봅시다. 기존의 centroid는 파란색, 새롭게 지정된 centroids는 빨간색으로 나타냅니다."
      ],
      "metadata": {
        "id": "5a5qnq3K9o7k"
      }
    },
    {
      "cell_type": "code",
      "source": [
        "plt.scatter(x, y, c=labels, alpha=0.5)\n",
        "plt.scatter(centroids_old[:, 0], centroids_old[:, 1], c='blue')\n",
        "plt.scatter(centroids[:, 0], centroids[:, 1], c='red')\n",
        "plt.show()"
      ],
      "metadata": {
        "colab": {
          "base_uri": "https://localhost:8080/",
          "height": 268
        },
        "id": "u_rhUSluc8Yz",
        "outputId": "40a6d708-525f-488f-84d3-62a6c8c83c45"
      },
      "execution_count": 11,
      "outputs": [
        {
          "output_type": "display_data",
          "data": {
            "text/plain": [
              "<Figure size 432x288 with 1 Axes>"
            ],
            "image/png": "[encoded data removed]"
          },
          "metadata": {
            "needs_background": "light"
          }
        }
      ]
    },
    {
      "cell_type": "markdown",
      "source": [
        "Centroids가 전체적으로 중앙으로 이동하여 데이터의 중심 지점에 위치한 것을 확인할 수 있습니다."
      ],
      "metadata": {
        "id": "DL8AuZnuZLQR"
      }
    },
    {
      "cell_type": "markdown",
      "source": [
        "### Step 5. 데이터를 군집에 재할당"
      ],
      "metadata": {
        "id": "w82bDUXpZTT8"
      }
    },
    {
      "cell_type": "markdown",
      "source": [
        "### 중심점의 위치가 더 이상 변하지 않을 때까지 Step 4,5 반복"
      ],
      "metadata": {
        "id": "M3JfpQY9Zlud"
      }
    },
    {
      "cell_type": "markdown",
      "source": [
        "남은건 Step 4,5를 반복하여 최적의 centroids를 찾는 것입니다.  \n",
        "반복을 하기 전에 error 라는 배열을 하나 만들어줍니다.  \n",
        "error의 각 index는 centroids_old 와 새롭게 지정된 centroids 의 거리를 저장합니다.  \n",
        "중심점의 위치가 더 이상 변하지 않으면 최적의 중심점입니다.  \n",
        "따라서 이 거리(error)가 모두 0 이 되면 최적해에 수렴(convergence)한 것으로 판단하여 반복을 종료합니다. "
      ],
      "metadata": {
        "id": "p0AO0mJmZtFu"
      }
    },
    {
      "cell_type": "code",
      "source": [
        "centroids_old = np.zeros(centroids.shape)\t# 제일 처음 centroids_old는 0으로 초기화 해줍니다\n",
        "labels = np.zeros(len(iris))\n",
        "error = np.zeros(k) # error 도 초기화 해줍니다\n",
        "\n",
        "for i in range(k):\n",
        "  error[i] = distance(centroids_old[i], centroids[i])\n",
        "\n",
        "# error가 0에 수렴할 때 까지 2 ~ 3 단계를 반복합니다\n",
        "while(error.all() != 0):\n",
        "  # STEP 3: 가까운 centroids에 데이터를 할당합니다\n",
        "  for i in range(len(iris)):\n",
        "    distances = np.zeros(k)\t# 초기 거리는 모두 0으로 초기화 해줍니다\n",
        "    for j in range(k):\n",
        "      distances[j] = distance(sepal_length_width[i], centroids[j])\n",
        "    cluster = np.argmin(distances)\t# np.argmin은 가장 작은 값의 index를 반환합니다\n",
        "    labels[i] = cluster\n",
        "\n",
        "  # Step 4: centroids를 업데이트 시켜줍니다\n",
        "  centroids_old = deepcopy(centroids)\n",
        "  for i in range(k):\n",
        "    # 각 그룹에 속한 데이터들만 골라 points에 저장합니다\n",
        "    points = [ sepal_length_width[j] for j in range(len(sepal_length_width)) if labels[j] == i ]\n",
        "    # points의 각 feature, 즉 각 좌표의 평균 지점을 centroid로 지정합니다\n",
        "    centroids[i] = np.mean(points, axis=0)\n",
        "\n",
        "  # 새롭게 centroids를 업데이트 했으니 error를 다시 계산합니다\n",
        "  for i in range(k):\n",
        "    error[i] = distance(centroids_old[i], centroids[i])"
      ],
      "metadata": {
        "id": "ub0H7LZK9tQk"
      },
      "execution_count": 12,
      "outputs": []
    },
    {
      "cell_type": "markdown",
      "source": [
        "이제 최적의 centroids를 찾았으니 이를 시각화하여 확인합니다.   \n",
        "직관적으로 알아보기위해 색을 r, g, b 로 설정해줍니다. 또 centroids는 다이아몬드 형태로 마킹해줍니다."
      ],
      "metadata": {
        "id": "VXanXRp7b2Sj"
      }
    },
    {
      "cell_type": "code",
      "source": [
        "colors = ['r', 'g', 'b']\n",
        "for i in range(k):\n",
        "    points = np.array([sepal_length_width[j] for j in range(len(sepal_length_width)) if labels[j] == i])\n",
        "    plt.scatter(points[:, 0], points[:, 1], c=colors[i], alpha=0.5)\n",
        "\n",
        "plt.scatter(centroids[:, 0], centroids[:, 1], marker='D', s=150)\n",
        "plt.xlabel('sepal length (cm)')\n",
        "plt.ylabel('sepal width (cm)')\n",
        "plt.show()"
      ],
      "metadata": {
        "colab": {
          "base_uri": "https://localhost:8080/",
          "height": 282
        },
        "id": "h5hEVW2jbOXx",
        "outputId": "807fb099-b870-4e0e-b6af-198e9168dc48"
      },
      "execution_count": 13,
      "outputs": [
        {
          "output_type": "display_data",
          "data": {
            "text/plain": [
              "<Figure size 432x288 with 1 Axes>"
            ],
            "image/png": "[encoded data removed]"
          },
          "metadata": {
            "needs_background": "light"
          }
        }
      ]
    },
    {
      "cell_type": "markdown",
      "source": [
        "군집화가 잘 된 것을 확인할 수 있습니다."
      ],
      "metadata": {
        "id": "5Ae0WIeAdzeD"
      }
    },
    {
      "cell_type": "markdown",
      "source": [
        "## Scikit Learn - KMeans 클래스 이용"
      ],
      "metadata": {
        "id": "ljhqpnkceAzj"
      }
    },
    {
      "cell_type": "markdown",
      "source": [
        "### 초기 중심점 무작위 선정"
      ],
      "metadata": {
        "id": "QKPYyYCphGWm"
      }
    },
    {
      "cell_type": "code",
      "source": [
        "from sklearn.cluster import KMeans\n",
        "\n",
        "iris = datasets.load_iris().data\n",
        "\n",
        "# Q. 3개의 군집으로 나누고, 초기 중심점을 무작위로 설정하는 K-Means 모델을 생성합니다.(init='random')\n",
        "model1 = KMeans(n_clusters = 3, init='random')\n",
        "model1.fit(iris)\n",
        "labels1 = model1.predict(iris)"
      ],
      "metadata": {
        "id": "P5cU_2-wb9gW"
      },
      "execution_count": 14,
      "outputs": []
    },
    {
      "cell_type": "code",
      "source": [
        "# 클러스터링 결과를 시각화합니다\n",
        "x = iris[:, 0]  #위와 동일하게 sepal length와 width만 이용\n",
        "y = iris[:, 1]\n",
        "plt.scatter(x, y, c=labels1, alpha=0.5)\n",
        "plt.xlabel('sepal length (cm)')\n",
        "plt.ylabel('sepal width (cm)')\n",
        "plt.show()"
      ],
      "metadata": {
        "colab": {
          "base_uri": "https://localhost:8080/",
          "height": 282
        },
        "id": "KC9Jpp19e1Rs",
        "outputId": "d65a2f28-e9a7-4c0a-c1f3-636bbfd980da"
      },
      "execution_count": 15,
      "outputs": [
        {
          "output_type": "display_data",
          "data": {
            "text/plain": [
              "<Figure size 432x288 with 1 Axes>"
            ],
            "image/png": "[encoded data removed]"
          },
          "metadata": {
            "needs_background": "light"
          }
        }
      ]
    },
    {
      "cell_type": "markdown",
      "source": [
        "초기 중심점을 무작위로 설정했기 때문에 군집 결과가 매번 달라지게 됩니다. 또한, KMeans는 초기값에 민감하다는 단점이 있기 때문에 무작위성으로 군집 결과가 좋지 않을 수 있습니다.   \n",
        "이러한 문제점을 해결하기 위해 초기 중심점을 K-Means++ 방법을 이용하여 설정합니다."
      ],
      "metadata": {
        "id": "CY0DdVs5g1rk"
      }
    },
    {
      "cell_type": "markdown",
      "source": [
        "### K-Means++로 초기 중심점 설정"
      ],
      "metadata": {
        "id": "wBdvMAszhmP4"
      }
    },
    {
      "cell_type": "code",
      "source": [
        "# Q. 3개의 군집으로 나누고, 초기 중심점을 K-Means++으로 모델을 생성합니다.(init='k-means++')\n",
        "model2 = KMeans(n_clusters = 3, init='k-means++')\n",
        "model2.fit(iris)\n",
        "labels2 = model2.predict(iris)"
      ],
      "metadata": {
        "id": "rWKDp8cvggKn"
      },
      "execution_count": 17,
      "outputs": []
    },
    {
      "cell_type": "code",
      "source": [
        "# 클러스터링 결과를 시각화합니다\n",
        "plt.scatter(x, y, c=labels2, alpha=0.5)\n",
        "plt.xlabel('sepal length (cm)')\n",
        "plt.ylabel('sepal width (cm)')\n",
        "plt.show()"
      ],
      "metadata": {
        "colab": {
          "base_uri": "https://localhost:8080/",
          "height": 282
        },
        "id": "XMW7dcplidCR",
        "outputId": "98d6760a-19cf-444d-8ad9-9974ff710d2f"
      },
      "execution_count": 18,
      "outputs": [
        {
          "output_type": "display_data",
          "data": {
            "text/plain": [
              "<Figure size 432x288 with 1 Axes>"
            ],
            "image/png": "[encoded data removed]"
          },
          "metadata": {
            "needs_background": "light"
          }
        }
      ]
    },
    {
      "cell_type": "markdown",
      "source": [
        "이번 데이터에서는 초기 중심점을 무작위로 설정했을 때와 결과가 비슷합니다.  \n",
        "그러나 초기 중심점을 무작위로 설정하는 것보단 K-Means++ 방법을 이용하는 것이 더 효과적입니다.  \n",
        "KMeans 클래스의 초기 중심점 파라미터인 init의 default 값은 'k-means++' 이므로 따로 설정해줄 필요는 없습니다."
      ],
      "metadata": {
        "id": "MWFIrnLciszv"
      }
    },
    {
      "cell_type": "markdown",
      "source": [
        "### 최적의 군집 개수 K 설정(엘보우 방법)"
      ],
      "metadata": {
        "id": "vy2K6HESjsaC"
      }
    },
    {
      "cell_type": "markdown",
      "source": [
        "iris 데이터에서는 이미 군집이 3개인 것을 알고 있었기 때문에 군집 개수 K를 설정하는 것이 쉬웠지만, label이 없는 데이터에서는 군집이 몇 개인지 알기 어렵습니다. 최적의 군집 개수 K를 설정하기 위해 엘보우 방법을 이용합니다."
      ],
      "metadata": {
        "id": "vMeM0lXGj3i2"
      }
    },
    {
      "cell_type": "code",
      "source": [
        "from sklearn.datasets import make_blobs\n",
        "\n",
        "# 중심점이 5개인 100개의 점 데이터를 무작위로 생성합니다.\n",
        "points, labels = make_blobs(n_samples=100, centers=5, n_features=2, random_state=42)\n",
        "print(points.shape, points[:10])  # 무작위로 생성된 점의 좌표 10개 출력"
      ],
      "metadata": {
        "colab": {
          "base_uri": "https://localhost:8080/"
        },
        "id": "uqTVfFfZihTp",
        "outputId": "4aabc767-453a-4335-97fb-9254ecb90c2a"
      },
      "execution_count": 19,
      "outputs": [
        {
          "output_type": "stream",
          "name": "stdout",
          "text": [
            "(100, 2) [[-6.2927701  -4.68965397]\n",
            " [ 2.03530213  5.61498563]\n",
            " [-2.97261532  8.54855637]\n",
            " [ 0.64463087  3.22362652]\n",
            " [-8.73867639  6.82004726]\n",
            " [-7.22234171 -7.68238686]\n",
            " [ 5.00151486  1.32804993]\n",
            " [ 4.1607046   1.78751071]\n",
            " [ 4.6040528   3.53781334]\n",
            " [-3.10983631  8.72259238]]\n"
          ]
        }
      ]
    },
    {
      "cell_type": "code",
      "source": [
        "# 엘보우 방법 함수 정의\n",
        "# 군집의 개수 증가에 따른 이너셔 값 변화 확인\n",
        "def elbow(data, length):  # length: (최대 군집 개수-1)\n",
        "  inertia = []\n",
        "  for k in range(2,length):\n",
        "    # Q. 군집 개수가 k인 K-Means 모델을 생성합니다.\n",
        "    kmeans = KMeans(n_clusters=k, random_state=42)\n",
        "    kmeans.fit(data)\n",
        "    # Q. KMeans 모델에서 이너셔 값을 계산해주는 inertia_ 속성을 inertia 리스트에 추가해주세요.\n",
        "    inertia.append(kmeans.inertia_)\n",
        "  plt.plot(range(2,length), inertia)\n",
        "  plt.xlabel('Number of Clusters(k)')\n",
        "  plt.ylabel('inertia')\n",
        "  plt.show()"
      ],
      "metadata": {
        "id": "uh316uISlJb7"
      },
      "execution_count": 20,
      "outputs": []
    },
    {
      "cell_type": "code",
      "source": [
        "elbow(points, 11)"
      ],
      "metadata": {
        "colab": {
          "base_uri": "https://localhost:8080/",
          "height": 279
        },
        "id": "rqG5IE0olV0Z",
        "outputId": "68f9c6de-e7e0-46a3-a94e-fad3fe7b624e"
      },
      "execution_count": 21,
      "outputs": [
        {
          "output_type": "display_data",
          "data": {
            "text/plain": [
              "<Figure size 432x288 with 1 Axes>"
            ],
            "image/png": "[encoded data removed]"
          },
          "metadata": {
            "needs_background": "light"
          }
        }
      ]
    },
    {
      "cell_type": "markdown",
      "source": [
        "K가 5일 때부터 이너셔 값이 감소하는 폭이 많이 줄어든 것을 확인할 수 있습니다.  \n",
        "이 지점부터는 군집 개수를 늘려도 군집에 잘 밀집된 정도가 크게 개선되지 않기 때문에 군집 개수 K를 5로 설정합니다."
      ],
      "metadata": {
        "id": "SiZJjvMUmjjz"
      }
    },
    {
      "cell_type": "markdown",
      "source": [
        "# PCA"
      ],
      "metadata": {
        "id": "8KW3lL5TZCa7"
      }
    },
    {
      "cell_type": "markdown",
      "source": [
        "## 1. iris 데이터 실습"
      ],
      "metadata": {
        "id": "4qn4W2YFQTPI"
      }
    },
    {
      "cell_type": "markdown",
      "source": [
        "### **데이터 불러오기**\n",
        "iris 데이터로 pca를 구현해보겠습니다.\n",
        "우선 필요한 파일을 import 하고 iris 데이터 파일을 불러옵니다."
      ],
      "metadata": {
        "id": "vIicXDUoalvx"
      }
    },
    {
      "cell_type": "code",
      "source": [
        "import pandas as pd\n",
        "url = \"https://archive.ics.uci.edu/ml/machine-learning-databases/iris/iris.data\"\n",
        "df = pd.read_csv(url, names=['sepal length','sepal width','petal length','petal width','target'])"
      ],
      "metadata": {
        "id": "dLzK9w47ZFIG"
      },
      "execution_count": 22,
      "outputs": []
    },
    {
      "cell_type": "code",
      "source": [
        "#head()로 데이터 확인\n",
        "df.head()"
      ],
      "metadata": {
        "colab": {
          "base_uri": "https://localhost:8080/",
          "height": 206
        },
        "id": "aiyCDYiEbrbz",
        "outputId": "5726f2b9-f16e-484e-841b-8eeb167ed9db"
      },
      "execution_count": 23,
      "outputs": [
        {
          "output_type": "execute_result",
          "data": {
            "text/plain": [
              "   sepal length  sepal width  petal length  petal width       target\n",
              "0           5.1          3.5           1.4          0.2  Iris-setosa\n",
              "1           4.9          3.0           1.4          0.2  Iris-setosa\n",
              "2           4.7          3.2           1.3          0.2  Iris-setosa\n",
              "3           4.6          3.1           1.5          0.2  Iris-setosa\n",
              "4           5.0          3.6           1.4          0.2  Iris-setosa"
            ],
            "text/html": [
              "\n",
              "  <div id=\"df-764526b3-778d-42b9-ad83-b13396177928\">\n",
              "    <div class=\"colab-df-container\">\n",
              "      <div>\n",
              "<style scoped>\n",
              "    .dataframe tbody tr th:only-of-type {\n",
              "        vertical-align: middle;\n",
              "    }\n",
              "\n",
              "    .dataframe tbody tr th {\n",
              "        vertical-align: top;\n",
              "    }\n",
              "\n",
              "    .dataframe thead th {\n",
              "        text-align: right;\n",
              "    }\n",
              "</style>\n",
              "<table border=\"1\" class=\"dataframe\">\n",
              "  <thead>\n",
              "    <tr style=\"text-align: right;\">\n",
              "      <th></th>\n",
              "      <th>sepal length</th>\n",
              "      <th>sepal width</th>\n",
              "      <th>petal length</th>\n",
              "      <th>petal width</th>\n",
              "      <th>target</th>\n",
              "    </tr>\n",
              "  </thead>\n",
              "  <tbody>\n",
              "    <tr>\n",
              "      <th>0</th>\n",
              "      <td>5.1</td>\n",
              "      <td>3.5</td>\n",
              "      <td>1.4</td>\n",
              "      <td>0.2</td>\n",
              "      <td>Iris-setosa</td>\n",
              "    </tr>\n",
              "    <tr>\n",
              "      <th>1</th>\n",
              "      <td>4.9</td>\n",
              "      <td>3.0</td>\n",
              "      <td>1.4</td>\n",
              "      <td>0.2</td>\n",
              "      <td>Iris-setosa</td>\n",
              "    </tr>\n",
              "    <tr>\n",
              "      <th>2</th>\n",
              "      <td>4.7</td>\n",
              "      <td>3.2</td>\n",
              "      <td>1.3</td>\n",
              "      <td>0.2</td>\n",
              "      <td>Iris-setosa</td>\n",
              "    </tr>\n",
              "    <tr>\n",
              "      <th>3</th>\n",
              "      <td>4.6</td>\n",
              "      <td>3.1</td>\n",
              "      <td>1.5</td>\n",
              "      <td>0.2</td>\n",
              "      <td>Iris-setosa</td>\n",
              "    </tr>\n",
              "    <tr>\n",
              "      <th>4</th>\n",
              "      <td>5.0</td>\n",
              "      <td>3.6</td>\n",
              "      <td>1.4</td>\n",
              "      <td>0.2</td>\n",
              "      <td>Iris-setosa</td>\n",
              "    </tr>\n",
              "  </tbody>\n",
              "</table>\n",
              "</div>\n",
              "      <button class=\"colab-df-convert\" onclick=\"convertToInteractive('df-764526b3-778d-42b9-ad83-b13396177928')\"\n",
              "              title=\"Convert this dataframe to an interactive table.\"\n",
              "              style=\"display:none;\">\n",
              "        \n",
              "  <svg xmlns=\"http://www.w3.org/2000/svg\" height=\"24px\"viewBox=\"0 0 24 24\"\n",
              "       width=\"24px\">\n",
              "    <path d=\"M0 0h24v24H0V0z\" fill=\"none\"/>\n",
              "    <path d=\"M18.56 5.44l.94 2.06.94-2.06 2.06-.94-2.06-.94-.94-2.06-.94 2.06-2.06.94zm-11 1L8.5 8.5l.94-2.06 2.06-.94-2.06-.94L8.5 2.5l-.94 2.06-2.06.94zm10 10l.94 2.06.94-2.06 2.06-.94-2.06-.94-.94-2.06-.94 2.06-2.06.94z\"/><path d=\"M17.41 7.96l-1.37-1.37c-.4-.4-.92-.59-1.43-.59-.52 0-1.04.2-1.43.59L10.3 9.45l-7.72 7.72c-.78.78-.78 2.05 0 2.83L4 21.41c.39.39.9.59 1.41.59.51 0 1.02-.2 1.41-.59l7.78-7.78 2.81-2.81c.8-.78.8-2.07 0-2.86zM5.41 20L4 18.59l7.72-7.72 1.47 1.35L5.41 20z\"/>\n",
              "  </svg>\n",
              "      </button>\n",
              "      \n",
              "  <style>\n",
              "    .colab-df-container {\n",
              "      display:flex;\n",
              "      flex-wrap:wrap;\n",
              "      gap: 12px;\n",
              "    }\n",
              "\n",
              "    .colab-df-convert {\n",
              "      background-color: #E8F0FE;\n",
              "      border: none;\n",
              "      border-radius: 50%;\n",
              "      cursor: pointer;\n",
              "      display: none;\n",
              "      fill: #1967D2;\n",
              "      height: 32px;\n",
              "      padding: 0 0 0 0;\n",
              "      width: 32px;\n",
              "    }\n",
              "\n",
              "    .colab-df-convert:hover {\n",
              "      background-color: #E2EBFA;\n",
              "      box-shadow: 0px 1px 2px rgba(60, 64, 67, 0.3), 0px 1px 3px 1px rgba(60, 64, 67, 0.15);\n",
              "      fill: #174EA6;\n",
              "    }\n",
              "\n",
              "    [theme=dark] .colab-df-convert {\n",
              "      background-color: #3B4455;\n",
              "      fill: #D2E3FC;\n",
              "    }\n",
              "\n",
              "    [theme=dark] .colab-df-convert:hover {\n",
              "      background-color: #434B5C;\n",
              "      box-shadow: 0px 1px 3px 1px rgba(0, 0, 0, 0.15);\n",
              "      filter: drop-shadow(0px 1px 2px rgba(0, 0, 0, 0.3));\n",
              "      fill: #FFFFFF;\n",
              "    }\n",
              "  </style>\n",
              "\n",
              "      <script>\n",
              "        const buttonEl =\n",
              "          document.querySelector('#df-764526b3-778d-42b9-ad83-b13396177928 button.colab-df-convert');\n",
              "        buttonEl.style.display =\n",
              "          google.colab.kernel.accessAllowed ? 'block' : 'none';\n",
              "\n",
              "        async function convertToInteractive(key) {\n",
              "          const element = document.querySelector('#df-764526b3-778d-42b9-ad83-b13396177928');\n",
              "          const dataTable =\n",
              "            await google.colab.kernel.invokeFunction('convertToInteractive',\n",
              "                                                     [key], {});\n",
              "          if (!dataTable) return;\n",
              "\n",
              "          const docLinkHtml = 'Like what you see? Visit the ' +\n",
              "            '<a target=\"_blank\" href=https://colab.research.google.com/notebooks/data_table.ipynb>data table notebook</a>'\n",
              "            + ' to learn more about interactive tables.';\n",
              "          element.innerHTML = '';\n",
              "          dataTable['output_type'] = 'display_data';\n",
              "          await google.colab.output.renderOutput(dataTable, element);\n",
              "          const docLink = document.createElement('div');\n",
              "          docLink.innerHTML = docLinkHtml;\n",
              "          element.appendChild(docLink);\n",
              "        }\n",
              "      </script>\n",
              "    </div>\n",
              "  </div>\n",
              "  "
            ]
          },
          "metadata": {},
          "execution_count": 23
        }
      ]
    },
    {
      "cell_type": "markdown",
      "source": [
        "### **표준화**\n",
        "\n",
        "pca를 하기 전에 데이터의 scale에 따라 주성분의 설명 가능한 분산량이 달라질 수 있기 때문에 scaling 을 진행합니다."
      ],
      "metadata": {
        "id": "iCj9KRTMb0W-"
      }
    },
    {
      "cell_type": "code",
      "source": [
        "from sklearn.preprocessing import StandardScaler\n",
        "x = df.drop(['target'], axis = 1) # target을 제외한 value값만 추출\n",
        "y = df['target'] # target의 value만 추출\n",
        "\n",
        "x = StandardScaler().fit_transform(x) # fit_transform()으로 x에 x를 표준화한 데이터를 저장"
      ],
      "metadata": {
        "id": "NkqsAaUFZkMO"
      },
      "execution_count": 30,
      "outputs": []
    },
    {
      "cell_type": "code",
      "source": [
        "features = ['sepal length', 'sepal width', 'petal length', 'petal width']\n",
        "pd.DataFrame(x, columns=features).head() # dataframe으로 표준화된 데이터 확인"
      ],
      "metadata": {
        "id": "PpOFqGTxc0os",
        "colab": {
          "base_uri": "https://localhost:8080/",
          "height": 206
        },
        "outputId": "f3b1becf-5c01-467d-bcc1-8d50bbcb9836"
      },
      "execution_count": 31,
      "outputs": [
        {
          "output_type": "execute_result",
          "data": {
            "text/plain": [
              "   sepal length  sepal width  petal length  petal width\n",
              "0     -0.900681     1.032057     -1.341272    -1.312977\n",
              "1     -1.143017    -0.124958     -1.341272    -1.312977\n",
              "2     -1.385353     0.337848     -1.398138    -1.312977\n",
              "3     -1.506521     0.106445     -1.284407    -1.312977\n",
              "4     -1.021849     1.263460     -1.341272    -1.312977"
            ],
            "text/html": [
              "\n",
              "  <div id=\"df-25ef4064-88bb-4b73-a593-fc82a94ce412\">\n",
              "    <div class=\"colab-df-container\">\n",
              "      <div>\n",
              "<style scoped>\n",
              "    .dataframe tbody tr th:only-of-type {\n",
              "        vertical-align: middle;\n",
              "    }\n",
              "\n",
              "    .dataframe tbody tr th {\n",
              "        vertical-align: top;\n",
              "    }\n",
              "\n",
              "    .dataframe thead th {\n",
              "        text-align: right;\n",
              "    }\n",
              "</style>\n",
              "<table border=\"1\" class=\"dataframe\">\n",
              "  <thead>\n",
              "    <tr style=\"text-align: right;\">\n",
              "      <th></th>\n",
              "      <th>sepal length</th>\n",
              "      <th>sepal width</th>\n",
              "      <th>petal length</th>\n",
              "      <th>petal width</th>\n",
              "    </tr>\n",
              "  </thead>\n",
              "  <tbody>\n",
              "    <tr>\n",
              "      <th>0</th>\n",
              "      <td>-0.900681</td>\n",
              "      <td>1.032057</td>\n",
              "      <td>-1.341272</td>\n",
              "      <td>-1.312977</td>\n",
              "    </tr>\n",
              "    <tr>\n",
              "      <th>1</th>\n",
              "      <td>-1.143017</td>\n",
              "      <td>-0.124958</td>\n",
              "      <td>-1.341272</td>\n",
              "      <td>-1.312977</td>\n",
              "    </tr>\n",
              "    <tr>\n",
              "      <th>2</th>\n",
              "      <td>-1.385353</td>\n",
              "      <td>0.337848</td>\n",
              "      <td>-1.398138</td>\n",
              "      <td>-1.312977</td>\n",
              "    </tr>\n",
              "    <tr>\n",
              "      <th>3</th>\n",
              "      <td>-1.506521</td>\n",
              "      <td>0.106445</td>\n",
              "      <td>-1.284407</td>\n",
              "      <td>-1.312977</td>\n",
              "    </tr>\n",
              "    <tr>\n",
              "      <th>4</th>\n",
              "      <td>-1.021849</td>\n",
              "      <td>1.263460</td>\n",
              "      <td>-1.341272</td>\n",
              "      <td>-1.312977</td>\n",
              "    </tr>\n",
              "  </tbody>\n",
              "</table>\n",
              "</div>\n",
              "      <button class=\"colab-df-convert\" onclick=\"convertToInteractive('df-25ef4064-88bb-4b73-a593-fc82a94ce412')\"\n",
              "              title=\"Convert this dataframe to an interactive table.\"\n",
              "              style=\"display:none;\">\n",
              "        \n",
              "  <svg xmlns=\"http://www.w3.org/2000/svg\" height=\"24px\"viewBox=\"0 0 24 24\"\n",
              "       width=\"24px\">\n",
              "    <path d=\"M0 0h24v24H0V0z\" fill=\"none\"/>\n",
              "    <path d=\"M18.56 5.44l.94 2.06.94-2.06 2.06-.94-2.06-.94-.94-2.06-.94 2.06-2.06.94zm-11 1L8.5 8.5l.94-2.06 2.06-.94-2.06-.94L8.5 2.5l-.94 2.06-2.06.94zm10 10l.94 2.06.94-2.06 2.06-.94-2.06-.94-.94-2.06-.94 2.06-2.06.94z\"/><path d=\"M17.41 7.96l-1.37-1.37c-.4-.4-.92-.59-1.43-.59-.52 0-1.04.2-1.43.59L10.3 9.45l-7.72 7.72c-.78.78-.78 2.05 0 2.83L4 21.41c.39.39.9.59 1.41.59.51 0 1.02-.2 1.41-.59l7.78-7.78 2.81-2.81c.8-.78.8-2.07 0-2.86zM5.41 20L4 18.59l7.72-7.72 1.47 1.35L5.41 20z\"/>\n",
              "  </svg>\n",
              "      </button>\n",
              "      \n",
              "  <style>\n",
              "    .colab-df-container {\n",
              "      display:flex;\n",
              "      flex-wrap:wrap;\n",
              "      gap: 12px;\n",
              "    }\n",
              "\n",
              "    .colab-df-convert {\n",
              "      background-color: #E8F0FE;\n",
              "      border: none;\n",
              "      border-radius: 50%;\n",
              "      cursor: pointer;\n",
              "      display: none;\n",
              "      fill: #1967D2;\n",
              "      height: 32px;\n",
              "      padding: 0 0 0 0;\n",
              "      width: 32px;\n",
              "    }\n",
              "\n",
              "    .colab-df-convert:hover {\n",
              "      background-color: #E2EBFA;\n",
              "      box-shadow: 0px 1px 2px rgba(60, 64, 67, 0.3), 0px 1px 3px 1px rgba(60, 64, 67, 0.15);\n",
              "      fill: #174EA6;\n",
              "    }\n",
              "\n",
              "    [theme=dark] .colab-df-convert {\n",
              "      background-color: #3B4455;\n",
              "      fill: #D2E3FC;\n",
              "    }\n",
              "\n",
              "    [theme=dark] .colab-df-convert:hover {\n",
              "      background-color: #434B5C;\n",
              "      box-shadow: 0px 1px 3px 1px rgba(0, 0, 0, 0.15);\n",
              "      filter: drop-shadow(0px 1px 2px rgba(0, 0, 0, 0.3));\n",
              "      fill: #FFFFFF;\n",
              "    }\n",
              "  </style>\n",
              "\n",
              "      <script>\n",
              "        const buttonEl =\n",
              "          document.querySelector('#df-25ef4064-88bb-4b73-a593-fc82a94ce412 button.colab-df-convert');\n",
              "        buttonEl.style.display =\n",
              "          google.colab.kernel.accessAllowed ? 'block' : 'none';\n",
              "\n",
              "        async function convertToInteractive(key) {\n",
              "          const element = document.querySelector('#df-25ef4064-88bb-4b73-a593-fc82a94ce412');\n",
              "          const dataTable =\n",
              "            await google.colab.kernel.invokeFunction('convertToInteractive',\n",
              "                                                     [key], {});\n",
              "          if (!dataTable) return;\n",
              "\n",
              "          const docLinkHtml = 'Like what you see? Visit the ' +\n",
              "            '<a target=\"_blank\" href=https://colab.research.google.com/notebooks/data_table.ipynb>data table notebook</a>'\n",
              "            + ' to learn more about interactive tables.';\n",
              "          element.innerHTML = '';\n",
              "          dataTable['output_type'] = 'display_data';\n",
              "          await google.colab.output.renderOutput(dataTable, element);\n",
              "          const docLink = document.createElement('div');\n",
              "          docLink.innerHTML = docLinkHtml;\n",
              "          element.appendChild(docLink);\n",
              "        }\n",
              "      </script>\n",
              "    </div>\n",
              "  </div>\n",
              "  "
            ]
          },
          "metadata": {},
          "execution_count": 31
        }
      ]
    },
    {
      "cell_type": "markdown",
      "source": [
        "### **PCA 실행**"
      ],
      "metadata": {
        "id": "D6A3mz0Mc-Es"
      }
    },
    {
      "cell_type": "code",
      "source": [
        "from sklearn.decomposition import PCA\n",
        "# 주성분 2개로 설정\n",
        "pca = PCA(n_components=2) \n",
        "printcipalComponents = pca.fit_transform(x)\n",
        "# printcipalComponents 데이터 프레임 구성 (컬럼명 'principal component1', 'principal component2'로 설정)\n",
        "principalDf = pd.DataFrame(data = printcipalComponents, columns = ['principal component1', 'principal component2'])"
      ],
      "metadata": {
        "id": "e12BZXTlZkjU"
      },
      "execution_count": 32,
      "outputs": []
    },
    {
      "cell_type": "code",
      "source": [
        "# head()로 dataframe 확인\n",
        "principalDf.head()"
      ],
      "metadata": {
        "colab": {
          "base_uri": "https://localhost:8080/",
          "height": 206
        },
        "id": "nRof1E3DZxWC",
        "outputId": "9fda795d-f64e-496d-aee7-5bf086b1f54e"
      },
      "execution_count": 34,
      "outputs": [
        {
          "output_type": "execute_result",
          "data": {
            "text/plain": [
              "   principal component1  principal component2\n",
              "0             -2.264542              0.505704\n",
              "1             -2.086426             -0.655405\n",
              "2             -2.367950             -0.318477\n",
              "3             -2.304197             -0.575368\n",
              "4             -2.388777              0.674767"
            ],
            "text/html": [
              "\n",
              "  <div id=\"df-507ba34f-88d8-4a32-9e1d-dbafebc34b30\">\n",
              "    <div class=\"colab-df-container\">\n",
              "      <div>\n",
              "<style scoped>\n",
              "    .dataframe tbody tr th:only-of-type {\n",
              "        vertical-align: middle;\n",
              "    }\n",
              "\n",
              "    .dataframe tbody tr th {\n",
              "        vertical-align: top;\n",
              "    }\n",
              "\n",
              "    .dataframe thead th {\n",
              "        text-align: right;\n",
              "    }\n",
              "</style>\n",
              "<table border=\"1\" class=\"dataframe\">\n",
              "  <thead>\n",
              "    <tr style=\"text-align: right;\">\n",
              "      <th></th>\n",
              "      <th>principal component1</th>\n",
              "      <th>principal component2</th>\n",
              "    </tr>\n",
              "  </thead>\n",
              "  <tbody>\n",
              "    <tr>\n",
              "      <th>0</th>\n",
              "      <td>-2.264542</td>\n",
              "      <td>0.505704</td>\n",
              "    </tr>\n",
              "    <tr>\n",
              "      <th>1</th>\n",
              "      <td>-2.086426</td>\n",
              "      <td>-0.655405</td>\n",
              "    </tr>\n",
              "    <tr>\n",
              "      <th>2</th>\n",
              "      <td>-2.367950</td>\n",
              "      <td>-0.318477</td>\n",
              "    </tr>\n",
              "    <tr>\n",
              "      <th>3</th>\n",
              "      <td>-2.304197</td>\n",
              "      <td>-0.575368</td>\n",
              "    </tr>\n",
              "    <tr>\n",
              "      <th>4</th>\n",
              "      <td>-2.388777</td>\n",
              "      <td>0.674767</td>\n",
              "    </tr>\n",
              "  </tbody>\n",
              "</table>\n",
              "</div>\n",
              "      <button class=\"colab-df-convert\" onclick=\"convertToInteractive('df-507ba34f-88d8-4a32-9e1d-dbafebc34b30')\"\n",
              "              title=\"Convert this dataframe to an interactive table.\"\n",
              "              style=\"display:none;\">\n",
              "        \n",
              "  <svg xmlns=\"http://www.w3.org/2000/svg\" height=\"24px\"viewBox=\"0 0 24 24\"\n",
              "       width=\"24px\">\n",
              "    <path d=\"M0 0h24v24H0V0z\" fill=\"none\"/>\n",
              "    <path d=\"M18.56 5.44l.94 2.06.94-2.06 2.06-.94-2.06-.94-.94-2.06-.94 2.06-2.06.94zm-11 1L8.5 8.5l.94-2.06 2.06-.94-2.06-.94L8.5 2.5l-.94 2.06-2.06.94zm10 10l.94 2.06.94-2.06 2.06-.94-2.06-.94-.94-2.06-.94 2.06-2.06.94z\"/><path d=\"M17.41 7.96l-1.37-1.37c-.4-.4-.92-.59-1.43-.59-.52 0-1.04.2-1.43.59L10.3 9.45l-7.72 7.72c-.78.78-.78 2.05 0 2.83L4 21.41c.39.39.9.59 1.41.59.51 0 1.02-.2 1.41-.59l7.78-7.78 2.81-2.81c.8-.78.8-2.07 0-2.86zM5.41 20L4 18.59l7.72-7.72 1.47 1.35L5.41 20z\"/>\n",
              "  </svg>\n",
              "      </button>\n",
              "      \n",
              "  <style>\n",
              "    .colab-df-container {\n",
              "      display:flex;\n",
              "      flex-wrap:wrap;\n",
              "      gap: 12px;\n",
              "    }\n",
              "\n",
              "    .colab-df-convert {\n",
              "      background-color: #E8F0FE;\n",
              "      border: none;\n",
              "      border-radius: 50%;\n",
              "      cursor: pointer;\n",
              "      display: none;\n",
              "      fill: #1967D2;\n",
              "      height: 32px;\n",
              "      padding: 0 0 0 0;\n",
              "      width: 32px;\n",
              "    }\n",
              "\n",
              "    .colab-df-convert:hover {\n",
              "      background-color: #E2EBFA;\n",
              "      box-shadow: 0px 1px 2px rgba(60, 64, 67, 0.3), 0px 1px 3px 1px rgba(60, 64, 67, 0.15);\n",
              "      fill: #174EA6;\n",
              "    }\n",
              "\n",
              "    [theme=dark] .colab-df-convert {\n",
              "      background-color: #3B4455;\n",
              "      fill: #D2E3FC;\n",
              "    }\n",
              "\n",
              "    [theme=dark] .colab-df-convert:hover {\n",
              "      background-color: #434B5C;\n",
              "      box-shadow: 0px 1px 3px 1px rgba(0, 0, 0, 0.15);\n",
              "      filter: drop-shadow(0px 1px 2px rgba(0, 0, 0, 0.3));\n",
              "      fill: #FFFFFF;\n",
              "    }\n",
              "  </style>\n",
              "\n",
              "      <script>\n",
              "        const buttonEl =\n",
              "          document.querySelector('#df-507ba34f-88d8-4a32-9e1d-dbafebc34b30 button.colab-df-convert');\n",
              "        buttonEl.style.display =\n",
              "          google.colab.kernel.accessAllowed ? 'block' : 'none';\n",
              "\n",
              "        async function convertToInteractive(key) {\n",
              "          const element = document.querySelector('#df-507ba34f-88d8-4a32-9e1d-dbafebc34b30');\n",
              "          const dataTable =\n",
              "            await google.colab.kernel.invokeFunction('convertToInteractive',\n",
              "                                                     [key], {});\n",
              "          if (!dataTable) return;\n",
              "\n",
              "          const docLinkHtml = 'Like what you see? Visit the ' +\n",
              "            '<a target=\"_blank\" href=https://colab.research.google.com/notebooks/data_table.ipynb>data table notebook</a>'\n",
              "            + ' to learn more about interactive tables.';\n",
              "          element.innerHTML = '';\n",
              "          dataTable['output_type'] = 'display_data';\n",
              "          await google.colab.output.renderOutput(dataTable, element);\n",
              "          const docLink = document.createElement('div');\n",
              "          docLink.innerHTML = docLinkHtml;\n",
              "          element.appendChild(docLink);\n",
              "        }\n",
              "      </script>\n",
              "    </div>\n",
              "  </div>\n",
              "  "
            ]
          },
          "metadata": {},
          "execution_count": 34
        }
      ]
    },
    {
      "cell_type": "code",
      "source": [
        "# explained_variance_ratio_로 pc1와 pc2의 전체 데이터의 분산 설명 가능성\n",
        "pca.explained_variance_ratio_"
      ],
      "metadata": {
        "colab": {
          "base_uri": "https://localhost:8080/"
        },
        "id": "bNqx39yCZxj1",
        "outputId": "0479defc-a91a-438c-e746-d67d8926cb0d"
      },
      "execution_count": 37,
      "outputs": [
        {
          "output_type": "execute_result",
          "data": {
            "text/plain": [
              "array([0.72770452, 0.23030523])"
            ]
          },
          "metadata": {},
          "execution_count": 37
        }
      ]
    },
    {
      "cell_type": "code",
      "source": [
        "# sum()으로 pc1와 pc2의 전체 데이터의 분산 설명 가능성 총합 확인\n",
        "sum(pca.explained_variance_ratio_)"
      ],
      "metadata": {
        "colab": {
          "base_uri": "https://localhost:8080/"
        },
        "id": "H7N-un3GZ-Q1",
        "outputId": "7455dfc5-6975-40cd-b36e-e5297f8a1b5a"
      },
      "execution_count": 38,
      "outputs": [
        {
          "output_type": "execute_result",
          "data": {
            "text/plain": [
              "0.9580097536148197"
            ]
          },
          "metadata": {},
          "execution_count": 38
        }
      ]
    },
    {
      "cell_type": "markdown",
      "source": [
        "따라서 두 개의 주성분이 전체 분산의 약 96%를 설명합니다. 따라서 주성분 개수를 2개로 결정하는 것은 적절하다고 볼 수 있습니다. "
      ],
      "metadata": {
        "id": "gDxz2P3OfxyC"
      }
    },
    {
      "cell_type": "markdown",
      "source": [
        "만약 주성분을 3개로 설정하면 어떻게 될까요?"
      ],
      "metadata": {
        "id": "IwH9IwaCgAc-"
      }
    },
    {
      "cell_type": "code",
      "source": [
        "# 주성분 3개로 설정\n",
        "pca = PCA(n_components = 3)\n",
        "printcipalComponents = pca.fit_transform(x)\n",
        "# printcipalComponents 데이터 프레임 구성 (컬럼명 'principal component1', 'principal component2', 'principal component3'로 설정)\n",
        "principalDf = pd.DataFrame(data = printcipalComponents, columns = ['principal component1', 'principal component2', 'principal component3'])"
      ],
      "metadata": {
        "id": "ybyB-F_KaDh9"
      },
      "execution_count": 39,
      "outputs": []
    },
    {
      "cell_type": "code",
      "source": [
        "# 각 주성분의 전체 데이터의 분산 설명 가능성\n",
        "pca.explained_variance_ratio_"
      ],
      "metadata": {
        "colab": {
          "base_uri": "https://localhost:8080/"
        },
        "id": "p-fW1aU5gNW8",
        "outputId": "1ba4532d-9184-49a1-9614-4b69240a04f6"
      },
      "execution_count": 40,
      "outputs": [
        {
          "output_type": "execute_result",
          "data": {
            "text/plain": [
              "array([0.72770452, 0.23030523, 0.03683832])"
            ]
          },
          "metadata": {},
          "execution_count": 40
        }
      ]
    },
    {
      "cell_type": "markdown",
      "source": [
        "3번째 주성분의 분산 설명력은 0.03밖에 되지 않습니다. 따라서 더 이상 주성분을 추가하지 않고 주성분 분석을 진행하는 것이 적절하다고 볼 수 있습니다. "
      ],
      "metadata": {
        "id": "MjagbaQDgURJ"
      }
    },
    {
      "cell_type": "markdown",
      "source": [
        "### **iris species 시각화**"
      ],
      "metadata": {
        "id": "hNx_N6KUgw60"
      }
    },
    {
      "cell_type": "code",
      "source": [
        "import matplotlib.pyplot as plt\n",
        "\n",
        "fig = plt.figure(figsize = (8, 8))\n",
        "ax = fig.add_subplot(1, 1, 1)\n",
        "ax.set_xlabel('Principal Component 1', fontsize = 15)\n",
        "ax.set_ylabel('Principal Component 2', fontsize = 15)\n",
        "ax.set_title('2 component PCA', fontsize=20)\n",
        "\n",
        "targets = ['Iris-setosa', 'Iris-versicolor', 'Iris-virginica']\n",
        "colors = ['r', 'g', 'b']\n",
        "for target, color in zip(targets,colors):\n",
        "    finalDf = pd.concat([principalDf, df[['target']]], axis = 1)\n",
        "    indicesToKeep = finalDf['target'] == target\n",
        "    ax.scatter(finalDf.loc[indicesToKeep, 'principal component1']\n",
        "               , finalDf.loc[indicesToKeep, 'principal component2']\n",
        "               , c = color\n",
        "               , s = 50)\n",
        "ax.legend(targets)\n",
        "ax.grid()"
      ],
      "metadata": {
        "colab": {
          "base_uri": "https://localhost:8080/",
          "height": 523
        },
        "id": "wYwzJ7IYaGHb",
        "outputId": "96f7581f-14c2-4580-a8c8-64006541fa6c"
      },
      "execution_count": 41,
      "outputs": [
        {
          "output_type": "display_data",
          "data": {
            "text/plain": [
              "<Figure size 576x576 with 1 Axes>"
            ],
            "image/png": "[encoded data removed]"
          },
          "metadata": {
            "needs_background": "light"
          }
        }
      ]
    },
    {
      "cell_type": "markdown",
      "source": [
        "그래프를 그려본 결과, 두 개의 주성분으로 iris 전체 데이터를 잘 표현할 수 있음을 알 수 있습니다."
      ],
      "metadata": {
        "id": "etk72atKXWLX"
      }
    },
    {
      "cell_type": "markdown",
      "source": [
        "## 2. mnist 데이터 실습"
      ],
      "metadata": {
        "id": "dkHI5Fu5GQ0o"
      }
    },
    {
      "cell_type": "markdown",
      "source": [
        "**제목과 주석을 보고 빈 칸을 채워주세요!**"
      ],
      "metadata": {
        "id": "_4hMc5v3PjN5"
      }
    },
    {
      "cell_type": "code",
      "source": [
        "import numpy as np\n",
        "import pandas as pd\n",
        "import matplotlib.pyplot as plt\n",
        "import seaborn as sns\n",
        "from sklearn.preprocessing import StandardScaler\n",
        "from sklearn.decomposition import PCA, KernelPCA, IncrementalPCA"
      ],
      "metadata": {
        "id": "k1M4JZM8Gtrs"
      },
      "execution_count": 3,
      "outputs": []
    },
    {
      "cell_type": "markdown",
      "source": [
        "### 데이터 불러오기 및 전처리"
      ],
      "metadata": {
        "id": "qkbV6WXUG0kh"
      }
    },
    {
      "cell_type": "markdown",
      "source": [
        "mnist 손글씨 데이터(mnist)"
      ],
      "metadata": {
        "id": "oAfnkZJDG3ts"
      }
    },
    {
      "cell_type": "code",
      "source": [
        "# colab sample_data\n",
        "mnist = pd.read_csv('/content/sample_data/mnist_train_small.csv').iloc[:,1:]\n",
        "m_y = pd.read_csv('/content/sample_data/mnist_train_small.csv').iloc[:,0]\n",
        "print(mnist.shape)\n",
        "# 784차원 데이터셋"
      ],
      "metadata": {
        "colab": {
          "base_uri": "https://localhost:8080/"
        },
        "id": "5kkBJR3sG8av",
        "outputId": "89e0550e-817c-42f7-9bfb-479803989660"
      },
      "execution_count": 4,
      "outputs": [
        {
          "output_type": "stream",
          "name": "stdout",
          "text": [
            "(19999, 784)\n"
          ]
        }
      ]
    },
    {
      "cell_type": "code",
      "source": [
        "mnist.head() # mnist는 특성(픽셀)의 스케일이 동일하므로 표준화 불필요"
      ],
      "metadata": {
        "colab": {
          "base_uri": "https://localhost:8080/",
          "height": 235
        },
        "id": "_j5ioKJRHApa",
        "outputId": "d97fc871-8b7c-4b0e-ef85-b403fad2ce3b"
      },
      "execution_count": 5,
      "outputs": [
        {
          "output_type": "execute_result",
          "data": {
            "text/plain": [
              "   0  0.1  0.2  0.3  0.4  0.5  0.6  0.7  0.8  0.9  ...  0.581  0.582  0.583  \\\n",
              "0  0    0    0    0    0    0    0    0    0    0  ...      0      0      0   \n",
              "1  0    0    0    0    0    0    0    0    0    0  ...      0      0      0   \n",
              "2  0    0    0    0    0    0    0    0    0    0  ...      0      0      0   \n",
              "3  0    0    0    0    0    0    0    0    0    0  ...      0      0      0   \n",
              "4  0    0    0    0    0    0    0    0    0    0  ...      0      0      0   \n",
              "\n",
              "   0.584  0.585  0.586  0.587  0.588  0.589  0.590  \n",
              "0      0      0      0      0      0      0      0  \n",
              "1      0      0      0      0      0      0      0  \n",
              "2      0      0      0      0      0      0      0  \n",
              "3      0      0      0      0      0      0      0  \n",
              "4      0      0      0      0      0      0      0  \n",
              "\n",
              "[5 rows x 784 columns]"
            ],
            "text/html": [
              "\n",
              "  <div id=\"df-f1796a5a-475d-4024-af5a-92359b3e40ed\">\n",
              "    <div class=\"colab-df-container\">\n",
              "      <div>\n",
              "<style scoped>\n",
              "    .dataframe tbody tr th:only-of-type {\n",
              "        vertical-align: middle;\n",
              "    }\n",
              "\n",
              "    .dataframe tbody tr th {\n",
              "        vertical-align: top;\n",
              "    }\n",
              "\n",
              "    .dataframe thead th {\n",
              "        text-align: right;\n",
              "    }\n",
              "</style>\n",
              "<table border=\"1\" class=\"dataframe\">\n",
              "  <thead>\n",
              "    <tr style=\"text-align: right;\">\n",
              "      <th></th>\n",
              "      <th>0</th>\n",
              "      <th>0.1</th>\n",
              "      <th>0.2</th>\n",
              "      <th>0.3</th>\n",
              "      <th>0.4</th>\n",
              "      <th>0.5</th>\n",
              "      <th>0.6</th>\n",
              "      <th>0.7</th>\n",
              "      <th>0.8</th>\n",
              "      <th>0.9</th>\n",
              "      <th>...</th>\n",
              "      <th>0.581</th>\n",
              "      <th>0.582</th>\n",
              "      <th>0.583</th>\n",
              "      <th>0.584</th>\n",
              "      <th>0.585</th>\n",
              "      <th>0.586</th>\n",
              "      <th>0.587</th>\n",
              "      <th>0.588</th>\n",
              "      <th>0.589</th>\n",
              "      <th>0.590</th>\n",
              "    </tr>\n",
              "  </thead>\n",
              "  <tbody>\n",
              "    <tr>\n",
              "      <th>0</th>\n",
              "      <td>0</td>\n",
              "      <td>0</td>\n",
              "      <td>0</td>\n",
              "      <td>0</td>\n",
              "      <td>0</td>\n",
              "      <td>0</td>\n",
              "      <td>0</td>\n",
              "      <td>0</td>\n",
              "      <td>0</td>\n",
              "      <td>0</td>\n",
              "      <td>...</td>\n",
              "      <td>0</td>\n",
              "      <td>0</td>\n",
              "      <td>0</td>\n",
              "      <td>0</td>\n",
              "      <td>0</td>\n",
              "      <td>0</td>\n",
              "      <td>0</td>\n",
              "      <td>0</td>\n",
              "      <td>0</td>\n",
              "      <td>0</td>\n",
              "    </tr>\n",
              "    <tr>\n",
              "      <th>1</th>\n",
              "      <td>0</td>\n",
              "      <td>0</td>\n",
              "      <td>0</td>\n",
              "      <td>0</td>\n",
              "      <td>0</td>\n",
              "      <td>0</td>\n",
              "      <td>0</td>\n",
              "      <td>0</td>\n",
              "      <td>0</td>\n",
              "      <td>0</td>\n",
              "      <td>...</td>\n",
              "      <td>0</td>\n",
              "      <td>0</td>\n",
              "      <td>0</td>\n",
              "      <td>0</td>\n",
              "      <td>0</td>\n",
              "      <td>0</td>\n",
              "      <td>0</td>\n",
              "      <td>0</td>\n",
              "      <td>0</td>\n",
              "      <td>0</td>\n",
              "    </tr>\n",
              "    <tr>\n",
              "      <th>2</th>\n",
              "      <td>0</td>\n",
              "      <td>0</td>\n",
              "      <td>0</td>\n",
              "      <td>0</td>\n",
              "      <td>0</td>\n",
              "      <td>0</td>\n",
              "      <td>0</td>\n",
              "      <td>0</td>\n",
              "      <td>0</td>\n",
              "      <td>0</td>\n",
              "      <td>...</td>\n",
              "      <td>0</td>\n",
              "      <td>0</td>\n",
              "      <td>0</td>\n",
              "      <td>0</td>\n",
              "      <td>0</td>\n",
              "      <td>0</td>\n",
              "      <td>0</td>\n",
              "      <td>0</td>\n",
              "      <td>0</td>\n",
              "      <td>0</td>\n",
              "    </tr>\n",
              "    <tr>\n",
              "      <th>3</th>\n",
              "      <td>0</td>\n",
              "      <td>0</td>\n",
              "      <td>0</td>\n",
              "      <td>0</td>\n",
              "      <td>0</td>\n",
              "      <td>0</td>\n",
              "      <td>0</td>\n",
              "      <td>0</td>\n",
              "      <td>0</td>\n",
              "      <td>0</td>\n",
              "      <td>...</td>\n",
              "      <td>0</td>\n",
              "      <td>0</td>\n",
              "      <td>0</td>\n",
              "      <td>0</td>\n",
              "      <td>0</td>\n",
              "      <td>0</td>\n",
              "      <td>0</td>\n",
              "      <td>0</td>\n",
              "      <td>0</td>\n",
              "      <td>0</td>\n",
              "    </tr>\n",
              "    <tr>\n",
              "      <th>4</th>\n",
              "      <td>0</td>\n",
              "      <td>0</td>\n",
              "      <td>0</td>\n",
              "      <td>0</td>\n",
              "      <td>0</td>\n",
              "      <td>0</td>\n",
              "      <td>0</td>\n",
              "      <td>0</td>\n",
              "      <td>0</td>\n",
              "      <td>0</td>\n",
              "      <td>...</td>\n",
              "      <td>0</td>\n",
              "      <td>0</td>\n",
              "      <td>0</td>\n",
              "      <td>0</td>\n",
              "      <td>0</td>\n",
              "      <td>0</td>\n",
              "      <td>0</td>\n",
              "      <td>0</td>\n",
              "      <td>0</td>\n",
              "      <td>0</td>\n",
              "    </tr>\n",
              "  </tbody>\n",
              "</table>\n",
              "<p>5 rows × 784 columns</p>\n",
              "</div>\n",
              "      <button class=\"colab-df-convert\" onclick=\"convertToInteractive('df-f1796a5a-475d-4024-af5a-92359b3e40ed')\"\n",
              "              title=\"Convert this dataframe to an interactive table.\"\n",
              "              style=\"display:none;\">\n",
              "        \n",
              "  <svg xmlns=\"http://www.w3.org/2000/svg\" height=\"24px\"viewBox=\"0 0 24 24\"\n",
              "       width=\"24px\">\n",
              "    <path d=\"M0 0h24v24H0V0z\" fill=\"none\"/>\n",
              "    <path d=\"M18.56 5.44l.94 2.06.94-2.06 2.06-.94-2.06-.94-.94-2.06-.94 2.06-2.06.94zm-11 1L8.5 8.5l.94-2.06 2.06-.94-2.06-.94L8.5 2.5l-.94 2.06-2.06.94zm10 10l.94 2.06.94-2.06 2.06-.94-2.06-.94-.94-2.06-.94 2.06-2.06.94z\"/><path d=\"M17.41 7.96l-1.37-1.37c-.4-.4-.92-.59-1.43-.59-.52 0-1.04.2-1.43.59L10.3 9.45l-7.72 7.72c-.78.78-.78 2.05 0 2.83L4 21.41c.39.39.9.59 1.41.59.51 0 1.02-.2 1.41-.59l7.78-7.78 2.81-2.81c.8-.78.8-2.07 0-2.86zM5.41 20L4 18.59l7.72-7.72 1.47 1.35L5.41 20z\"/>\n",
              "  </svg>\n",
              "      </button>\n",
              "      \n",
              "  <style>\n",
              "    .colab-df-container {\n",
              "      display:flex;\n",
              "      flex-wrap:wrap;\n",
              "      gap: 12px;\n",
              "    }\n",
              "\n",
              "    .colab-df-convert {\n",
              "      background-color: #E8F0FE;\n",
              "      border: none;\n",
              "      border-radius: 50%;\n",
              "      cursor: pointer;\n",
              "      display: none;\n",
              "      fill: #1967D2;\n",
              "      height: 32px;\n",
              "      padding: 0 0 0 0;\n",
              "      width: 32px;\n",
              "    }\n",
              "\n",
              "    .colab-df-convert:hover {\n",
              "      background-color: #E2EBFA;\n",
              "      box-shadow: 0px 1px 2px rgba(60, 64, 67, 0.3), 0px 1px 3px 1px rgba(60, 64, 67, 0.15);\n",
              "      fill: #174EA6;\n",
              "    }\n",
              "\n",
              "    [theme=dark] .colab-df-convert {\n",
              "      background-color: #3B4455;\n",
              "      fill: #D2E3FC;\n",
              "    }\n",
              "\n",
              "    [theme=dark] .colab-df-convert:hover {\n",
              "      background-color: #434B5C;\n",
              "      box-shadow: 0px 1px 3px 1px rgba(0, 0, 0, 0.15);\n",
              "      filter: drop-shadow(0px 1px 2px rgba(0, 0, 0, 0.3));\n",
              "      fill: #FFFFFF;\n",
              "    }\n",
              "  </style>\n",
              "\n",
              "      <script>\n",
              "        const buttonEl =\n",
              "          document.querySelector('#df-f1796a5a-475d-4024-af5a-92359b3e40ed button.colab-df-convert');\n",
              "        buttonEl.style.display =\n",
              "          google.colab.kernel.accessAllowed ? 'block' : 'none';\n",
              "\n",
              "        async function convertToInteractive(key) {\n",
              "          const element = document.querySelector('#df-f1796a5a-475d-4024-af5a-92359b3e40ed');\n",
              "          const dataTable =\n",
              "            await google.colab.kernel.invokeFunction('convertToInteractive',\n",
              "                                                     [key], {});\n",
              "          if (!dataTable) return;\n",
              "\n",
              "          const docLinkHtml = 'Like what you see? Visit the ' +\n",
              "            '<a target=\"_blank\" href=https://colab.research.google.com/notebooks/data_table.ipynb>data table notebook</a>'\n",
              "            + ' to learn more about interactive tables.';\n",
              "          element.innerHTML = '';\n",
              "          dataTable['output_type'] = 'display_data';\n",
              "          await google.colab.output.renderOutput(dataTable, element);\n",
              "          const docLink = document.createElement('div');\n",
              "          docLink.innerHTML = docLinkHtml;\n",
              "          element.appendChild(docLink);\n",
              "        }\n",
              "      </script>\n",
              "    </div>\n",
              "  </div>\n",
              "  "
            ]
          },
          "metadata": {},
          "execution_count": 5
        }
      ]
    },
    {
      "cell_type": "markdown",
      "source": [
        "#### mnist 손글씨 이미지 확인하는 방법\n",
        "\n",
        "\n"
      ],
      "metadata": {
        "id": "3lnRrdKaHJqK"
      }
    },
    {
      "cell_type": "code",
      "source": [
        "plt.imshow(mnist.values[0].reshape(-1,28), cmap='gray_r');"
      ],
      "metadata": {
        "colab": {
          "base_uri": "https://localhost:8080/",
          "height": 265
        },
        "id": "igQW-_z_HRKB",
        "outputId": "c030381e-8419-4989-8cbd-e5da5dc59572"
      },
      "execution_count": 45,
      "outputs": [
        {
          "output_type": "display_data",
          "data": {
            "text/plain": [
              "<Figure size 432x288 with 1 Axes>"
            ],
            "image/png": "[encoded data removed]"
          },
          "metadata": {
            "needs_background": "light"
          }
        }
      ]
    },
    {
      "cell_type": "markdown",
      "source": [
        "### mnist 데이터(784차원)"
      ],
      "metadata": {
        "id": "02IMwMJoOBXA"
      }
    },
    {
      "cell_type": "markdown",
      "source": [
        "#### 주성분 분석(분산이 가장 큰 16개의 주성분 사용)"
      ],
      "metadata": {
        "id": "y3aWQjw6H0xT"
      }
    },
    {
      "cell_type": "markdown",
      "source": [
        "PCA(n_components=None) 클래스\n",
        ">n_components : 주성분의 개수\n",
        "- 축소할 차원 수\n",
        "- 평균중심화된 데이터셋의 공분산 행렬로부터 사용할 고유벡터의 개수\n",
        "- 0 < f < 1 인 소수 f로 지정하면 설명된 분산이 f보다 커지는 최소 개수의 주성분만 선택"
      ],
      "metadata": {
        "id": "xxuMgcxGIVaM"
      }
    },
    {
      "cell_type": "markdown",
      "source": [
        "components_ 속성 : 주성분 반환\n",
        "- 행벡터가 공분산 행렬의 고유벡터로 구성된 행렬"
      ],
      "metadata": {
        "id": "d1CJ1C3HZLUk"
      }
    },
    {
      "cell_type": "code",
      "source": [
        "# 주성분 개수 16개, random_state=0으로 설정\n",
        "pca = PCA(n_components = 16)\n",
        "pca.fit(mnist)\n",
        "print(pca.components_.shape)\n",
        "# 하나의 행이 하나의 주성분"
      ],
      "metadata": {
        "colab": {
          "base_uri": "https://localhost:8080/"
        },
        "id": "8Fb66YCtNo9d",
        "outputId": "3dc120ed-ee65-433b-b0da-b272d2eb768e"
      },
      "execution_count": 6,
      "outputs": [
        {
          "output_type": "stream",
          "name": "stdout",
          "text": [
            "(16, 784)\n"
          ]
        }
      ]
    },
    {
      "cell_type": "markdown",
      "source": [
        "#### 손글씨 이미지 출력 함수 구현"
      ],
      "metadata": {
        "id": "etGN9cIXStdR"
      }
    },
    {
      "cell_type": "code",
      "source": [
        "# shape이 (n,784)인 넘파이 배열을 입력하면 n개의 손글씨 이미지를 출력\n",
        "# ratio는 이미지 배율\n",
        "def draw_digits(arr, ratio=1):\n",
        "  n = len(arr)\n",
        "  rows = int(np.ceil(n/10))\n",
        "  cols = n if rows<2 else 10\n",
        "  fig, axes = plt.subplots(rows,cols,figsize=(cols*ratio,rows*ratio),squeeze=False)\n",
        "  for i in range(rows):\n",
        "    for j in range(cols):\n",
        "      if i*10+j<n:\n",
        "        axes[i,j].imshow(arr[i*10+j].reshape(-1,28), cmap='gray_r')\n",
        "      axes[i,j].axis('off')\n",
        "  plt.show()"
      ],
      "metadata": {
        "id": "QcO3YqrfRMGj"
      },
      "execution_count": 7,
      "outputs": []
    },
    {
      "cell_type": "code",
      "source": [
        "# mnist 데이터셋에서 처음 100개 확인\n",
        "draw_digits(mnist[::100]) # 넘파이 배열로 입력"
      ],
      "metadata": {
        "colab": {
          "base_uri": "https://localhost:8080/",
          "height": 1000
        },
        "id": "qKkDFUxRXx0J",
        "outputId": "bac9454c-c587-40f0-de3d-89f35193c0ab"
      },
      "execution_count": 21,
      "outputs": [
        {
          "output_type": "error",
          "ename": "KeyError",
          "evalue": "ignored",
          "traceback": [
            "\u001b[0;31m---------------------------------------------------------------------------\u001b[0m",
            "\u001b[0;31mKeyError\u001b[0m                                  Traceback (most recent call last)",
            "\u001b[0;32m/usr/local/lib/python3.8/dist-packages/pandas/core/indexes/base.py\u001b[0m in \u001b[0;36mget_loc\u001b[0;34m(self, key, method, tolerance)\u001b[0m\n\u001b[1;32m   3360\u001b[0m             \u001b[0;32mtry\u001b[0m\u001b[0;34m:\u001b[0m\u001b[0;34m\u001b[0m\u001b[0;34m\u001b[0m\u001b[0m\n\u001b[0;32m-> 3361\u001b[0;31m                 \u001b[0;32mreturn\u001b[0m \u001b[0mself\u001b[0m\u001b[0;34m.\u001b[0m\u001b[0m_engine\u001b[0m\u001b[0;34m.\u001b[0m\u001b[0mget_loc\u001b[0m\u001b[0;34m(\u001b[0m\u001b[0mcasted_key\u001b[0m\u001b[0;34m)\u001b[0m\u001b[0;34m\u001b[0m\u001b[0;34m\u001b[0m\u001b[0m\n\u001b[0m\u001b[1;32m   3362\u001b[0m             \u001b[0;32mexcept\u001b[0m \u001b[0mKeyError\u001b[0m \u001b[0;32mas\u001b[0m \u001b[0merr\u001b[0m\u001b[0;34m:\u001b[0m\u001b[0;34m\u001b[0m\u001b[0;34m\u001b[0m\u001b[0m\n",
            "\u001b[0;32m/usr/local/lib/python3.8/dist-packages/pandas/_libs/index.pyx\u001b[0m in \u001b[0;36mpandas._libs.index.IndexEngine.get_loc\u001b[0;34m()\u001b[0m\n",
            "\u001b[0;32m/usr/local/lib/python3.8/dist-packages/pandas/_libs/index.pyx\u001b[0m in \u001b[0;36mpandas._libs.index.IndexEngine.get_loc\u001b[0;34m()\u001b[0m\n",
            "\u001b[0;32mpandas/_libs/hashtable_class_helper.pxi\u001b[0m in \u001b[0;36mpandas._libs.hashtable.PyObjectHashTable.get_item\u001b[0;34m()\u001b[0m\n",
            "\u001b[0;32mpandas/_libs/hashtable_class_helper.pxi\u001b[0m in \u001b[0;36mpandas._libs.hashtable.PyObjectHashTable.get_item\u001b[0;34m()\u001b[0m\n",
            "\u001b[0;31mKeyError\u001b[0m: 0",
            "\nThe above exception was the direct cause of the following exception:\n",
            "\u001b[0;31mKeyError\u001b[0m                                  Traceback (most recent call last)",
            "\u001b[0;32m<ipython-input-21-6ff70497f4ea>\u001b[0m in \u001b[0;36m<module>\u001b[0;34m\u001b[0m\n\u001b[1;32m      1\u001b[0m \u001b[0;31m# mnist 데이터셋에서 처음 100개 확인\u001b[0m\u001b[0;34m\u001b[0m\u001b[0;34m\u001b[0m\u001b[0;34m\u001b[0m\u001b[0m\n\u001b[0;32m----> 2\u001b[0;31m \u001b[0mdraw_digits\u001b[0m\u001b[0;34m(\u001b[0m\u001b[0mmnist\u001b[0m\u001b[0;34m[\u001b[0m\u001b[0;34m:\u001b[0m\u001b[0;34m:\u001b[0m\u001b[0;36m100\u001b[0m\u001b[0;34m]\u001b[0m\u001b[0;34m)\u001b[0m \u001b[0;31m# 넘파이 배열로 입력\u001b[0m\u001b[0;34m\u001b[0m\u001b[0;34m\u001b[0m\u001b[0m\n\u001b[0m",
            "\u001b[0;32m<ipython-input-7-b8ef0aadf577>\u001b[0m in \u001b[0;36mdraw_digits\u001b[0;34m(arr, ratio)\u001b[0m\n\u001b[1;32m      9\u001b[0m     \u001b[0;32mfor\u001b[0m \u001b[0mj\u001b[0m \u001b[0;32min\u001b[0m \u001b[0mrange\u001b[0m\u001b[0;34m(\u001b[0m\u001b[0mcols\u001b[0m\u001b[0;34m)\u001b[0m\u001b[0;34m:\u001b[0m\u001b[0;34m\u001b[0m\u001b[0;34m\u001b[0m\u001b[0m\n\u001b[1;32m     10\u001b[0m       \u001b[0;32mif\u001b[0m \u001b[0mi\u001b[0m\u001b[0;34m*\u001b[0m\u001b[0;36m10\u001b[0m\u001b[0;34m+\u001b[0m\u001b[0mj\u001b[0m\u001b[0;34m<\u001b[0m\u001b[0mn\u001b[0m\u001b[0;34m:\u001b[0m\u001b[0;34m\u001b[0m\u001b[0;34m\u001b[0m\u001b[0m\n\u001b[0;32m---> 11\u001b[0;31m         \u001b[0maxes\u001b[0m\u001b[0;34m[\u001b[0m\u001b[0mi\u001b[0m\u001b[0;34m,\u001b[0m\u001b[0mj\u001b[0m\u001b[0;34m]\u001b[0m\u001b[0;34m.\u001b[0m\u001b[0mimshow\u001b[0m\u001b[0;34m(\u001b[0m\u001b[0marr\u001b[0m\u001b[0;34m[\u001b[0m\u001b[0mi\u001b[0m\u001b[0;34m*\u001b[0m\u001b[0;36m10\u001b[0m\u001b[0;34m+\u001b[0m\u001b[0mj\u001b[0m\u001b[0;34m]\u001b[0m\u001b[0;34m.\u001b[0m\u001b[0mreshape\u001b[0m\u001b[0;34m(\u001b[0m\u001b[0;34m-\u001b[0m\u001b[0;36m1\u001b[0m\u001b[0;34m,\u001b[0m\u001b[0;36m28\u001b[0m\u001b[0;34m)\u001b[0m\u001b[0;34m,\u001b[0m \u001b[0mcmap\u001b[0m\u001b[0;34m=\u001b[0m\u001b[0;34m'gray_r'\u001b[0m\u001b[0;34m)\u001b[0m\u001b[0;34m\u001b[0m\u001b[0;34m\u001b[0m\u001b[0m\n\u001b[0m\u001b[1;32m     12\u001b[0m       \u001b[0maxes\u001b[0m\u001b[0;34m[\u001b[0m\u001b[0mi\u001b[0m\u001b[0;34m,\u001b[0m\u001b[0mj\u001b[0m\u001b[0;34m]\u001b[0m\u001b[0;34m.\u001b[0m\u001b[0maxis\u001b[0m\u001b[0;34m(\u001b[0m\u001b[0;34m'off'\u001b[0m\u001b[0;34m)\u001b[0m\u001b[0;34m\u001b[0m\u001b[0;34m\u001b[0m\u001b[0m\n\u001b[1;32m     13\u001b[0m   \u001b[0mplt\u001b[0m\u001b[0;34m.\u001b[0m\u001b[0mshow\u001b[0m\u001b[0;34m(\u001b[0m\u001b[0;34m)\u001b[0m\u001b[0;34m\u001b[0m\u001b[0;34m\u001b[0m\u001b[0m\n",
            "\u001b[0;32m/usr/local/lib/python3.8/dist-packages/pandas/core/frame.py\u001b[0m in \u001b[0;36m__getitem__\u001b[0;34m(self, key)\u001b[0m\n\u001b[1;32m   3456\u001b[0m             \u001b[0;32mif\u001b[0m \u001b[0mself\u001b[0m\u001b[0;34m.\u001b[0m\u001b[0mcolumns\u001b[0m\u001b[0;34m.\u001b[0m\u001b[0mnlevels\u001b[0m \u001b[0;34m>\u001b[0m \u001b[0;36m1\u001b[0m\u001b[0;34m:\u001b[0m\u001b[0;34m\u001b[0m\u001b[0;34m\u001b[0m\u001b[0m\n\u001b[1;32m   3457\u001b[0m                 \u001b[0;32mreturn\u001b[0m \u001b[0mself\u001b[0m\u001b[0;34m.\u001b[0m\u001b[0m_getitem_multilevel\u001b[0m\u001b[0;34m(\u001b[0m\u001b[0mkey\u001b[0m\u001b[0;34m)\u001b[0m\u001b[0;34m\u001b[0m\u001b[0;34m\u001b[0m\u001b[0m\n\u001b[0;32m-> 3458\u001b[0;31m             \u001b[0mindexer\u001b[0m \u001b[0;34m=\u001b[0m \u001b[0mself\u001b[0m\u001b[0;34m.\u001b[0m\u001b[0mcolumns\u001b[0m\u001b[0;34m.\u001b[0m\u001b[0mget_loc\u001b[0m\u001b[0;34m(\u001b[0m\u001b[0mkey\u001b[0m\u001b[0;34m)\u001b[0m\u001b[0;34m\u001b[0m\u001b[0;34m\u001b[0m\u001b[0m\n\u001b[0m\u001b[1;32m   3459\u001b[0m             \u001b[0;32mif\u001b[0m \u001b[0mis_integer\u001b[0m\u001b[0;34m(\u001b[0m\u001b[0mindexer\u001b[0m\u001b[0;34m)\u001b[0m\u001b[0;34m:\u001b[0m\u001b[0;34m\u001b[0m\u001b[0;34m\u001b[0m\u001b[0m\n\u001b[1;32m   3460\u001b[0m                 \u001b[0mindexer\u001b[0m \u001b[0;34m=\u001b[0m \u001b[0;34m[\u001b[0m\u001b[0mindexer\u001b[0m\u001b[0;34m]\u001b[0m\u001b[0;34m\u001b[0m\u001b[0;34m\u001b[0m\u001b[0m\n",
            "\u001b[0;32m/usr/local/lib/python3.8/dist-packages/pandas/core/indexes/base.py\u001b[0m in \u001b[0;36mget_loc\u001b[0;34m(self, key, method, tolerance)\u001b[0m\n\u001b[1;32m   3361\u001b[0m                 \u001b[0;32mreturn\u001b[0m \u001b[0mself\u001b[0m\u001b[0;34m.\u001b[0m\u001b[0m_engine\u001b[0m\u001b[0;34m.\u001b[0m\u001b[0mget_loc\u001b[0m\u001b[0;34m(\u001b[0m\u001b[0mcasted_key\u001b[0m\u001b[0;34m)\u001b[0m\u001b[0;34m\u001b[0m\u001b[0;34m\u001b[0m\u001b[0m\n\u001b[1;32m   3362\u001b[0m             \u001b[0;32mexcept\u001b[0m \u001b[0mKeyError\u001b[0m \u001b[0;32mas\u001b[0m \u001b[0merr\u001b[0m\u001b[0;34m:\u001b[0m\u001b[0;34m\u001b[0m\u001b[0;34m\u001b[0m\u001b[0m\n\u001b[0;32m-> 3363\u001b[0;31m                 \u001b[0;32mraise\u001b[0m \u001b[0mKeyError\u001b[0m\u001b[0;34m(\u001b[0m\u001b[0mkey\u001b[0m\u001b[0;34m)\u001b[0m \u001b[0;32mfrom\u001b[0m \u001b[0merr\u001b[0m\u001b[0;34m\u001b[0m\u001b[0;34m\u001b[0m\u001b[0m\n\u001b[0m\u001b[1;32m   3364\u001b[0m \u001b[0;34m\u001b[0m\u001b[0m\n\u001b[1;32m   3365\u001b[0m         \u001b[0;32mif\u001b[0m \u001b[0mis_scalar\u001b[0m\u001b[0;34m(\u001b[0m\u001b[0mkey\u001b[0m\u001b[0;34m)\u001b[0m \u001b[0;32mand\u001b[0m \u001b[0misna\u001b[0m\u001b[0;34m(\u001b[0m\u001b[0mkey\u001b[0m\u001b[0;34m)\u001b[0m \u001b[0;32mand\u001b[0m \u001b[0;32mnot\u001b[0m \u001b[0mself\u001b[0m\u001b[0;34m.\u001b[0m\u001b[0mhasnans\u001b[0m\u001b[0;34m:\u001b[0m\u001b[0;34m\u001b[0m\u001b[0;34m\u001b[0m\u001b[0m\n",
            "\u001b[0;31mKeyError\u001b[0m: 0"
          ]
        },
        {
          "output_type": "display_data",
          "data": {
            "text/plain": [
              "<Figure size 720x1440 with 200 Axes>"
            ],
            "image/png": "[encoded data removed]"
          },
          "metadata": {
            "needs_background": "light"
          }
        }
      ]
    },
    {
      "cell_type": "markdown",
      "source": [
        "#### 주성분만 그리기"
      ],
      "metadata": {
        "id": "rykstLgFXlzq"
      }
    },
    {
      "cell_type": "markdown",
      "source": [
        "각 주성분도 784차원의 벡터이므로 이미지로 출력 가능"
      ],
      "metadata": {
        "id": "Zk-qrtkSbiOT"
      }
    },
    {
      "cell_type": "code",
      "source": [
        "draw_digits(pca.components_, ratio=2)"
      ],
      "metadata": {
        "colab": {
          "base_uri": "https://localhost:8080/",
          "height": 246
        },
        "id": "G9BLxmYLUJNz",
        "outputId": "571fbf85-a89e-432d-ba6e-e4e597511d57"
      },
      "execution_count": 51,
      "outputs": [
        {
          "output_type": "display_data",
          "data": {
            "text/plain": [
              "<Figure size 1440x288 with 20 Axes>"
            ],
            "image/png": "[encoded data removed]"
          },
          "metadata": {
            "needs_background": "light"
          }
        }
      ]
    },
    {
      "cell_type": "markdown",
      "source": [
        "- 각 주성분을 데이터셋에 잠재된 어떤 16개의 특성으로 생각\n",
        "- 순서대로 분산이 큰 특성\n",
        "- 전체적으로 해석이 주관적이거나 어려움"
      ],
      "metadata": {
        "id": "SFkJZJTLa544"
      }
    },
    {
      "cell_type": "markdown",
      "source": [
        "#### 차원 축소(784차원 $→$ 16차원)\n",
        "16개의 주성분에 대한 내적으로 구성된 데이터셋"
      ],
      "metadata": {
        "id": "zHVFmuDTJuzK"
      }
    },
    {
      "cell_type": "markdown",
      "source": [
        "transform() 메서드 : 축소된 데이터셋으로 변환\n",
        "- 입력은 원래 데이터셋\n",
        "- fit_transform() 메서드 가능"
      ],
      "metadata": {
        "id": "T0XCEdkjgxtS"
      }
    },
    {
      "cell_type": "code",
      "source": [
        "mnist_reduced = pd.DataFrame(pca.transform(mnist))\n",
        "print(mnist_reduced.shape)\n",
        "mnist_reduced.head()"
      ],
      "metadata": {
        "colab": {
          "base_uri": "https://localhost:8080/",
          "height": 288
        },
        "id": "7RGidRHXdddV",
        "outputId": "532000a2-b1ed-4320-b1b8-dd1335e25c20"
      },
      "execution_count": 11,
      "outputs": [
        {
          "output_type": "stream",
          "name": "stdout",
          "text": [
            "(19999, 16)\n"
          ]
        },
        {
          "output_type": "execute_result",
          "data": {
            "text/plain": [
              "           0           1           2           3           4           5   \\\n",
              "0  446.468432 -254.669609 -804.159688 -323.752911  244.423014 -135.257142   \n",
              "1  509.220206  729.949606  194.942978 -413.931752  837.819577 -388.371349   \n",
              "2  346.927823  716.677300 -727.558782  193.175130  -78.916333 -321.950322   \n",
              "3  447.113254 -303.558793 -879.921124   -7.247399  363.477961  -50.555071   \n",
              "4  324.505202 -126.923977  598.320080  373.295113  -75.536378  505.193995   \n",
              "\n",
              "           6           7           8           9           10          11  \\\n",
              "0 -322.705213 -120.604124 -251.631334  205.592374    0.039606 -137.820419   \n",
              "1 -223.809089  101.525271   98.012974 -239.780330   40.154414  139.347199   \n",
              "2 -356.077081  214.947638  341.270583  -64.620703  156.821283    7.398287   \n",
              "3 -241.021102 -273.723624   22.418159  483.278772   88.213106 -148.511621   \n",
              "4  -24.461360  240.012437 -854.824140  125.939877  275.790318  -96.438480   \n",
              "\n",
              "           12          13          14          15  \n",
              "0   33.407573  318.910258    7.889225  -90.431751  \n",
              "1  123.778657    6.737714  408.778842  187.308837  \n",
              "2  187.625419  517.152580   26.612543 -446.828893  \n",
              "3 -124.902206  -37.805826 -100.220560 -122.883776  \n",
              "4  -65.191452  260.416717  -52.985147   37.416511  "
            ],
            "text/html": [
              "\n",
              "  <div id=\"df-1fab5211-cd3c-403c-bf13-b0f97fda07e2\">\n",
              "    <div class=\"colab-df-container\">\n",
              "      <div>\n",
              "<style scoped>\n",
              "    .dataframe tbody tr th:only-of-type {\n",
              "        vertical-align: middle;\n",
              "    }\n",
              "\n",
              "    .dataframe tbody tr th {\n",
              "        vertical-align: top;\n",
              "    }\n",
              "\n",
              "    .dataframe thead th {\n",
              "        text-align: right;\n",
              "    }\n",
              "</style>\n",
              "<table border=\"1\" class=\"dataframe\">\n",
              "  <thead>\n",
              "    <tr style=\"text-align: right;\">\n",
              "      <th></th>\n",
              "      <th>0</th>\n",
              "      <th>1</th>\n",
              "      <th>2</th>\n",
              "      <th>3</th>\n",
              "      <th>4</th>\n",
              "      <th>5</th>\n",
              "      <th>6</th>\n",
              "      <th>7</th>\n",
              "      <th>8</th>\n",
              "      <th>9</th>\n",
              "      <th>10</th>\n",
              "      <th>11</th>\n",
              "      <th>12</th>\n",
              "      <th>13</th>\n",
              "      <th>14</th>\n",
              "      <th>15</th>\n",
              "    </tr>\n",
              "  </thead>\n",
              "  <tbody>\n",
              "    <tr>\n",
              "      <th>0</th>\n",
              "      <td>446.468432</td>\n",
              "      <td>-254.669609</td>\n",
              "      <td>-804.159688</td>\n",
              "      <td>-323.752911</td>\n",
              "      <td>244.423014</td>\n",
              "      <td>-135.257142</td>\n",
              "      <td>-322.705213</td>\n",
              "      <td>-120.604124</td>\n",
              "      <td>-251.631334</td>\n",
              "      <td>205.592374</td>\n",
              "      <td>0.039606</td>\n",
              "      <td>-137.820419</td>\n",
              "      <td>33.407573</td>\n",
              "      <td>318.910258</td>\n",
              "      <td>7.889225</td>\n",
              "      <td>-90.431751</td>\n",
              "    </tr>\n",
              "    <tr>\n",
              "      <th>1</th>\n",
              "      <td>509.220206</td>\n",
              "      <td>729.949606</td>\n",
              "      <td>194.942978</td>\n",
              "      <td>-413.931752</td>\n",
              "      <td>837.819577</td>\n",
              "      <td>-388.371349</td>\n",
              "      <td>-223.809089</td>\n",
              "      <td>101.525271</td>\n",
              "      <td>98.012974</td>\n",
              "      <td>-239.780330</td>\n",
              "      <td>40.154414</td>\n",
              "      <td>139.347199</td>\n",
              "      <td>123.778657</td>\n",
              "      <td>6.737714</td>\n",
              "      <td>408.778842</td>\n",
              "      <td>187.308837</td>\n",
              "    </tr>\n",
              "    <tr>\n",
              "      <th>2</th>\n",
              "      <td>346.927823</td>\n",
              "      <td>716.677300</td>\n",
              "      <td>-727.558782</td>\n",
              "      <td>193.175130</td>\n",
              "      <td>-78.916333</td>\n",
              "      <td>-321.950322</td>\n",
              "      <td>-356.077081</td>\n",
              "      <td>214.947638</td>\n",
              "      <td>341.270583</td>\n",
              "      <td>-64.620703</td>\n",
              "      <td>156.821283</td>\n",
              "      <td>7.398287</td>\n",
              "      <td>187.625419</td>\n",
              "      <td>517.152580</td>\n",
              "      <td>26.612543</td>\n",
              "      <td>-446.828893</td>\n",
              "    </tr>\n",
              "    <tr>\n",
              "      <th>3</th>\n",
              "      <td>447.113254</td>\n",
              "      <td>-303.558793</td>\n",
              "      <td>-879.921124</td>\n",
              "      <td>-7.247399</td>\n",
              "      <td>363.477961</td>\n",
              "      <td>-50.555071</td>\n",
              "      <td>-241.021102</td>\n",
              "      <td>-273.723624</td>\n",
              "      <td>22.418159</td>\n",
              "      <td>483.278772</td>\n",
              "      <td>88.213106</td>\n",
              "      <td>-148.511621</td>\n",
              "      <td>-124.902206</td>\n",
              "      <td>-37.805826</td>\n",
              "      <td>-100.220560</td>\n",
              "      <td>-122.883776</td>\n",
              "    </tr>\n",
              "    <tr>\n",
              "      <th>4</th>\n",
              "      <td>324.505202</td>\n",
              "      <td>-126.923977</td>\n",
              "      <td>598.320080</td>\n",
              "      <td>373.295113</td>\n",
              "      <td>-75.536378</td>\n",
              "      <td>505.193995</td>\n",
              "      <td>-24.461360</td>\n",
              "      <td>240.012437</td>\n",
              "      <td>-854.824140</td>\n",
              "      <td>125.939877</td>\n",
              "      <td>275.790318</td>\n",
              "      <td>-96.438480</td>\n",
              "      <td>-65.191452</td>\n",
              "      <td>260.416717</td>\n",
              "      <td>-52.985147</td>\n",
              "      <td>37.416511</td>\n",
              "    </tr>\n",
              "  </tbody>\n",
              "</table>\n",
              "</div>\n",
              "      <button class=\"colab-df-convert\" onclick=\"convertToInteractive('df-1fab5211-cd3c-403c-bf13-b0f97fda07e2')\"\n",
              "              title=\"Convert this dataframe to an interactive table.\"\n",
              "              style=\"display:none;\">\n",
              "        \n",
              "  <svg xmlns=\"http://www.w3.org/2000/svg\" height=\"24px\"viewBox=\"0 0 24 24\"\n",
              "       width=\"24px\">\n",
              "    <path d=\"M0 0h24v24H0V0z\" fill=\"none\"/>\n",
              "    <path d=\"M18.56 5.44l.94 2.06.94-2.06 2.06-.94-2.06-.94-.94-2.06-.94 2.06-2.06.94zm-11 1L8.5 8.5l.94-2.06 2.06-.94-2.06-.94L8.5 2.5l-.94 2.06-2.06.94zm10 10l.94 2.06.94-2.06 2.06-.94-2.06-.94-.94-2.06-.94 2.06-2.06.94z\"/><path d=\"M17.41 7.96l-1.37-1.37c-.4-.4-.92-.59-1.43-.59-.52 0-1.04.2-1.43.59L10.3 9.45l-7.72 7.72c-.78.78-.78 2.05 0 2.83L4 21.41c.39.39.9.59 1.41.59.51 0 1.02-.2 1.41-.59l7.78-7.78 2.81-2.81c.8-.78.8-2.07 0-2.86zM5.41 20L4 18.59l7.72-7.72 1.47 1.35L5.41 20z\"/>\n",
              "  </svg>\n",
              "      </button>\n",
              "      \n",
              "  <style>\n",
              "    .colab-df-container {\n",
              "      display:flex;\n",
              "      flex-wrap:wrap;\n",
              "      gap: 12px;\n",
              "    }\n",
              "\n",
              "    .colab-df-convert {\n",
              "      background-color: #E8F0FE;\n",
              "      border: none;\n",
              "      border-radius: 50%;\n",
              "      cursor: pointer;\n",
              "      display: none;\n",
              "      fill: #1967D2;\n",
              "      height: 32px;\n",
              "      padding: 0 0 0 0;\n",
              "      width: 32px;\n",
              "    }\n",
              "\n",
              "    .colab-df-convert:hover {\n",
              "      background-color: #E2EBFA;\n",
              "      box-shadow: 0px 1px 2px rgba(60, 64, 67, 0.3), 0px 1px 3px 1px rgba(60, 64, 67, 0.15);\n",
              "      fill: #174EA6;\n",
              "    }\n",
              "\n",
              "    [theme=dark] .colab-df-convert {\n",
              "      background-color: #3B4455;\n",
              "      fill: #D2E3FC;\n",
              "    }\n",
              "\n",
              "    [theme=dark] .colab-df-convert:hover {\n",
              "      background-color: #434B5C;\n",
              "      box-shadow: 0px 1px 3px 1px rgba(0, 0, 0, 0.15);\n",
              "      filter: drop-shadow(0px 1px 2px rgba(0, 0, 0, 0.3));\n",
              "      fill: #FFFFFF;\n",
              "    }\n",
              "  </style>\n",
              "\n",
              "      <script>\n",
              "        const buttonEl =\n",
              "          document.querySelector('#df-1fab5211-cd3c-403c-bf13-b0f97fda07e2 button.colab-df-convert');\n",
              "        buttonEl.style.display =\n",
              "          google.colab.kernel.accessAllowed ? 'block' : 'none';\n",
              "\n",
              "        async function convertToInteractive(key) {\n",
              "          const element = document.querySelector('#df-1fab5211-cd3c-403c-bf13-b0f97fda07e2');\n",
              "          const dataTable =\n",
              "            await google.colab.kernel.invokeFunction('convertToInteractive',\n",
              "                                                     [key], {});\n",
              "          if (!dataTable) return;\n",
              "\n",
              "          const docLinkHtml = 'Like what you see? Visit the ' +\n",
              "            '<a target=\"_blank\" href=https://colab.research.google.com/notebooks/data_table.ipynb>data table notebook</a>'\n",
              "            + ' to learn more about interactive tables.';\n",
              "          element.innerHTML = '';\n",
              "          dataTable['output_type'] = 'display_data';\n",
              "          await google.colab.output.renderOutput(dataTable, element);\n",
              "          const docLink = document.createElement('div');\n",
              "          docLink.innerHTML = docLinkHtml;\n",
              "          element.appendChild(docLink);\n",
              "        }\n",
              "      </script>\n",
              "    </div>\n",
              "  </div>\n",
              "  "
            ]
          },
          "metadata": {},
          "execution_count": 11
        }
      ]
    },
    {
      "cell_type": "markdown",
      "source": [
        "#### 차원 축소 수식 검증\n",
        ">$T_{16}=XW_{16}$\n",
        "- $X$는 평균중심화가 수행된 데이터셋\n",
        "- $W_{16}$은 열벡터가 주성분"
      ],
      "metadata": {
        "id": "P-2Uvp38lyVZ"
      }
    },
    {
      "cell_type": "markdown",
      "source": [
        "mean_ 속성 : 원래 데이터셋의 특성별 평균"
      ],
      "metadata": {
        "id": "CvDPvPLKMZpe"
      }
    },
    {
      "cell_type": "code",
      "source": [
        "# 평균중심화, 행렬곱 연산자 @, 전치 T를 적절히 사용하여 위 코드와 실행 결과가 동일해야 함\n",
        "# shape 힌트 : (19999,16) = (19999,784) @ (784,16)\n",
        "# pca.mean_과 mnist.mean(axis=0)는 동등 표현\n",
        "X = mnist - pca.mean_\n",
        "W_16 = pca.components_.T\n",
        "T_16 = X @ W_16\n",
        "T_16.head()\n",
        "# 즉, mnist_reduced와 T_16은 동일"
      ],
      "metadata": {
        "colab": {
          "base_uri": "https://localhost:8080/",
          "height": 270
        },
        "id": "MGF9hY6jlQ-s",
        "outputId": "68d3c1d5-ca3e-4e79-bbba-130b0775939a"
      },
      "execution_count": 12,
      "outputs": [
        {
          "output_type": "execute_result",
          "data": {
            "text/plain": [
              "           0           1           2           3           4           5   \\\n",
              "0  446.468432 -254.669609 -804.159688 -323.752911  244.423014 -135.257142   \n",
              "1  509.220206  729.949606  194.942978 -413.931752  837.819577 -388.371349   \n",
              "2  346.927823  716.677300 -727.558782  193.175130  -78.916333 -321.950322   \n",
              "3  447.113254 -303.558793 -879.921124   -7.247399  363.477961  -50.555071   \n",
              "4  324.505202 -126.923977  598.320080  373.295113  -75.536378  505.193995   \n",
              "\n",
              "           6           7           8           9           10          11  \\\n",
              "0 -322.705213 -120.604124 -251.631334  205.592374    0.039606 -137.820419   \n",
              "1 -223.809089  101.525271   98.012974 -239.780330   40.154414  139.347199   \n",
              "2 -356.077081  214.947638  341.270583  -64.620703  156.821283    7.398287   \n",
              "3 -241.021102 -273.723624   22.418159  483.278772   88.213106 -148.511621   \n",
              "4  -24.461360  240.012437 -854.824140  125.939877  275.790318  -96.438480   \n",
              "\n",
              "           12          13          14          15  \n",
              "0   33.407573  318.910258    7.889225  -90.431751  \n",
              "1  123.778657    6.737714  408.778842  187.308837  \n",
              "2  187.625419  517.152580   26.612543 -446.828893  \n",
              "3 -124.902206  -37.805826 -100.220560 -122.883776  \n",
              "4  -65.191452  260.416717  -52.985147   37.416511  "
            ],
            "text/html": [
              "\n",
              "  <div id=\"df-e3573c7a-b438-47ee-9805-8bedabf55b45\">\n",
              "    <div class=\"colab-df-container\">\n",
              "      <div>\n",
              "<style scoped>\n",
              "    .dataframe tbody tr th:only-of-type {\n",
              "        vertical-align: middle;\n",
              "    }\n",
              "\n",
              "    .dataframe tbody tr th {\n",
              "        vertical-align: top;\n",
              "    }\n",
              "\n",
              "    .dataframe thead th {\n",
              "        text-align: right;\n",
              "    }\n",
              "</style>\n",
              "<table border=\"1\" class=\"dataframe\">\n",
              "  <thead>\n",
              "    <tr style=\"text-align: right;\">\n",
              "      <th></th>\n",
              "      <th>0</th>\n",
              "      <th>1</th>\n",
              "      <th>2</th>\n",
              "      <th>3</th>\n",
              "      <th>4</th>\n",
              "      <th>5</th>\n",
              "      <th>6</th>\n",
              "      <th>7</th>\n",
              "      <th>8</th>\n",
              "      <th>9</th>\n",
              "      <th>10</th>\n",
              "      <th>11</th>\n",
              "      <th>12</th>\n",
              "      <th>13</th>\n",
              "      <th>14</th>\n",
              "      <th>15</th>\n",
              "    </tr>\n",
              "  </thead>\n",
              "  <tbody>\n",
              "    <tr>\n",
              "      <th>0</th>\n",
              "      <td>446.468432</td>\n",
              "      <td>-254.669609</td>\n",
              "      <td>-804.159688</td>\n",
              "      <td>-323.752911</td>\n",
              "      <td>244.423014</td>\n",
              "      <td>-135.257142</td>\n",
              "      <td>-322.705213</td>\n",
              "      <td>-120.604124</td>\n",
              "      <td>-251.631334</td>\n",
              "      <td>205.592374</td>\n",
              "      <td>0.039606</td>\n",
              "      <td>-137.820419</td>\n",
              "      <td>33.407573</td>\n",
              "      <td>318.910258</td>\n",
              "      <td>7.889225</td>\n",
              "      <td>-90.431751</td>\n",
              "    </tr>\n",
              "    <tr>\n",
              "      <th>1</th>\n",
              "      <td>509.220206</td>\n",
              "      <td>729.949606</td>\n",
              "      <td>194.942978</td>\n",
              "      <td>-413.931752</td>\n",
              "      <td>837.819577</td>\n",
              "      <td>-388.371349</td>\n",
              "      <td>-223.809089</td>\n",
              "      <td>101.525271</td>\n",
              "      <td>98.012974</td>\n",
              "      <td>-239.780330</td>\n",
              "      <td>40.154414</td>\n",
              "      <td>139.347199</td>\n",
              "      <td>123.778657</td>\n",
              "      <td>6.737714</td>\n",
              "      <td>408.778842</td>\n",
              "      <td>187.308837</td>\n",
              "    </tr>\n",
              "    <tr>\n",
              "      <th>2</th>\n",
              "      <td>346.927823</td>\n",
              "      <td>716.677300</td>\n",
              "      <td>-727.558782</td>\n",
              "      <td>193.175130</td>\n",
              "      <td>-78.916333</td>\n",
              "      <td>-321.950322</td>\n",
              "      <td>-356.077081</td>\n",
              "      <td>214.947638</td>\n",
              "      <td>341.270583</td>\n",
              "      <td>-64.620703</td>\n",
              "      <td>156.821283</td>\n",
              "      <td>7.398287</td>\n",
              "      <td>187.625419</td>\n",
              "      <td>517.152580</td>\n",
              "      <td>26.612543</td>\n",
              "      <td>-446.828893</td>\n",
              "    </tr>\n",
              "    <tr>\n",
              "      <th>3</th>\n",
              "      <td>447.113254</td>\n",
              "      <td>-303.558793</td>\n",
              "      <td>-879.921124</td>\n",
              "      <td>-7.247399</td>\n",
              "      <td>363.477961</td>\n",
              "      <td>-50.555071</td>\n",
              "      <td>-241.021102</td>\n",
              "      <td>-273.723624</td>\n",
              "      <td>22.418159</td>\n",
              "      <td>483.278772</td>\n",
              "      <td>88.213106</td>\n",
              "      <td>-148.511621</td>\n",
              "      <td>-124.902206</td>\n",
              "      <td>-37.805826</td>\n",
              "      <td>-100.220560</td>\n",
              "      <td>-122.883776</td>\n",
              "    </tr>\n",
              "    <tr>\n",
              "      <th>4</th>\n",
              "      <td>324.505202</td>\n",
              "      <td>-126.923977</td>\n",
              "      <td>598.320080</td>\n",
              "      <td>373.295113</td>\n",
              "      <td>-75.536378</td>\n",
              "      <td>505.193995</td>\n",
              "      <td>-24.461360</td>\n",
              "      <td>240.012437</td>\n",
              "      <td>-854.824140</td>\n",
              "      <td>125.939877</td>\n",
              "      <td>275.790318</td>\n",
              "      <td>-96.438480</td>\n",
              "      <td>-65.191452</td>\n",
              "      <td>260.416717</td>\n",
              "      <td>-52.985147</td>\n",
              "      <td>37.416511</td>\n",
              "    </tr>\n",
              "  </tbody>\n",
              "</table>\n",
              "</div>\n",
              "      <button class=\"colab-df-convert\" onclick=\"convertToInteractive('df-e3573c7a-b438-47ee-9805-8bedabf55b45')\"\n",
              "              title=\"Convert this dataframe to an interactive table.\"\n",
              "              style=\"display:none;\">\n",
              "        \n",
              "  <svg xmlns=\"http://www.w3.org/2000/svg\" height=\"24px\"viewBox=\"0 0 24 24\"\n",
              "       width=\"24px\">\n",
              "    <path d=\"M0 0h24v24H0V0z\" fill=\"none\"/>\n",
              "    <path d=\"M18.56 5.44l.94 2.06.94-2.06 2.06-.94-2.06-.94-.94-2.06-.94 2.06-2.06.94zm-11 1L8.5 8.5l.94-2.06 2.06-.94-2.06-.94L8.5 2.5l-.94 2.06-2.06.94zm10 10l.94 2.06.94-2.06 2.06-.94-2.06-.94-.94-2.06-.94 2.06-2.06.94z\"/><path d=\"M17.41 7.96l-1.37-1.37c-.4-.4-.92-.59-1.43-.59-.52 0-1.04.2-1.43.59L10.3 9.45l-7.72 7.72c-.78.78-.78 2.05 0 2.83L4 21.41c.39.39.9.59 1.41.59.51 0 1.02-.2 1.41-.59l7.78-7.78 2.81-2.81c.8-.78.8-2.07 0-2.86zM5.41 20L4 18.59l7.72-7.72 1.47 1.35L5.41 20z\"/>\n",
              "  </svg>\n",
              "      </button>\n",
              "      \n",
              "  <style>\n",
              "    .colab-df-container {\n",
              "      display:flex;\n",
              "      flex-wrap:wrap;\n",
              "      gap: 12px;\n",
              "    }\n",
              "\n",
              "    .colab-df-convert {\n",
              "      background-color: #E8F0FE;\n",
              "      border: none;\n",
              "      border-radius: 50%;\n",
              "      cursor: pointer;\n",
              "      display: none;\n",
              "      fill: #1967D2;\n",
              "      height: 32px;\n",
              "      padding: 0 0 0 0;\n",
              "      width: 32px;\n",
              "    }\n",
              "\n",
              "    .colab-df-convert:hover {\n",
              "      background-color: #E2EBFA;\n",
              "      box-shadow: 0px 1px 2px rgba(60, 64, 67, 0.3), 0px 1px 3px 1px rgba(60, 64, 67, 0.15);\n",
              "      fill: #174EA6;\n",
              "    }\n",
              "\n",
              "    [theme=dark] .colab-df-convert {\n",
              "      background-color: #3B4455;\n",
              "      fill: #D2E3FC;\n",
              "    }\n",
              "\n",
              "    [theme=dark] .colab-df-convert:hover {\n",
              "      background-color: #434B5C;\n",
              "      box-shadow: 0px 1px 3px 1px rgba(0, 0, 0, 0.15);\n",
              "      filter: drop-shadow(0px 1px 2px rgba(0, 0, 0, 0.3));\n",
              "      fill: #FFFFFF;\n",
              "    }\n",
              "  </style>\n",
              "\n",
              "      <script>\n",
              "        const buttonEl =\n",
              "          document.querySelector('#df-e3573c7a-b438-47ee-9805-8bedabf55b45 button.colab-df-convert');\n",
              "        buttonEl.style.display =\n",
              "          google.colab.kernel.accessAllowed ? 'block' : 'none';\n",
              "\n",
              "        async function convertToInteractive(key) {\n",
              "          const element = document.querySelector('#df-e3573c7a-b438-47ee-9805-8bedabf55b45');\n",
              "          const dataTable =\n",
              "            await google.colab.kernel.invokeFunction('convertToInteractive',\n",
              "                                                     [key], {});\n",
              "          if (!dataTable) return;\n",
              "\n",
              "          const docLinkHtml = 'Like what you see? Visit the ' +\n",
              "            '<a target=\"_blank\" href=https://colab.research.google.com/notebooks/data_table.ipynb>data table notebook</a>'\n",
              "            + ' to learn more about interactive tables.';\n",
              "          element.innerHTML = '';\n",
              "          dataTable['output_type'] = 'display_data';\n",
              "          await google.colab.output.renderOutput(dataTable, element);\n",
              "          const docLink = document.createElement('div');\n",
              "          docLink.innerHTML = docLinkHtml;\n",
              "          element.appendChild(docLink);\n",
              "        }\n",
              "      </script>\n",
              "    </div>\n",
              "  </div>\n",
              "  "
            ]
          },
          "metadata": {},
          "execution_count": 12
        }
      ]
    },
    {
      "cell_type": "code",
      "source": [
        "# mnist_reduced과 T_16의 모든 값이 같음을 확인 (힌트: all())\n",
        "all(mnist_reduced == T_16)"
      ],
      "metadata": {
        "colab": {
          "base_uri": "https://localhost:8080/"
        },
        "id": "-Ze68n3JP5gB",
        "outputId": "05d5af70-11cb-4ed0-b87d-ef81c5f18484"
      },
      "execution_count": 13,
      "outputs": [
        {
          "output_type": "execute_result",
          "data": {
            "text/plain": [
              "False"
            ]
          },
          "metadata": {},
          "execution_count": 13
        }
      ]
    },
    {
      "cell_type": "markdown",
      "source": [
        "#### 데이터 복원(16차원 $→$ 784차원)\n",
        "축소된 데이터셋과 16개 주성분의 일차결합으로 재구성(근사)된 데이터셋"
      ],
      "metadata": {
        "id": "TR-SpUbFkMWJ"
      }
    },
    {
      "cell_type": "markdown",
      "source": [
        "inverse_transform() 메서드 : 데이터셋을 복원\n",
        "- 입력은 축소된 데이터셋\n",
        "- 원래 데이터셋의 특성 이름 사용 가능"
      ],
      "metadata": {
        "id": "O9ce8ys93OJE"
      }
    },
    {
      "cell_type": "code",
      "source": [
        "# mnist_reduced 복원하기\n",
        "mnist_recon = pca.inverse_transform(mnist_reduced)\n",
        "print(mnist_recon.shape)\n",
        "mnist_recon = pd.DataFrame(mnist_recon, columns=mnist.columns)\n",
        "mnist_recon.head()"
      ],
      "metadata": {
        "colab": {
          "base_uri": "https://localhost:8080/",
          "height": 404
        },
        "id": "xsa6-_UFk1U6",
        "outputId": "52936ab2-9f7f-4a20-aee0-0a7c7fb79f07"
      },
      "execution_count": 14,
      "outputs": [
        {
          "output_type": "stream",
          "name": "stdout",
          "text": [
            "(19999, 784)\n"
          ]
        },
        {
          "output_type": "execute_result",
          "data": {
            "text/plain": [
              "              0           0.1           0.2           0.3           0.4  \\\n",
              "0  2.818830e-14 -3.068473e-14  8.762533e-15  7.938295e-14 -5.729976e-15   \n",
              "1  5.724509e-15  1.183989e-13 -6.978745e-14  6.187016e-16  7.520926e-15   \n",
              "2 -6.857966e-14  2.463231e-14  2.000948e-14 -3.101884e-14 -3.144376e-14   \n",
              "3  2.446984e-14 -1.992987e-14  2.712778e-15  1.627505e-14  2.219883e-15   \n",
              "4  7.398351e-14 -7.426812e-14  1.625922e-13  4.090408e-15 -1.368735e-14   \n",
              "\n",
              "            0.5           0.6           0.7           0.8           0.9  ...  \\\n",
              "0 -3.151592e-14 -2.849986e-14  1.698610e-14  2.558906e-14 -9.923520e-15  ...   \n",
              "1  3.171653e-14 -2.278518e-14 -8.847263e-14 -6.204565e-14 -1.408337e-14  ...   \n",
              "2 -5.915168e-14 -5.965896e-14  1.166790e-14  2.915004e-14  4.726734e-16  ...   \n",
              "3 -1.854277e-14  3.022563e-14  3.517479e-14  2.943786e-14  5.223598e-15  ...   \n",
              "4  7.786663e-16 -1.172533e-14  2.148196e-14  1.241698e-14 -3.961065e-15  ...   \n",
              "\n",
              "      0.581     0.582     0.583     0.584     0.585     0.586  0.587  0.588  \\\n",
              "0  0.735693  0.277984  0.067802  0.016070  0.036777  0.007433    0.0    0.0   \n",
              "1  1.122906  0.428986  0.193170  0.059621  0.152826  0.032778    0.0    0.0   \n",
              "2  2.344995  0.979412  0.320059  0.086331  0.141729  0.026714    0.0    0.0   \n",
              "3  0.586475  0.211488  0.080828  0.061512  0.167444  0.033809    0.0    0.0   \n",
              "4 -0.430797 -0.215249 -0.062397 -0.031473 -0.035834 -0.012995    0.0    0.0   \n",
              "\n",
              "   0.589  0.590  \n",
              "0    0.0    0.0  \n",
              "1    0.0    0.0  \n",
              "2    0.0    0.0  \n",
              "3    0.0    0.0  \n",
              "4    0.0    0.0  \n",
              "\n",
              "[5 rows x 784 columns]"
            ],
            "text/html": [
              "\n",
              "  <div id=\"df-f61c265c-ce30-4ae2-a849-99930b391767\">\n",
              "    <div class=\"colab-df-container\">\n",
              "      <div>\n",
              "<style scoped>\n",
              "    .dataframe tbody tr th:only-of-type {\n",
              "        vertical-align: middle;\n",
              "    }\n",
              "\n",
              "    .dataframe tbody tr th {\n",
              "        vertical-align: top;\n",
              "    }\n",
              "\n",
              "    .dataframe thead th {\n",
              "        text-align: right;\n",
              "    }\n",
              "</style>\n",
              "<table border=\"1\" class=\"dataframe\">\n",
              "  <thead>\n",
              "    <tr style=\"text-align: right;\">\n",
              "      <th></th>\n",
              "      <th>0</th>\n",
              "      <th>0.1</th>\n",
              "      <th>0.2</th>\n",
              "      <th>0.3</th>\n",
              "      <th>0.4</th>\n",
              "      <th>0.5</th>\n",
              "      <th>0.6</th>\n",
              "      <th>0.7</th>\n",
              "      <th>0.8</th>\n",
              "      <th>0.9</th>\n",
              "      <th>...</th>\n",
              "      <th>0.581</th>\n",
              "      <th>0.582</th>\n",
              "      <th>0.583</th>\n",
              "      <th>0.584</th>\n",
              "      <th>0.585</th>\n",
              "      <th>0.586</th>\n",
              "      <th>0.587</th>\n",
              "      <th>0.588</th>\n",
              "      <th>0.589</th>\n",
              "      <th>0.590</th>\n",
              "    </tr>\n",
              "  </thead>\n",
              "  <tbody>\n",
              "    <tr>\n",
              "      <th>0</th>\n",
              "      <td>2.818830e-14</td>\n",
              "      <td>-3.068473e-14</td>\n",
              "      <td>8.762533e-15</td>\n",
              "      <td>7.938295e-14</td>\n",
              "      <td>-5.729976e-15</td>\n",
              "      <td>-3.151592e-14</td>\n",
              "      <td>-2.849986e-14</td>\n",
              "      <td>1.698610e-14</td>\n",
              "      <td>2.558906e-14</td>\n",
              "      <td>-9.923520e-15</td>\n",
              "      <td>...</td>\n",
              "      <td>0.735693</td>\n",
              "      <td>0.277984</td>\n",
              "      <td>0.067802</td>\n",
              "      <td>0.016070</td>\n",
              "      <td>0.036777</td>\n",
              "      <td>0.007433</td>\n",
              "      <td>0.0</td>\n",
              "      <td>0.0</td>\n",
              "      <td>0.0</td>\n",
              "      <td>0.0</td>\n",
              "    </tr>\n",
              "    <tr>\n",
              "      <th>1</th>\n",
              "      <td>5.724509e-15</td>\n",
              "      <td>1.183989e-13</td>\n",
              "      <td>-6.978745e-14</td>\n",
              "      <td>6.187016e-16</td>\n",
              "      <td>7.520926e-15</td>\n",
              "      <td>3.171653e-14</td>\n",
              "      <td>-2.278518e-14</td>\n",
              "      <td>-8.847263e-14</td>\n",
              "      <td>-6.204565e-14</td>\n",
              "      <td>-1.408337e-14</td>\n",
              "      <td>...</td>\n",
              "      <td>1.122906</td>\n",
              "      <td>0.428986</td>\n",
              "      <td>0.193170</td>\n",
              "      <td>0.059621</td>\n",
              "      <td>0.152826</td>\n",
              "      <td>0.032778</td>\n",
              "      <td>0.0</td>\n",
              "      <td>0.0</td>\n",
              "      <td>0.0</td>\n",
              "      <td>0.0</td>\n",
              "    </tr>\n",
              "    <tr>\n",
              "      <th>2</th>\n",
              "      <td>-6.857966e-14</td>\n",
              "      <td>2.463231e-14</td>\n",
              "      <td>2.000948e-14</td>\n",
              "      <td>-3.101884e-14</td>\n",
              "      <td>-3.144376e-14</td>\n",
              "      <td>-5.915168e-14</td>\n",
              "      <td>-5.965896e-14</td>\n",
              "      <td>1.166790e-14</td>\n",
              "      <td>2.915004e-14</td>\n",
              "      <td>4.726734e-16</td>\n",
              "      <td>...</td>\n",
              "      <td>2.344995</td>\n",
              "      <td>0.979412</td>\n",
              "      <td>0.320059</td>\n",
              "      <td>0.086331</td>\n",
              "      <td>0.141729</td>\n",
              "      <td>0.026714</td>\n",
              "      <td>0.0</td>\n",
              "      <td>0.0</td>\n",
              "      <td>0.0</td>\n",
              "      <td>0.0</td>\n",
              "    </tr>\n",
              "    <tr>\n",
              "      <th>3</th>\n",
              "      <td>2.446984e-14</td>\n",
              "      <td>-1.992987e-14</td>\n",
              "      <td>2.712778e-15</td>\n",
              "      <td>1.627505e-14</td>\n",
              "      <td>2.219883e-15</td>\n",
              "      <td>-1.854277e-14</td>\n",
              "      <td>3.022563e-14</td>\n",
              "      <td>3.517479e-14</td>\n",
              "      <td>2.943786e-14</td>\n",
              "      <td>5.223598e-15</td>\n",
              "      <td>...</td>\n",
              "      <td>0.586475</td>\n",
              "      <td>0.211488</td>\n",
              "      <td>0.080828</td>\n",
              "      <td>0.061512</td>\n",
              "      <td>0.167444</td>\n",
              "      <td>0.033809</td>\n",
              "      <td>0.0</td>\n",
              "      <td>0.0</td>\n",
              "      <td>0.0</td>\n",
              "      <td>0.0</td>\n",
              "    </tr>\n",
              "    <tr>\n",
              "      <th>4</th>\n",
              "      <td>7.398351e-14</td>\n",
              "      <td>-7.426812e-14</td>\n",
              "      <td>1.625922e-13</td>\n",
              "      <td>4.090408e-15</td>\n",
              "      <td>-1.368735e-14</td>\n",
              "      <td>7.786663e-16</td>\n",
              "      <td>-1.172533e-14</td>\n",
              "      <td>2.148196e-14</td>\n",
              "      <td>1.241698e-14</td>\n",
              "      <td>-3.961065e-15</td>\n",
              "      <td>...</td>\n",
              "      <td>-0.430797</td>\n",
              "      <td>-0.215249</td>\n",
              "      <td>-0.062397</td>\n",
              "      <td>-0.031473</td>\n",
              "      <td>-0.035834</td>\n",
              "      <td>-0.012995</td>\n",
              "      <td>0.0</td>\n",
              "      <td>0.0</td>\n",
              "      <td>0.0</td>\n",
              "      <td>0.0</td>\n",
              "    </tr>\n",
              "  </tbody>\n",
              "</table>\n",
              "<p>5 rows × 784 columns</p>\n",
              "</div>\n",
              "      <button class=\"colab-df-convert\" onclick=\"convertToInteractive('df-f61c265c-ce30-4ae2-a849-99930b391767')\"\n",
              "              title=\"Convert this dataframe to an interactive table.\"\n",
              "              style=\"display:none;\">\n",
              "        \n",
              "  <svg xmlns=\"http://www.w3.org/2000/svg\" height=\"24px\"viewBox=\"0 0 24 24\"\n",
              "       width=\"24px\">\n",
              "    <path d=\"M0 0h24v24H0V0z\" fill=\"none\"/>\n",
              "    <path d=\"M18.56 5.44l.94 2.06.94-2.06 2.06-.94-2.06-.94-.94-2.06-.94 2.06-2.06.94zm-11 1L8.5 8.5l.94-2.06 2.06-.94-2.06-.94L8.5 2.5l-.94 2.06-2.06.94zm10 10l.94 2.06.94-2.06 2.06-.94-2.06-.94-.94-2.06-.94 2.06-2.06.94z\"/><path d=\"M17.41 7.96l-1.37-1.37c-.4-.4-.92-.59-1.43-.59-.52 0-1.04.2-1.43.59L10.3 9.45l-7.72 7.72c-.78.78-.78 2.05 0 2.83L4 21.41c.39.39.9.59 1.41.59.51 0 1.02-.2 1.41-.59l7.78-7.78 2.81-2.81c.8-.78.8-2.07 0-2.86zM5.41 20L4 18.59l7.72-7.72 1.47 1.35L5.41 20z\"/>\n",
              "  </svg>\n",
              "      </button>\n",
              "      \n",
              "  <style>\n",
              "    .colab-df-container {\n",
              "      display:flex;\n",
              "      flex-wrap:wrap;\n",
              "      gap: 12px;\n",
              "    }\n",
              "\n",
              "    .colab-df-convert {\n",
              "      background-color: #E8F0FE;\n",
              "      border: none;\n",
              "      border-radius: 50%;\n",
              "      cursor: pointer;\n",
              "      display: none;\n",
              "      fill: #1967D2;\n",
              "      height: 32px;\n",
              "      padding: 0 0 0 0;\n",
              "      width: 32px;\n",
              "    }\n",
              "\n",
              "    .colab-df-convert:hover {\n",
              "      background-color: #E2EBFA;\n",
              "      box-shadow: 0px 1px 2px rgba(60, 64, 67, 0.3), 0px 1px 3px 1px rgba(60, 64, 67, 0.15);\n",
              "      fill: #174EA6;\n",
              "    }\n",
              "\n",
              "    [theme=dark] .colab-df-convert {\n",
              "      background-color: #3B4455;\n",
              "      fill: #D2E3FC;\n",
              "    }\n",
              "\n",
              "    [theme=dark] .colab-df-convert:hover {\n",
              "      background-color: #434B5C;\n",
              "      box-shadow: 0px 1px 3px 1px rgba(0, 0, 0, 0.15);\n",
              "      filter: drop-shadow(0px 1px 2px rgba(0, 0, 0, 0.3));\n",
              "      fill: #FFFFFF;\n",
              "    }\n",
              "  </style>\n",
              "\n",
              "      <script>\n",
              "        const buttonEl =\n",
              "          document.querySelector('#df-f61c265c-ce30-4ae2-a849-99930b391767 button.colab-df-convert');\n",
              "        buttonEl.style.display =\n",
              "          google.colab.kernel.accessAllowed ? 'block' : 'none';\n",
              "\n",
              "        async function convertToInteractive(key) {\n",
              "          const element = document.querySelector('#df-f61c265c-ce30-4ae2-a849-99930b391767');\n",
              "          const dataTable =\n",
              "            await google.colab.kernel.invokeFunction('convertToInteractive',\n",
              "                                                     [key], {});\n",
              "          if (!dataTable) return;\n",
              "\n",
              "          const docLinkHtml = 'Like what you see? Visit the ' +\n",
              "            '<a target=\"_blank\" href=https://colab.research.google.com/notebooks/data_table.ipynb>data table notebook</a>'\n",
              "            + ' to learn more about interactive tables.';\n",
              "          element.innerHTML = '';\n",
              "          dataTable['output_type'] = 'display_data';\n",
              "          await google.colab.output.renderOutput(dataTable, element);\n",
              "          const docLink = document.createElement('div');\n",
              "          docLink.innerHTML = docLinkHtml;\n",
              "          element.appendChild(docLink);\n",
              "        }\n",
              "      </script>\n",
              "    </div>\n",
              "  </div>\n",
              "  "
            ]
          },
          "metadata": {},
          "execution_count": 14
        }
      ]
    },
    {
      "cell_type": "markdown",
      "source": [
        "#### 데이터 복원 수식 검증\n",
        ">$X_{16}=T_{16}W_{16}^T=XW_{16}W_{16}^T$\n",
        "- $X$는 평균중심화가 수행된 데이터셋이므로 위 수식을 계산 후 평균중심화도 해제\n",
        "- $W_{16}$은 열벡터가 주성분\n",
        "- $X_{16}$은 $16$차원 공간에 정사영으로 근사된 데이터셋"
      ],
      "metadata": {
        "id": "YUCJHsZyDe9z"
      }
    },
    {
      "cell_type": "code",
      "source": [
        "# 행렬곱 연산자 @, 전치 T를 적절히 사용하여 위 코드와 실행 결과가 동일해야 함\n",
        "# shape 힌트 : (19999,784) = (19999,16) @ (16,784)\n",
        "# 이전 단계에서 구한 T_16과 W_16을 그대로 사용\n",
        "X_16 = T_16 @ W_16.T\n",
        "X_16 += pca.mean_ # 평균중심화 해제\n",
        "X_16 = pd.DataFrame(X_16.values, columns=mnist.columns)\n",
        "X_16.head()\n",
        "# 즉, mnist_recon과 X_16은 동일"
      ],
      "metadata": {
        "colab": {
          "base_uri": "https://localhost:8080/",
          "height": 386
        },
        "id": "b--3SLNVF3Mz",
        "outputId": "d9de5265-d255-4286-e1be-bf33454c6d7f"
      },
      "execution_count": 15,
      "outputs": [
        {
          "output_type": "execute_result",
          "data": {
            "text/plain": [
              "              0           0.1           0.2           0.3           0.4  \\\n",
              "0  2.818830e-14 -3.068473e-14  8.762533e-15  7.938295e-14 -5.729976e-15   \n",
              "1  5.724509e-15  1.183989e-13 -6.978745e-14  6.187016e-16  7.520926e-15   \n",
              "2 -6.857966e-14  2.463231e-14  2.000948e-14 -3.101884e-14 -3.144376e-14   \n",
              "3  2.446984e-14 -1.992987e-14  2.712778e-15  1.627505e-14  2.219883e-15   \n",
              "4  7.398351e-14 -7.426812e-14  1.625922e-13  4.090408e-15 -1.368735e-14   \n",
              "\n",
              "            0.5           0.6           0.7           0.8           0.9  ...  \\\n",
              "0 -3.151592e-14 -2.849986e-14  1.698610e-14  2.558906e-14 -9.923520e-15  ...   \n",
              "1  3.171653e-14 -2.278518e-14 -8.847263e-14 -6.204565e-14 -1.408337e-14  ...   \n",
              "2 -5.915168e-14 -5.965896e-14  1.166790e-14  2.915004e-14  4.726734e-16  ...   \n",
              "3 -1.854277e-14  3.022563e-14  3.517479e-14  2.943786e-14  5.223598e-15  ...   \n",
              "4  7.786663e-16 -1.172533e-14  2.148196e-14  1.241698e-14 -3.961065e-15  ...   \n",
              "\n",
              "      0.581     0.582     0.583     0.584     0.585     0.586  0.587  0.588  \\\n",
              "0  0.735693  0.277984  0.067802  0.016070  0.036777  0.007433    0.0    0.0   \n",
              "1  1.122906  0.428986  0.193170  0.059621  0.152826  0.032778    0.0    0.0   \n",
              "2  2.344995  0.979412  0.320059  0.086331  0.141729  0.026714    0.0    0.0   \n",
              "3  0.586475  0.211488  0.080828  0.061512  0.167444  0.033809    0.0    0.0   \n",
              "4 -0.430797 -0.215249 -0.062397 -0.031473 -0.035834 -0.012995    0.0    0.0   \n",
              "\n",
              "   0.589  0.590  \n",
              "0    0.0    0.0  \n",
              "1    0.0    0.0  \n",
              "2    0.0    0.0  \n",
              "3    0.0    0.0  \n",
              "4    0.0    0.0  \n",
              "\n",
              "[5 rows x 784 columns]"
            ],
            "text/html": [
              "\n",
              "  <div id=\"df-024fb3df-14e2-4995-80e9-bb87afa9fb03\">\n",
              "    <div class=\"colab-df-container\">\n",
              "      <div>\n",
              "<style scoped>\n",
              "    .dataframe tbody tr th:only-of-type {\n",
              "        vertical-align: middle;\n",
              "    }\n",
              "\n",
              "    .dataframe tbody tr th {\n",
              "        vertical-align: top;\n",
              "    }\n",
              "\n",
              "    .dataframe thead th {\n",
              "        text-align: right;\n",
              "    }\n",
              "</style>\n",
              "<table border=\"1\" class=\"dataframe\">\n",
              "  <thead>\n",
              "    <tr style=\"text-align: right;\">\n",
              "      <th></th>\n",
              "      <th>0</th>\n",
              "      <th>0.1</th>\n",
              "      <th>0.2</th>\n",
              "      <th>0.3</th>\n",
              "      <th>0.4</th>\n",
              "      <th>0.5</th>\n",
              "      <th>0.6</th>\n",
              "      <th>0.7</th>\n",
              "      <th>0.8</th>\n",
              "      <th>0.9</th>\n",
              "      <th>...</th>\n",
              "      <th>0.581</th>\n",
              "      <th>0.582</th>\n",
              "      <th>0.583</th>\n",
              "      <th>0.584</th>\n",
              "      <th>0.585</th>\n",
              "      <th>0.586</th>\n",
              "      <th>0.587</th>\n",
              "      <th>0.588</th>\n",
              "      <th>0.589</th>\n",
              "      <th>0.590</th>\n",
              "    </tr>\n",
              "  </thead>\n",
              "  <tbody>\n",
              "    <tr>\n",
              "      <th>0</th>\n",
              "      <td>2.818830e-14</td>\n",
              "      <td>-3.068473e-14</td>\n",
              "      <td>8.762533e-15</td>\n",
              "      <td>7.938295e-14</td>\n",
              "      <td>-5.729976e-15</td>\n",
              "      <td>-3.151592e-14</td>\n",
              "      <td>-2.849986e-14</td>\n",
              "      <td>1.698610e-14</td>\n",
              "      <td>2.558906e-14</td>\n",
              "      <td>-9.923520e-15</td>\n",
              "      <td>...</td>\n",
              "      <td>0.735693</td>\n",
              "      <td>0.277984</td>\n",
              "      <td>0.067802</td>\n",
              "      <td>0.016070</td>\n",
              "      <td>0.036777</td>\n",
              "      <td>0.007433</td>\n",
              "      <td>0.0</td>\n",
              "      <td>0.0</td>\n",
              "      <td>0.0</td>\n",
              "      <td>0.0</td>\n",
              "    </tr>\n",
              "    <tr>\n",
              "      <th>1</th>\n",
              "      <td>5.724509e-15</td>\n",
              "      <td>1.183989e-13</td>\n",
              "      <td>-6.978745e-14</td>\n",
              "      <td>6.187016e-16</td>\n",
              "      <td>7.520926e-15</td>\n",
              "      <td>3.171653e-14</td>\n",
              "      <td>-2.278518e-14</td>\n",
              "      <td>-8.847263e-14</td>\n",
              "      <td>-6.204565e-14</td>\n",
              "      <td>-1.408337e-14</td>\n",
              "      <td>...</td>\n",
              "      <td>1.122906</td>\n",
              "      <td>0.428986</td>\n",
              "      <td>0.193170</td>\n",
              "      <td>0.059621</td>\n",
              "      <td>0.152826</td>\n",
              "      <td>0.032778</td>\n",
              "      <td>0.0</td>\n",
              "      <td>0.0</td>\n",
              "      <td>0.0</td>\n",
              "      <td>0.0</td>\n",
              "    </tr>\n",
              "    <tr>\n",
              "      <th>2</th>\n",
              "      <td>-6.857966e-14</td>\n",
              "      <td>2.463231e-14</td>\n",
              "      <td>2.000948e-14</td>\n",
              "      <td>-3.101884e-14</td>\n",
              "      <td>-3.144376e-14</td>\n",
              "      <td>-5.915168e-14</td>\n",
              "      <td>-5.965896e-14</td>\n",
              "      <td>1.166790e-14</td>\n",
              "      <td>2.915004e-14</td>\n",
              "      <td>4.726734e-16</td>\n",
              "      <td>...</td>\n",
              "      <td>2.344995</td>\n",
              "      <td>0.979412</td>\n",
              "      <td>0.320059</td>\n",
              "      <td>0.086331</td>\n",
              "      <td>0.141729</td>\n",
              "      <td>0.026714</td>\n",
              "      <td>0.0</td>\n",
              "      <td>0.0</td>\n",
              "      <td>0.0</td>\n",
              "      <td>0.0</td>\n",
              "    </tr>\n",
              "    <tr>\n",
              "      <th>3</th>\n",
              "      <td>2.446984e-14</td>\n",
              "      <td>-1.992987e-14</td>\n",
              "      <td>2.712778e-15</td>\n",
              "      <td>1.627505e-14</td>\n",
              "      <td>2.219883e-15</td>\n",
              "      <td>-1.854277e-14</td>\n",
              "      <td>3.022563e-14</td>\n",
              "      <td>3.517479e-14</td>\n",
              "      <td>2.943786e-14</td>\n",
              "      <td>5.223598e-15</td>\n",
              "      <td>...</td>\n",
              "      <td>0.586475</td>\n",
              "      <td>0.211488</td>\n",
              "      <td>0.080828</td>\n",
              "      <td>0.061512</td>\n",
              "      <td>0.167444</td>\n",
              "      <td>0.033809</td>\n",
              "      <td>0.0</td>\n",
              "      <td>0.0</td>\n",
              "      <td>0.0</td>\n",
              "      <td>0.0</td>\n",
              "    </tr>\n",
              "    <tr>\n",
              "      <th>4</th>\n",
              "      <td>7.398351e-14</td>\n",
              "      <td>-7.426812e-14</td>\n",
              "      <td>1.625922e-13</td>\n",
              "      <td>4.090408e-15</td>\n",
              "      <td>-1.368735e-14</td>\n",
              "      <td>7.786663e-16</td>\n",
              "      <td>-1.172533e-14</td>\n",
              "      <td>2.148196e-14</td>\n",
              "      <td>1.241698e-14</td>\n",
              "      <td>-3.961065e-15</td>\n",
              "      <td>...</td>\n",
              "      <td>-0.430797</td>\n",
              "      <td>-0.215249</td>\n",
              "      <td>-0.062397</td>\n",
              "      <td>-0.031473</td>\n",
              "      <td>-0.035834</td>\n",
              "      <td>-0.012995</td>\n",
              "      <td>0.0</td>\n",
              "      <td>0.0</td>\n",
              "      <td>0.0</td>\n",
              "      <td>0.0</td>\n",
              "    </tr>\n",
              "  </tbody>\n",
              "</table>\n",
              "<p>5 rows × 784 columns</p>\n",
              "</div>\n",
              "      <button class=\"colab-df-convert\" onclick=\"convertToInteractive('df-024fb3df-14e2-4995-80e9-bb87afa9fb03')\"\n",
              "              title=\"Convert this dataframe to an interactive table.\"\n",
              "              style=\"display:none;\">\n",
              "        \n",
              "  <svg xmlns=\"http://www.w3.org/2000/svg\" height=\"24px\"viewBox=\"0 0 24 24\"\n",
              "       width=\"24px\">\n",
              "    <path d=\"M0 0h24v24H0V0z\" fill=\"none\"/>\n",
              "    <path d=\"M18.56 5.44l.94 2.06.94-2.06 2.06-.94-2.06-.94-.94-2.06-.94 2.06-2.06.94zm-11 1L8.5 8.5l.94-2.06 2.06-.94-2.06-.94L8.5 2.5l-.94 2.06-2.06.94zm10 10l.94 2.06.94-2.06 2.06-.94-2.06-.94-.94-2.06-.94 2.06-2.06.94z\"/><path d=\"M17.41 7.96l-1.37-1.37c-.4-.4-.92-.59-1.43-.59-.52 0-1.04.2-1.43.59L10.3 9.45l-7.72 7.72c-.78.78-.78 2.05 0 2.83L4 21.41c.39.39.9.59 1.41.59.51 0 1.02-.2 1.41-.59l7.78-7.78 2.81-2.81c.8-.78.8-2.07 0-2.86zM5.41 20L4 18.59l7.72-7.72 1.47 1.35L5.41 20z\"/>\n",
              "  </svg>\n",
              "      </button>\n",
              "      \n",
              "  <style>\n",
              "    .colab-df-container {\n",
              "      display:flex;\n",
              "      flex-wrap:wrap;\n",
              "      gap: 12px;\n",
              "    }\n",
              "\n",
              "    .colab-df-convert {\n",
              "      background-color: #E8F0FE;\n",
              "      border: none;\n",
              "      border-radius: 50%;\n",
              "      cursor: pointer;\n",
              "      display: none;\n",
              "      fill: #1967D2;\n",
              "      height: 32px;\n",
              "      padding: 0 0 0 0;\n",
              "      width: 32px;\n",
              "    }\n",
              "\n",
              "    .colab-df-convert:hover {\n",
              "      background-color: #E2EBFA;\n",
              "      box-shadow: 0px 1px 2px rgba(60, 64, 67, 0.3), 0px 1px 3px 1px rgba(60, 64, 67, 0.15);\n",
              "      fill: #174EA6;\n",
              "    }\n",
              "\n",
              "    [theme=dark] .colab-df-convert {\n",
              "      background-color: #3B4455;\n",
              "      fill: #D2E3FC;\n",
              "    }\n",
              "\n",
              "    [theme=dark] .colab-df-convert:hover {\n",
              "      background-color: #434B5C;\n",
              "      box-shadow: 0px 1px 3px 1px rgba(0, 0, 0, 0.15);\n",
              "      filter: drop-shadow(0px 1px 2px rgba(0, 0, 0, 0.3));\n",
              "      fill: #FFFFFF;\n",
              "    }\n",
              "  </style>\n",
              "\n",
              "      <script>\n",
              "        const buttonEl =\n",
              "          document.querySelector('#df-024fb3df-14e2-4995-80e9-bb87afa9fb03 button.colab-df-convert');\n",
              "        buttonEl.style.display =\n",
              "          google.colab.kernel.accessAllowed ? 'block' : 'none';\n",
              "\n",
              "        async function convertToInteractive(key) {\n",
              "          const element = document.querySelector('#df-024fb3df-14e2-4995-80e9-bb87afa9fb03');\n",
              "          const dataTable =\n",
              "            await google.colab.kernel.invokeFunction('convertToInteractive',\n",
              "                                                     [key], {});\n",
              "          if (!dataTable) return;\n",
              "\n",
              "          const docLinkHtml = 'Like what you see? Visit the ' +\n",
              "            '<a target=\"_blank\" href=https://colab.research.google.com/notebooks/data_table.ipynb>data table notebook</a>'\n",
              "            + ' to learn more about interactive tables.';\n",
              "          element.innerHTML = '';\n",
              "          dataTable['output_type'] = 'display_data';\n",
              "          await google.colab.output.renderOutput(dataTable, element);\n",
              "          const docLink = document.createElement('div');\n",
              "          docLink.innerHTML = docLinkHtml;\n",
              "          element.appendChild(docLink);\n",
              "        }\n",
              "      </script>\n",
              "    </div>\n",
              "  </div>\n",
              "  "
            ]
          },
          "metadata": {},
          "execution_count": 15
        }
      ]
    },
    {
      "cell_type": "code",
      "source": [
        "# mnist_recon과 X_16의 모든 값이 같음을 확인 (힌트: all())\n",
        "all(mnist_recon == X_16)"
      ],
      "metadata": {
        "colab": {
          "base_uri": "https://localhost:8080/"
        },
        "id": "deMlbeT_EyWY",
        "outputId": "adcedb01-da15-47d0-8c9f-e83c31a990b3"
      },
      "execution_count": 16,
      "outputs": [
        {
          "output_type": "execute_result",
          "data": {
            "text/plain": [
              "True"
            ]
          },
          "metadata": {},
          "execution_count": 16
        }
      ]
    },
    {
      "cell_type": "markdown",
      "source": [
        "#### 복원된 손글씨 이미지를 확인"
      ],
      "metadata": {
        "id": "DdX4zuI75qLL"
      }
    },
    {
      "cell_type": "code",
      "source": [
        "# 복원된 데이터셋 mnist_recon에서 처음 100개 확인\n",
        "draw_digits(mnist_recon[:100].values) # 넘파이 배열로 입력"
      ],
      "metadata": {
        "colab": {
          "base_uri": "https://localhost:8080/",
          "height": 574
        },
        "id": "u16mesYC5PE2",
        "outputId": "7f158f95-6fd4-49c4-c9eb-4f5625c6b571"
      },
      "execution_count": null,
      "outputs": [
        {
          "output_type": "display_data",
          "data": {
            "text/plain": [
              "<Figure size 720x720 with 100 Axes>"
            ],
            "image/png": "[encoded data removed]"
          },
          "metadata": {
            "needs_background": "light"
          }
        }
      ]
    },
    {
      "cell_type": "markdown",
      "source": [
        "데이터 근사에 대한 저장 공간 효율\n",
        "- 원래 데이터셋의 저장에 필요한 공간에 대한 축소된 데이터셋과 주성분의 저장에 필요한 공간의 비율\n",
        ">$n\\times p → n\\times L\\space+\\space L\\times p$ 이므로 $space\\space ratio=\\frac{nL+Lp}{np}=\\frac{L}{p}+\\frac{L}{n}$"
      ],
      "metadata": {
        "id": "UT7fO4949L71"
      }
    },
    {
      "cell_type": "markdown",
      "source": [
        "n_components_ 속성 : 주성분 개수 $L$  \n",
        "n_features_ 속성 : 원래 데이터셋의 특성 개수 $p$  \n",
        "n_samples_ 속성 : 원래 데이터셋의 표본 개수 $n$"
      ],
      "metadata": {
        "id": "Cn3kQBEyOHkN"
      }
    },
    {
      "cell_type": "code",
      "source": [
        "space_ratio = pca.n_components_/mnist_recon.n_features_ + pca.n_components_/mnist_recon.n_samples_\n",
        "space_ratio # 원래 저장 공간의 약 2%만 있어도 위 실행 결과 정도의 근사가 가능 "
      ],
      "metadata": {
        "colab": {
          "base_uri": "https://localhost:8080/",
          "height": 319
        },
        "id": "u3WZ9UrHBisW",
        "outputId": "716287f4-da06-4098-ae12-85cd95d1e13a"
      },
      "execution_count": 65,
      "outputs": [
        {
          "output_type": "error",
          "ename": "AttributeError",
          "evalue": "ignored",
          "traceback": [
            "\u001b[0;31m---------------------------------------------------------------------------\u001b[0m",
            "\u001b[0;31mAttributeError\u001b[0m                            Traceback (most recent call last)",
            "\u001b[0;32m<ipython-input-65-5bd64b6447fb>\u001b[0m in \u001b[0;36m<module>\u001b[0;34m\u001b[0m\n\u001b[0;32m----> 1\u001b[0;31m \u001b[0mspace_ratio\u001b[0m \u001b[0;34m=\u001b[0m \u001b[0mpca\u001b[0m\u001b[0;34m.\u001b[0m\u001b[0mn_components_\u001b[0m\u001b[0;34m/\u001b[0m\u001b[0mmnist_recon\u001b[0m\u001b[0;34m.\u001b[0m\u001b[0mn_features_\u001b[0m \u001b[0;34m+\u001b[0m \u001b[0mpca\u001b[0m\u001b[0;34m.\u001b[0m\u001b[0mn_components_\u001b[0m\u001b[0;34m/\u001b[0m\u001b[0mmnist_recon\u001b[0m\u001b[0;34m.\u001b[0m\u001b[0mn_samples_\u001b[0m\u001b[0;34m\u001b[0m\u001b[0;34m\u001b[0m\u001b[0m\n\u001b[0m\u001b[1;32m      2\u001b[0m \u001b[0mspace_ratio\u001b[0m \u001b[0;31m# 원래 저장 공간의 약 2%만 있어도 위 실행 결과 정도의 근사가 가능\u001b[0m\u001b[0;34m\u001b[0m\u001b[0;34m\u001b[0m\u001b[0m\n",
            "\u001b[0;32m/usr/local/lib/python3.8/dist-packages/pandas/core/generic.py\u001b[0m in \u001b[0;36m__getattr__\u001b[0;34m(self, name)\u001b[0m\n\u001b[1;32m   5485\u001b[0m         ):\n\u001b[1;32m   5486\u001b[0m             \u001b[0;32mreturn\u001b[0m \u001b[0mself\u001b[0m\u001b[0;34m[\u001b[0m\u001b[0mname\u001b[0m\u001b[0;34m]\u001b[0m\u001b[0;34m\u001b[0m\u001b[0;34m\u001b[0m\u001b[0m\n\u001b[0;32m-> 5487\u001b[0;31m         \u001b[0;32mreturn\u001b[0m \u001b[0mobject\u001b[0m\u001b[0;34m.\u001b[0m\u001b[0m__getattribute__\u001b[0m\u001b[0;34m(\u001b[0m\u001b[0mself\u001b[0m\u001b[0;34m,\u001b[0m \u001b[0mname\u001b[0m\u001b[0;34m)\u001b[0m\u001b[0;34m\u001b[0m\u001b[0;34m\u001b[0m\u001b[0m\n\u001b[0m\u001b[1;32m   5488\u001b[0m \u001b[0;34m\u001b[0m\u001b[0m\n\u001b[1;32m   5489\u001b[0m     \u001b[0;32mdef\u001b[0m \u001b[0m__setattr__\u001b[0m\u001b[0;34m(\u001b[0m\u001b[0mself\u001b[0m\u001b[0;34m,\u001b[0m \u001b[0mname\u001b[0m\u001b[0;34m:\u001b[0m \u001b[0mstr\u001b[0m\u001b[0;34m,\u001b[0m \u001b[0mvalue\u001b[0m\u001b[0;34m)\u001b[0m \u001b[0;34m->\u001b[0m \u001b[0;32mNone\u001b[0m\u001b[0;34m:\u001b[0m\u001b[0;34m\u001b[0m\u001b[0;34m\u001b[0m\u001b[0m\n",
            "\u001b[0;31mAttributeError\u001b[0m: 'DataFrame' object has no attribute 'n_features_'"
          ]
        }
      ]
    },
    {
      "cell_type": "markdown",
      "source": [
        "#### 설명된 분산\n",
        "16개 주성분에 보존된 원래 데이터의 분산"
      ],
      "metadata": {
        "id": "3_z84jtfQRSm"
      }
    },
    {
      "cell_type": "markdown",
      "source": [
        "explained_variance_ 속성 : 각 주성분에 의해 설명된 분산을 반환\n",
        "- 주성분의 순서대로 큰 분산이므로 내림차순\n",
        "- 원래 데이터셋에 대한 공분산 행렬의 가장 큰 16개의 고윳값\n",
        "- explained_variance_ratio_ 속성 : 원래 데이터의 전체 분산 중 각 주성분에 의해 설명된 분산의 비율"
      ],
      "metadata": {
        "id": "3drNPNSxRRay"
      }
    },
    {
      "cell_type": "code",
      "source": [
        "# 각 주성분에 의해 설명된 분산과 분산의 비율 구하기\n",
        "print(pca.explained_variance_)\n",
        "print(pca.explained_variance_ratio_)"
      ],
      "metadata": {
        "colab": {
          "base_uri": "https://localhost:8080/"
        },
        "id": "4HCQZXIcQYIx",
        "outputId": "717dbadf-95dd-4417-f05b-8a314c1ba7c6"
      },
      "execution_count": 22,
      "outputs": [
        {
          "output_type": "stream",
          "name": "stdout",
          "text": [
            "[333721.15996859 242964.56161287 214452.15220903 187523.14782656\n",
            " 167177.12080772 147160.86124407 112075.17889993  99222.77795857\n",
            "  94530.57718521  80904.70141922  72997.80223065  68849.15666596\n",
            "  58560.50644168  58198.82157855  54135.54907775  50222.78411652]\n",
            "[0.09722679 0.07078564 0.06247879 0.05463326 0.04870562 0.04287405\n",
            " 0.03265214 0.0289077  0.02754067 0.02357089 0.02126728 0.02005861\n",
            " 0.0170611  0.01695573 0.01577193 0.01463198]\n"
          ]
        }
      ]
    },
    {
      "cell_type": "code",
      "source": [
        "# 원래 데이터의 전체 분산 중 주성분에 의해 설명된 총 분산의 비율\n",
        "np.sum(pca.explained_variance_ratio_)\n",
        "# 전체 분산의 60%를 설명"
      ],
      "metadata": {
        "colab": {
          "base_uri": "https://localhost:8080/"
        },
        "id": "tvGTdsGrUhb5",
        "outputId": "b69c2937-d792-49c8-d7b4-e81a5fef9079"
      },
      "execution_count": 23,
      "outputs": [
        {
          "output_type": "execute_result",
          "data": {
            "text/plain": [
              "0.5951221705845164"
            ]
          },
          "metadata": {},
          "execution_count": 23
        }
      ]
    },
    {
      "cell_type": "markdown",
      "source": [
        "#### 설명된 분산과 고윳값의 관계 검증\n",
        "$⋆$ 각 주성분에 의해 설명되는 분산은 원래 데이터셋에 대한 공분산 행렬의 고윳값과 동일"
      ],
      "metadata": {
        "id": "LJxjseace-Ns"
      }
    },
    {
      "cell_type": "markdown",
      "source": [
        "- np.cov() 함수 : 공분산 행렬 계산\n",
        "- np.linalg.eigh() 함수 : 대칭행렬에 대한 (고윳값 리스트, 고유벡터 리스트) 반환\n",
        " - 공분산 행렬은 대칭행렬"
      ],
      "metadata": {
        "id": "ufab245Mj5kL"
      }
    },
    {
      "cell_type": "code",
      "source": [
        "# 열을 변수(특성)로 mnist의 공분산 행렬 계산\n",
        "m_cov = np.cov(mnist, rowvar=False) # True or False\n",
        "# 고윳값과 고유벡터 계산\n",
        "e_val, e_vec = np.linalg.eigh(m_cov)\n",
        "# 가장 큰 16개의 고윳값을 확인; 위에서 구한 설명된 분산과 동일 (힌트: np.sort())\n",
        "print(np.sort(e_val)) # 기술적 문제로 근소한 차이가 날 수 있음"
      ],
      "metadata": {
        "id": "k2urDRZLiLuH"
      },
      "execution_count": null,
      "outputs": []
    },
    {
      "cell_type": "markdown",
      "source": [
        "#### 주성분 개수의 결정\n",
        ">$\\frac{\\sum_{k=1}^{L}λ_k}{\\sum_{k=1}^{p}λ_k}\\geqslant0.9$를 만족하는 가장 작은 $L$을 채택\n",
        "- 앞선 검증에 의해, 이 수식은 설명된 총 분산의 비율이 0.9 이상인 것과 동치"
      ],
      "metadata": {
        "id": "ObrkhUdldZzo"
      }
    },
    {
      "cell_type": "code",
      "source": [
        "# 위에서 확인한 결과 60%의 분산을 설명하므로 다시 학습\n",
        "# 95%의 분산을 설명하도록 학습한 다음 scree plot을 그려 90% 지점 확인\n",
        "pca = PCA(n_components = 0.95) # 설명할 총 분산 비율의 임계값으로 지정 가능\n",
        "mnist_reduced = pca.fit_transform(mnist)\n",
        "print(pca.n_components_) # 학습된 주성분의 개수 확인\n",
        "\n",
        "# scree plot 겹쳐 그리기\n",
        "fig, ax1 = plt.subplots(figsize=(10,7))\n",
        "# 1. 각 주성분이 설명하는 분산 비율\n",
        "ax1.plot(pca.explained_variance_ratio_, color='b')\n",
        "ax1.set_xlabel('n_components')\n",
        "ax1.set_ylabel('ratio of n-th component', color='b')\n",
        "ax1.set_xticks(np.arange(0,151,15))\n",
        "ax1.grid(axis='x')\n",
        "# 2. n개의 주성분이 설명하는 총 분산 비율\n",
        "ax2 = ax1.twinx()\n",
        "ax2.plot(np.cumsum(pca.explained_variance_ratio_), color='m') # 누적합\n",
        "ax2.set_ylabel('total explained variance', color='m')\n",
        "ax2.set_yticks(np.arange(0,1.1,0.1))\n",
        "ax2.axhline(y=0.9, color='springgreen')\n",
        "ax2.axvspan(45, 60, alpha=0.3, color='gold')\n",
        "plt.show()\n",
        "\n",
        "# 분산의 95%를 설명하려면 153개의 주성분 필요\n",
        "# 분산의 90%를 설명하려면 85~90개의 주성분 필요; 초록색과 자주색 교점 확인\n",
        "# 엘보우 방법에 의하면 45~60개의 주성분 필요; 노란색 영역 확인"
      ],
      "metadata": {
        "colab": {
          "base_uri": "https://localhost:8080/",
          "height": 465
        },
        "id": "R397-HpdYERK",
        "outputId": "68106fb3-d2c6-449a-b60f-d15909301c24"
      },
      "execution_count": 33,
      "outputs": [
        {
          "output_type": "stream",
          "name": "stdout",
          "text": [
            "153\n"
          ]
        },
        {
          "output_type": "display_data",
          "data": {
            "text/plain": [
              "<Figure size 720x504 with 2 Axes>"
            ],
            "image/png": "[encoded data removed]"
          },
          "metadata": {
            "needs_background": "light"
          }
        }
      ]
    },
    {
      "cell_type": "markdown",
      "source": [
        "수고하셨습니다!"
      ],
      "metadata": {
        "id": "RgCM8zyiXexO"
      }
    }
  ]
}