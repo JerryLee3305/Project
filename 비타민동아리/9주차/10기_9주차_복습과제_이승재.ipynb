{
  "nbformat": 4,
  "nbformat_minor": 0,
  "metadata": {
    "colab": {
      "provenance": [],
      "collapsed_sections": []
    },
    "kernelspec": {
      "name": "python3",
      "display_name": "Python 3"
    },
    "language_info": {
      "name": "python"
    }
  },
  "cells": [
    {
      "cell_type": "markdown",
      "source": [
        "# 결정트리 복습과제 "
      ],
      "metadata": {
        "id": "snBThiLA0HBG"
      }
    },
    {
      "cell_type": "code",
      "execution_count": 1,
      "metadata": {
        "id": "qDJTtWYuz_rT"
      },
      "outputs": [],
      "source": [
        "import pandas as pd\n",
        "import numpy as np\n",
        "import matplotlib.pyplot as plt\n",
        "import warnings\n",
        "warnings.filterwarnings('ignore')"
      ]
    },
    {
      "cell_type": "markdown",
      "source": [
        "## 결정트리 회귀 - 외삽"
      ],
      "metadata": {
        "id": "lMWsMf130ZzJ"
      }
    },
    {
      "cell_type": "code",
      "source": [
        "from google.colab import files\n",
        "files.upload()"
      ],
      "metadata": {
        "colab": {
          "base_uri": "https://localhost:8080/",
          "height": 133
        },
        "id": "jbzUEfah0U-Q",
        "outputId": "543da44d-a833-482d-bed5-3948eb443a18"
      },
      "execution_count": 2,
      "outputs": [
        {
          "output_type": "display_data",
          "data": {
            "text/plain": [
              "<IPython.core.display.HTML object>"
            ],
            "text/html": [
              "\n",
              "     <input type=\"file\" id=\"files-e78d26b3-749a-401e-ace3-affd56dd48ec\" name=\"files[]\" multiple disabled\n",
              "        style=\"border:none\" />\n",
              "     <output id=\"result-e78d26b3-749a-401e-ace3-affd56dd48ec\">\n",
              "      Upload widget is only available when the cell has been executed in the\n",
              "      current browser session. Please rerun this cell to enable.\n",
              "      </output>\n",
              "      <script>// Copyright 2017 Google LLC\n",
              "//\n",
              "// Licensed under the Apache License, Version 2.0 (the \"License\");\n",
              "// you may not use this file except in compliance with the License.\n",
              "// You may obtain a copy of the License at\n",
              "//\n",
              "//      http://www.apache.org/licenses/LICENSE-2.0\n",
              "//\n",
              "// Unless required by applicable law or agreed to in writing, software\n",
              "// distributed under the License is distributed on an \"AS IS\" BASIS,\n",
              "// WITHOUT WARRANTIES OR CONDITIONS OF ANY KIND, either express or implied.\n",
              "// See the License for the specific language governing permissions and\n",
              "// limitations under the License.\n",
              "\n",
              "/**\n",
              " * @fileoverview Helpers for google.colab Python module.\n",
              " */\n",
              "(function(scope) {\n",
              "function span(text, styleAttributes = {}) {\n",
              "  const element = document.createElement('span');\n",
              "  element.textContent = text;\n",
              "  for (const key of Object.keys(styleAttributes)) {\n",
              "    element.style[key] = styleAttributes[key];\n",
              "  }\n",
              "  return element;\n",
              "}\n",
              "\n",
              "// Max number of bytes which will be uploaded at a time.\n",
              "const MAX_PAYLOAD_SIZE = 100 * 1024;\n",
              "\n",
              "function _uploadFiles(inputId, outputId) {\n",
              "  const steps = uploadFilesStep(inputId, outputId);\n",
              "  const outputElement = document.getElementById(outputId);\n",
              "  // Cache steps on the outputElement to make it available for the next call\n",
              "  // to uploadFilesContinue from Python.\n",
              "  outputElement.steps = steps;\n",
              "\n",
              "  return _uploadFilesContinue(outputId);\n",
              "}\n",
              "\n",
              "// This is roughly an async generator (not supported in the browser yet),\n",
              "// where there are multiple asynchronous steps and the Python side is going\n",
              "// to poll for completion of each step.\n",
              "// This uses a Promise to block the python side on completion of each step,\n",
              "// then passes the result of the previous step as the input to the next step.\n",
              "function _uploadFilesContinue(outputId) {\n",
              "  const outputElement = document.getElementById(outputId);\n",
              "  const steps = outputElement.steps;\n",
              "\n",
              "  const next = steps.next(outputElement.lastPromiseValue);\n",
              "  return Promise.resolve(next.value.promise).then((value) => {\n",
              "    // Cache the last promise value to make it available to the next\n",
              "    // step of the generator.\n",
              "    outputElement.lastPromiseValue = value;\n",
              "    return next.value.response;\n",
              "  });\n",
              "}\n",
              "\n",
              "/**\n",
              " * Generator function which is called between each async step of the upload\n",
              " * process.\n",
              " * @param {string} inputId Element ID of the input file picker element.\n",
              " * @param {string} outputId Element ID of the output display.\n",
              " * @return {!Iterable<!Object>} Iterable of next steps.\n",
              " */\n",
              "function* uploadFilesStep(inputId, outputId) {\n",
              "  const inputElement = document.getElementById(inputId);\n",
              "  inputElement.disabled = false;\n",
              "\n",
              "  const outputElement = document.getElementById(outputId);\n",
              "  outputElement.innerHTML = '';\n",
              "\n",
              "  const pickedPromise = new Promise((resolve) => {\n",
              "    inputElement.addEventListener('change', (e) => {\n",
              "      resolve(e.target.files);\n",
              "    });\n",
              "  });\n",
              "\n",
              "  const cancel = document.createElement('button');\n",
              "  inputElement.parentElement.appendChild(cancel);\n",
              "  cancel.textContent = 'Cancel upload';\n",
              "  const cancelPromise = new Promise((resolve) => {\n",
              "    cancel.onclick = () => {\n",
              "      resolve(null);\n",
              "    };\n",
              "  });\n",
              "\n",
              "  // Wait for the user to pick the files.\n",
              "  const files = yield {\n",
              "    promise: Promise.race([pickedPromise, cancelPromise]),\n",
              "    response: {\n",
              "      action: 'starting',\n",
              "    }\n",
              "  };\n",
              "\n",
              "  cancel.remove();\n",
              "\n",
              "  // Disable the input element since further picks are not allowed.\n",
              "  inputElement.disabled = true;\n",
              "\n",
              "  if (!files) {\n",
              "    return {\n",
              "      response: {\n",
              "        action: 'complete',\n",
              "      }\n",
              "    };\n",
              "  }\n",
              "\n",
              "  for (const file of files) {\n",
              "    const li = document.createElement('li');\n",
              "    li.append(span(file.name, {fontWeight: 'bold'}));\n",
              "    li.append(span(\n",
              "        `(${file.type || 'n/a'}) - ${file.size} bytes, ` +\n",
              "        `last modified: ${\n",
              "            file.lastModifiedDate ? file.lastModifiedDate.toLocaleDateString() :\n",
              "                                    'n/a'} - `));\n",
              "    const percent = span('0% done');\n",
              "    li.appendChild(percent);\n",
              "\n",
              "    outputElement.appendChild(li);\n",
              "\n",
              "    const fileDataPromise = new Promise((resolve) => {\n",
              "      const reader = new FileReader();\n",
              "      reader.onload = (e) => {\n",
              "        resolve(e.target.result);\n",
              "      };\n",
              "      reader.readAsArrayBuffer(file);\n",
              "    });\n",
              "    // Wait for the data to be ready.\n",
              "    let fileData = yield {\n",
              "      promise: fileDataPromise,\n",
              "      response: {\n",
              "        action: 'continue',\n",
              "      }\n",
              "    };\n",
              "\n",
              "    // Use a chunked sending to avoid message size limits. See b/62115660.\n",
              "    let position = 0;\n",
              "    do {\n",
              "      const length = Math.min(fileData.byteLength - position, MAX_PAYLOAD_SIZE);\n",
              "      const chunk = new Uint8Array(fileData, position, length);\n",
              "      position += length;\n",
              "\n",
              "      const base64 = btoa(String.fromCharCode.apply(null, chunk));\n",
              "      yield {\n",
              "        response: {\n",
              "          action: 'append',\n",
              "          file: file.name,\n",
              "          data: base64,\n",
              "        },\n",
              "      };\n",
              "\n",
              "      let percentDone = fileData.byteLength === 0 ?\n",
              "          100 :\n",
              "          Math.round((position / fileData.byteLength) * 100);\n",
              "      percent.textContent = `${percentDone}% done`;\n",
              "\n",
              "    } while (position < fileData.byteLength);\n",
              "  }\n",
              "\n",
              "  // All done.\n",
              "  yield {\n",
              "    response: {\n",
              "      action: 'complete',\n",
              "    }\n",
              "  };\n",
              "}\n",
              "\n",
              "scope.google = scope.google || {};\n",
              "scope.google.colab = scope.google.colab || {};\n",
              "scope.google.colab._files = {\n",
              "  _uploadFiles,\n",
              "  _uploadFilesContinue,\n",
              "};\n",
              "})(self);\n",
              "</script> "
            ]
          },
          "metadata": {}
        },
        {
          "output_type": "stream",
          "name": "stdout",
          "text": [
            "Saving ram_price.csv to ram_price.csv\n"
          ]
        },
        {
          "output_type": "execute_result",
          "data": {
            "text/plain": [
              "{'ram_price.csv': b'date,price\\r\\n1957,411041792\\r\\n1959,67947725\\r\\n1960,5242880\\r\\n1965,2642412\\r\\n1970,734003\\r\\n1973,399360\\r\\n1974,314573\\r\\n1975,421888\\r\\n1975.08,180224\\r\\n1975.25,67584\\r\\n1975.75,49920\\r\\n1976,40704\\r\\n1976.17,48960\\r\\n1976.42,23040\\r\\n1976.58,32000\\r\\n1977.08,36800\\r\\n1978.17,28000\\r\\n1978.25,29440\\r\\n1978.33,19200\\r\\n1978.5,24000\\r\\n1978.58,16000\\r\\n1978.75,15200\\r\\n1979,10528\\r\\n1979.75,6704\\r\\n1980,6480\\r\\n1981,8800\\r\\n1981.58,4479\\r\\n1982,3520\\r\\n1982.17,4464\\r\\n1982.67,1980\\r\\n1983,2396\\r\\n1983.67,1980\\r\\n1984,1379\\r\\n1984.58,1331\\r\\n1985,880\\r\\n1985.33,720\\r\\n1985.42,550\\r\\n1985.5,420\\r\\n1985.58,350\\r\\n1985.67,300\\r\\n1985.83,300\\r\\n1985.92,300\\r\\n1986,300\\r\\n1986.08,300\\r\\n1986.17,300\\r\\n1986.25,300\\r\\n1986.33,190\\r\\n1986.42,190\\r\\n1986.5,190\\r\\n1986.58,190\\r\\n1986.67,190\\r\\n1986.75,190\\r\\n1986.92,190\\r\\n1987,176\\r\\n1987.08,176\\r\\n1987.17,157\\r\\n1987.25,154\\r\\n1987.33,154\\r\\n1987.42,154\\r\\n1987.5,154\\r\\n1987.58,154\\r\\n1987.67,163\\r\\n1987.75,133\\r\\n1987.83,163\\r\\n1987.92,163\\r\\n1988,163\\r\\n1988.08,182\\r\\n1988.17,199\\r\\n1988.33,199\\r\\n1988.42,199\\r\\n1988.5,505\\r\\n1988.58,505\\r\\n1988.67,505\\r\\n1988.75,505\\r\\n1988.83,505\\r\\n1988.92,505\\r\\n1989,505\\r\\n1989.08,505\\r\\n1989.17,505\\r\\n1989.25,505\\r\\n1989.42,344\\r\\n1989.5,197\\r\\n1989.58,188\\r\\n1989.67,188\\r\\n1989.75,128\\r\\n1989.83,117\\r\\n1989.92,113\\r\\n1990,106\\r\\n1990.17,98.3\\r\\n1990.33,98.3\\r\\n1990.42,89.5\\r\\n1990.5,82.8\\r\\n1990.58,81.1\\r\\n1990.67,71.5\\r\\n1990.75,59\\r\\n1990.83,51\\r\\n1990.92,45.5\\r\\n1991,44.5\\r\\n1991.08,44.5\\r\\n1991.17,45\\r\\n1991.25,45\\r\\n1991.33,45\\r\\n1991.42,43.8\\r\\n1991.5,43.8\\r\\n1991.58,41.3\\r\\n1991.67,46.3\\r\\n1991.75,45\\r\\n1991.83,39.8\\r\\n1991.92,39.8\\r\\n1992,36.3\\r\\n1992.08,36.3\\r\\n1992.17,36.3\\r\\n1992.25,34.8\\r\\n1992.33,30\\r\\n1992.42,32.5\\r\\n1992.5,33.5\\r\\n1992.58,31\\r\\n1992.67,27.5\\r\\n1992.75,26.3\\r\\n1992.83,26.3\\r\\n1992.92,26.3\\r\\n1993,33.1\\r\\n1993.08,27.5\\r\\n1993.17,27.5\\r\\n1993.25,27.5\\r\\n1993.33,27.5\\r\\n1993.42,30\\r\\n1993.5,30\\r\\n1993.58,30\\r\\n1993.67,30\\r\\n1993.75,36\\r\\n1993.83,39.8\\r\\n1993.92,35.8\\r\\n1994,35.8\\r\\n1994.08,35.8\\r\\n1994.17,36\\r\\n1994.25,37.3\\r\\n1994.33,37.3\\r\\n1994.42,37.3\\r\\n1994.5,38.5\\r\\n1994.58,37\\r\\n1994.67,34\\r\\n1994.75,33.5\\r\\n1994.83,32.3\\r\\n1994.92,32.3\\r\\n1995,32.3\\r\\n1995.08,32\\r\\n1995.17,32\\r\\n1995.25,31.2\\r\\n1995.33,31.2\\r\\n1995.42,31.1\\r\\n1995.5,31.2\\r\\n1995.58,30.6\\r\\n1995.67,33.1\\r\\n1995.75,33.1\\r\\n1995.83,30.9\\r\\n1995.92,30.9\\r\\n1996,29.9\\r\\n1996.08,28.8\\r\\n1996.17,26.1\\r\\n1996.25,24.7\\r\\n1996.33,17.2\\r\\n1996.42,14.9\\r\\n1996.5,11.3\\r\\n1996.58,9.06\\r\\n1996.67,8.44\\r\\n1996.75,8\\r\\n1996.83,5.25\\r\\n1996.92,5.25\\r\\n1997,4.63\\r\\n1997.08,3.63\\r\\n1997.17,3\\r\\n1997.25,3\\r\\n1997.33,3\\r\\n1997.42,3.69\\r\\n1997.5,4\\r\\n1997.58,4.13\\r\\n1997.67,3.63\\r\\n1997.75,3.41\\r\\n1997.83,3.25\\r\\n1997.92,2.16\\r\\n1998,2.16\\r\\n1998.08,0.91\\r\\n1998.17,0.97\\r\\n1998.25,1.22\\r\\n1998.33,1.19\\r\\n1998.42,0.97\\r\\n1998.58,1.03\\r\\n1998.67,0.97\\r\\n1998.75,1.16\\r\\n1998.83,0.84\\r\\n1998.92,0.84\\r\\n1999.08,1.44\\r\\n1999.13,0.84\\r\\n1999.17,1.25\\r\\n1999.25,1.25\\r\\n1999.33,0.86\\r\\n1999.5,0.78\\r\\n1999.67,0.87\\r\\n1999.75,1.04\\r\\n1999.83,1.34\\r\\n1999.92,2.35\\r\\n2000,1.56\\r\\n2000.08,1.48\\r\\n2000.17,1.08\\r\\n2000.25,0.84\\r\\n2000.33,0.7\\r\\n2000.42,0.9\\r\\n2000.5,0.77\\r\\n2000.58,0.84\\r\\n2000.67,1.07\\r\\n2000.75,1.12\\r\\n2000.83,1.12\\r\\n2000.92,0.9\\r\\n2001,0.75\\r\\n2001.08,0.464\\r\\n2001.17,0.464\\r\\n2001.25,0.383\\r\\n2001.33,0.387\\r\\n2001.42,0.305\\r\\n2001.5,0.352\\r\\n2001.5,0.27\\r\\n2001.58,0.191\\r\\n2001.67,0.191\\r\\n2001.75,0.169\\r\\n2001.77,0.148\\r\\n2002.08,0.134\\r\\n2002.08,0.207\\r\\n2002.25,0.193\\r\\n2002.33,0.193\\r\\n2002.42,0.33\\r\\n2002.58,0.193\\r\\n2002.75,0.193\\r\\n2003.17,0.176\\r\\n2003.25,0.076\\r\\n2003.33,0.126\\r\\n2003.42,0.115\\r\\n2003.5,0.133\\r\\n2003.58,0.129\\r\\n2003.67,0.143\\r\\n2003.75,0.148\\r\\n2003.83,0.16\\r\\n2003.99,0.166\\r\\n2004,0.174\\r\\n2004.08,0.148\\r\\n2004.17,0.146\\r\\n2004.33,0.156\\r\\n2004.42,0.203\\r\\n2004.5,0.176\\r\\n2005.25,0.185\\r\\n2005.42,0.149\\r\\n2005.83,0.116\\r\\n2005.92,0.185\\r\\n2006.17,0.112\\r\\n2006.33,0.073\\r\\n2006.5,0.082\\r\\n2006.67,0.073\\r\\n2006.75,0.088\\r\\n2006.83,0.098\\r\\n2006.99,0.092\\r\\n2007,0.082\\r\\n2007.08,0.078\\r\\n2007.17,0.066\\r\\n2007.33,0.0464\\r\\n2007.5,0.0386\\r\\n2007.67,0.0351\\r\\n2007.75,0.0322\\r\\n2007.83,0.0244\\r\\n2007.92,0.0244\\r\\n2008,0.0232\\r\\n2008.08,0.022\\r\\n2008.33,0.022\\r\\n2008.5,0.0207\\r\\n2008.58,0.0176\\r\\n2008.67,0.0146\\r\\n2008.83,0.011\\r\\n2008.92,0.0098\\r\\n2009,0.0098\\r\\n2009.08,0.0107\\r\\n2009.25,0.0105\\r\\n2009.42,0.0115\\r\\n2009.5,0.011\\r\\n2009.58,0.0127\\r\\n2009.75,0.0183\\r\\n2009.92,0.0205\\r\\n2010,0.019\\r\\n2010.08,0.0202\\r\\n2010.17,0.0195\\r\\n2010.33,0.0242\\r\\n2010.5,0.021\\r\\n2010.58,0.022\\r\\n2010.75,0.0171\\r\\n2010.83,0.0146\\r\\n2010.92,0.0122\\r\\n2011,0.01\\r\\n2011.08,0.0103\\r\\n2011.33,0.01\\r\\n2011.42,0.0085\\r\\n2011.67,0.0054\\r\\n2011.75,0.0051\\r\\n2012,0.0049\\r\\n2012.08,0.0049\\r\\n2012.25,0.005\\r\\n2012.33,0.0049\\r\\n2012.58,0.0048\\r\\n2012.67,0.004\\r\\n2012.83,0.0037\\r\\n2013,0.0043\\r\\n2013.08,0.0054\\r\\n2013.33,0.0067\\r\\n2013.42,0.0061\\r\\n2013.58,0.0073\\r\\n2013.67,0.0065\\r\\n2013.75,0.0082\\r\\n2013.83,0.0085\\r\\n2013.92,0.0079\\r\\n2014.08,0.0095\\r\\n2014.17,0.0079\\r\\n2014.25,0.0073\\r\\n2014.42,0.0079\\r\\n2014.58,0.0085\\r\\n2014.67,0.0085\\r\\n2014.83,0.0085\\r\\n2015,0.0078\\r\\n2015.08,0.0073\\r\\n2015.25,0.0061\\r\\n2015.33,0.0056\\r\\n2015.5,0.0049\\r\\n2015.58,0.0045\\r\\n2015.67,0.0043\\r\\n2015.75,0.0042\\r\\n2015.83,0.0038\\r\\n2015.92,0.0037\\r\\n'}"
            ]
          },
          "metadata": {},
          "execution_count": 2
        }
      ]
    },
    {
      "cell_type": "code",
      "source": [
        "ram_price=pd.read_csv('ram_price.csv') #데이터 불러오기\n",
        "ram_price"
      ],
      "metadata": {
        "colab": {
          "base_uri": "https://localhost:8080/",
          "height": 424
        },
        "id": "-WgUlhMy0z7X",
        "outputId": "4a9ce00a-bbe2-4d5f-a7c2-5e81cee947c0"
      },
      "execution_count": 3,
      "outputs": [
        {
          "output_type": "execute_result",
          "data": {
            "text/plain": [
              "        date         price\n",
              "0    1957.00  4.110418e+08\n",
              "1    1959.00  6.794772e+07\n",
              "2    1960.00  5.242880e+06\n",
              "3    1965.00  2.642412e+06\n",
              "4    1970.00  7.340030e+05\n",
              "..       ...           ...\n",
              "328  2015.58  4.500000e-03\n",
              "329  2015.67  4.300000e-03\n",
              "330  2015.75  4.200000e-03\n",
              "331  2015.83  3.800000e-03\n",
              "332  2015.92  3.700000e-03\n",
              "\n",
              "[333 rows x 2 columns]"
            ],
            "text/html": [
              "\n",
              "  <div id=\"df-8a8658c6-4b60-4696-b67e-5b0b50cf31af\">\n",
              "    <div class=\"colab-df-container\">\n",
              "      <div>\n",
              "<style scoped>\n",
              "    .dataframe tbody tr th:only-of-type {\n",
              "        vertical-align: middle;\n",
              "    }\n",
              "\n",
              "    .dataframe tbody tr th {\n",
              "        vertical-align: top;\n",
              "    }\n",
              "\n",
              "    .dataframe thead th {\n",
              "        text-align: right;\n",
              "    }\n",
              "</style>\n",
              "<table border=\"1\" class=\"dataframe\">\n",
              "  <thead>\n",
              "    <tr style=\"text-align: right;\">\n",
              "      <th></th>\n",
              "      <th>date</th>\n",
              "      <th>price</th>\n",
              "    </tr>\n",
              "  </thead>\n",
              "  <tbody>\n",
              "    <tr>\n",
              "      <th>0</th>\n",
              "      <td>1957.00</td>\n",
              "      <td>4.110418e+08</td>\n",
              "    </tr>\n",
              "    <tr>\n",
              "      <th>1</th>\n",
              "      <td>1959.00</td>\n",
              "      <td>6.794772e+07</td>\n",
              "    </tr>\n",
              "    <tr>\n",
              "      <th>2</th>\n",
              "      <td>1960.00</td>\n",
              "      <td>5.242880e+06</td>\n",
              "    </tr>\n",
              "    <tr>\n",
              "      <th>3</th>\n",
              "      <td>1965.00</td>\n",
              "      <td>2.642412e+06</td>\n",
              "    </tr>\n",
              "    <tr>\n",
              "      <th>4</th>\n",
              "      <td>1970.00</td>\n",
              "      <td>7.340030e+05</td>\n",
              "    </tr>\n",
              "    <tr>\n",
              "      <th>...</th>\n",
              "      <td>...</td>\n",
              "      <td>...</td>\n",
              "    </tr>\n",
              "    <tr>\n",
              "      <th>328</th>\n",
              "      <td>2015.58</td>\n",
              "      <td>4.500000e-03</td>\n",
              "    </tr>\n",
              "    <tr>\n",
              "      <th>329</th>\n",
              "      <td>2015.67</td>\n",
              "      <td>4.300000e-03</td>\n",
              "    </tr>\n",
              "    <tr>\n",
              "      <th>330</th>\n",
              "      <td>2015.75</td>\n",
              "      <td>4.200000e-03</td>\n",
              "    </tr>\n",
              "    <tr>\n",
              "      <th>331</th>\n",
              "      <td>2015.83</td>\n",
              "      <td>3.800000e-03</td>\n",
              "    </tr>\n",
              "    <tr>\n",
              "      <th>332</th>\n",
              "      <td>2015.92</td>\n",
              "      <td>3.700000e-03</td>\n",
              "    </tr>\n",
              "  </tbody>\n",
              "</table>\n",
              "<p>333 rows × 2 columns</p>\n",
              "</div>\n",
              "      <button class=\"colab-df-convert\" onclick=\"convertToInteractive('df-8a8658c6-4b60-4696-b67e-5b0b50cf31af')\"\n",
              "              title=\"Convert this dataframe to an interactive table.\"\n",
              "              style=\"display:none;\">\n",
              "        \n",
              "  <svg xmlns=\"http://www.w3.org/2000/svg\" height=\"24px\"viewBox=\"0 0 24 24\"\n",
              "       width=\"24px\">\n",
              "    <path d=\"M0 0h24v24H0V0z\" fill=\"none\"/>\n",
              "    <path d=\"M18.56 5.44l.94 2.06.94-2.06 2.06-.94-2.06-.94-.94-2.06-.94 2.06-2.06.94zm-11 1L8.5 8.5l.94-2.06 2.06-.94-2.06-.94L8.5 2.5l-.94 2.06-2.06.94zm10 10l.94 2.06.94-2.06 2.06-.94-2.06-.94-.94-2.06-.94 2.06-2.06.94z\"/><path d=\"M17.41 7.96l-1.37-1.37c-.4-.4-.92-.59-1.43-.59-.52 0-1.04.2-1.43.59L10.3 9.45l-7.72 7.72c-.78.78-.78 2.05 0 2.83L4 21.41c.39.39.9.59 1.41.59.51 0 1.02-.2 1.41-.59l7.78-7.78 2.81-2.81c.8-.78.8-2.07 0-2.86zM5.41 20L4 18.59l7.72-7.72 1.47 1.35L5.41 20z\"/>\n",
              "  </svg>\n",
              "      </button>\n",
              "      \n",
              "  <style>\n",
              "    .colab-df-container {\n",
              "      display:flex;\n",
              "      flex-wrap:wrap;\n",
              "      gap: 12px;\n",
              "    }\n",
              "\n",
              "    .colab-df-convert {\n",
              "      background-color: #E8F0FE;\n",
              "      border: none;\n",
              "      border-radius: 50%;\n",
              "      cursor: pointer;\n",
              "      display: none;\n",
              "      fill: #1967D2;\n",
              "      height: 32px;\n",
              "      padding: 0 0 0 0;\n",
              "      width: 32px;\n",
              "    }\n",
              "\n",
              "    .colab-df-convert:hover {\n",
              "      background-color: #E2EBFA;\n",
              "      box-shadow: 0px 1px 2px rgba(60, 64, 67, 0.3), 0px 1px 3px 1px rgba(60, 64, 67, 0.15);\n",
              "      fill: #174EA6;\n",
              "    }\n",
              "\n",
              "    [theme=dark] .colab-df-convert {\n",
              "      background-color: #3B4455;\n",
              "      fill: #D2E3FC;\n",
              "    }\n",
              "\n",
              "    [theme=dark] .colab-df-convert:hover {\n",
              "      background-color: #434B5C;\n",
              "      box-shadow: 0px 1px 3px 1px rgba(0, 0, 0, 0.15);\n",
              "      filter: drop-shadow(0px 1px 2px rgba(0, 0, 0, 0.3));\n",
              "      fill: #FFFFFF;\n",
              "    }\n",
              "  </style>\n",
              "\n",
              "      <script>\n",
              "        const buttonEl =\n",
              "          document.querySelector('#df-8a8658c6-4b60-4696-b67e-5b0b50cf31af button.colab-df-convert');\n",
              "        buttonEl.style.display =\n",
              "          google.colab.kernel.accessAllowed ? 'block' : 'none';\n",
              "\n",
              "        async function convertToInteractive(key) {\n",
              "          const element = document.querySelector('#df-8a8658c6-4b60-4696-b67e-5b0b50cf31af');\n",
              "          const dataTable =\n",
              "            await google.colab.kernel.invokeFunction('convertToInteractive',\n",
              "                                                     [key], {});\n",
              "          if (!dataTable) return;\n",
              "\n",
              "          const docLinkHtml = 'Like what you see? Visit the ' +\n",
              "            '<a target=\"_blank\" href=https://colab.research.google.com/notebooks/data_table.ipynb>data table notebook</a>'\n",
              "            + ' to learn more about interactive tables.';\n",
              "          element.innerHTML = '';\n",
              "          dataTable['output_type'] = 'display_data';\n",
              "          await google.colab.output.renderOutput(dataTable, element);\n",
              "          const docLink = document.createElement('div');\n",
              "          docLink.innerHTML = docLinkHtml;\n",
              "          element.appendChild(docLink);\n",
              "        }\n",
              "      </script>\n",
              "    </div>\n",
              "  </div>\n",
              "  "
            ]
          },
          "metadata": {},
          "execution_count": 3
        }
      ]
    },
    {
      "cell_type": "markdown",
      "source": [
        "년도에 따라 변화하는 램 가격을 시각화 해보겠습니다."
      ],
      "metadata": {
        "id": "1o0BvLmm1Ewh"
      }
    },
    {
      "cell_type": "code",
      "source": [
        "plt.figure(figsize=(15,10))\n",
        "plt.semilogy(ram_price['date'],ram_price['price'])  #price의 min,max 차이가 너무 크기 때문에 log scale(자연로그)로 그려보겠습니다 plt.semilogy\n",
        "plt.xlabel('year')\n",
        "plt.ylabel('price($/Mbyte)')"
      ],
      "metadata": {
        "colab": {
          "base_uri": "https://localhost:8080/",
          "height": 624
        },
        "id": "VYtN75tC1B47",
        "outputId": "50a712e9-38a0-4819-aecb-8e68b8578238"
      },
      "execution_count": 9,
      "outputs": [
        {
          "output_type": "execute_result",
          "data": {
            "text/plain": [
              "Text(0, 0.5, 'price($/Mbyte)')"
            ]
          },
          "metadata": {},
          "execution_count": 9
        },
        {
          "output_type": "display_data",
          "data": {
            "text/plain": [
              "<Figure size 1080x720 with 1 Axes>"
            ],
            "image/png": "[encoded data removed]"
          },
          "metadata": {
            "needs_background": "light"
          }
        }
      ]
    },
    {
      "cell_type": "markdown",
      "source": [
        "시계열 데이터 이므로 미래 가격 예측을 위해 2000년도 전 후로 train,test set을 나누겠습니다."
      ],
      "metadata": {
        "id": "I0C_J5SB2gNK"
      }
    },
    {
      "cell_type": "code",
      "source": [
        "data_train=ram_price[ram_price['date']<2000] #2000미만\n",
        "data_test=ram_price[ram_price['date']>=2000] #2000이상\n",
        "\n",
        "print(data_train.tail())\n",
        "print('\\n')\n",
        "print(data_test.head())"
      ],
      "metadata": {
        "colab": {
          "base_uri": "https://localhost:8080/"
        },
        "id": "RYK0_xaz2g1f",
        "outputId": "c391b8a8-77bf-4ecb-ab87-362ba745e590"
      },
      "execution_count": 10,
      "outputs": [
        {
          "output_type": "stream",
          "name": "stdout",
          "text": [
            "        date  price\n",
            "197  1999.50   0.78\n",
            "198  1999.67   0.87\n",
            "199  1999.75   1.04\n",
            "200  1999.83   1.34\n",
            "201  1999.92   2.35\n",
            "\n",
            "\n",
            "        date  price\n",
            "202  2000.00   1.56\n",
            "203  2000.08   1.48\n",
            "204  2000.17   1.08\n",
            "205  2000.25   0.84\n",
            "206  2000.33   0.70\n"
          ]
        }
      ]
    },
    {
      "cell_type": "code",
      "source": [
        "X_train=np.array(data_train['date']).reshape(-1,2) #data_train의 date를 2차원 형태로 (학습데이터는 2차원이니까) X_train에 저장\n",
        "y_train=np.log(data_train['price'])  #로그변환(자연로그)된 data_train의 price를 y_train에 저장"
      ],
      "metadata": {
        "id": "RrorFFAo3osl"
      },
      "execution_count": 30,
      "outputs": []
    },
    {
      "cell_type": "markdown",
      "source": [
        "회귀 트리의 외삽을 증명하기 위해 선형회귀와 비교해보겠습니다"
      ],
      "metadata": {
        "id": "cffHeFVN5Mb-"
      }
    },
    {
      "cell_type": "code",
      "source": [
        "from sklearn.tree import DecisionTreeRegressor\n",
        "from sklearn.linear_model import LinearRegression\n",
        "\n",
        "#fit 시키세요\n",
        "tree=DecisionTreeRegressor().fit(X_train,y_train)\n",
        "linear_reg=LinearRegression().fit(X_train,y_train)\n",
        "\n",
        "X_all=np.array(ram_price['date']).reshape(-1,1) #ram_price의 모든 date를 입력데이터로 사용\n",
        "\n",
        "#X_all을 각 모델에 predict 적용\n",
        "\n",
        "pred_tree=tree.predict(X_all)\n",
        "pred_lr=linear_reg.predict(X_all)\n",
        "\n",
        "#로그변환된 price로 train시켰으니 predict값을 원래 범위로 다시 변환 (지수 함수)\n",
        "pred_tree=np.exp(pred_tree)\n",
        "pred_lr=np.exp(pred_lr)"
      ],
      "metadata": {
        "id": "nyOVyLN24T7w",
        "colab": {
          "base_uri": "https://localhost:8080/",
          "height": 396
        },
        "outputId": "e5e65a2b-c6da-4786-ea68-e1a91aa14ab3"
      },
      "execution_count": 31,
      "outputs": [
        {
          "output_type": "error",
          "ename": "ValueError",
          "evalue": "ignored",
          "traceback": [
            "\u001b[0;31m---------------------------------------------------------------------------\u001b[0m",
            "\u001b[0;31mValueError\u001b[0m                                Traceback (most recent call last)",
            "\u001b[0;32m<ipython-input-31-c26757da455c>\u001b[0m in \u001b[0;36m<module>\u001b[0;34m\u001b[0m\n\u001b[1;32m      3\u001b[0m \u001b[0;34m\u001b[0m\u001b[0m\n\u001b[1;32m      4\u001b[0m \u001b[0;31m#fit 시키세요\u001b[0m\u001b[0;34m\u001b[0m\u001b[0;34m\u001b[0m\u001b[0;34m\u001b[0m\u001b[0m\n\u001b[0;32m----> 5\u001b[0;31m \u001b[0mtree\u001b[0m\u001b[0;34m=\u001b[0m\u001b[0mDecisionTreeRegressor\u001b[0m\u001b[0;34m(\u001b[0m\u001b[0;34m)\u001b[0m\u001b[0;34m.\u001b[0m\u001b[0mfit\u001b[0m\u001b[0;34m(\u001b[0m\u001b[0mX_train\u001b[0m\u001b[0;34m,\u001b[0m\u001b[0my_train\u001b[0m\u001b[0;34m)\u001b[0m\u001b[0;34m\u001b[0m\u001b[0;34m\u001b[0m\u001b[0m\n\u001b[0m\u001b[1;32m      6\u001b[0m \u001b[0mlinear_reg\u001b[0m\u001b[0;34m=\u001b[0m\u001b[0mLinearRegression\u001b[0m\u001b[0;34m(\u001b[0m\u001b[0;34m)\u001b[0m\u001b[0;34m.\u001b[0m\u001b[0mfit\u001b[0m\u001b[0;34m(\u001b[0m\u001b[0mX_train\u001b[0m\u001b[0;34m,\u001b[0m\u001b[0my_train\u001b[0m\u001b[0;34m)\u001b[0m\u001b[0;34m\u001b[0m\u001b[0;34m\u001b[0m\u001b[0m\n\u001b[1;32m      7\u001b[0m \u001b[0;34m\u001b[0m\u001b[0m\n",
            "\u001b[0;32m/usr/local/lib/python3.7/dist-packages/sklearn/tree/_classes.py\u001b[0m in \u001b[0;36mfit\u001b[0;34m(self, X, y, sample_weight, check_input, X_idx_sorted)\u001b[0m\n\u001b[1;32m   1318\u001b[0m             \u001b[0msample_weight\u001b[0m\u001b[0;34m=\u001b[0m\u001b[0msample_weight\u001b[0m\u001b[0;34m,\u001b[0m\u001b[0;34m\u001b[0m\u001b[0;34m\u001b[0m\u001b[0m\n\u001b[1;32m   1319\u001b[0m             \u001b[0mcheck_input\u001b[0m\u001b[0;34m=\u001b[0m\u001b[0mcheck_input\u001b[0m\u001b[0;34m,\u001b[0m\u001b[0;34m\u001b[0m\u001b[0;34m\u001b[0m\u001b[0m\n\u001b[0;32m-> 1320\u001b[0;31m             \u001b[0mX_idx_sorted\u001b[0m\u001b[0;34m=\u001b[0m\u001b[0mX_idx_sorted\u001b[0m\u001b[0;34m,\u001b[0m\u001b[0;34m\u001b[0m\u001b[0;34m\u001b[0m\u001b[0m\n\u001b[0m\u001b[1;32m   1321\u001b[0m         )\n\u001b[1;32m   1322\u001b[0m         \u001b[0;32mreturn\u001b[0m \u001b[0mself\u001b[0m\u001b[0;34m\u001b[0m\u001b[0;34m\u001b[0m\u001b[0m\n",
            "\u001b[0;32m/usr/local/lib/python3.7/dist-packages/sklearn/tree/_classes.py\u001b[0m in \u001b[0;36mfit\u001b[0;34m(self, X, y, sample_weight, check_input, X_idx_sorted)\u001b[0m\n\u001b[1;32m    299\u001b[0m             raise ValueError(\n\u001b[1;32m    300\u001b[0m                 \u001b[0;34m\"Number of labels=%d does not match number of samples=%d\"\u001b[0m\u001b[0;34m\u001b[0m\u001b[0;34m\u001b[0m\u001b[0m\n\u001b[0;32m--> 301\u001b[0;31m                 \u001b[0;34m%\u001b[0m \u001b[0;34m(\u001b[0m\u001b[0mlen\u001b[0m\u001b[0;34m(\u001b[0m\u001b[0my\u001b[0m\u001b[0;34m)\u001b[0m\u001b[0;34m,\u001b[0m \u001b[0mn_samples\u001b[0m\u001b[0;34m)\u001b[0m\u001b[0;34m\u001b[0m\u001b[0;34m\u001b[0m\u001b[0m\n\u001b[0m\u001b[1;32m    302\u001b[0m             )\n\u001b[1;32m    303\u001b[0m         \u001b[0;32mif\u001b[0m \u001b[0;32mnot\u001b[0m \u001b[0;36m0\u001b[0m \u001b[0;34m<=\u001b[0m \u001b[0mself\u001b[0m\u001b[0;34m.\u001b[0m\u001b[0mmin_weight_fraction_leaf\u001b[0m \u001b[0;34m<=\u001b[0m \u001b[0;36m0.5\u001b[0m\u001b[0;34m:\u001b[0m\u001b[0;34m\u001b[0m\u001b[0;34m\u001b[0m\u001b[0m\n",
            "\u001b[0;31mValueError\u001b[0m: Number of labels=202 does not match number of samples=101"
          ]
        }
      ]
    },
    {
      "cell_type": "code",
      "source": [
        "plt.figure(figsize=(15,10))\n",
        "plt.xlabel('year')\n",
        "plt.ylabel('price($/Mbyte)')\n",
        "plt.semilogy(\"\"\"문제\"\"\",label='train') #2000년대 이전 훈련 데이터 먼저 그리기\n",
        "plt.semilogy(\"\"\"문제\"\"\",label='test') #2000년대 이후 테스트 데이터 이어서 그리기\n",
        "plt.semilogy(\"\"\"문제\"\"\",'g--',label='DecisionTree') #tree\n",
        "plt.semilogy(\"\"\"문제\"\"\",label='Linear_Reg') #LinearReg\n",
        "plt.legend(loc='best')"
      ],
      "metadata": {
        "colab": {
          "base_uri": "https://localhost:8080/",
          "height": 625
        },
        "id": "rR9T5ypY6Mv_",
        "outputId": "a4ae5c5f-23f0-4cd5-baec-2bae3e777d42"
      },
      "execution_count": null,
      "outputs": [
        {
          "output_type": "execute_result",
          "data": {
            "text/plain": [
              "<matplotlib.legend.Legend at 0x7fa43ba2dc90>"
            ]
          },
          "metadata": {},
          "execution_count": 8
        },
        {
          "output_type": "display_data",
          "data": {
            "text/plain": [
              "<Figure size 1080x720 with 1 Axes>"
            ],
            "image/png": "[encoded data removed]"
          },
          "metadata": {
            "needs_background": "light"
          }
        }
      ]
    },
    {
      "cell_type": "markdown",
      "source": [
        "회귀 트리의 예측값의 경우 훈련데이터의 범위를 벗어나 새로운 값을 예측하지 못함을 증명함"
      ],
      "metadata": {
        "id": "AQ_RTPR87XTB"
      }
    },
    {
      "cell_type": "markdown",
      "source": [
        "# 결정트리 분류"
      ],
      "metadata": {
        "id": "DBbruIqd9Nni"
      }
    },
    {
      "cell_type": "code",
      "source": [
        "from google.colab import files\n",
        "files.upload()"
      ],
      "metadata": {
        "colab": {
          "base_uri": "https://localhost:8080/",
          "height": 133
        },
        "id": "MYcDUclQFhMD",
        "outputId": "4694cc76-3669-4010-ccd5-0587b7e248ce"
      },
      "execution_count": 32,
      "outputs": [
        {
          "output_type": "display_data",
          "data": {
            "text/plain": [
              "<IPython.core.display.HTML object>"
            ],
            "text/html": [
              "\n",
              "     <input type=\"file\" id=\"files-03c5f16a-ab91-430a-bd2e-f9919bb5f570\" name=\"files[]\" multiple disabled\n",
              "        style=\"border:none\" />\n",
              "     <output id=\"result-03c5f16a-ab91-430a-bd2e-f9919bb5f570\">\n",
              "      Upload widget is only available when the cell has been executed in the\n",
              "      current browser session. Please rerun this cell to enable.\n",
              "      </output>\n",
              "      <script>// Copyright 2017 Google LLC\n",
              "//\n",
              "// Licensed under the Apache License, Version 2.0 (the \"License\");\n",
              "// you may not use this file except in compliance with the License.\n",
              "// You may obtain a copy of the License at\n",
              "//\n",
              "//      http://www.apache.org/licenses/LICENSE-2.0\n",
              "//\n",
              "// Unless required by applicable law or agreed to in writing, software\n",
              "// distributed under the License is distributed on an \"AS IS\" BASIS,\n",
              "// WITHOUT WARRANTIES OR CONDITIONS OF ANY KIND, either express or implied.\n",
              "// See the License for the specific language governing permissions and\n",
              "// limitations under the License.\n",
              "\n",
              "/**\n",
              " * @fileoverview Helpers for google.colab Python module.\n",
              " */\n",
              "(function(scope) {\n",
              "function span(text, styleAttributes = {}) {\n",
              "  const element = document.createElement('span');\n",
              "  element.textContent = text;\n",
              "  for (const key of Object.keys(styleAttributes)) {\n",
              "    element.style[key] = styleAttributes[key];\n",
              "  }\n",
              "  return element;\n",
              "}\n",
              "\n",
              "// Max number of bytes which will be uploaded at a time.\n",
              "const MAX_PAYLOAD_SIZE = 100 * 1024;\n",
              "\n",
              "function _uploadFiles(inputId, outputId) {\n",
              "  const steps = uploadFilesStep(inputId, outputId);\n",
              "  const outputElement = document.getElementById(outputId);\n",
              "  // Cache steps on the outputElement to make it available for the next call\n",
              "  // to uploadFilesContinue from Python.\n",
              "  outputElement.steps = steps;\n",
              "\n",
              "  return _uploadFilesContinue(outputId);\n",
              "}\n",
              "\n",
              "// This is roughly an async generator (not supported in the browser yet),\n",
              "// where there are multiple asynchronous steps and the Python side is going\n",
              "// to poll for completion of each step.\n",
              "// This uses a Promise to block the python side on completion of each step,\n",
              "// then passes the result of the previous step as the input to the next step.\n",
              "function _uploadFilesContinue(outputId) {\n",
              "  const outputElement = document.getElementById(outputId);\n",
              "  const steps = outputElement.steps;\n",
              "\n",
              "  const next = steps.next(outputElement.lastPromiseValue);\n",
              "  return Promise.resolve(next.value.promise).then((value) => {\n",
              "    // Cache the last promise value to make it available to the next\n",
              "    // step of the generator.\n",
              "    outputElement.lastPromiseValue = value;\n",
              "    return next.value.response;\n",
              "  });\n",
              "}\n",
              "\n",
              "/**\n",
              " * Generator function which is called between each async step of the upload\n",
              " * process.\n",
              " * @param {string} inputId Element ID of the input file picker element.\n",
              " * @param {string} outputId Element ID of the output display.\n",
              " * @return {!Iterable<!Object>} Iterable of next steps.\n",
              " */\n",
              "function* uploadFilesStep(inputId, outputId) {\n",
              "  const inputElement = document.getElementById(inputId);\n",
              "  inputElement.disabled = false;\n",
              "\n",
              "  const outputElement = document.getElementById(outputId);\n",
              "  outputElement.innerHTML = '';\n",
              "\n",
              "  const pickedPromise = new Promise((resolve) => {\n",
              "    inputElement.addEventListener('change', (e) => {\n",
              "      resolve(e.target.files);\n",
              "    });\n",
              "  });\n",
              "\n",
              "  const cancel = document.createElement('button');\n",
              "  inputElement.parentElement.appendChild(cancel);\n",
              "  cancel.textContent = 'Cancel upload';\n",
              "  const cancelPromise = new Promise((resolve) => {\n",
              "    cancel.onclick = () => {\n",
              "      resolve(null);\n",
              "    };\n",
              "  });\n",
              "\n",
              "  // Wait for the user to pick the files.\n",
              "  const files = yield {\n",
              "    promise: Promise.race([pickedPromise, cancelPromise]),\n",
              "    response: {\n",
              "      action: 'starting',\n",
              "    }\n",
              "  };\n",
              "\n",
              "  cancel.remove();\n",
              "\n",
              "  // Disable the input element since further picks are not allowed.\n",
              "  inputElement.disabled = true;\n",
              "\n",
              "  if (!files) {\n",
              "    return {\n",
              "      response: {\n",
              "        action: 'complete',\n",
              "      }\n",
              "    };\n",
              "  }\n",
              "\n",
              "  for (const file of files) {\n",
              "    const li = document.createElement('li');\n",
              "    li.append(span(file.name, {fontWeight: 'bold'}));\n",
              "    li.append(span(\n",
              "        `(${file.type || 'n/a'}) - ${file.size} bytes, ` +\n",
              "        `last modified: ${\n",
              "            file.lastModifiedDate ? file.lastModifiedDate.toLocaleDateString() :\n",
              "                                    'n/a'} - `));\n",
              "    const percent = span('0% done');\n",
              "    li.appendChild(percent);\n",
              "\n",
              "    outputElement.appendChild(li);\n",
              "\n",
              "    const fileDataPromise = new Promise((resolve) => {\n",
              "      const reader = new FileReader();\n",
              "      reader.onload = (e) => {\n",
              "        resolve(e.target.result);\n",
              "      };\n",
              "      reader.readAsArrayBuffer(file);\n",
              "    });\n",
              "    // Wait for the data to be ready.\n",
              "    let fileData = yield {\n",
              "      promise: fileDataPromise,\n",
              "      response: {\n",
              "        action: 'continue',\n",
              "      }\n",
              "    };\n",
              "\n",
              "    // Use a chunked sending to avoid message size limits. See b/62115660.\n",
              "    let position = 0;\n",
              "    do {\n",
              "      const length = Math.min(fileData.byteLength - position, MAX_PAYLOAD_SIZE);\n",
              "      const chunk = new Uint8Array(fileData, position, length);\n",
              "      position += length;\n",
              "\n",
              "      const base64 = btoa(String.fromCharCode.apply(null, chunk));\n",
              "      yield {\n",
              "        response: {\n",
              "          action: 'append',\n",
              "          file: file.name,\n",
              "          data: base64,\n",
              "        },\n",
              "      };\n",
              "\n",
              "      let percentDone = fileData.byteLength === 0 ?\n",
              "          100 :\n",
              "          Math.round((position / fileData.byteLength) * 100);\n",
              "      percent.textContent = `${percentDone}% done`;\n",
              "\n",
              "    } while (position < fileData.byteLength);\n",
              "  }\n",
              "\n",
              "  // All done.\n",
              "  yield {\n",
              "    response: {\n",
              "      action: 'complete',\n",
              "    }\n",
              "  };\n",
              "}\n",
              "\n",
              "scope.google = scope.google || {};\n",
              "scope.google.colab = scope.google.colab || {};\n",
              "scope.google.colab._files = {\n",
              "  _uploadFiles,\n",
              "  _uploadFilesContinue,\n",
              "};\n",
              "})(self);\n",
              "</script> "
            ]
          },
          "metadata": {}
        },
        {
          "output_type": "stream",
          "name": "stdout",
          "text": [
            "Saving pima-indians-diabetes.csv to pima-indians-diabetes.csv\n"
          ]
        },
        {
          "output_type": "execute_result",
          "data": {
            "text/plain": [
              "{'pima-indians-diabetes.csv': b'6,148,72,35,0,33.6,0.627,50,1\\r\\n1,85,66,29,0,26.6,0.351,31,0\\r\\n8,183,64,0,0,23.3,0.672,32,1\\r\\n1,89,66,23,94,28.1,0.167,21,0\\r\\n0,137,40,35,168,43.1,2.288,33,1\\r\\n5,116,74,0,0,25.6,0.201,30,0\\r\\n3,78,50,32,88,31.0,0.248,26,1\\r\\n10,115,0,0,0,35.3,0.134,29,0\\r\\n2,197,70,45,543,30.5,0.158,53,1\\r\\n8,125,96,0,0,0.0,0.232,54,1\\r\\n4,110,92,0,0,37.6,0.191,30,0\\r\\n10,168,74,0,0,38.0,0.537,34,1\\r\\n10,139,80,0,0,27.1,1.441,57,0\\r\\n1,189,60,23,846,30.1,0.398,59,1\\r\\n5,166,72,19,175,25.8,0.587,51,1\\r\\n7,100,0,0,0,30.0,0.484,32,1\\r\\n0,118,84,47,230,45.8,0.551,31,1\\r\\n7,107,74,0,0,29.6,0.254,31,1\\r\\n1,103,30,38,83,43.3,0.183,33,0\\r\\n1,115,70,30,96,34.6,0.529,32,1\\r\\n3,126,88,41,235,39.3,0.704,27,0\\r\\n8,99,84,0,0,35.4,0.388,50,0\\r\\n7,196,90,0,0,39.8,0.451,41,1\\r\\n9,119,80,35,0,29.0,0.263,29,1\\r\\n11,143,94,33,146,36.6,0.254,51,1\\r\\n10,125,70,26,115,31.1,0.205,41,1\\r\\n7,147,76,0,0,39.4,0.257,43,1\\r\\n1,97,66,15,140,23.2,0.487,22,0\\r\\n13,145,82,19,110,22.2,0.245,57,0\\r\\n5,117,92,0,0,34.1,0.337,38,0\\r\\n5,109,75,26,0,36.0,0.546,60,0\\r\\n3,158,76,36,245,31.6,0.851,28,1\\r\\n3,88,58,11,54,24.8,0.267,22,0\\r\\n6,92,92,0,0,19.9,0.188,28,0\\r\\n10,122,78,31,0,27.6,0.512,45,0\\r\\n4,103,60,33,192,24.0,0.966,33,0\\r\\n11,138,76,0,0,33.2,0.420,35,0\\r\\n9,102,76,37,0,32.9,0.665,46,1\\r\\n2,90,68,42,0,38.2,0.503,27,1\\r\\n4,111,72,47,207,37.1,1.390,56,1\\r\\n3,180,64,25,70,34.0,0.271,26,0\\r\\n7,133,84,0,0,40.2,0.696,37,0\\r\\n7,106,92,18,0,22.7,0.235,48,0\\r\\n9,171,110,24,240,45.4,0.721,54,1\\r\\n7,159,64,0,0,27.4,0.294,40,0\\r\\n0,180,66,39,0,42.0,1.893,25,1\\r\\n1,146,56,0,0,29.7,0.564,29,0\\r\\n2,71,70,27,0,28.0,0.586,22,0\\r\\n7,103,66,32,0,39.1,0.344,31,1\\r\\n7,105,0,0,0,0.0,0.305,24,0\\r\\n1,103,80,11,82,19.4,0.491,22,0\\r\\n1,101,50,15,36,24.2,0.526,26,0\\r\\n5,88,66,21,23,24.4,0.342,30,0\\r\\n8,176,90,34,300,33.7,0.467,58,1\\r\\n7,150,66,42,342,34.7,0.718,42,0\\r\\n1,73,50,10,0,23.0,0.248,21,0\\r\\n7,187,68,39,304,37.7,0.254,41,1\\r\\n0,100,88,60,110,46.8,0.962,31,0\\r\\n0,146,82,0,0,40.5,1.781,44,0\\r\\n0,105,64,41,142,41.5,0.173,22,0\\r\\n2,84,0,0,0,0.0,0.304,21,0\\r\\n8,133,72,0,0,32.9,0.270,39,1\\r\\n5,44,62,0,0,25.0,0.587,36,0\\r\\n2,141,58,34,128,25.4,0.699,24,0\\r\\n7,114,66,0,0,32.8,0.258,42,1\\r\\n5,99,74,27,0,29.0,0.203,32,0\\r\\n0,109,88,30,0,32.5,0.855,38,1\\r\\n2,109,92,0,0,42.7,0.845,54,0\\r\\n1,95,66,13,38,19.6,0.334,25,0\\r\\n4,146,85,27,100,28.9,0.189,27,0\\r\\n2,100,66,20,90,32.9,0.867,28,1\\r\\n5,139,64,35,140,28.6,0.411,26,0\\r\\n13,126,90,0,0,43.4,0.583,42,1\\r\\n4,129,86,20,270,35.1,0.231,23,0\\r\\n1,79,75,30,0,32.0,0.396,22,0\\r\\n1,0,48,20,0,24.7,0.140,22,0\\r\\n7,62,78,0,0,32.6,0.391,41,0\\r\\n5,95,72,33,0,37.7,0.370,27,0\\r\\n0,131,0,0,0,43.2,0.270,26,1\\r\\n2,112,66,22,0,25.0,0.307,24,0\\r\\n3,113,44,13,0,22.4,0.140,22,0\\r\\n2,74,0,0,0,0.0,0.102,22,0\\r\\n7,83,78,26,71,29.3,0.767,36,0\\r\\n0,101,65,28,0,24.6,0.237,22,0\\r\\n5,137,108,0,0,48.8,0.227,37,1\\r\\n2,110,74,29,125,32.4,0.698,27,0\\r\\n13,106,72,54,0,36.6,0.178,45,0\\r\\n2,100,68,25,71,38.5,0.324,26,0\\r\\n15,136,70,32,110,37.1,0.153,43,1\\r\\n1,107,68,19,0,26.5,0.165,24,0\\r\\n1,80,55,0,0,19.1,0.258,21,0\\r\\n4,123,80,15,176,32.0,0.443,34,0\\r\\n7,81,78,40,48,46.7,0.261,42,0\\r\\n4,134,72,0,0,23.8,0.277,60,1\\r\\n2,142,82,18,64,24.7,0.761,21,0\\r\\n6,144,72,27,228,33.9,0.255,40,0\\r\\n2,92,62,28,0,31.6,0.130,24,0\\r\\n1,71,48,18,76,20.4,0.323,22,0\\r\\n6,93,50,30,64,28.7,0.356,23,0\\r\\n1,122,90,51,220,49.7,0.325,31,1\\r\\n1,163,72,0,0,39.0,1.222,33,1\\r\\n1,151,60,0,0,26.1,0.179,22,0\\r\\n0,125,96,0,0,22.5,0.262,21,0\\r\\n1,81,72,18,40,26.6,0.283,24,0\\r\\n2,85,65,0,0,39.6,0.930,27,0\\r\\n1,126,56,29,152,28.7,0.801,21,0\\r\\n1,96,122,0,0,22.4,0.207,27,0\\r\\n4,144,58,28,140,29.5,0.287,37,0\\r\\n3,83,58,31,18,34.3,0.336,25,0\\r\\n0,95,85,25,36,37.4,0.247,24,1\\r\\n3,171,72,33,135,33.3,0.199,24,1\\r\\n8,155,62,26,495,34.0,0.543,46,1\\r\\n1,89,76,34,37,31.2,0.192,23,0\\r\\n4,76,62,0,0,34.0,0.391,25,0\\r\\n7,160,54,32,175,30.5,0.588,39,1\\r\\n4,146,92,0,0,31.2,0.539,61,1\\r\\n5,124,74,0,0,34.0,0.220,38,1\\r\\n5,78,48,0,0,33.7,0.654,25,0\\r\\n4,97,60,23,0,28.2,0.443,22,0\\r\\n4,99,76,15,51,23.2,0.223,21,0\\r\\n0,162,76,56,100,53.2,0.759,25,1\\r\\n6,111,64,39,0,34.2,0.260,24,0\\r\\n2,107,74,30,100,33.6,0.404,23,0\\r\\n5,132,80,0,0,26.8,0.186,69,0\\r\\n0,113,76,0,0,33.3,0.278,23,1\\r\\n1,88,30,42,99,55.0,0.496,26,1\\r\\n3,120,70,30,135,42.9,0.452,30,0\\r\\n1,118,58,36,94,33.3,0.261,23,0\\r\\n1,117,88,24,145,34.5,0.403,40,1\\r\\n0,105,84,0,0,27.9,0.741,62,1\\r\\n4,173,70,14,168,29.7,0.361,33,1\\r\\n9,122,56,0,0,33.3,1.114,33,1\\r\\n3,170,64,37,225,34.5,0.356,30,1\\r\\n8,84,74,31,0,38.3,0.457,39,0\\r\\n2,96,68,13,49,21.1,0.647,26,0\\r\\n2,125,60,20,140,33.8,0.088,31,0\\r\\n0,100,70,26,50,30.8,0.597,21,0\\r\\n0,93,60,25,92,28.7,0.532,22,0\\r\\n0,129,80,0,0,31.2,0.703,29,0\\r\\n5,105,72,29,325,36.9,0.159,28,0\\r\\n3,128,78,0,0,21.1,0.268,55,0\\r\\n5,106,82,30,0,39.5,0.286,38,0\\r\\n2,108,52,26,63,32.5,0.318,22,0\\r\\n10,108,66,0,0,32.4,0.272,42,1\\r\\n4,154,62,31,284,32.8,0.237,23,0\\r\\n0,102,75,23,0,0.0,0.572,21,0\\r\\n9,57,80,37,0,32.8,0.096,41,0\\r\\n2,106,64,35,119,30.5,1.400,34,0\\r\\n5,147,78,0,0,33.7,0.218,65,0\\r\\n2,90,70,17,0,27.3,0.085,22,0\\r\\n1,136,74,50,204,37.4,0.399,24,0\\r\\n4,114,65,0,0,21.9,0.432,37,0\\r\\n9,156,86,28,155,34.3,1.189,42,1\\r\\n1,153,82,42,485,40.6,0.687,23,0\\r\\n8,188,78,0,0,47.9,0.137,43,1\\r\\n7,152,88,44,0,50.0,0.337,36,1\\r\\n2,99,52,15,94,24.6,0.637,21,0\\r\\n1,109,56,21,135,25.2,0.833,23,0\\r\\n2,88,74,19,53,29.0,0.229,22,0\\r\\n17,163,72,41,114,40.9,0.817,47,1\\r\\n4,151,90,38,0,29.7,0.294,36,0\\r\\n7,102,74,40,105,37.2,0.204,45,0\\r\\n0,114,80,34,285,44.2,0.167,27,0\\r\\n2,100,64,23,0,29.7,0.368,21,0\\r\\n0,131,88,0,0,31.6,0.743,32,1\\r\\n6,104,74,18,156,29.9,0.722,41,1\\r\\n3,148,66,25,0,32.5,0.256,22,0\\r\\n4,120,68,0,0,29.6,0.709,34,0\\r\\n4,110,66,0,0,31.9,0.471,29,0\\r\\n3,111,90,12,78,28.4,0.495,29,0\\r\\n6,102,82,0,0,30.8,0.180,36,1\\r\\n6,134,70,23,130,35.4,0.542,29,1\\r\\n2,87,0,23,0,28.9,0.773,25,0\\r\\n1,79,60,42,48,43.5,0.678,23,0\\r\\n2,75,64,24,55,29.7,0.370,33,0\\r\\n8,179,72,42,130,32.7,0.719,36,1\\r\\n6,85,78,0,0,31.2,0.382,42,0\\r\\n0,129,110,46,130,67.1,0.319,26,1\\r\\n5,143,78,0,0,45.0,0.190,47,0\\r\\n5,130,82,0,0,39.1,0.956,37,1\\r\\n6,87,80,0,0,23.2,0.084,32,0\\r\\n0,119,64,18,92,34.9,0.725,23,0\\r\\n1,0,74,20,23,27.7,0.299,21,0\\r\\n5,73,60,0,0,26.8,0.268,27,0\\r\\n4,141,74,0,0,27.6,0.244,40,0\\r\\n7,194,68,28,0,35.9,0.745,41,1\\r\\n8,181,68,36,495,30.1,0.615,60,1\\r\\n1,128,98,41,58,32.0,1.321,33,1\\r\\n8,109,76,39,114,27.9,0.640,31,1\\r\\n5,139,80,35,160,31.6,0.361,25,1\\r\\n3,111,62,0,0,22.6,0.142,21,0\\r\\n9,123,70,44,94,33.1,0.374,40,0\\r\\n7,159,66,0,0,30.4,0.383,36,1\\r\\n11,135,0,0,0,52.3,0.578,40,1\\r\\n8,85,55,20,0,24.4,0.136,42,0\\r\\n5,158,84,41,210,39.4,0.395,29,1\\r\\n1,105,58,0,0,24.3,0.187,21,0\\r\\n3,107,62,13,48,22.9,0.678,23,1\\r\\n4,109,64,44,99,34.8,0.905,26,1\\r\\n4,148,60,27,318,30.9,0.150,29,1\\r\\n0,113,80,16,0,31.0,0.874,21,0\\r\\n1,138,82,0,0,40.1,0.236,28,0\\r\\n0,108,68,20,0,27.3,0.787,32,0\\r\\n2,99,70,16,44,20.4,0.235,27,0\\r\\n6,103,72,32,190,37.7,0.324,55,0\\r\\n5,111,72,28,0,23.9,0.407,27,0\\r\\n8,196,76,29,280,37.5,0.605,57,1\\r\\n5,162,104,0,0,37.7,0.151,52,1\\r\\n1,96,64,27,87,33.2,0.289,21,0\\r\\n7,184,84,33,0,35.5,0.355,41,1\\r\\n2,81,60,22,0,27.7,0.290,25,0\\r\\n0,147,85,54,0,42.8,0.375,24,0\\r\\n7,179,95,31,0,34.2,0.164,60,0\\r\\n0,140,65,26,130,42.6,0.431,24,1\\r\\n9,112,82,32,175,34.2,0.260,36,1\\r\\n12,151,70,40,271,41.8,0.742,38,1\\r\\n5,109,62,41,129,35.8,0.514,25,1\\r\\n6,125,68,30,120,30.0,0.464,32,0\\r\\n5,85,74,22,0,29.0,1.224,32,1\\r\\n5,112,66,0,0,37.8,0.261,41,1\\r\\n0,177,60,29,478,34.6,1.072,21,1\\r\\n2,158,90,0,0,31.6,0.805,66,1\\r\\n7,119,0,0,0,25.2,0.209,37,0\\r\\n7,142,60,33,190,28.8,0.687,61,0\\r\\n1,100,66,15,56,23.6,0.666,26,0\\r\\n1,87,78,27,32,34.6,0.101,22,0\\r\\n0,101,76,0,0,35.7,0.198,26,0\\r\\n3,162,52,38,0,37.2,0.652,24,1\\r\\n4,197,70,39,744,36.7,2.329,31,0\\r\\n0,117,80,31,53,45.2,0.089,24,0\\r\\n4,142,86,0,0,44.0,0.645,22,1\\r\\n6,134,80,37,370,46.2,0.238,46,1\\r\\n1,79,80,25,37,25.4,0.583,22,0\\r\\n4,122,68,0,0,35.0,0.394,29,0\\r\\n3,74,68,28,45,29.7,0.293,23,0\\r\\n4,171,72,0,0,43.6,0.479,26,1\\r\\n7,181,84,21,192,35.9,0.586,51,1\\r\\n0,179,90,27,0,44.1,0.686,23,1\\r\\n9,164,84,21,0,30.8,0.831,32,1\\r\\n0,104,76,0,0,18.4,0.582,27,0\\r\\n1,91,64,24,0,29.2,0.192,21,0\\r\\n4,91,70,32,88,33.1,0.446,22,0\\r\\n3,139,54,0,0,25.6,0.402,22,1\\r\\n6,119,50,22,176,27.1,1.318,33,1\\r\\n2,146,76,35,194,38.2,0.329,29,0\\r\\n9,184,85,15,0,30.0,1.213,49,1\\r\\n10,122,68,0,0,31.2,0.258,41,0\\r\\n0,165,90,33,680,52.3,0.427,23,0\\r\\n9,124,70,33,402,35.4,0.282,34,0\\r\\n1,111,86,19,0,30.1,0.143,23,0\\r\\n9,106,52,0,0,31.2,0.380,42,0\\r\\n2,129,84,0,0,28.0,0.284,27,0\\r\\n2,90,80,14,55,24.4,0.249,24,0\\r\\n0,86,68,32,0,35.8,0.238,25,0\\r\\n12,92,62,7,258,27.6,0.926,44,1\\r\\n1,113,64,35,0,33.6,0.543,21,1\\r\\n3,111,56,39,0,30.1,0.557,30,0\\r\\n2,114,68,22,0,28.7,0.092,25,0\\r\\n1,193,50,16,375,25.9,0.655,24,0\\r\\n11,155,76,28,150,33.3,1.353,51,1\\r\\n3,191,68,15,130,30.9,0.299,34,0\\r\\n3,141,0,0,0,30.0,0.761,27,1\\r\\n4,95,70,32,0,32.1,0.612,24,0\\r\\n3,142,80,15,0,32.4,0.200,63,0\\r\\n4,123,62,0,0,32.0,0.226,35,1\\r\\n5,96,74,18,67,33.6,0.997,43,0\\r\\n0,138,0,0,0,36.3,0.933,25,1\\r\\n2,128,64,42,0,40.0,1.101,24,0\\r\\n0,102,52,0,0,25.1,0.078,21,0\\r\\n2,146,0,0,0,27.5,0.240,28,1\\r\\n10,101,86,37,0,45.6,1.136,38,1\\r\\n2,108,62,32,56,25.2,0.128,21,0\\r\\n3,122,78,0,0,23.0,0.254,40,0\\r\\n1,71,78,50,45,33.2,0.422,21,0\\r\\n13,106,70,0,0,34.2,0.251,52,0\\r\\n2,100,70,52,57,40.5,0.677,25,0\\r\\n7,106,60,24,0,26.5,0.296,29,1\\r\\n0,104,64,23,116,27.8,0.454,23,0\\r\\n5,114,74,0,0,24.9,0.744,57,0\\r\\n2,108,62,10,278,25.3,0.881,22,0\\r\\n0,146,70,0,0,37.9,0.334,28,1\\r\\n10,129,76,28,122,35.9,0.280,39,0\\r\\n7,133,88,15,155,32.4,0.262,37,0\\r\\n7,161,86,0,0,30.4,0.165,47,1\\r\\n2,108,80,0,0,27.0,0.259,52,1\\r\\n7,136,74,26,135,26.0,0.647,51,0\\r\\n5,155,84,44,545,38.7,0.619,34,0\\r\\n1,119,86,39,220,45.6,0.808,29,1\\r\\n4,96,56,17,49,20.8,0.340,26,0\\r\\n5,108,72,43,75,36.1,0.263,33,0\\r\\n0,78,88,29,40,36.9,0.434,21,0\\r\\n0,107,62,30,74,36.6,0.757,25,1\\r\\n2,128,78,37,182,43.3,1.224,31,1\\r\\n1,128,48,45,194,40.5,0.613,24,1\\r\\n0,161,50,0,0,21.9,0.254,65,0\\r\\n6,151,62,31,120,35.5,0.692,28,0\\r\\n2,146,70,38,360,28.0,0.337,29,1\\r\\n0,126,84,29,215,30.7,0.520,24,0\\r\\n14,100,78,25,184,36.6,0.412,46,1\\r\\n8,112,72,0,0,23.6,0.840,58,0\\r\\n0,167,0,0,0,32.3,0.839,30,1\\r\\n2,144,58,33,135,31.6,0.422,25,1\\r\\n5,77,82,41,42,35.8,0.156,35,0\\r\\n5,115,98,0,0,52.9,0.209,28,1\\r\\n3,150,76,0,0,21.0,0.207,37,0\\r\\n2,120,76,37,105,39.7,0.215,29,0\\r\\n10,161,68,23,132,25.5,0.326,47,1\\r\\n0,137,68,14,148,24.8,0.143,21,0\\r\\n0,128,68,19,180,30.5,1.391,25,1\\r\\n2,124,68,28,205,32.9,0.875,30,1\\r\\n6,80,66,30,0,26.2,0.313,41,0\\r\\n0,106,70,37,148,39.4,0.605,22,0\\r\\n2,155,74,17,96,26.6,0.433,27,1\\r\\n3,113,50,10,85,29.5,0.626,25,0\\r\\n7,109,80,31,0,35.9,1.127,43,1\\r\\n2,112,68,22,94,34.1,0.315,26,0\\r\\n3,99,80,11,64,19.3,0.284,30,0\\r\\n3,182,74,0,0,30.5,0.345,29,1\\r\\n3,115,66,39,140,38.1,0.150,28,0\\r\\n6,194,78,0,0,23.5,0.129,59,1\\r\\n4,129,60,12,231,27.5,0.527,31,0\\r\\n3,112,74,30,0,31.6,0.197,25,1\\r\\n0,124,70,20,0,27.4,0.254,36,1\\r\\n13,152,90,33,29,26.8,0.731,43,1\\r\\n2,112,75,32,0,35.7,0.148,21,0\\r\\n1,157,72,21,168,25.6,0.123,24,0\\r\\n1,122,64,32,156,35.1,0.692,30,1\\r\\n10,179,70,0,0,35.1,0.200,37,0\\r\\n2,102,86,36,120,45.5,0.127,23,1\\r\\n6,105,70,32,68,30.8,0.122,37,0\\r\\n8,118,72,19,0,23.1,1.476,46,0\\r\\n2,87,58,16,52,32.7,0.166,25,0\\r\\n1,180,0,0,0,43.3,0.282,41,1\\r\\n12,106,80,0,0,23.6,0.137,44,0\\r\\n1,95,60,18,58,23.9,0.260,22,0\\r\\n0,165,76,43,255,47.9,0.259,26,0\\r\\n0,117,0,0,0,33.8,0.932,44,0\\r\\n5,115,76,0,0,31.2,0.343,44,1\\r\\n9,152,78,34,171,34.2,0.893,33,1\\r\\n7,178,84,0,0,39.9,0.331,41,1\\r\\n1,130,70,13,105,25.9,0.472,22,0\\r\\n1,95,74,21,73,25.9,0.673,36,0\\r\\n1,0,68,35,0,32.0,0.389,22,0\\r\\n5,122,86,0,0,34.7,0.290,33,0\\r\\n8,95,72,0,0,36.8,0.485,57,0\\r\\n8,126,88,36,108,38.5,0.349,49,0\\r\\n1,139,46,19,83,28.7,0.654,22,0\\r\\n3,116,0,0,0,23.5,0.187,23,0\\r\\n3,99,62,19,74,21.8,0.279,26,0\\r\\n5,0,80,32,0,41.0,0.346,37,1\\r\\n4,92,80,0,0,42.2,0.237,29,0\\r\\n4,137,84,0,0,31.2,0.252,30,0\\r\\n3,61,82,28,0,34.4,0.243,46,0\\r\\n1,90,62,12,43,27.2,0.580,24,0\\r\\n3,90,78,0,0,42.7,0.559,21,0\\r\\n9,165,88,0,0,30.4,0.302,49,1\\r\\n1,125,50,40,167,33.3,0.962,28,1\\r\\n13,129,0,30,0,39.9,0.569,44,1\\r\\n12,88,74,40,54,35.3,0.378,48,0\\r\\n1,196,76,36,249,36.5,0.875,29,1\\r\\n5,189,64,33,325,31.2,0.583,29,1\\r\\n5,158,70,0,0,29.8,0.207,63,0\\r\\n5,103,108,37,0,39.2,0.305,65,0\\r\\n4,146,78,0,0,38.5,0.520,67,1\\r\\n4,147,74,25,293,34.9,0.385,30,0\\r\\n5,99,54,28,83,34.0,0.499,30,0\\r\\n6,124,72,0,0,27.6,0.368,29,1\\r\\n0,101,64,17,0,21.0,0.252,21,0\\r\\n3,81,86,16,66,27.5,0.306,22,0\\r\\n1,133,102,28,140,32.8,0.234,45,1\\r\\n3,173,82,48,465,38.4,2.137,25,1\\r\\n0,118,64,23,89,0.0,1.731,21,0\\r\\n0,84,64,22,66,35.8,0.545,21,0\\r\\n2,105,58,40,94,34.9,0.225,25,0\\r\\n2,122,52,43,158,36.2,0.816,28,0\\r\\n12,140,82,43,325,39.2,0.528,58,1\\r\\n0,98,82,15,84,25.2,0.299,22,0\\r\\n1,87,60,37,75,37.2,0.509,22,0\\r\\n4,156,75,0,0,48.3,0.238,32,1\\r\\n0,93,100,39,72,43.4,1.021,35,0\\r\\n1,107,72,30,82,30.8,0.821,24,0\\r\\n0,105,68,22,0,20.0,0.236,22,0\\r\\n1,109,60,8,182,25.4,0.947,21,0\\r\\n1,90,62,18,59,25.1,1.268,25,0\\r\\n1,125,70,24,110,24.3,0.221,25,0\\r\\n1,119,54,13,50,22.3,0.205,24,0\\r\\n5,116,74,29,0,32.3,0.660,35,1\\r\\n8,105,100,36,0,43.3,0.239,45,1\\r\\n5,144,82,26,285,32.0,0.452,58,1\\r\\n3,100,68,23,81,31.6,0.949,28,0\\r\\n1,100,66,29,196,32.0,0.444,42,0\\r\\n5,166,76,0,0,45.7,0.340,27,1\\r\\n1,131,64,14,415,23.7,0.389,21,0\\r\\n4,116,72,12,87,22.1,0.463,37,0\\r\\n4,158,78,0,0,32.9,0.803,31,1\\r\\n2,127,58,24,275,27.7,1.600,25,0\\r\\n3,96,56,34,115,24.7,0.944,39,0\\r\\n0,131,66,40,0,34.3,0.196,22,1\\r\\n3,82,70,0,0,21.1,0.389,25,0\\r\\n3,193,70,31,0,34.9,0.241,25,1\\r\\n4,95,64,0,0,32.0,0.161,31,1\\r\\n6,137,61,0,0,24.2,0.151,55,0\\r\\n5,136,84,41,88,35.0,0.286,35,1\\r\\n9,72,78,25,0,31.6,0.280,38,0\\r\\n5,168,64,0,0,32.9,0.135,41,1\\r\\n2,123,48,32,165,42.1,0.520,26,0\\r\\n4,115,72,0,0,28.9,0.376,46,1\\r\\n0,101,62,0,0,21.9,0.336,25,0\\r\\n8,197,74,0,0,25.9,1.191,39,1\\r\\n1,172,68,49,579,42.4,0.702,28,1\\r\\n6,102,90,39,0,35.7,0.674,28,0\\r\\n1,112,72,30,176,34.4,0.528,25,0\\r\\n1,143,84,23,310,42.4,1.076,22,0\\r\\n1,143,74,22,61,26.2,0.256,21,0\\r\\n0,138,60,35,167,34.6,0.534,21,1\\r\\n3,173,84,33,474,35.7,0.258,22,1\\r\\n1,97,68,21,0,27.2,1.095,22,0\\r\\n4,144,82,32,0,38.5,0.554,37,1\\r\\n1,83,68,0,0,18.2,0.624,27,0\\r\\n3,129,64,29,115,26.4,0.219,28,1\\r\\n1,119,88,41,170,45.3,0.507,26,0\\r\\n2,94,68,18,76,26.0,0.561,21,0\\r\\n0,102,64,46,78,40.6,0.496,21,0\\r\\n2,115,64,22,0,30.8,0.421,21,0\\r\\n8,151,78,32,210,42.9,0.516,36,1\\r\\n4,184,78,39,277,37.0,0.264,31,1\\r\\n0,94,0,0,0,0.0,0.256,25,0\\r\\n1,181,64,30,180,34.1,0.328,38,1\\r\\n0,135,94,46,145,40.6,0.284,26,0\\r\\n1,95,82,25,180,35.0,0.233,43,1\\r\\n2,99,0,0,0,22.2,0.108,23,0\\r\\n3,89,74,16,85,30.4,0.551,38,0\\r\\n1,80,74,11,60,30.0,0.527,22,0\\r\\n2,139,75,0,0,25.6,0.167,29,0\\r\\n1,90,68,8,0,24.5,1.138,36,0\\r\\n0,141,0,0,0,42.4,0.205,29,1\\r\\n12,140,85,33,0,37.4,0.244,41,0\\r\\n5,147,75,0,0,29.9,0.434,28,0\\r\\n1,97,70,15,0,18.2,0.147,21,0\\r\\n6,107,88,0,0,36.8,0.727,31,0\\r\\n0,189,104,25,0,34.3,0.435,41,1\\r\\n2,83,66,23,50,32.2,0.497,22,0\\r\\n4,117,64,27,120,33.2,0.230,24,0\\r\\n8,108,70,0,0,30.5,0.955,33,1\\r\\n4,117,62,12,0,29.7,0.380,30,1\\r\\n0,180,78,63,14,59.4,2.420,25,1\\r\\n1,100,72,12,70,25.3,0.658,28,0\\r\\n0,95,80,45,92,36.5,0.330,26,0\\r\\n0,104,64,37,64,33.6,0.510,22,1\\r\\n0,120,74,18,63,30.5,0.285,26,0\\r\\n1,82,64,13,95,21.2,0.415,23,0\\r\\n2,134,70,0,0,28.9,0.542,23,1\\r\\n0,91,68,32,210,39.9,0.381,25,0\\r\\n2,119,0,0,0,19.6,0.832,72,0\\r\\n2,100,54,28,105,37.8,0.498,24,0\\r\\n14,175,62,30,0,33.6,0.212,38,1\\r\\n1,135,54,0,0,26.7,0.687,62,0\\r\\n5,86,68,28,71,30.2,0.364,24,0\\r\\n10,148,84,48,237,37.6,1.001,51,1\\r\\n9,134,74,33,60,25.9,0.460,81,0\\r\\n9,120,72,22,56,20.8,0.733,48,0\\r\\n1,71,62,0,0,21.8,0.416,26,0\\r\\n8,74,70,40,49,35.3,0.705,39,0\\r\\n5,88,78,30,0,27.6,0.258,37,0\\r\\n10,115,98,0,0,24.0,1.022,34,0\\r\\n0,124,56,13,105,21.8,0.452,21,0\\r\\n0,74,52,10,36,27.8,0.269,22,0\\r\\n0,97,64,36,100,36.8,0.600,25,0\\r\\n8,120,0,0,0,30.0,0.183,38,1\\r\\n6,154,78,41,140,46.1,0.571,27,0\\r\\n1,144,82,40,0,41.3,0.607,28,0\\r\\n0,137,70,38,0,33.2,0.170,22,0\\r\\n0,119,66,27,0,38.8,0.259,22,0\\r\\n7,136,90,0,0,29.9,0.210,50,0\\r\\n4,114,64,0,0,28.9,0.126,24,0\\r\\n0,137,84,27,0,27.3,0.231,59,0\\r\\n2,105,80,45,191,33.7,0.711,29,1\\r\\n7,114,76,17,110,23.8,0.466,31,0\\r\\n8,126,74,38,75,25.9,0.162,39,0\\r\\n4,132,86,31,0,28.0,0.419,63,0\\r\\n3,158,70,30,328,35.5,0.344,35,1\\r\\n0,123,88,37,0,35.2,0.197,29,0\\r\\n4,85,58,22,49,27.8,0.306,28,0\\r\\n0,84,82,31,125,38.2,0.233,23,0\\r\\n0,145,0,0,0,44.2,0.630,31,1\\r\\n0,135,68,42,250,42.3,0.365,24,1\\r\\n1,139,62,41,480,40.7,0.536,21,0\\r\\n0,173,78,32,265,46.5,1.159,58,0\\r\\n4,99,72,17,0,25.6,0.294,28,0\\r\\n8,194,80,0,0,26.1,0.551,67,0\\r\\n2,83,65,28,66,36.8,0.629,24,0\\r\\n2,89,90,30,0,33.5,0.292,42,0\\r\\n4,99,68,38,0,32.8,0.145,33,0\\r\\n4,125,70,18,122,28.9,1.144,45,1\\r\\n3,80,0,0,0,0.0,0.174,22,0\\r\\n6,166,74,0,0,26.6,0.304,66,0\\r\\n5,110,68,0,0,26.0,0.292,30,0\\r\\n2,81,72,15,76,30.1,0.547,25,0\\r\\n7,195,70,33,145,25.1,0.163,55,1\\r\\n6,154,74,32,193,29.3,0.839,39,0\\r\\n2,117,90,19,71,25.2,0.313,21,0\\r\\n3,84,72,32,0,37.2,0.267,28,0\\r\\n6,0,68,41,0,39.0,0.727,41,1\\r\\n7,94,64,25,79,33.3,0.738,41,0\\r\\n3,96,78,39,0,37.3,0.238,40,0\\r\\n10,75,82,0,0,33.3,0.263,38,0\\r\\n0,180,90,26,90,36.5,0.314,35,1\\r\\n1,130,60,23,170,28.6,0.692,21,0\\r\\n2,84,50,23,76,30.4,0.968,21,0\\r\\n8,120,78,0,0,25.0,0.409,64,0\\r\\n12,84,72,31,0,29.7,0.297,46,1\\r\\n0,139,62,17,210,22.1,0.207,21,0\\r\\n9,91,68,0,0,24.2,0.200,58,0\\r\\n2,91,62,0,0,27.3,0.525,22,0\\r\\n3,99,54,19,86,25.6,0.154,24,0\\r\\n3,163,70,18,105,31.6,0.268,28,1\\r\\n9,145,88,34,165,30.3,0.771,53,1\\r\\n7,125,86,0,0,37.6,0.304,51,0\\r\\n13,76,60,0,0,32.8,0.180,41,0\\r\\n6,129,90,7,326,19.6,0.582,60,0\\r\\n2,68,70,32,66,25.0,0.187,25,0\\r\\n3,124,80,33,130,33.2,0.305,26,0\\r\\n6,114,0,0,0,0.0,0.189,26,0\\r\\n9,130,70,0,0,34.2,0.652,45,1\\r\\n3,125,58,0,0,31.6,0.151,24,0\\r\\n3,87,60,18,0,21.8,0.444,21,0\\r\\n1,97,64,19,82,18.2,0.299,21,0\\r\\n3,116,74,15,105,26.3,0.107,24,0\\r\\n0,117,66,31,188,30.8,0.493,22,0\\r\\n0,111,65,0,0,24.6,0.660,31,0\\r\\n2,122,60,18,106,29.8,0.717,22,0\\r\\n0,107,76,0,0,45.3,0.686,24,0\\r\\n1,86,66,52,65,41.3,0.917,29,0\\r\\n6,91,0,0,0,29.8,0.501,31,0\\r\\n1,77,56,30,56,33.3,1.251,24,0\\r\\n4,132,0,0,0,32.9,0.302,23,1\\r\\n0,105,90,0,0,29.6,0.197,46,0\\r\\n0,57,60,0,0,21.7,0.735,67,0\\r\\n0,127,80,37,210,36.3,0.804,23,0\\r\\n3,129,92,49,155,36.4,0.968,32,1\\r\\n8,100,74,40,215,39.4,0.661,43,1\\r\\n3,128,72,25,190,32.4,0.549,27,1\\r\\n10,90,85,32,0,34.9,0.825,56,1\\r\\n4,84,90,23,56,39.5,0.159,25,0\\r\\n1,88,78,29,76,32.0,0.365,29,0\\r\\n8,186,90,35,225,34.5,0.423,37,1\\r\\n5,187,76,27,207,43.6,1.034,53,1\\r\\n4,131,68,21,166,33.1,0.160,28,0\\r\\n1,164,82,43,67,32.8,0.341,50,0\\r\\n4,189,110,31,0,28.5,0.680,37,0\\r\\n1,116,70,28,0,27.4,0.204,21,0\\r\\n3,84,68,30,106,31.9,0.591,25,0\\r\\n6,114,88,0,0,27.8,0.247,66,0\\r\\n1,88,62,24,44,29.9,0.422,23,0\\r\\n1,84,64,23,115,36.9,0.471,28,0\\r\\n7,124,70,33,215,25.5,0.161,37,0\\r\\n1,97,70,40,0,38.1,0.218,30,0\\r\\n8,110,76,0,0,27.8,0.237,58,0\\r\\n11,103,68,40,0,46.2,0.126,42,0\\r\\n11,85,74,0,0,30.1,0.300,35,0\\r\\n6,125,76,0,0,33.8,0.121,54,1\\r\\n0,198,66,32,274,41.3,0.502,28,1\\r\\n1,87,68,34,77,37.6,0.401,24,0\\r\\n6,99,60,19,54,26.9,0.497,32,0\\r\\n0,91,80,0,0,32.4,0.601,27,0\\r\\n2,95,54,14,88,26.1,0.748,22,0\\r\\n1,99,72,30,18,38.6,0.412,21,0\\r\\n6,92,62,32,126,32.0,0.085,46,0\\r\\n4,154,72,29,126,31.3,0.338,37,0\\r\\n0,121,66,30,165,34.3,0.203,33,1\\r\\n3,78,70,0,0,32.5,0.270,39,0\\r\\n2,130,96,0,0,22.6,0.268,21,0\\r\\n3,111,58,31,44,29.5,0.430,22,0\\r\\n2,98,60,17,120,34.7,0.198,22,0\\r\\n1,143,86,30,330,30.1,0.892,23,0\\r\\n1,119,44,47,63,35.5,0.280,25,0\\r\\n6,108,44,20,130,24.0,0.813,35,0\\r\\n2,118,80,0,0,42.9,0.693,21,1\\r\\n10,133,68,0,0,27.0,0.245,36,0\\r\\n2,197,70,99,0,34.7,0.575,62,1\\r\\n0,151,90,46,0,42.1,0.371,21,1\\r\\n6,109,60,27,0,25.0,0.206,27,0\\r\\n12,121,78,17,0,26.5,0.259,62,0\\r\\n8,100,76,0,0,38.7,0.190,42,0\\r\\n8,124,76,24,600,28.7,0.687,52,1\\r\\n1,93,56,11,0,22.5,0.417,22,0\\r\\n8,143,66,0,0,34.9,0.129,41,1\\r\\n6,103,66,0,0,24.3,0.249,29,0\\r\\n3,176,86,27,156,33.3,1.154,52,1\\r\\n0,73,0,0,0,21.1,0.342,25,0\\r\\n11,111,84,40,0,46.8,0.925,45,1\\r\\n2,112,78,50,140,39.4,0.175,24,0\\r\\n3,132,80,0,0,34.4,0.402,44,1\\r\\n2,82,52,22,115,28.5,1.699,25,0\\r\\n6,123,72,45,230,33.6,0.733,34,0\\r\\n0,188,82,14,185,32.0,0.682,22,1\\r\\n0,67,76,0,0,45.3,0.194,46,0\\r\\n1,89,24,19,25,27.8,0.559,21,0\\r\\n1,173,74,0,0,36.8,0.088,38,1\\r\\n1,109,38,18,120,23.1,0.407,26,0\\r\\n1,108,88,19,0,27.1,0.400,24,0\\r\\n6,96,0,0,0,23.7,0.190,28,0\\r\\n1,124,74,36,0,27.8,0.100,30,0\\r\\n7,150,78,29,126,35.2,0.692,54,1\\r\\n4,183,0,0,0,28.4,0.212,36,1\\r\\n1,124,60,32,0,35.8,0.514,21,0\\r\\n1,181,78,42,293,40.0,1.258,22,1\\r\\n1,92,62,25,41,19.5,0.482,25,0\\r\\n0,152,82,39,272,41.5,0.270,27,0\\r\\n1,111,62,13,182,24.0,0.138,23,0\\r\\n3,106,54,21,158,30.9,0.292,24,0\\r\\n3,174,58,22,194,32.9,0.593,36,1\\r\\n7,168,88,42,321,38.2,0.787,40,1\\r\\n6,105,80,28,0,32.5,0.878,26,0\\r\\n11,138,74,26,144,36.1,0.557,50,1\\r\\n3,106,72,0,0,25.8,0.207,27,0\\r\\n6,117,96,0,0,28.7,0.157,30,0\\r\\n2,68,62,13,15,20.1,0.257,23,0\\r\\n9,112,82,24,0,28.2,1.282,50,1\\r\\n0,119,0,0,0,32.4,0.141,24,1\\r\\n2,112,86,42,160,38.4,0.246,28,0\\r\\n2,92,76,20,0,24.2,1.698,28,0\\r\\n6,183,94,0,0,40.8,1.461,45,0\\r\\n0,94,70,27,115,43.5,0.347,21,0\\r\\n2,108,64,0,0,30.8,0.158,21,0\\r\\n4,90,88,47,54,37.7,0.362,29,0\\r\\n0,125,68,0,0,24.7,0.206,21,0\\r\\n0,132,78,0,0,32.4,0.393,21,0\\r\\n5,128,80,0,0,34.6,0.144,45,0\\r\\n4,94,65,22,0,24.7,0.148,21,0\\r\\n7,114,64,0,0,27.4,0.732,34,1\\r\\n0,102,78,40,90,34.5,0.238,24,0\\r\\n2,111,60,0,0,26.2,0.343,23,0\\r\\n1,128,82,17,183,27.5,0.115,22,0\\r\\n10,92,62,0,0,25.9,0.167,31,0\\r\\n13,104,72,0,0,31.2,0.465,38,1\\r\\n5,104,74,0,0,28.8,0.153,48,0\\r\\n2,94,76,18,66,31.6,0.649,23,0\\r\\n7,97,76,32,91,40.9,0.871,32,1\\r\\n1,100,74,12,46,19.5,0.149,28,0\\r\\n0,102,86,17,105,29.3,0.695,27,0\\r\\n4,128,70,0,0,34.3,0.303,24,0\\r\\n6,147,80,0,0,29.5,0.178,50,1\\r\\n4,90,0,0,0,28.0,0.610,31,0\\r\\n3,103,72,30,152,27.6,0.730,27,0\\r\\n2,157,74,35,440,39.4,0.134,30,0\\r\\n1,167,74,17,144,23.4,0.447,33,1\\r\\n0,179,50,36,159,37.8,0.455,22,1\\r\\n11,136,84,35,130,28.3,0.260,42,1\\r\\n0,107,60,25,0,26.4,0.133,23,0\\r\\n1,91,54,25,100,25.2,0.234,23,0\\r\\n1,117,60,23,106,33.8,0.466,27,0\\r\\n5,123,74,40,77,34.1,0.269,28,0\\r\\n2,120,54,0,0,26.8,0.455,27,0\\r\\n1,106,70,28,135,34.2,0.142,22,0\\r\\n2,155,52,27,540,38.7,0.240,25,1\\r\\n2,101,58,35,90,21.8,0.155,22,0\\r\\n1,120,80,48,200,38.9,1.162,41,0\\r\\n11,127,106,0,0,39.0,0.190,51,0\\r\\n3,80,82,31,70,34.2,1.292,27,1\\r\\n10,162,84,0,0,27.7,0.182,54,0\\r\\n1,199,76,43,0,42.9,1.394,22,1\\r\\n8,167,106,46,231,37.6,0.165,43,1\\r\\n9,145,80,46,130,37.9,0.637,40,1\\r\\n6,115,60,39,0,33.7,0.245,40,1\\r\\n1,112,80,45,132,34.8,0.217,24,0\\r\\n4,145,82,18,0,32.5,0.235,70,1\\r\\n10,111,70,27,0,27.5,0.141,40,1\\r\\n6,98,58,33,190,34.0,0.430,43,0\\r\\n9,154,78,30,100,30.9,0.164,45,0\\r\\n6,165,68,26,168,33.6,0.631,49,0\\r\\n1,99,58,10,0,25.4,0.551,21,0\\r\\n10,68,106,23,49,35.5,0.285,47,0\\r\\n3,123,100,35,240,57.3,0.880,22,0\\r\\n8,91,82,0,0,35.6,0.587,68,0\\r\\n6,195,70,0,0,30.9,0.328,31,1\\r\\n9,156,86,0,0,24.8,0.230,53,1\\r\\n0,93,60,0,0,35.3,0.263,25,0\\r\\n3,121,52,0,0,36.0,0.127,25,1\\r\\n2,101,58,17,265,24.2,0.614,23,0\\r\\n2,56,56,28,45,24.2,0.332,22,0\\r\\n0,162,76,36,0,49.6,0.364,26,1\\r\\n0,95,64,39,105,44.6,0.366,22,0\\r\\n4,125,80,0,0,32.3,0.536,27,1\\r\\n5,136,82,0,0,0.0,0.640,69,0\\r\\n2,129,74,26,205,33.2,0.591,25,0\\r\\n3,130,64,0,0,23.1,0.314,22,0\\r\\n1,107,50,19,0,28.3,0.181,29,0\\r\\n1,140,74,26,180,24.1,0.828,23,0\\r\\n1,144,82,46,180,46.1,0.335,46,1\\r\\n8,107,80,0,0,24.6,0.856,34,0\\r\\n13,158,114,0,0,42.3,0.257,44,1\\r\\n2,121,70,32,95,39.1,0.886,23,0\\r\\n7,129,68,49,125,38.5,0.439,43,1\\r\\n2,90,60,0,0,23.5,0.191,25,0\\r\\n7,142,90,24,480,30.4,0.128,43,1\\r\\n3,169,74,19,125,29.9,0.268,31,1\\r\\n0,99,0,0,0,25.0,0.253,22,0\\r\\n4,127,88,11,155,34.5,0.598,28,0\\r\\n4,118,70,0,0,44.5,0.904,26,0\\r\\n2,122,76,27,200,35.9,0.483,26,0\\r\\n6,125,78,31,0,27.6,0.565,49,1\\r\\n1,168,88,29,0,35.0,0.905,52,1\\r\\n2,129,0,0,0,38.5,0.304,41,0\\r\\n4,110,76,20,100,28.4,0.118,27,0\\r\\n6,80,80,36,0,39.8,0.177,28,0\\r\\n10,115,0,0,0,0.0,0.261,30,1\\r\\n2,127,46,21,335,34.4,0.176,22,0\\r\\n9,164,78,0,0,32.8,0.148,45,1\\r\\n2,93,64,32,160,38.0,0.674,23,1\\r\\n3,158,64,13,387,31.2,0.295,24,0\\r\\n5,126,78,27,22,29.6,0.439,40,0\\r\\n10,129,62,36,0,41.2,0.441,38,1\\r\\n0,134,58,20,291,26.4,0.352,21,0\\r\\n3,102,74,0,0,29.5,0.121,32,0\\r\\n7,187,50,33,392,33.9,0.826,34,1\\r\\n3,173,78,39,185,33.8,0.970,31,1\\r\\n10,94,72,18,0,23.1,0.595,56,0\\r\\n1,108,60,46,178,35.5,0.415,24,0\\r\\n5,97,76,27,0,35.6,0.378,52,1\\r\\n4,83,86,19,0,29.3,0.317,34,0\\r\\n1,114,66,36,200,38.1,0.289,21,0\\r\\n1,149,68,29,127,29.3,0.349,42,1\\r\\n5,117,86,30,105,39.1,0.251,42,0\\r\\n1,111,94,0,0,32.8,0.265,45,0\\r\\n4,112,78,40,0,39.4,0.236,38,0\\r\\n1,116,78,29,180,36.1,0.496,25,0\\r\\n0,141,84,26,0,32.4,0.433,22,0\\r\\n2,175,88,0,0,22.9,0.326,22,0\\r\\n2,92,52,0,0,30.1,0.141,22,0\\r\\n3,130,78,23,79,28.4,0.323,34,1\\r\\n8,120,86,0,0,28.4,0.259,22,1\\r\\n2,174,88,37,120,44.5,0.646,24,1\\r\\n2,106,56,27,165,29.0,0.426,22,0\\r\\n2,105,75,0,0,23.3,0.560,53,0\\r\\n4,95,60,32,0,35.4,0.284,28,0\\r\\n0,126,86,27,120,27.4,0.515,21,0\\r\\n8,65,72,23,0,32.0,0.600,42,0\\r\\n2,99,60,17,160,36.6,0.453,21,0\\r\\n1,102,74,0,0,39.5,0.293,42,1\\r\\n11,120,80,37,150,42.3,0.785,48,1\\r\\n3,102,44,20,94,30.8,0.400,26,0\\r\\n1,109,58,18,116,28.5,0.219,22,0\\r\\n9,140,94,0,0,32.7,0.734,45,1\\r\\n13,153,88,37,140,40.6,1.174,39,0\\r\\n12,100,84,33,105,30.0,0.488,46,0\\r\\n1,147,94,41,0,49.3,0.358,27,1\\r\\n1,81,74,41,57,46.3,1.096,32,0\\r\\n3,187,70,22,200,36.4,0.408,36,1\\r\\n6,162,62,0,0,24.3,0.178,50,1\\r\\n4,136,70,0,0,31.2,1.182,22,1\\r\\n1,121,78,39,74,39.0,0.261,28,0\\r\\n3,108,62,24,0,26.0,0.223,25,0\\r\\n0,181,88,44,510,43.3,0.222,26,1\\r\\n8,154,78,32,0,32.4,0.443,45,1\\r\\n1,128,88,39,110,36.5,1.057,37,1\\r\\n7,137,90,41,0,32.0,0.391,39,0\\r\\n0,123,72,0,0,36.3,0.258,52,1\\r\\n1,106,76,0,0,37.5,0.197,26,0\\r\\n6,190,92,0,0,35.5,0.278,66,1\\r\\n2,88,58,26,16,28.4,0.766,22,0\\r\\n9,170,74,31,0,44.0,0.403,43,1\\r\\n9,89,62,0,0,22.5,0.142,33,0\\r\\n10,101,76,48,180,32.9,0.171,63,0\\r\\n2,122,70,27,0,36.8,0.340,27,0\\r\\n5,121,72,23,112,26.2,0.245,30,0\\r\\n1,126,60,0,0,30.1,0.349,47,1\\r\\n1,93,70,31,0,30.4,0.315,23,0'}"
            ]
          },
          "metadata": {},
          "execution_count": 32
        }
      ]
    },
    {
      "cell_type": "code",
      "source": [
        "pima=pd.read_csv('pima-indians-diabetes.csv')\n",
        "pima"
      ],
      "metadata": {
        "colab": {
          "base_uri": "https://localhost:8080/",
          "height": 424
        },
        "id": "LI0R1kHSM1fz",
        "outputId": "725af759-13b3-4624-e0e0-94e390710dee"
      },
      "execution_count": 33,
      "outputs": [
        {
          "output_type": "execute_result",
          "data": {
            "text/plain": [
              "      6  148  72  35    0  33.6  0.627  50  1\n",
              "0     1   85  66  29    0  26.6  0.351  31  0\n",
              "1     8  183  64   0    0  23.3  0.672  32  1\n",
              "2     1   89  66  23   94  28.1  0.167  21  0\n",
              "3     0  137  40  35  168  43.1  2.288  33  1\n",
              "4     5  116  74   0    0  25.6  0.201  30  0\n",
              "..   ..  ...  ..  ..  ...   ...    ...  .. ..\n",
              "762  10  101  76  48  180  32.9  0.171  63  0\n",
              "763   2  122  70  27    0  36.8  0.340  27  0\n",
              "764   5  121  72  23  112  26.2  0.245  30  0\n",
              "765   1  126  60   0    0  30.1  0.349  47  1\n",
              "766   1   93  70  31    0  30.4  0.315  23  0\n",
              "\n",
              "[767 rows x 9 columns]"
            ],
            "text/html": [
              "\n",
              "  <div id=\"df-130f07af-0ca2-4cab-939b-4b0931a00e75\">\n",
              "    <div class=\"colab-df-container\">\n",
              "      <div>\n",
              "<style scoped>\n",
              "    .dataframe tbody tr th:only-of-type {\n",
              "        vertical-align: middle;\n",
              "    }\n",
              "\n",
              "    .dataframe tbody tr th {\n",
              "        vertical-align: top;\n",
              "    }\n",
              "\n",
              "    .dataframe thead th {\n",
              "        text-align: right;\n",
              "    }\n",
              "</style>\n",
              "<table border=\"1\" class=\"dataframe\">\n",
              "  <thead>\n",
              "    <tr style=\"text-align: right;\">\n",
              "      <th></th>\n",
              "      <th>6</th>\n",
              "      <th>148</th>\n",
              "      <th>72</th>\n",
              "      <th>35</th>\n",
              "      <th>0</th>\n",
              "      <th>33.6</th>\n",
              "      <th>0.627</th>\n",
              "      <th>50</th>\n",
              "      <th>1</th>\n",
              "    </tr>\n",
              "  </thead>\n",
              "  <tbody>\n",
              "    <tr>\n",
              "      <th>0</th>\n",
              "      <td>1</td>\n",
              "      <td>85</td>\n",
              "      <td>66</td>\n",
              "      <td>29</td>\n",
              "      <td>0</td>\n",
              "      <td>26.6</td>\n",
              "      <td>0.351</td>\n",
              "      <td>31</td>\n",
              "      <td>0</td>\n",
              "    </tr>\n",
              "    <tr>\n",
              "      <th>1</th>\n",
              "      <td>8</td>\n",
              "      <td>183</td>\n",
              "      <td>64</td>\n",
              "      <td>0</td>\n",
              "      <td>0</td>\n",
              "      <td>23.3</td>\n",
              "      <td>0.672</td>\n",
              "      <td>32</td>\n",
              "      <td>1</td>\n",
              "    </tr>\n",
              "    <tr>\n",
              "      <th>2</th>\n",
              "      <td>1</td>\n",
              "      <td>89</td>\n",
              "      <td>66</td>\n",
              "      <td>23</td>\n",
              "      <td>94</td>\n",
              "      <td>28.1</td>\n",
              "      <td>0.167</td>\n",
              "      <td>21</td>\n",
              "      <td>0</td>\n",
              "    </tr>\n",
              "    <tr>\n",
              "      <th>3</th>\n",
              "      <td>0</td>\n",
              "      <td>137</td>\n",
              "      <td>40</td>\n",
              "      <td>35</td>\n",
              "      <td>168</td>\n",
              "      <td>43.1</td>\n",
              "      <td>2.288</td>\n",
              "      <td>33</td>\n",
              "      <td>1</td>\n",
              "    </tr>\n",
              "    <tr>\n",
              "      <th>4</th>\n",
              "      <td>5</td>\n",
              "      <td>116</td>\n",
              "      <td>74</td>\n",
              "      <td>0</td>\n",
              "      <td>0</td>\n",
              "      <td>25.6</td>\n",
              "      <td>0.201</td>\n",
              "      <td>30</td>\n",
              "      <td>0</td>\n",
              "    </tr>\n",
              "    <tr>\n",
              "      <th>...</th>\n",
              "      <td>...</td>\n",
              "      <td>...</td>\n",
              "      <td>...</td>\n",
              "      <td>...</td>\n",
              "      <td>...</td>\n",
              "      <td>...</td>\n",
              "      <td>...</td>\n",
              "      <td>...</td>\n",
              "      <td>...</td>\n",
              "    </tr>\n",
              "    <tr>\n",
              "      <th>762</th>\n",
              "      <td>10</td>\n",
              "      <td>101</td>\n",
              "      <td>76</td>\n",
              "      <td>48</td>\n",
              "      <td>180</td>\n",
              "      <td>32.9</td>\n",
              "      <td>0.171</td>\n",
              "      <td>63</td>\n",
              "      <td>0</td>\n",
              "    </tr>\n",
              "    <tr>\n",
              "      <th>763</th>\n",
              "      <td>2</td>\n",
              "      <td>122</td>\n",
              "      <td>70</td>\n",
              "      <td>27</td>\n",
              "      <td>0</td>\n",
              "      <td>36.8</td>\n",
              "      <td>0.340</td>\n",
              "      <td>27</td>\n",
              "      <td>0</td>\n",
              "    </tr>\n",
              "    <tr>\n",
              "      <th>764</th>\n",
              "      <td>5</td>\n",
              "      <td>121</td>\n",
              "      <td>72</td>\n",
              "      <td>23</td>\n",
              "      <td>112</td>\n",
              "      <td>26.2</td>\n",
              "      <td>0.245</td>\n",
              "      <td>30</td>\n",
              "      <td>0</td>\n",
              "    </tr>\n",
              "    <tr>\n",
              "      <th>765</th>\n",
              "      <td>1</td>\n",
              "      <td>126</td>\n",
              "      <td>60</td>\n",
              "      <td>0</td>\n",
              "      <td>0</td>\n",
              "      <td>30.1</td>\n",
              "      <td>0.349</td>\n",
              "      <td>47</td>\n",
              "      <td>1</td>\n",
              "    </tr>\n",
              "    <tr>\n",
              "      <th>766</th>\n",
              "      <td>1</td>\n",
              "      <td>93</td>\n",
              "      <td>70</td>\n",
              "      <td>31</td>\n",
              "      <td>0</td>\n",
              "      <td>30.4</td>\n",
              "      <td>0.315</td>\n",
              "      <td>23</td>\n",
              "      <td>0</td>\n",
              "    </tr>\n",
              "  </tbody>\n",
              "</table>\n",
              "<p>767 rows × 9 columns</p>\n",
              "</div>\n",
              "      <button class=\"colab-df-convert\" onclick=\"convertToInteractive('df-130f07af-0ca2-4cab-939b-4b0931a00e75')\"\n",
              "              title=\"Convert this dataframe to an interactive table.\"\n",
              "              style=\"display:none;\">\n",
              "        \n",
              "  <svg xmlns=\"http://www.w3.org/2000/svg\" height=\"24px\"viewBox=\"0 0 24 24\"\n",
              "       width=\"24px\">\n",
              "    <path d=\"M0 0h24v24H0V0z\" fill=\"none\"/>\n",
              "    <path d=\"M18.56 5.44l.94 2.06.94-2.06 2.06-.94-2.06-.94-.94-2.06-.94 2.06-2.06.94zm-11 1L8.5 8.5l.94-2.06 2.06-.94-2.06-.94L8.5 2.5l-.94 2.06-2.06.94zm10 10l.94 2.06.94-2.06 2.06-.94-2.06-.94-.94-2.06-.94 2.06-2.06.94z\"/><path d=\"M17.41 7.96l-1.37-1.37c-.4-.4-.92-.59-1.43-.59-.52 0-1.04.2-1.43.59L10.3 9.45l-7.72 7.72c-.78.78-.78 2.05 0 2.83L4 21.41c.39.39.9.59 1.41.59.51 0 1.02-.2 1.41-.59l7.78-7.78 2.81-2.81c.8-.78.8-2.07 0-2.86zM5.41 20L4 18.59l7.72-7.72 1.47 1.35L5.41 20z\"/>\n",
              "  </svg>\n",
              "      </button>\n",
              "      \n",
              "  <style>\n",
              "    .colab-df-container {\n",
              "      display:flex;\n",
              "      flex-wrap:wrap;\n",
              "      gap: 12px;\n",
              "    }\n",
              "\n",
              "    .colab-df-convert {\n",
              "      background-color: #E8F0FE;\n",
              "      border: none;\n",
              "      border-radius: 50%;\n",
              "      cursor: pointer;\n",
              "      display: none;\n",
              "      fill: #1967D2;\n",
              "      height: 32px;\n",
              "      padding: 0 0 0 0;\n",
              "      width: 32px;\n",
              "    }\n",
              "\n",
              "    .colab-df-convert:hover {\n",
              "      background-color: #E2EBFA;\n",
              "      box-shadow: 0px 1px 2px rgba(60, 64, 67, 0.3), 0px 1px 3px 1px rgba(60, 64, 67, 0.15);\n",
              "      fill: #174EA6;\n",
              "    }\n",
              "\n",
              "    [theme=dark] .colab-df-convert {\n",
              "      background-color: #3B4455;\n",
              "      fill: #D2E3FC;\n",
              "    }\n",
              "\n",
              "    [theme=dark] .colab-df-convert:hover {\n",
              "      background-color: #434B5C;\n",
              "      box-shadow: 0px 1px 3px 1px rgba(0, 0, 0, 0.15);\n",
              "      filter: drop-shadow(0px 1px 2px rgba(0, 0, 0, 0.3));\n",
              "      fill: #FFFFFF;\n",
              "    }\n",
              "  </style>\n",
              "\n",
              "      <script>\n",
              "        const buttonEl =\n",
              "          document.querySelector('#df-130f07af-0ca2-4cab-939b-4b0931a00e75 button.colab-df-convert');\n",
              "        buttonEl.style.display =\n",
              "          google.colab.kernel.accessAllowed ? 'block' : 'none';\n",
              "\n",
              "        async function convertToInteractive(key) {\n",
              "          const element = document.querySelector('#df-130f07af-0ca2-4cab-939b-4b0931a00e75');\n",
              "          const dataTable =\n",
              "            await google.colab.kernel.invokeFunction('convertToInteractive',\n",
              "                                                     [key], {});\n",
              "          if (!dataTable) return;\n",
              "\n",
              "          const docLinkHtml = 'Like what you see? Visit the ' +\n",
              "            '<a target=\"_blank\" href=https://colab.research.google.com/notebooks/data_table.ipynb>data table notebook</a>'\n",
              "            + ' to learn more about interactive tables.';\n",
              "          element.innerHTML = '';\n",
              "          dataTable['output_type'] = 'display_data';\n",
              "          await google.colab.output.renderOutput(dataTable, element);\n",
              "          const docLink = document.createElement('div');\n",
              "          docLink.innerHTML = docLinkHtml;\n",
              "          element.appendChild(docLink);\n",
              "        }\n",
              "      </script>\n",
              "    </div>\n",
              "  </div>\n",
              "  "
            ]
          },
          "metadata": {},
          "execution_count": 33
        }
      ]
    },
    {
      "cell_type": "code",
      "source": [
        "pima=pd.read_csv('pima-indians-diabetes.csv') #데이터로딩\n",
        "col_names = ['pregnant', 'glucose', 'bp', 'skin', 'insulin', 'bmi', 'pedigree', 'age', 'label']\n",
        "pima.columns = col_names #pima columns명 col_names로 변경\n",
        "pima.head()"
      ],
      "metadata": {
        "colab": {
          "base_uri": "https://localhost:8080/",
          "height": 206
        },
        "id": "-KqsM9P1Flph",
        "outputId": "f7756eea-4da7-49e6-f502-c2181c543a30"
      },
      "execution_count": 36,
      "outputs": [
        {
          "output_type": "execute_result",
          "data": {
            "text/plain": [
              "   pregnant  glucose  bp  skin  insulin   bmi  pedigree  age  label\n",
              "0         1       85  66    29        0  26.6     0.351   31      0\n",
              "1         8      183  64     0        0  23.3     0.672   32      1\n",
              "2         1       89  66    23       94  28.1     0.167   21      0\n",
              "3         0      137  40    35      168  43.1     2.288   33      1\n",
              "4         5      116  74     0        0  25.6     0.201   30      0"
            ],
            "text/html": [
              "\n",
              "  <div id=\"df-d7613ae8-8687-4d91-aef4-5584543c1400\">\n",
              "    <div class=\"colab-df-container\">\n",
              "      <div>\n",
              "<style scoped>\n",
              "    .dataframe tbody tr th:only-of-type {\n",
              "        vertical-align: middle;\n",
              "    }\n",
              "\n",
              "    .dataframe tbody tr th {\n",
              "        vertical-align: top;\n",
              "    }\n",
              "\n",
              "    .dataframe thead th {\n",
              "        text-align: right;\n",
              "    }\n",
              "</style>\n",
              "<table border=\"1\" class=\"dataframe\">\n",
              "  <thead>\n",
              "    <tr style=\"text-align: right;\">\n",
              "      <th></th>\n",
              "      <th>pregnant</th>\n",
              "      <th>glucose</th>\n",
              "      <th>bp</th>\n",
              "      <th>skin</th>\n",
              "      <th>insulin</th>\n",
              "      <th>bmi</th>\n",
              "      <th>pedigree</th>\n",
              "      <th>age</th>\n",
              "      <th>label</th>\n",
              "    </tr>\n",
              "  </thead>\n",
              "  <tbody>\n",
              "    <tr>\n",
              "      <th>0</th>\n",
              "      <td>1</td>\n",
              "      <td>85</td>\n",
              "      <td>66</td>\n",
              "      <td>29</td>\n",
              "      <td>0</td>\n",
              "      <td>26.6</td>\n",
              "      <td>0.351</td>\n",
              "      <td>31</td>\n",
              "      <td>0</td>\n",
              "    </tr>\n",
              "    <tr>\n",
              "      <th>1</th>\n",
              "      <td>8</td>\n",
              "      <td>183</td>\n",
              "      <td>64</td>\n",
              "      <td>0</td>\n",
              "      <td>0</td>\n",
              "      <td>23.3</td>\n",
              "      <td>0.672</td>\n",
              "      <td>32</td>\n",
              "      <td>1</td>\n",
              "    </tr>\n",
              "    <tr>\n",
              "      <th>2</th>\n",
              "      <td>1</td>\n",
              "      <td>89</td>\n",
              "      <td>66</td>\n",
              "      <td>23</td>\n",
              "      <td>94</td>\n",
              "      <td>28.1</td>\n",
              "      <td>0.167</td>\n",
              "      <td>21</td>\n",
              "      <td>0</td>\n",
              "    </tr>\n",
              "    <tr>\n",
              "      <th>3</th>\n",
              "      <td>0</td>\n",
              "      <td>137</td>\n",
              "      <td>40</td>\n",
              "      <td>35</td>\n",
              "      <td>168</td>\n",
              "      <td>43.1</td>\n",
              "      <td>2.288</td>\n",
              "      <td>33</td>\n",
              "      <td>1</td>\n",
              "    </tr>\n",
              "    <tr>\n",
              "      <th>4</th>\n",
              "      <td>5</td>\n",
              "      <td>116</td>\n",
              "      <td>74</td>\n",
              "      <td>0</td>\n",
              "      <td>0</td>\n",
              "      <td>25.6</td>\n",
              "      <td>0.201</td>\n",
              "      <td>30</td>\n",
              "      <td>0</td>\n",
              "    </tr>\n",
              "  </tbody>\n",
              "</table>\n",
              "</div>\n",
              "      <button class=\"colab-df-convert\" onclick=\"convertToInteractive('df-d7613ae8-8687-4d91-aef4-5584543c1400')\"\n",
              "              title=\"Convert this dataframe to an interactive table.\"\n",
              "              style=\"display:none;\">\n",
              "        \n",
              "  <svg xmlns=\"http://www.w3.org/2000/svg\" height=\"24px\"viewBox=\"0 0 24 24\"\n",
              "       width=\"24px\">\n",
              "    <path d=\"M0 0h24v24H0V0z\" fill=\"none\"/>\n",
              "    <path d=\"M18.56 5.44l.94 2.06.94-2.06 2.06-.94-2.06-.94-.94-2.06-.94 2.06-2.06.94zm-11 1L8.5 8.5l.94-2.06 2.06-.94-2.06-.94L8.5 2.5l-.94 2.06-2.06.94zm10 10l.94 2.06.94-2.06 2.06-.94-2.06-.94-.94-2.06-.94 2.06-2.06.94z\"/><path d=\"M17.41 7.96l-1.37-1.37c-.4-.4-.92-.59-1.43-.59-.52 0-1.04.2-1.43.59L10.3 9.45l-7.72 7.72c-.78.78-.78 2.05 0 2.83L4 21.41c.39.39.9.59 1.41.59.51 0 1.02-.2 1.41-.59l7.78-7.78 2.81-2.81c.8-.78.8-2.07 0-2.86zM5.41 20L4 18.59l7.72-7.72 1.47 1.35L5.41 20z\"/>\n",
              "  </svg>\n",
              "      </button>\n",
              "      \n",
              "  <style>\n",
              "    .colab-df-container {\n",
              "      display:flex;\n",
              "      flex-wrap:wrap;\n",
              "      gap: 12px;\n",
              "    }\n",
              "\n",
              "    .colab-df-convert {\n",
              "      background-color: #E8F0FE;\n",
              "      border: none;\n",
              "      border-radius: 50%;\n",
              "      cursor: pointer;\n",
              "      display: none;\n",
              "      fill: #1967D2;\n",
              "      height: 32px;\n",
              "      padding: 0 0 0 0;\n",
              "      width: 32px;\n",
              "    }\n",
              "\n",
              "    .colab-df-convert:hover {\n",
              "      background-color: #E2EBFA;\n",
              "      box-shadow: 0px 1px 2px rgba(60, 64, 67, 0.3), 0px 1px 3px 1px rgba(60, 64, 67, 0.15);\n",
              "      fill: #174EA6;\n",
              "    }\n",
              "\n",
              "    [theme=dark] .colab-df-convert {\n",
              "      background-color: #3B4455;\n",
              "      fill: #D2E3FC;\n",
              "    }\n",
              "\n",
              "    [theme=dark] .colab-df-convert:hover {\n",
              "      background-color: #434B5C;\n",
              "      box-shadow: 0px 1px 3px 1px rgba(0, 0, 0, 0.15);\n",
              "      filter: drop-shadow(0px 1px 2px rgba(0, 0, 0, 0.3));\n",
              "      fill: #FFFFFF;\n",
              "    }\n",
              "  </style>\n",
              "\n",
              "      <script>\n",
              "        const buttonEl =\n",
              "          document.querySelector('#df-d7613ae8-8687-4d91-aef4-5584543c1400 button.colab-df-convert');\n",
              "        buttonEl.style.display =\n",
              "          google.colab.kernel.accessAllowed ? 'block' : 'none';\n",
              "\n",
              "        async function convertToInteractive(key) {\n",
              "          const element = document.querySelector('#df-d7613ae8-8687-4d91-aef4-5584543c1400');\n",
              "          const dataTable =\n",
              "            await google.colab.kernel.invokeFunction('convertToInteractive',\n",
              "                                                     [key], {});\n",
              "          if (!dataTable) return;\n",
              "\n",
              "          const docLinkHtml = 'Like what you see? Visit the ' +\n",
              "            '<a target=\"_blank\" href=https://colab.research.google.com/notebooks/data_table.ipynb>data table notebook</a>'\n",
              "            + ' to learn more about interactive tables.';\n",
              "          element.innerHTML = '';\n",
              "          dataTable['output_type'] = 'display_data';\n",
              "          await google.colab.output.renderOutput(dataTable, element);\n",
              "          const docLink = document.createElement('div');\n",
              "          docLink.innerHTML = docLinkHtml;\n",
              "          element.appendChild(docLink);\n",
              "        }\n",
              "      </script>\n",
              "    </div>\n",
              "  </div>\n",
              "  "
            ]
          },
          "metadata": {},
          "execution_count": 36
        }
      ]
    },
    {
      "cell_type": "code",
      "source": [
        "#스케일링의 효과를 보기 위해 bp 변수 값들을 100배해서 스케일을 키워봅시다.\n",
        "pima['bp'] = pima['bp']*100\n",
        "pima"
      ],
      "metadata": {
        "colab": {
          "base_uri": "https://localhost:8080/",
          "height": 424
        },
        "id": "zNWpJn_kHDhZ",
        "outputId": "e2bb0a6a-1fa2-4e57-8563-dfd2db801ce0"
      },
      "execution_count": 37,
      "outputs": [
        {
          "output_type": "execute_result",
          "data": {
            "text/plain": [
              "     pregnant  glucose    bp  skin  insulin   bmi  pedigree  age  label\n",
              "0           1       85  6600    29        0  26.6     0.351   31      0\n",
              "1           8      183  6400     0        0  23.3     0.672   32      1\n",
              "2           1       89  6600    23       94  28.1     0.167   21      0\n",
              "3           0      137  4000    35      168  43.1     2.288   33      1\n",
              "4           5      116  7400     0        0  25.6     0.201   30      0\n",
              "..        ...      ...   ...   ...      ...   ...       ...  ...    ...\n",
              "762        10      101  7600    48      180  32.9     0.171   63      0\n",
              "763         2      122  7000    27        0  36.8     0.340   27      0\n",
              "764         5      121  7200    23      112  26.2     0.245   30      0\n",
              "765         1      126  6000     0        0  30.1     0.349   47      1\n",
              "766         1       93  7000    31        0  30.4     0.315   23      0\n",
              "\n",
              "[767 rows x 9 columns]"
            ],
            "text/html": [
              "\n",
              "  <div id=\"df-2c980f83-07f3-4a79-922d-7246e89ebb11\">\n",
              "    <div class=\"colab-df-container\">\n",
              "      <div>\n",
              "<style scoped>\n",
              "    .dataframe tbody tr th:only-of-type {\n",
              "        vertical-align: middle;\n",
              "    }\n",
              "\n",
              "    .dataframe tbody tr th {\n",
              "        vertical-align: top;\n",
              "    }\n",
              "\n",
              "    .dataframe thead th {\n",
              "        text-align: right;\n",
              "    }\n",
              "</style>\n",
              "<table border=\"1\" class=\"dataframe\">\n",
              "  <thead>\n",
              "    <tr style=\"text-align: right;\">\n",
              "      <th></th>\n",
              "      <th>pregnant</th>\n",
              "      <th>glucose</th>\n",
              "      <th>bp</th>\n",
              "      <th>skin</th>\n",
              "      <th>insulin</th>\n",
              "      <th>bmi</th>\n",
              "      <th>pedigree</th>\n",
              "      <th>age</th>\n",
              "      <th>label</th>\n",
              "    </tr>\n",
              "  </thead>\n",
              "  <tbody>\n",
              "    <tr>\n",
              "      <th>0</th>\n",
              "      <td>1</td>\n",
              "      <td>85</td>\n",
              "      <td>6600</td>\n",
              "      <td>29</td>\n",
              "      <td>0</td>\n",
              "      <td>26.6</td>\n",
              "      <td>0.351</td>\n",
              "      <td>31</td>\n",
              "      <td>0</td>\n",
              "    </tr>\n",
              "    <tr>\n",
              "      <th>1</th>\n",
              "      <td>8</td>\n",
              "      <td>183</td>\n",
              "      <td>6400</td>\n",
              "      <td>0</td>\n",
              "      <td>0</td>\n",
              "      <td>23.3</td>\n",
              "      <td>0.672</td>\n",
              "      <td>32</td>\n",
              "      <td>1</td>\n",
              "    </tr>\n",
              "    <tr>\n",
              "      <th>2</th>\n",
              "      <td>1</td>\n",
              "      <td>89</td>\n",
              "      <td>6600</td>\n",
              "      <td>23</td>\n",
              "      <td>94</td>\n",
              "      <td>28.1</td>\n",
              "      <td>0.167</td>\n",
              "      <td>21</td>\n",
              "      <td>0</td>\n",
              "    </tr>\n",
              "    <tr>\n",
              "      <th>3</th>\n",
              "      <td>0</td>\n",
              "      <td>137</td>\n",
              "      <td>4000</td>\n",
              "      <td>35</td>\n",
              "      <td>168</td>\n",
              "      <td>43.1</td>\n",
              "      <td>2.288</td>\n",
              "      <td>33</td>\n",
              "      <td>1</td>\n",
              "    </tr>\n",
              "    <tr>\n",
              "      <th>4</th>\n",
              "      <td>5</td>\n",
              "      <td>116</td>\n",
              "      <td>7400</td>\n",
              "      <td>0</td>\n",
              "      <td>0</td>\n",
              "      <td>25.6</td>\n",
              "      <td>0.201</td>\n",
              "      <td>30</td>\n",
              "      <td>0</td>\n",
              "    </tr>\n",
              "    <tr>\n",
              "      <th>...</th>\n",
              "      <td>...</td>\n",
              "      <td>...</td>\n",
              "      <td>...</td>\n",
              "      <td>...</td>\n",
              "      <td>...</td>\n",
              "      <td>...</td>\n",
              "      <td>...</td>\n",
              "      <td>...</td>\n",
              "      <td>...</td>\n",
              "    </tr>\n",
              "    <tr>\n",
              "      <th>762</th>\n",
              "      <td>10</td>\n",
              "      <td>101</td>\n",
              "      <td>7600</td>\n",
              "      <td>48</td>\n",
              "      <td>180</td>\n",
              "      <td>32.9</td>\n",
              "      <td>0.171</td>\n",
              "      <td>63</td>\n",
              "      <td>0</td>\n",
              "    </tr>\n",
              "    <tr>\n",
              "      <th>763</th>\n",
              "      <td>2</td>\n",
              "      <td>122</td>\n",
              "      <td>7000</td>\n",
              "      <td>27</td>\n",
              "      <td>0</td>\n",
              "      <td>36.8</td>\n",
              "      <td>0.340</td>\n",
              "      <td>27</td>\n",
              "      <td>0</td>\n",
              "    </tr>\n",
              "    <tr>\n",
              "      <th>764</th>\n",
              "      <td>5</td>\n",
              "      <td>121</td>\n",
              "      <td>7200</td>\n",
              "      <td>23</td>\n",
              "      <td>112</td>\n",
              "      <td>26.2</td>\n",
              "      <td>0.245</td>\n",
              "      <td>30</td>\n",
              "      <td>0</td>\n",
              "    </tr>\n",
              "    <tr>\n",
              "      <th>765</th>\n",
              "      <td>1</td>\n",
              "      <td>126</td>\n",
              "      <td>6000</td>\n",
              "      <td>0</td>\n",
              "      <td>0</td>\n",
              "      <td>30.1</td>\n",
              "      <td>0.349</td>\n",
              "      <td>47</td>\n",
              "      <td>1</td>\n",
              "    </tr>\n",
              "    <tr>\n",
              "      <th>766</th>\n",
              "      <td>1</td>\n",
              "      <td>93</td>\n",
              "      <td>7000</td>\n",
              "      <td>31</td>\n",
              "      <td>0</td>\n",
              "      <td>30.4</td>\n",
              "      <td>0.315</td>\n",
              "      <td>23</td>\n",
              "      <td>0</td>\n",
              "    </tr>\n",
              "  </tbody>\n",
              "</table>\n",
              "<p>767 rows × 9 columns</p>\n",
              "</div>\n",
              "      <button class=\"colab-df-convert\" onclick=\"convertToInteractive('df-2c980f83-07f3-4a79-922d-7246e89ebb11')\"\n",
              "              title=\"Convert this dataframe to an interactive table.\"\n",
              "              style=\"display:none;\">\n",
              "        \n",
              "  <svg xmlns=\"http://www.w3.org/2000/svg\" height=\"24px\"viewBox=\"0 0 24 24\"\n",
              "       width=\"24px\">\n",
              "    <path d=\"M0 0h24v24H0V0z\" fill=\"none\"/>\n",
              "    <path d=\"M18.56 5.44l.94 2.06.94-2.06 2.06-.94-2.06-.94-.94-2.06-.94 2.06-2.06.94zm-11 1L8.5 8.5l.94-2.06 2.06-.94-2.06-.94L8.5 2.5l-.94 2.06-2.06.94zm10 10l.94 2.06.94-2.06 2.06-.94-2.06-.94-.94-2.06-.94 2.06-2.06.94z\"/><path d=\"M17.41 7.96l-1.37-1.37c-.4-.4-.92-.59-1.43-.59-.52 0-1.04.2-1.43.59L10.3 9.45l-7.72 7.72c-.78.78-.78 2.05 0 2.83L4 21.41c.39.39.9.59 1.41.59.51 0 1.02-.2 1.41-.59l7.78-7.78 2.81-2.81c.8-.78.8-2.07 0-2.86zM5.41 20L4 18.59l7.72-7.72 1.47 1.35L5.41 20z\"/>\n",
              "  </svg>\n",
              "      </button>\n",
              "      \n",
              "  <style>\n",
              "    .colab-df-container {\n",
              "      display:flex;\n",
              "      flex-wrap:wrap;\n",
              "      gap: 12px;\n",
              "    }\n",
              "\n",
              "    .colab-df-convert {\n",
              "      background-color: #E8F0FE;\n",
              "      border: none;\n",
              "      border-radius: 50%;\n",
              "      cursor: pointer;\n",
              "      display: none;\n",
              "      fill: #1967D2;\n",
              "      height: 32px;\n",
              "      padding: 0 0 0 0;\n",
              "      width: 32px;\n",
              "    }\n",
              "\n",
              "    .colab-df-convert:hover {\n",
              "      background-color: #E2EBFA;\n",
              "      box-shadow: 0px 1px 2px rgba(60, 64, 67, 0.3), 0px 1px 3px 1px rgba(60, 64, 67, 0.15);\n",
              "      fill: #174EA6;\n",
              "    }\n",
              "\n",
              "    [theme=dark] .colab-df-convert {\n",
              "      background-color: #3B4455;\n",
              "      fill: #D2E3FC;\n",
              "    }\n",
              "\n",
              "    [theme=dark] .colab-df-convert:hover {\n",
              "      background-color: #434B5C;\n",
              "      box-shadow: 0px 1px 3px 1px rgba(0, 0, 0, 0.15);\n",
              "      filter: drop-shadow(0px 1px 2px rgba(0, 0, 0, 0.3));\n",
              "      fill: #FFFFFF;\n",
              "    }\n",
              "  </style>\n",
              "\n",
              "      <script>\n",
              "        const buttonEl =\n",
              "          document.querySelector('#df-2c980f83-07f3-4a79-922d-7246e89ebb11 button.colab-df-convert');\n",
              "        buttonEl.style.display =\n",
              "          google.colab.kernel.accessAllowed ? 'block' : 'none';\n",
              "\n",
              "        async function convertToInteractive(key) {\n",
              "          const element = document.querySelector('#df-2c980f83-07f3-4a79-922d-7246e89ebb11');\n",
              "          const dataTable =\n",
              "            await google.colab.kernel.invokeFunction('convertToInteractive',\n",
              "                                                     [key], {});\n",
              "          if (!dataTable) return;\n",
              "\n",
              "          const docLinkHtml = 'Like what you see? Visit the ' +\n",
              "            '<a target=\"_blank\" href=https://colab.research.google.com/notebooks/data_table.ipynb>data table notebook</a>'\n",
              "            + ' to learn more about interactive tables.';\n",
              "          element.innerHTML = '';\n",
              "          dataTable['output_type'] = 'display_data';\n",
              "          await google.colab.output.renderOutput(dataTable, element);\n",
              "          const docLink = document.createElement('div');\n",
              "          docLink.innerHTML = docLinkHtml;\n",
              "          element.appendChild(docLink);\n",
              "        }\n",
              "      </script>\n",
              "    </div>\n",
              "  </div>\n",
              "  "
            ]
          },
          "metadata": {},
          "execution_count": 37
        }
      ]
    },
    {
      "cell_type": "code",
      "source": [
        "from sklearn.model_selection import train_test_split\n",
        "X=pima.drop('label',axis = 1) #label제외한 변수들\n",
        "y=pima['label'] #label\n",
        "\n",
        "X_train,X_test,y_train,y_test=train_test_split(X,y,stratify=y,random_state=42)"
      ],
      "metadata": {
        "id": "eF8AFwJSF3zd"
      },
      "execution_count": 38,
      "outputs": []
    },
    {
      "cell_type": "code",
      "source": [
        "#스케일링 여부에 따른 성능 확인을 위해 스케일링 진행\n",
        "\n",
        "from sklearn.preprocessing import StandardScaler\n",
        "\n",
        "scaler=StandardScaler()\n",
        "\n",
        "scaled_X_train=scaler.fit_transform(X_train) \n",
        "scaled_X_test=scaler.transform(X_test)"
      ],
      "metadata": {
        "id": "_jgYaUZAGFxq"
      },
      "execution_count": 39,
      "outputs": []
    },
    {
      "cell_type": "code",
      "source": [
        "from sklearn.linear_model import LogisticRegression\n",
        "from sklearn.tree import DecisionTreeClassifier\n",
        "from sklearn.metrics import accuracy_score\n",
        "\n",
        "log_reg=LogisticRegression()\n",
        "tree=DecisionTreeClassifier(random_state=42) #tree 생성 과정에서 random하게 feature들과 데이터 건수를 선택하는 로직이 포함되기 때문에 random_state 추가\n",
        "\n",
        "\n",
        "print('Logistic Regression')\n",
        "\n",
        "log_reg.fit(X_train,y_train) #스케일링 전 데이터로 학습시킨 후 스케일링 전 test set으로 점수내기\n",
        "y_pred = log_reg.predict(X_test)\n",
        "print('스케일링 전 f1 score :',accuracy_score(y_test,y_pred)) #accuracy_score 출력\n",
        "\n",
        "log_reg.fit(scaled_X_train,y_train) #스케일링 후 데이터로 학습시킨 후 스케일링 후 test set으로 점수내기\n",
        "y_pred = log_reg.predict(scaled_X_test)\n",
        "print('스케일링 후 f1 score :',accuracy_score(y_test,y_pred)) #accuracy_score 출력\n",
        "\n",
        "print('\\nDecision Tree')\n",
        "tree.fit(X_train,y_train) #스케일링 전 데이터로 학습시킨 후 스케일링 전 test set으로 점수내기\n",
        "y_pred = tree.predict(X_test)\n",
        "print('스케일링 전 f1 score :',accuracy_score(y_test,y_pred))\n",
        "tree.fit(scaled_X_train,y_train) #스케일링 전 데이터로 학습시킨 후 스케일링 전 test set으로 점수내기\n",
        "y_pred = tree.predict(scaled_X_test)\n",
        "print('스케일링 후 f1 score :',accuracy_score(y_test,y_pred))"
      ],
      "metadata": {
        "colab": {
          "base_uri": "https://localhost:8080/"
        },
        "id": "aHZyge62GInh",
        "outputId": "2f4a30a5-c1c6-4e36-9efc-97f4e2b52be1"
      },
      "execution_count": 40,
      "outputs": [
        {
          "output_type": "stream",
          "name": "stdout",
          "text": [
            "Logistic Regression\n",
            "스케일링 전 f1 score : 0.6927083333333334\n",
            "스케일링 후 f1 score : 0.703125\n",
            "\n",
            "Decision Tree\n",
            "스케일링 전 f1 score : 0.7083333333333334\n",
            "스케일링 후 f1 score : 0.7083333333333334\n"
          ]
        }
      ]
    },
    {
      "cell_type": "code",
      "source": [
        "#StratifiedKFold를 이용해 과적합을 확인해봅시다.\n",
        "#스케일링 이전의 데이터 사용\n",
        "from sklearn.model_selection import StratifiedKFold\n",
        "\n",
        "kfold=StratifiedKFold(n_splits=5,shuffle=True,random_state=42)\n",
        "\n",
        "cv_acc=[]\n",
        "idx=1\n",
        "for train_index,test_index in kfold.split(pima):\n",
        "  X_train,X_test=X[train_index], X[test_index]\n",
        "  y_train,y_test=y[train_index], y[test_index]\n",
        "\n",
        "  tree=DecisionTreeClassifier(random_state=0)\n",
        "  tree.fit(X_train,y_train)\n",
        "  print(idx)\n",
        "  idx+=1\n",
        "  pred = tree.predict(X_test)\n",
        "  print('train set score :',tree.score(X_train,y_train))\n",
        "  val_acc=accuracy_score(y_test,pred)\n",
        "  cv_acc.append(val_acc)\n",
        "  print('test set score :',val_acc)\n",
        "  print('\\n')\n",
        "\n",
        "print('평균 검증 정확도 :',np.mean(cv_acc))"
      ],
      "metadata": {
        "colab": {
          "base_uri": "https://localhost:8080/",
          "height": 245
        },
        "id": "9GVnOTSnH8V5",
        "outputId": "2846fa64-ada1-4b98-abbc-4476033b1d56"
      },
      "execution_count": 45,
      "outputs": [
        {
          "output_type": "error",
          "ename": "TypeError",
          "evalue": "ignored",
          "traceback": [
            "\u001b[0;31m---------------------------------------------------------------------------\u001b[0m",
            "\u001b[0;31mTypeError\u001b[0m                                 Traceback (most recent call last)",
            "\u001b[0;32m<ipython-input-45-c9f00d905097>\u001b[0m in \u001b[0;36m<module>\u001b[0;34m\u001b[0m\n\u001b[1;32m      7\u001b[0m \u001b[0mcv_acc\u001b[0m\u001b[0;34m=\u001b[0m\u001b[0;34m[\u001b[0m\u001b[0;34m]\u001b[0m\u001b[0;34m\u001b[0m\u001b[0;34m\u001b[0m\u001b[0m\n\u001b[1;32m      8\u001b[0m \u001b[0midx\u001b[0m\u001b[0;34m=\u001b[0m\u001b[0;36m1\u001b[0m\u001b[0;34m\u001b[0m\u001b[0;34m\u001b[0m\u001b[0m\n\u001b[0;32m----> 9\u001b[0;31m \u001b[0;32mfor\u001b[0m \u001b[0mtrain_index\u001b[0m\u001b[0;34m,\u001b[0m\u001b[0mtest_index\u001b[0m \u001b[0;32min\u001b[0m \u001b[0mkfold\u001b[0m\u001b[0;34m.\u001b[0m\u001b[0msplit\u001b[0m\u001b[0;34m(\u001b[0m\u001b[0mpima\u001b[0m\u001b[0;34m)\u001b[0m\u001b[0;34m:\u001b[0m\u001b[0;34m\u001b[0m\u001b[0;34m\u001b[0m\u001b[0m\n\u001b[0m\u001b[1;32m     10\u001b[0m   \u001b[0mX_train\u001b[0m\u001b[0;34m,\u001b[0m\u001b[0mX_test\u001b[0m\u001b[0;34m=\u001b[0m\u001b[0mX\u001b[0m\u001b[0;34m[\u001b[0m\u001b[0mtrain_index\u001b[0m\u001b[0;34m]\u001b[0m\u001b[0;34m,\u001b[0m \u001b[0mX\u001b[0m\u001b[0;34m[\u001b[0m\u001b[0mtest_index\u001b[0m\u001b[0;34m]\u001b[0m\u001b[0;34m\u001b[0m\u001b[0;34m\u001b[0m\u001b[0m\n\u001b[1;32m     11\u001b[0m   \u001b[0my_train\u001b[0m\u001b[0;34m,\u001b[0m\u001b[0my_test\u001b[0m\u001b[0;34m=\u001b[0m\u001b[0my\u001b[0m\u001b[0;34m[\u001b[0m\u001b[0mtrain_index\u001b[0m\u001b[0;34m]\u001b[0m\u001b[0;34m,\u001b[0m \u001b[0my\u001b[0m\u001b[0;34m[\u001b[0m\u001b[0mtest_index\u001b[0m\u001b[0;34m]\u001b[0m\u001b[0;34m\u001b[0m\u001b[0;34m\u001b[0m\u001b[0m\n",
            "\u001b[0;31mTypeError\u001b[0m: split() missing 1 required positional argument: 'y'"
          ]
        }
      ]
    },
    {
      "cell_type": "code",
      "source": [
        "# 과적합된 tree를 시각화.\n",
        "from sklearn.tree import plot_tree\n",
        "\n",
        "plt.figure(figsize=(15,10))\n",
        "plot_tree(tree,filled=True)\n",
        "plt.show()\n",
        "#색깔이 진할수록 해당 클래스 비율이 높은 노드임을 나타냄"
      ],
      "metadata": {
        "colab": {
          "base_uri": "https://localhost:8080/",
          "height": 575
        },
        "id": "YhUgOwXGHmtx",
        "outputId": "ee135746-0d35-4e6f-846b-51f5db66b90b"
      },
      "execution_count": null,
      "outputs": [
        {
          "output_type": "display_data",
          "data": {
            "text/plain": [
              "<Figure size 1080x720 with 1 Axes>"
            ],
            "image/png": "[encoded data removed]"
          },
          "metadata": {
            "needs_background": "light"
          }
        }
      ]
    },
    {
      "cell_type": "markdown",
      "source": [
        "GridSearchCV를 통해 과적합을 줄여봅시다"
      ],
      "metadata": {
        "id": "-VxPPhboOrDb"
      }
    },
    {
      "cell_type": "code",
      "source": [
        "from sklearn.model_selection import GridSearchCV\n",
        "\n",
        "tree=DecisionTreeClassifier(random_state=0)\n",
        "\n",
        "param_grid = {\n",
        "    'criterion':['gini','entropy'], \n",
        "    'max_depth':[None,3,5,7,9],  \n",
        "    'min_samples_split':[2,3,4,5], \n",
        "    'min_samples_leaf':[1,2,3], \n",
        "    'max_features':[None,'sqrt','log2']\n",
        "    }\n",
        "\n",
        "gs_tree= GridSearchCV(cv = 5, scoring = 'accuracy', refit = True, param_grid = param_grid, estimator = tree) #GridSearchCV 객체 선언 scoring='accuracy',cv=5,refit=True \n",
        "gs_tree.fit(X_train,y_train)"
      ],
      "metadata": {
        "colab": {
          "base_uri": "https://localhost:8080/"
        },
        "id": "CxgZlSIXJnot",
        "outputId": "b5c407af-c927-4a8c-e963-084e59fec9be"
      },
      "execution_count": 48,
      "outputs": [
        {
          "output_type": "execute_result",
          "data": {
            "text/plain": [
              "GridSearchCV(cv=5, estimator=DecisionTreeClassifier(random_state=0),\n",
              "             param_grid={'criterion': ['gini', 'entropy'],\n",
              "                         'max_depth': [None, 3, 5, 7, 9],\n",
              "                         'max_features': [None, 'sqrt', 'log2'],\n",
              "                         'min_samples_leaf': [1, 2, 3],\n",
              "                         'min_samples_split': [2, 3, 4, 5]},\n",
              "             scoring='accuracy')"
            ]
          },
          "metadata": {},
          "execution_count": 48
        }
      ]
    },
    {
      "cell_type": "code",
      "source": [
        "# 선정된 파라미터와 최고 점수를 출력해봅시다\n",
        "print(gs_tree.best_params_)\n",
        "print(gs_tree.best_score_)"
      ],
      "metadata": {
        "colab": {
          "base_uri": "https://localhost:8080/"
        },
        "id": "45Vx9QTQU15q",
        "outputId": "40c2387a-e726-4210-d259-5e2c32430d13"
      },
      "execution_count": 49,
      "outputs": [
        {
          "output_type": "stream",
          "name": "stdout",
          "text": [
            "{'criterion': 'gini', 'max_depth': 5, 'max_features': None, 'min_samples_leaf': 1, 'min_samples_split': 3}\n",
            "0.7426086956521738\n"
          ]
        }
      ]
    },
    {
      "cell_type": "code",
      "source": [
        "#refit=True이므로 gridsearch 결과물에 바로 train,test set의 score를 출력해봅시다.\n",
        "print('train set score :',gs_tree.score(X_train,y_train))\n",
        "print('test set score :',gs_tree.score(X_test,y_test))"
      ],
      "metadata": {
        "colab": {
          "base_uri": "https://localhost:8080/"
        },
        "id": "iBTAphs2Wpvx",
        "outputId": "105309e2-9884-4fd6-8ef8-a05c679e988d"
      },
      "execution_count": 50,
      "outputs": [
        {
          "output_type": "stream",
          "name": "stdout",
          "text": [
            "train set score : 0.8539130434782609\n",
            "test set score : 0.703125\n"
          ]
        }
      ]
    },
    {
      "cell_type": "code",
      "source": [
        "gs_tree.best_estimator_.feature_importances_"
      ],
      "metadata": {
        "colab": {
          "base_uri": "https://localhost:8080/"
        },
        "id": "A9FtLUL_XRsC",
        "outputId": "816046b4-4b80-4303-cc19-204f0ce15965"
      },
      "execution_count": 54,
      "outputs": [
        {
          "output_type": "execute_result",
          "data": {
            "text/plain": [
              "array([0.04811604, 0.50643881, 0.03250858, 0.04299819, 0.03332091,\n",
              "       0.19562281, 0.06571575, 0.0752789 ])"
            ]
          },
          "metadata": {},
          "execution_count": 54
        }
      ]
    },
    {
      "cell_type": "markdown",
      "source": [
        "feature importance를 seaborn을 통해 시각화"
      ],
      "metadata": {
        "id": "9M7ER-d1XASi"
      }
    },
    {
      "cell_type": "code",
      "source": [
        "pima.columns"
      ],
      "metadata": {
        "colab": {
          "base_uri": "https://localhost:8080/"
        },
        "id": "fNQm0nWXUake",
        "outputId": "dbd8b6d6-738c-425c-bdba-c9412ae30039"
      },
      "execution_count": 62,
      "outputs": [
        {
          "output_type": "execute_result",
          "data": {
            "text/plain": [
              "Index(['pregnant', 'glucose', 'bp', 'skin', 'insulin', 'bmi', 'pedigree',\n",
              "       'age', 'label'],\n",
              "      dtype='object')"
            ]
          },
          "metadata": {},
          "execution_count": 62
        }
      ]
    },
    {
      "cell_type": "code",
      "source": [
        "import seaborn as sns\n",
        "\n",
        "fi=pd.DataFrame(data = gs_tree.best_estimator_.feature_importances_,columns = ['importances']) # feature importance를 데이터프레임으로 만들기 columns : ['feature','importances']\n",
        "\n",
        "fi=fi.sort_values('importances', ascending = False) #importances를 기준으로 내림차순 sorting\n",
        "fi\n",
        "plt.barh(pima.feature_names,)"
      ],
      "metadata": {
        "colab": {
          "base_uri": "https://localhost:8080/",
          "height": 550
        },
        "id": "y6CjYNDRW_bu",
        "outputId": "2d98f1c6-34e9-4c34-9b43-98af879ce373"
      },
      "execution_count": 73,
      "outputs": [
        {
          "output_type": "execute_result",
          "data": {
            "text/plain": [
              "   importances\n",
              "1     0.506439\n",
              "5     0.195623\n",
              "7     0.075279\n",
              "6     0.065716\n",
              "0     0.048116\n",
              "3     0.042998\n",
              "4     0.033321\n",
              "2     0.032509"
            ],
            "text/html": [
              "\n",
              "  <div id=\"df-338c482e-63c1-4e3f-a979-5a045f1f395e\">\n",
              "    <div class=\"colab-df-container\">\n",
              "      <div>\n",
              "<style scoped>\n",
              "    .dataframe tbody tr th:only-of-type {\n",
              "        vertical-align: middle;\n",
              "    }\n",
              "\n",
              "    .dataframe tbody tr th {\n",
              "        vertical-align: top;\n",
              "    }\n",
              "\n",
              "    .dataframe thead th {\n",
              "        text-align: right;\n",
              "    }\n",
              "</style>\n",
              "<table border=\"1\" class=\"dataframe\">\n",
              "  <thead>\n",
              "    <tr style=\"text-align: right;\">\n",
              "      <th></th>\n",
              "      <th>importances</th>\n",
              "    </tr>\n",
              "  </thead>\n",
              "  <tbody>\n",
              "    <tr>\n",
              "      <th>1</th>\n",
              "      <td>0.506439</td>\n",
              "    </tr>\n",
              "    <tr>\n",
              "      <th>5</th>\n",
              "      <td>0.195623</td>\n",
              "    </tr>\n",
              "    <tr>\n",
              "      <th>7</th>\n",
              "      <td>0.075279</td>\n",
              "    </tr>\n",
              "    <tr>\n",
              "      <th>6</th>\n",
              "      <td>0.065716</td>\n",
              "    </tr>\n",
              "    <tr>\n",
              "      <th>0</th>\n",
              "      <td>0.048116</td>\n",
              "    </tr>\n",
              "    <tr>\n",
              "      <th>3</th>\n",
              "      <td>0.042998</td>\n",
              "    </tr>\n",
              "    <tr>\n",
              "      <th>4</th>\n",
              "      <td>0.033321</td>\n",
              "    </tr>\n",
              "    <tr>\n",
              "      <th>2</th>\n",
              "      <td>0.032509</td>\n",
              "    </tr>\n",
              "  </tbody>\n",
              "</table>\n",
              "</div>\n",
              "      <button class=\"colab-df-convert\" onclick=\"convertToInteractive('df-338c482e-63c1-4e3f-a979-5a045f1f395e')\"\n",
              "              title=\"Convert this dataframe to an interactive table.\"\n",
              "              style=\"display:none;\">\n",
              "        \n",
              "  <svg xmlns=\"http://www.w3.org/2000/svg\" height=\"24px\"viewBox=\"0 0 24 24\"\n",
              "       width=\"24px\">\n",
              "    <path d=\"M0 0h24v24H0V0z\" fill=\"none\"/>\n",
              "    <path d=\"M18.56 5.44l.94 2.06.94-2.06 2.06-.94-2.06-.94-.94-2.06-.94 2.06-2.06.94zm-11 1L8.5 8.5l.94-2.06 2.06-.94-2.06-.94L8.5 2.5l-.94 2.06-2.06.94zm10 10l.94 2.06.94-2.06 2.06-.94-2.06-.94-.94-2.06-.94 2.06-2.06.94z\"/><path d=\"M17.41 7.96l-1.37-1.37c-.4-.4-.92-.59-1.43-.59-.52 0-1.04.2-1.43.59L10.3 9.45l-7.72 7.72c-.78.78-.78 2.05 0 2.83L4 21.41c.39.39.9.59 1.41.59.51 0 1.02-.2 1.41-.59l7.78-7.78 2.81-2.81c.8-.78.8-2.07 0-2.86zM5.41 20L4 18.59l7.72-7.72 1.47 1.35L5.41 20z\"/>\n",
              "  </svg>\n",
              "      </button>\n",
              "      \n",
              "  <style>\n",
              "    .colab-df-container {\n",
              "      display:flex;\n",
              "      flex-wrap:wrap;\n",
              "      gap: 12px;\n",
              "    }\n",
              "\n",
              "    .colab-df-convert {\n",
              "      background-color: #E8F0FE;\n",
              "      border: none;\n",
              "      border-radius: 50%;\n",
              "      cursor: pointer;\n",
              "      display: none;\n",
              "      fill: #1967D2;\n",
              "      height: 32px;\n",
              "      padding: 0 0 0 0;\n",
              "      width: 32px;\n",
              "    }\n",
              "\n",
              "    .colab-df-convert:hover {\n",
              "      background-color: #E2EBFA;\n",
              "      box-shadow: 0px 1px 2px rgba(60, 64, 67, 0.3), 0px 1px 3px 1px rgba(60, 64, 67, 0.15);\n",
              "      fill: #174EA6;\n",
              "    }\n",
              "\n",
              "    [theme=dark] .colab-df-convert {\n",
              "      background-color: #3B4455;\n",
              "      fill: #D2E3FC;\n",
              "    }\n",
              "\n",
              "    [theme=dark] .colab-df-convert:hover {\n",
              "      background-color: #434B5C;\n",
              "      box-shadow: 0px 1px 3px 1px rgba(0, 0, 0, 0.15);\n",
              "      filter: drop-shadow(0px 1px 2px rgba(0, 0, 0, 0.3));\n",
              "      fill: #FFFFFF;\n",
              "    }\n",
              "  </style>\n",
              "\n",
              "      <script>\n",
              "        const buttonEl =\n",
              "          document.querySelector('#df-338c482e-63c1-4e3f-a979-5a045f1f395e button.colab-df-convert');\n",
              "        buttonEl.style.display =\n",
              "          google.colab.kernel.accessAllowed ? 'block' : 'none';\n",
              "\n",
              "        async function convertToInteractive(key) {\n",
              "          const element = document.querySelector('#df-338c482e-63c1-4e3f-a979-5a045f1f395e');\n",
              "          const dataTable =\n",
              "            await google.colab.kernel.invokeFunction('convertToInteractive',\n",
              "                                                     [key], {});\n",
              "          if (!dataTable) return;\n",
              "\n",
              "          const docLinkHtml = 'Like what you see? Visit the ' +\n",
              "            '<a target=\"_blank\" href=https://colab.research.google.com/notebooks/data_table.ipynb>data table notebook</a>'\n",
              "            + ' to learn more about interactive tables.';\n",
              "          element.innerHTML = '';\n",
              "          dataTable['output_type'] = 'display_data';\n",
              "          await google.colab.output.renderOutput(dataTable, element);\n",
              "          const docLink = document.createElement('div');\n",
              "          docLink.innerHTML = docLinkHtml;\n",
              "          element.appendChild(docLink);\n",
              "        }\n",
              "      </script>\n",
              "    </div>\n",
              "  </div>\n",
              "  "
            ]
          },
          "metadata": {},
          "execution_count": 73
        },
        {
          "output_type": "display_data",
          "data": {
            "text/plain": [
              "<Figure size 432x288 with 1 Axes>"
            ],
            "image/png": "[encoded data removed]"
          },
          "metadata": {
            "needs_background": "light"
          }
        }
      ]
    },
    {
      "cell_type": "code",
      "source": [
        "X.columns"
      ],
      "metadata": {
        "colab": {
          "base_uri": "https://localhost:8080/"
        },
        "id": "uenw2sITZoTC",
        "outputId": "be880cd1-a475-466b-d266-8d54a8379eb4"
      },
      "execution_count": 74,
      "outputs": [
        {
          "output_type": "execute_result",
          "data": {
            "text/plain": [
              "Index(['pregnant', 'glucose', 'bp', 'skin', 'insulin', 'bmi', 'pedigree',\n",
              "       'age'],\n",
              "      dtype='object')"
            ]
          },
          "metadata": {},
          "execution_count": 74
        }
      ]
    },
    {
      "cell_type": "markdown",
      "source": [
        "plot_tree로 분기된 상태를 시각화 해보겠습니다"
      ],
      "metadata": {
        "id": "leeqr5R1Zt5M"
      }
    },
    {
      "cell_type": "code",
      "source": [
        "from sklearn.tree import plot_tree\n",
        "plt.figure(figsize=(15,10))\n",
        "plot_tree(gs_tree.best_estimator_,filled=True,max_depth=1)\n",
        "plt.show()"
      ],
      "metadata": {
        "colab": {
          "base_uri": "https://localhost:8080/",
          "height": 575
        },
        "id": "BrzEB9e9ZOip",
        "outputId": "cedd364b-d7bb-49e6-8446-5faaf1c57adb"
      },
      "execution_count": 76,
      "outputs": [
        {
          "output_type": "display_data",
          "data": {
            "text/plain": [
              "<Figure size 1080x720 with 1 Axes>"
            ],
            "image/png": "[encoded data removed]"
          },
          "metadata": {
            "needs_background": "light"
          }
        }
      ]
    },
    {
      "cell_type": "markdown",
      "source": [
        "feature_importance가 가장 높은 'glucose' 는 X.columns[1]이고 root node에서 분기의 기준으로 쓰였습니다. (feature importance의 절대적 기준은 아님)"
      ],
      "metadata": {
        "id": "EIiB6FqQZydT"
      }
    },
    {
      "cell_type": "markdown",
      "source": [
        "# K-Fold Cross Validation"
      ],
      "metadata": {
        "id": "haJ8dGFtNqac"
      }
    },
    {
      "cell_type": "markdown",
      "source": [
        "### 데이터와 라이브러리\n"
      ],
      "metadata": {
        "id": "9Ckp3lkAkHwa"
      }
    },
    {
      "cell_type": "code",
      "source": [
        "from xgboost import XGBClassifier\n",
        "from sklearn.model_selection import KFold\n",
        "from sklearn.metrics import accuracy_score\n",
        "\n",
        "import warnings\n",
        "warnings.filterwarnings(action = 'ignore')\n",
        "\n",
        "from sklearn.datasets import load_wine"
      ],
      "metadata": {
        "id": "qoGkTXa9hMJH"
      },
      "execution_count": 77,
      "outputs": []
    },
    {
      "cell_type": "markdown",
      "source": [
        "### 와인의 data와 target을 구분해서 새로운 df를 만들어 주세요"
      ],
      "metadata": {
        "id": "3Rdd55gVmoi6"
      }
    },
    {
      "cell_type": "code",
      "source": [
        "# 데이터프레임화\n",
        "df = load_wine()\n",
        "wine_data = df.data\n",
        "wine_label = df.target\n",
        "\n",
        "data = pd.DataFrame(data = wine_data, columns = df.feature_names)\n",
        "data['label'] = df.target"
      ],
      "metadata": {
        "id": "lWiDVtjKi7Vh"
      },
      "execution_count": 78,
      "outputs": []
    },
    {
      "cell_type": "markdown",
      "source": [
        "### XGBClassifier을 이용한 모델에 K-Fold를 적용시켜보겠습니다 5겹짜리로 만들어주세요"
      ],
      "metadata": {
        "id": "QMRP5AHmkWMn"
      }
    },
    {
      "cell_type": "code",
      "source": [
        "model = XGBClassifier()\n",
        "\n",
        "# Kfold\n",
        "split = 5\n",
        "kf = KFold(n_splits = split)\n",
        "n_iter = 0\n",
        "\n",
        "features = data.iloc[:,:-1]\n",
        "label = pd.DataFrame(data['label'])"
      ],
      "metadata": {
        "id": "GvmYsdC_i7Pa"
      },
      "execution_count": 80,
      "outputs": []
    },
    {
      "cell_type": "markdown",
      "source": [
        "### score list에 점수들을 추가해주세요 * append이용\n",
        "### 평균 점수를 내주세요 * len이용"
      ],
      "metadata": {
        "id": "bvRBJ7rXnwaV"
      }
    },
    {
      "cell_type": "code",
      "source": [
        "score_list = []\n",
        "for train_idx, test_idx in kf.split(features, label):\n",
        "  n_iter += 1\n",
        "  print(f'--------------------{n_iter}번째 KFold-------------------')\n",
        "  print(f'train_idx_len : {len(train_idx)} / test_idx_len : {len(test_idx)}')\n",
        "\n",
        "  label_train = label.iloc[train_idx]\n",
        "  label_test = label.iloc[test_idx]\n",
        "\n",
        "  X_train, X_test = features.iloc[train_idx, :], features.iloc[test_idx, :]\n",
        "  y_train, y_test = label.iloc[train_idx,:], label.iloc[test_idx,:]\n",
        "\n",
        "  model.fit(X_train, y_train)\n",
        "  preds = model.predict(X_test)\n",
        "  score = accuracy_score(y_test, preds)\n",
        "\n",
        "  print(f'{n_iter}번째 단일 accuracy_score:{score}')\n",
        "  score_list.append(score)\n",
        "\n",
        "\n",
        "print('======================================================')\n",
        "print(f'최종 평균 accuracy_socre : {np.mean(score_list)}')"
      ],
      "metadata": {
        "id": "9t_blEAti7Hf",
        "colab": {
          "base_uri": "https://localhost:8080/"
        },
        "outputId": "d900c415-c05f-4ce2-e8d8-18e74518e848"
      },
      "execution_count": 82,
      "outputs": [
        {
          "output_type": "stream",
          "name": "stdout",
          "text": [
            "--------------------1번째 KFold-------------------\n",
            "train_idx_len : 142 / test_idx_len : 36\n",
            "1번째 단일 accuracy_score:0.9166666666666666\n",
            "--------------------2번째 KFold-------------------\n",
            "train_idx_len : 142 / test_idx_len : 36\n",
            "2번째 단일 accuracy_score:0.9722222222222222\n",
            "--------------------3번째 KFold-------------------\n",
            "train_idx_len : 142 / test_idx_len : 36\n",
            "3번째 단일 accuracy_score:0.9444444444444444\n",
            "--------------------4번째 KFold-------------------\n",
            "train_idx_len : 143 / test_idx_len : 35\n",
            "4번째 단일 accuracy_score:0.9714285714285714\n",
            "--------------------5번째 KFold-------------------\n",
            "train_idx_len : 143 / test_idx_len : 35\n",
            "5번째 단일 accuracy_score:0.8571428571428571\n",
            "======================================================\n",
            "최종 평균 accuracy_socre : 0.9323809523809523\n"
          ]
        }
      ]
    },
    {
      "cell_type": "markdown",
      "source": [
        "### 이번에는 StratifiedKFold를 이용해봅니다(클래스별 분포를 고려한 방식)\n",
        "#### 이번에도 5번 교차검증을 진행합니다"
      ],
      "metadata": {
        "id": "I0uxlAfYkrqs"
      }
    },
    {
      "cell_type": "code",
      "source": [
        "from xgboost import XGBClassifier\n",
        "from sklearn.model_selection import StratifiedKFold\n",
        "from sklearn.metrics import accuracy_score\n",
        "\n",
        "\n",
        "split = 5\n",
        "skf = StratifiedKFold(n_splits = split)\n",
        "n_iter = 0"
      ],
      "metadata": {
        "id": "OY0cim2SjC7H"
      },
      "execution_count": 83,
      "outputs": []
    },
    {
      "cell_type": "code",
      "source": [
        "from xgboost import XGBClassifier\n",
        "from sklearn.model_selection import StratifiedKFold\n",
        "from sklearn.metrics import accuracy_score\n",
        "\n",
        "import warnings\n",
        "warnings.filterwarnings(action = 'ignore')\n",
        "\n",
        "from sklearn.datasets import load_wine\n",
        "\n",
        "score_list = []\n",
        "for train_idx, test_idx in skf.split(features, label):\n",
        "  n_iter += 1\n",
        "  print(f'------------------{n_iter}번째 StratifiedKFold-----------------')\n",
        "  print(f'train_idx_len : {len(train_idx)} / test_idx_len : {len(test_idx)}')\n",
        "\n",
        "  label_train = label.iloc[train_idx]\n",
        "  label_test = label.iloc[test_idx]\n",
        "\n",
        "  X_train, X_test = features.iloc[train_idx, :], features.iloc[test_idx, :]\n",
        "  y_train, y_test = label.iloc[train_idx,:], label.iloc[test_idx,:]\n",
        "\n",
        "  model.fit(X_train, y_train)\n",
        "  preds = model.predict(X_test)\n",
        "  score = accuracy_score(y_test, preds)\n",
        "\n",
        "  print(f'{n_iter}번째 단일 accuracy_score:{score}')\n",
        "  score_list.append(score)\n",
        "\n",
        "\n",
        "print('======================================================')\n",
        "print(f'최종 평균 accuracy_socre : {sum(score_list)/len(score_list)}')"
      ],
      "metadata": {
        "id": "i-BXyCTqinMP",
        "colab": {
          "base_uri": "https://localhost:8080/"
        },
        "outputId": "fb9b4614-75ce-4387-a815-a1ed10851cb8"
      },
      "execution_count": 84,
      "outputs": [
        {
          "output_type": "stream",
          "name": "stdout",
          "text": [
            "------------------1번째 StratifiedKFold-----------------\n",
            "train_idx_len : 142 / test_idx_len : 36\n",
            "1번째 단일 accuracy_score:0.9722222222222222\n",
            "------------------2번째 StratifiedKFold-----------------\n",
            "train_idx_len : 142 / test_idx_len : 36\n",
            "2번째 단일 accuracy_score:0.9166666666666666\n",
            "------------------3번째 StratifiedKFold-----------------\n",
            "train_idx_len : 142 / test_idx_len : 36\n",
            "3번째 단일 accuracy_score:0.9444444444444444\n",
            "------------------4번째 StratifiedKFold-----------------\n",
            "train_idx_len : 143 / test_idx_len : 35\n",
            "4번째 단일 accuracy_score:0.9714285714285714\n",
            "------------------5번째 StratifiedKFold-----------------\n",
            "train_idx_len : 143 / test_idx_len : 35\n",
            "5번째 단일 accuracy_score:1.0\n",
            "======================================================\n",
            "최종 평균 accuracy_socre : 0.9609523809523809\n"
          ]
        }
      ]
    },
    {
      "cell_type": "markdown",
      "source": [
        "### cross_val_score을 이용해봅시다\n",
        "#### 위와 같은 복잡한 과정 필요없이 간단하게 동일한 결과를 만들어 낼 수 있습니다\n",
        "#### cv값에 숫자를 직접 적어서 넣어도 됩니다"
      ],
      "metadata": {
        "id": "HIUcuI_6lOKG"
      }
    },
    {
      "cell_type": "code",
      "source": [
        "from sklearn.model_selection import cross_val_score\n",
        "\n",
        "model = XGBClassifier()\n",
        "\n",
        "score = cross_val_score(model, features, label, scoring = 'accuracy', cv = 10)\n",
        "print(f\"단일 accuracy : {score}\")\n",
        "print(f\"10번의 fold 후 평균 accuracy: {np.mean(score)}\")"
      ],
      "metadata": {
        "id": "yyrft_vEizQ6",
        "colab": {
          "base_uri": "https://localhost:8080/"
        },
        "outputId": "809e7b63-bd1e-4d7a-db5f-9b121d038292"
      },
      "execution_count": 85,
      "outputs": [
        {
          "output_type": "stream",
          "name": "stdout",
          "text": [
            "단일 accuracy : [0.94444444 1.         0.94444444 0.94444444 0.88888889 1.\n",
            " 1.         0.94444444 1.         1.        ]\n",
            "5번의 fold 후 평균 accuracy: 0.9666666666666666\n"
          ]
        }
      ]
    },
    {
      "cell_type": "markdown",
      "source": [
        "# Grid Search"
      ],
      "metadata": {
        "id": "4c-mEjJxN81s"
      }
    },
    {
      "cell_type": "markdown",
      "source": [
        "### 필요한 라이브러리 import"
      ],
      "metadata": {
        "id": "ml5Rm780N_kx"
      }
    },
    {
      "cell_type": "code",
      "source": [
        "from sklearn.linear_model import Lasso\n",
        "from sklearn.model_selection import train_test_split\n",
        "from sklearn.metrics import mean_squared_error\n",
        "from sklearn.preprocessing import PolynomialFeatures\n",
        "from sklearn.model_selection import GridSearchCV\n",
        "\n",
        "import numpy as np\n",
        "import pandas as pd"
      ],
      "metadata": {
        "id": "r9mGmAt9OAFs"
      },
      "execution_count": 86,
      "outputs": []
    },
    {
      "cell_type": "markdown",
      "source": [
        "### csv 파일 데이터프레임으로 만들기"
      ],
      "metadata": {
        "id": "aanDzoekOCt4"
      }
    },
    {
      "cell_type": "code",
      "source": [
        "from google.colab import files\n",
        "files.upload()"
      ],
      "metadata": {
        "id": "hI4xWEwQPOXO",
        "colab": {
          "base_uri": "https://localhost:8080/",
          "height": 133
        },
        "outputId": "7d835fbd-34b0-4382-c4c4-1b02b748ed2c"
      },
      "execution_count": 87,
      "outputs": [
        {
          "output_type": "display_data",
          "data": {
            "text/plain": [
              "<IPython.core.display.HTML object>"
            ],
            "text/html": [
              "\n",
              "     <input type=\"file\" id=\"files-0a3424aa-9419-4267-ab2e-badc92677844\" name=\"files[]\" multiple disabled\n",
              "        style=\"border:none\" />\n",
              "     <output id=\"result-0a3424aa-9419-4267-ab2e-badc92677844\">\n",
              "      Upload widget is only available when the cell has been executed in the\n",
              "      current browser session. Please rerun this cell to enable.\n",
              "      </output>\n",
              "      <script>// Copyright 2017 Google LLC\n",
              "//\n",
              "// Licensed under the Apache License, Version 2.0 (the \"License\");\n",
              "// you may not use this file except in compliance with the License.\n",
              "// You may obtain a copy of the License at\n",
              "//\n",
              "//      http://www.apache.org/licenses/LICENSE-2.0\n",
              "//\n",
              "// Unless required by applicable law or agreed to in writing, software\n",
              "// distributed under the License is distributed on an \"AS IS\" BASIS,\n",
              "// WITHOUT WARRANTIES OR CONDITIONS OF ANY KIND, either express or implied.\n",
              "// See the License for the specific language governing permissions and\n",
              "// limitations under the License.\n",
              "\n",
              "/**\n",
              " * @fileoverview Helpers for google.colab Python module.\n",
              " */\n",
              "(function(scope) {\n",
              "function span(text, styleAttributes = {}) {\n",
              "  const element = document.createElement('span');\n",
              "  element.textContent = text;\n",
              "  for (const key of Object.keys(styleAttributes)) {\n",
              "    element.style[key] = styleAttributes[key];\n",
              "  }\n",
              "  return element;\n",
              "}\n",
              "\n",
              "// Max number of bytes which will be uploaded at a time.\n",
              "const MAX_PAYLOAD_SIZE = 100 * 1024;\n",
              "\n",
              "function _uploadFiles(inputId, outputId) {\n",
              "  const steps = uploadFilesStep(inputId, outputId);\n",
              "  const outputElement = document.getElementById(outputId);\n",
              "  // Cache steps on the outputElement to make it available for the next call\n",
              "  // to uploadFilesContinue from Python.\n",
              "  outputElement.steps = steps;\n",
              "\n",
              "  return _uploadFilesContinue(outputId);\n",
              "}\n",
              "\n",
              "// This is roughly an async generator (not supported in the browser yet),\n",
              "// where there are multiple asynchronous steps and the Python side is going\n",
              "// to poll for completion of each step.\n",
              "// This uses a Promise to block the python side on completion of each step,\n",
              "// then passes the result of the previous step as the input to the next step.\n",
              "function _uploadFilesContinue(outputId) {\n",
              "  const outputElement = document.getElementById(outputId);\n",
              "  const steps = outputElement.steps;\n",
              "\n",
              "  const next = steps.next(outputElement.lastPromiseValue);\n",
              "  return Promise.resolve(next.value.promise).then((value) => {\n",
              "    // Cache the last promise value to make it available to the next\n",
              "    // step of the generator.\n",
              "    outputElement.lastPromiseValue = value;\n",
              "    return next.value.response;\n",
              "  });\n",
              "}\n",
              "\n",
              "/**\n",
              " * Generator function which is called between each async step of the upload\n",
              " * process.\n",
              " * @param {string} inputId Element ID of the input file picker element.\n",
              " * @param {string} outputId Element ID of the output display.\n",
              " * @return {!Iterable<!Object>} Iterable of next steps.\n",
              " */\n",
              "function* uploadFilesStep(inputId, outputId) {\n",
              "  const inputElement = document.getElementById(inputId);\n",
              "  inputElement.disabled = false;\n",
              "\n",
              "  const outputElement = document.getElementById(outputId);\n",
              "  outputElement.innerHTML = '';\n",
              "\n",
              "  const pickedPromise = new Promise((resolve) => {\n",
              "    inputElement.addEventListener('change', (e) => {\n",
              "      resolve(e.target.files);\n",
              "    });\n",
              "  });\n",
              "\n",
              "  const cancel = document.createElement('button');\n",
              "  inputElement.parentElement.appendChild(cancel);\n",
              "  cancel.textContent = 'Cancel upload';\n",
              "  const cancelPromise = new Promise((resolve) => {\n",
              "    cancel.onclick = () => {\n",
              "      resolve(null);\n",
              "    };\n",
              "  });\n",
              "\n",
              "  // Wait for the user to pick the files.\n",
              "  const files = yield {\n",
              "    promise: Promise.race([pickedPromise, cancelPromise]),\n",
              "    response: {\n",
              "      action: 'starting',\n",
              "    }\n",
              "  };\n",
              "\n",
              "  cancel.remove();\n",
              "\n",
              "  // Disable the input element since further picks are not allowed.\n",
              "  inputElement.disabled = true;\n",
              "\n",
              "  if (!files) {\n",
              "    return {\n",
              "      response: {\n",
              "        action: 'complete',\n",
              "      }\n",
              "    };\n",
              "  }\n",
              "\n",
              "  for (const file of files) {\n",
              "    const li = document.createElement('li');\n",
              "    li.append(span(file.name, {fontWeight: 'bold'}));\n",
              "    li.append(span(\n",
              "        `(${file.type || 'n/a'}) - ${file.size} bytes, ` +\n",
              "        `last modified: ${\n",
              "            file.lastModifiedDate ? file.lastModifiedDate.toLocaleDateString() :\n",
              "                                    'n/a'} - `));\n",
              "    const percent = span('0% done');\n",
              "    li.appendChild(percent);\n",
              "\n",
              "    outputElement.appendChild(li);\n",
              "\n",
              "    const fileDataPromise = new Promise((resolve) => {\n",
              "      const reader = new FileReader();\n",
              "      reader.onload = (e) => {\n",
              "        resolve(e.target.result);\n",
              "      };\n",
              "      reader.readAsArrayBuffer(file);\n",
              "    });\n",
              "    // Wait for the data to be ready.\n",
              "    let fileData = yield {\n",
              "      promise: fileDataPromise,\n",
              "      response: {\n",
              "        action: 'continue',\n",
              "      }\n",
              "    };\n",
              "\n",
              "    // Use a chunked sending to avoid message size limits. See b/62115660.\n",
              "    let position = 0;\n",
              "    do {\n",
              "      const length = Math.min(fileData.byteLength - position, MAX_PAYLOAD_SIZE);\n",
              "      const chunk = new Uint8Array(fileData, position, length);\n",
              "      position += length;\n",
              "\n",
              "      const base64 = btoa(String.fromCharCode.apply(null, chunk));\n",
              "      yield {\n",
              "        response: {\n",
              "          action: 'append',\n",
              "          file: file.name,\n",
              "          data: base64,\n",
              "        },\n",
              "      };\n",
              "\n",
              "      let percentDone = fileData.byteLength === 0 ?\n",
              "          100 :\n",
              "          Math.round((position / fileData.byteLength) * 100);\n",
              "      percent.textContent = `${percentDone}% done`;\n",
              "\n",
              "    } while (position < fileData.byteLength);\n",
              "  }\n",
              "\n",
              "  // All done.\n",
              "  yield {\n",
              "    response: {\n",
              "      action: 'complete',\n",
              "    }\n",
              "  };\n",
              "}\n",
              "\n",
              "scope.google = scope.google || {};\n",
              "scope.google.colab = scope.google.colab || {};\n",
              "scope.google.colab._files = {\n",
              "  _uploadFiles,\n",
              "  _uploadFilesContinue,\n",
              "};\n",
              "})(self);\n",
              "</script> "
            ]
          },
          "metadata": {}
        },
        {
          "output_type": "stream",
          "name": "stdout",
          "text": [
            "Saving Admission_Data.csv to Admission_Data.csv\n"
          ]
        },
        {
          "output_type": "execute_result",
          "data": {
            "text/plain": [
              "{'Admission_Data.csv': b'Serial No.,GRE Score,TOEFL Score,University Rating,SOP,LOR ,CGPA,Research,Chance of Admit \\n1,337,118,4,4.5,4.5,9.65,1,0.92\\n2,324,107,4,4,4.5,8.87,1,0.76\\n3,316,104,3,3,3.5,8,1,0.72\\n4,322,110,3,3.5,2.5,8.67,1,0.8\\n5,314,103,2,2,3,8.21,0,0.65\\n6,330,115,5,4.5,3,9.34,1,0.9\\n7,321,109,3,3,4,8.2,1,0.75\\n8,308,101,2,3,4,7.9,0,0.68\\n9,302,102,1,2,1.5,8,0,0.5\\n10,323,108,3,3.5,3,8.6,0,0.45\\n11,325,106,3,3.5,4,8.4,1,0.52\\n12,327,111,4,4,4.5,9,1,0.84\\n13,328,112,4,4,4.5,9.1,1,0.78\\n14,307,109,3,4,3,8,1,0.62\\n15,311,104,3,3.5,2,8.2,1,0.61\\n16,314,105,3,3.5,2.5,8.3,0,0.54\\n17,317,107,3,4,3,8.7,0,0.66\\n18,319,106,3,4,3,8,1,0.65\\n19,318,110,3,4,3,8.8,0,0.63\\n20,303,102,3,3.5,3,8.5,0,0.62\\n21,312,107,3,3,2,7.9,1,0.64\\n22,325,114,4,3,2,8.4,0,0.7\\n23,328,116,5,5,5,9.5,1,0.94\\n24,334,119,5,5,4.5,9.7,1,0.95\\n25,336,119,5,4,3.5,9.8,1,0.97\\n26,340,120,5,4.5,4.5,9.6,1,0.94\\n27,322,109,5,4.5,3.5,8.8,0,0.76\\n28,298,98,2,1.5,2.5,7.5,1,0.44\\n29,295,93,1,2,2,7.2,0,0.46\\n30,310,99,2,1.5,2,7.3,0,0.54\\n31,300,97,2,3,3,8.1,1,0.65\\n32,327,103,3,4,4,8.3,1,0.74\\n33,338,118,4,3,4.5,9.4,1,0.91\\n34,340,114,5,4,4,9.6,1,0.9\\n35,331,112,5,4,5,9.8,1,0.94\\n36,320,110,5,5,5,9.2,1,0.88\\n37,299,106,2,4,4,8.4,0,0.64\\n38,300,105,1,1,2,7.8,0,0.58\\n39,304,105,1,3,1.5,7.5,0,0.52\\n40,307,108,2,4,3.5,7.7,0,0.48\\n41,308,110,3,3.5,3,8,1,0.46\\n42,316,105,2,2.5,2.5,8.2,1,0.49\\n43,313,107,2,2.5,2,8.5,1,0.53\\n44,332,117,4,4.5,4,9.1,0,0.87\\n45,326,113,5,4.5,4,9.4,1,0.91\\n46,322,110,5,5,4,9.1,1,0.88\\n47,329,114,5,4,5,9.3,1,0.86\\n48,339,119,5,4.5,4,9.7,0,0.89\\n49,321,110,3,3.5,5,8.85,1,0.82\\n50,327,111,4,3,4,8.4,1,0.78\\n51,313,98,3,2.5,4.5,8.3,1,0.76\\n52,312,100,2,1.5,3.5,7.9,1,0.56\\n53,334,116,4,4,3,8,1,0.78\\n54,324,112,4,4,2.5,8.1,1,0.72\\n55,322,110,3,3,3.5,8,0,0.7\\n56,320,103,3,3,3,7.7,0,0.64\\n57,316,102,3,2,3,7.4,0,0.64\\n58,298,99,2,4,2,7.6,0,0.46\\n59,300,99,1,3,2,6.8,1,0.36\\n60,311,104,2,2,2,8.3,0,0.42\\n61,309,100,2,3,3,8.1,0,0.48\\n62,307,101,3,4,3,8.2,0,0.47\\n63,304,105,2,3,3,8.2,1,0.54\\n64,315,107,2,4,3,8.5,1,0.56\\n65,325,111,3,3,3.5,8.7,0,0.52\\n66,325,112,4,3.5,3.5,8.92,0,0.55\\n67,327,114,3,3,3,9.02,0,0.61\\n68,316,107,2,3.5,3.5,8.64,1,0.57\\n69,318,109,3,3.5,4,9.22,1,0.68\\n70,328,115,4,4.5,4,9.16,1,0.78\\n71,332,118,5,5,5,9.64,1,0.94\\n72,336,112,5,5,5,9.76,1,0.96\\n73,321,111,5,5,5,9.45,1,0.93\\n74,314,108,4,4.5,4,9.04,1,0.84\\n75,314,106,3,3,5,8.9,0,0.74\\n76,329,114,2,2,4,8.56,1,0.72\\n77,327,112,3,3,3,8.72,1,0.74\\n78,301,99,2,3,2,8.22,0,0.64\\n79,296,95,2,3,2,7.54,1,0.44\\n80,294,93,1,1.5,2,7.36,0,0.46\\n81,312,105,3,2,3,8.02,1,0.5\\n82,340,120,4,5,5,9.5,1,0.96\\n83,320,110,5,5,4.5,9.22,1,0.92\\n84,322,115,5,4,4.5,9.36,1,0.92\\n85,340,115,5,4.5,4.5,9.45,1,0.94\\n86,319,103,4,4.5,3.5,8.66,0,0.76\\n87,315,106,3,4.5,3.5,8.42,0,0.72\\n88,317,107,2,3.5,3,8.28,0,0.66\\n89,314,108,3,4.5,3.5,8.14,0,0.64\\n90,316,109,4,4.5,3.5,8.76,1,0.74\\n91,318,106,2,4,4,7.92,1,0.64\\n92,299,97,3,5,3.5,7.66,0,0.38\\n93,298,98,2,4,3,8.03,0,0.34\\n94,301,97,2,3,3,7.88,1,0.44\\n95,303,99,3,2,2.5,7.66,0,0.36\\n96,304,100,4,1.5,2.5,7.84,0,0.42\\n97,306,100,2,3,3,8,0,0.48\\n98,331,120,3,4,4,8.96,1,0.86\\n99,332,119,4,5,4.5,9.24,1,0.9\\n100,323,113,3,4,4,8.88,1,0.79\\n101,322,107,3,3.5,3.5,8.46,1,0.71\\n102,312,105,2,2.5,3,8.12,0,0.64\\n103,314,106,2,4,3.5,8.25,0,0.62\\n104,317,104,2,4.5,4,8.47,0,0.57\\n105,326,112,3,3.5,3,9.05,1,0.74\\n106,316,110,3,4,4.5,8.78,1,0.69\\n107,329,111,4,4.5,4.5,9.18,1,0.87\\n108,338,117,4,3.5,4.5,9.46,1,0.91\\n109,331,116,5,5,5,9.38,1,0.93\\n110,304,103,5,5,4,8.64,0,0.68\\n111,305,108,5,3,3,8.48,0,0.61\\n112,321,109,4,4,4,8.68,1,0.69\\n113,301,107,3,3.5,3.5,8.34,1,0.62\\n114,320,110,2,4,3.5,8.56,0,0.72\\n115,311,105,3,3.5,3,8.45,1,0.59\\n116,310,106,4,4.5,4.5,9.04,1,0.66\\n117,299,102,3,4,3.5,8.62,0,0.56\\n118,290,104,4,2,2.5,7.46,0,0.45\\n119,296,99,2,3,3.5,7.28,0,0.47\\n120,327,104,5,3,3.5,8.84,1,0.71\\n121,335,117,5,5,5,9.56,1,0.94\\n122,334,119,5,4.5,4.5,9.48,1,0.94\\n123,310,106,4,1.5,2.5,8.36,0,0.57\\n124,308,108,3,3.5,3.5,8.22,0,0.61\\n125,301,106,4,2.5,3,8.47,0,0.57\\n126,300,100,3,2,3,8.66,1,0.64\\n127,323,113,3,4,3,9.32,1,0.85\\n128,319,112,3,2.5,2,8.71,1,0.78\\n129,326,112,3,3.5,3,9.1,1,0.84\\n130,333,118,5,5,5,9.35,1,0.92\\n131,339,114,5,4,4.5,9.76,1,0.96\\n132,303,105,5,5,4.5,8.65,0,0.77\\n133,309,105,5,3.5,3.5,8.56,0,0.71\\n134,323,112,5,4,4.5,8.78,0,0.79\\n135,333,113,5,4,4,9.28,1,0.89\\n136,314,109,4,3.5,4,8.77,1,0.82\\n137,312,103,3,5,4,8.45,0,0.76\\n138,316,100,2,1.5,3,8.16,1,0.71\\n139,326,116,2,4.5,3,9.08,1,0.8\\n140,318,109,1,3.5,3.5,9.12,0,0.78\\n141,329,110,2,4,3,9.15,1,0.84\\n142,332,118,2,4.5,3.5,9.36,1,0.9\\n143,331,115,5,4,3.5,9.44,1,0.92\\n144,340,120,4,4.5,4,9.92,1,0.97\\n145,325,112,2,3,3.5,8.96,1,0.8\\n146,320,113,2,2,2.5,8.64,1,0.81\\n147,315,105,3,2,2.5,8.48,0,0.75\\n148,326,114,3,3,3,9.11,1,0.83\\n149,339,116,4,4,3.5,9.8,1,0.96\\n150,311,106,2,3.5,3,8.26,1,0.79\\n151,334,114,4,4,4,9.43,1,0.93\\n152,332,116,5,5,5,9.28,1,0.94\\n153,321,112,5,5,5,9.06,1,0.86\\n154,324,105,3,3,4,8.75,0,0.79\\n155,326,108,3,3,3.5,8.89,0,0.8\\n156,312,109,3,3,3,8.69,0,0.77\\n157,315,105,3,2,2.5,8.34,0,0.7\\n158,309,104,2,2,2.5,8.26,0,0.65\\n159,306,106,2,2,2.5,8.14,0,0.61\\n160,297,100,1,1.5,2,7.9,0,0.52\\n161,315,103,1,1.5,2,7.86,0,0.57\\n162,298,99,1,1.5,3,7.46,0,0.53\\n163,318,109,3,3,3,8.5,0,0.67\\n164,317,105,3,3.5,3,8.56,0,0.68\\n165,329,111,4,4.5,4,9.01,1,0.81\\n166,322,110,5,4.5,4,8.97,0,0.78\\n167,302,102,3,3.5,5,8.33,0,0.65\\n168,313,102,3,2,3,8.27,0,0.64\\n169,293,97,2,2,4,7.8,1,0.64\\n170,311,99,2,2.5,3,7.98,0,0.65\\n171,312,101,2,2.5,3.5,8.04,1,0.68\\n172,334,117,5,4,4.5,9.07,1,0.89\\n173,322,110,4,4,5,9.13,1,0.86\\n174,323,113,4,4,4.5,9.23,1,0.89\\n175,321,111,4,4,4,8.97,1,0.87\\n176,320,111,4,4.5,3.5,8.87,1,0.85\\n177,329,119,4,4.5,4.5,9.16,1,0.9\\n178,319,110,3,3.5,3.5,9.04,0,0.82\\n179,309,108,3,2.5,3,8.12,0,0.72\\n180,307,102,3,3,3,8.27,0,0.73\\n181,300,104,3,3.5,3,8.16,0,0.71\\n182,305,107,2,2.5,2.5,8.42,0,0.71\\n183,299,100,2,3,3.5,7.88,0,0.68\\n184,314,110,3,4,4,8.8,0,0.75\\n185,316,106,2,2.5,4,8.32,0,0.72\\n186,327,113,4,4.5,4.5,9.11,1,0.89\\n187,317,107,3,3.5,3,8.68,1,0.84\\n188,335,118,5,4.5,3.5,9.44,1,0.93\\n189,331,115,5,4.5,3.5,9.36,1,0.93\\n190,324,112,5,5,5,9.08,1,0.88\\n191,324,111,5,4.5,4,9.16,1,0.9\\n192,323,110,5,4,5,8.98,1,0.87\\n193,322,114,5,4.5,4,8.94,1,0.86\\n194,336,118,5,4.5,5,9.53,1,0.94\\n195,316,109,3,3.5,3,8.76,0,0.77\\n196,307,107,2,3,3.5,8.52,1,0.78\\n197,306,105,2,3,2.5,8.26,0,0.73\\n198,310,106,2,3.5,2.5,8.33,0,0.73\\n199,311,104,3,4.5,4.5,8.43,0,0.7\\n200,313,107,3,4,4.5,8.69,0,0.72\\n201,317,103,3,2.5,3,8.54,1,0.73\\n202,315,110,2,3.5,3,8.46,1,0.72\\n203,340,120,5,4.5,4.5,9.91,1,0.97\\n204,334,120,5,4,5,9.87,1,0.97\\n205,298,105,3,3.5,4,8.54,0,0.69\\n206,295,99,2,2.5,3,7.65,0,0.57\\n207,315,99,2,3.5,3,7.89,0,0.63\\n208,310,102,3,3.5,4,8.02,1,0.66\\n209,305,106,2,3,3,8.16,0,0.64\\n210,301,104,3,3.5,4,8.12,1,0.68\\n211,325,108,4,4.5,4,9.06,1,0.79\\n212,328,110,4,5,4,9.14,1,0.82\\n213,338,120,4,5,5,9.66,1,0.95\\n214,333,119,5,5,4.5,9.78,1,0.96\\n215,331,117,4,4.5,5,9.42,1,0.94\\n216,330,116,5,5,4.5,9.36,1,0.93\\n217,322,112,4,4.5,4.5,9.26,1,0.91\\n218,321,109,4,4,4,9.13,1,0.85\\n219,324,110,4,3,3.5,8.97,1,0.84\\n220,312,104,3,3.5,3.5,8.42,0,0.74\\n221,313,103,3,4,4,8.75,0,0.76\\n222,316,110,3,3.5,4,8.56,0,0.75\\n223,324,113,4,4.5,4,8.79,0,0.76\\n224,308,109,2,3,4,8.45,0,0.71\\n225,305,105,2,3,2,8.23,0,0.67\\n226,296,99,2,2.5,2.5,8.03,0,0.61\\n227,306,110,2,3.5,4,8.45,0,0.63\\n228,312,110,2,3.5,3,8.53,0,0.64\\n229,318,112,3,4,3.5,8.67,0,0.71\\n230,324,111,4,3,3,9.01,1,0.82\\n231,313,104,3,4,4.5,8.65,0,0.73\\n232,319,106,3,3.5,2.5,8.33,1,0.74\\n233,312,107,2,2.5,3.5,8.27,0,0.69\\n234,304,100,2,2.5,3.5,8.07,0,0.64\\n235,330,113,5,5,4,9.31,1,0.91\\n236,326,111,5,4.5,4,9.23,1,0.88\\n237,325,112,4,4,4.5,9.17,1,0.85\\n238,329,114,5,4.5,5,9.19,1,0.86\\n239,310,104,3,2,3.5,8.37,0,0.7\\n240,299,100,1,1.5,2,7.89,0,0.59\\n241,296,101,1,2.5,3,7.68,0,0.6\\n242,317,103,2,2.5,2,8.15,0,0.65\\n243,324,115,3,3.5,3,8.76,1,0.7\\n244,325,114,3,3.5,3,9.04,1,0.76\\n245,314,107,2,2.5,4,8.56,0,0.63\\n246,328,110,4,4,2.5,9.02,1,0.81\\n247,316,105,3,3,3.5,8.73,0,0.72\\n248,311,104,2,2.5,3.5,8.48,0,0.71\\n249,324,110,3,3.5,4,8.87,1,0.8\\n250,321,111,3,3.5,4,8.83,1,0.77\\n251,320,104,3,3,2.5,8.57,1,0.74\\n252,316,99,2,2.5,3,9,0,0.7\\n253,318,100,2,2.5,3.5,8.54,1,0.71\\n254,335,115,4,4.5,4.5,9.68,1,0.93\\n255,321,114,4,4,5,9.12,0,0.85\\n256,307,110,4,4,4.5,8.37,0,0.79\\n257,309,99,3,4,4,8.56,0,0.76\\n258,324,100,3,4,5,8.64,1,0.78\\n259,326,102,4,5,5,8.76,1,0.77\\n260,331,119,4,5,4.5,9.34,1,0.9\\n261,327,108,5,5,3.5,9.13,1,0.87\\n262,312,104,3,3.5,4,8.09,0,0.71\\n263,308,103,2,2.5,4,8.36,1,0.7\\n264,324,111,3,2.5,1.5,8.79,1,0.7\\n265,325,110,2,3,2.5,8.76,1,0.75\\n266,313,102,3,2.5,2.5,8.68,0,0.71\\n267,312,105,2,2,2.5,8.45,0,0.72\\n268,314,107,3,3,3.5,8.17,1,0.73\\n269,327,113,4,4.5,5,9.14,0,0.83\\n270,308,108,4,4.5,5,8.34,0,0.77\\n271,306,105,2,2.5,3,8.22,1,0.72\\n272,299,96,2,1.5,2,7.86,0,0.54\\n273,294,95,1,1.5,1.5,7.64,0,0.49\\n274,312,99,1,1,1.5,8.01,1,0.52\\n275,315,100,1,2,2.5,7.95,0,0.58\\n276,322,110,3,3.5,3,8.96,1,0.78\\n277,329,113,5,5,4.5,9.45,1,0.89\\n278,320,101,2,2.5,3,8.62,0,0.7\\n279,308,103,2,3,3.5,8.49,0,0.66\\n280,304,102,2,3,4,8.73,0,0.67\\n281,311,102,3,4.5,4,8.64,1,0.68\\n282,317,110,3,4,4.5,9.11,1,0.8\\n283,312,106,3,4,3.5,8.79,1,0.81\\n284,321,111,3,2.5,3,8.9,1,0.8\\n285,340,112,4,5,4.5,9.66,1,0.94\\n286,331,116,5,4,4,9.26,1,0.93\\n287,336,118,5,4.5,4,9.19,1,0.92\\n288,324,114,5,5,4.5,9.08,1,0.89\\n289,314,104,4,5,5,9.02,0,0.82\\n290,313,109,3,4,3.5,9,0,0.79\\n291,307,105,2,2.5,3,7.65,0,0.58\\n292,300,102,2,1.5,2,7.87,0,0.56\\n293,302,99,2,1,2,7.97,0,0.56\\n294,312,98,1,3.5,3,8.18,1,0.64\\n295,316,101,2,2.5,2,8.32,1,0.61\\n296,317,100,2,3,2.5,8.57,0,0.68\\n297,310,107,3,3.5,3.5,8.67,0,0.76\\n298,320,120,3,4,4.5,9.11,0,0.86\\n299,330,114,3,4.5,4.5,9.24,1,0.9\\n300,305,112,3,3,3.5,8.65,0,0.71\\n301,309,106,2,2.5,2.5,8,0,0.62\\n302,319,108,2,2.5,3,8.76,0,0.66\\n303,322,105,2,3,3,8.45,1,0.65\\n304,323,107,3,3.5,3.5,8.55,1,0.73\\n305,313,106,2,2.5,2,8.43,0,0.62\\n306,321,109,3,3.5,3.5,8.8,1,0.74\\n307,323,110,3,4,3.5,9.1,1,0.79\\n308,325,112,4,4,4,9,1,0.8\\n309,312,108,3,3.5,3,8.53,0,0.69\\n310,308,110,4,3.5,3,8.6,0,0.7\\n311,320,104,3,3,3.5,8.74,1,0.76\\n312,328,108,4,4.5,4,9.18,1,0.84\\n313,311,107,4,4.5,4.5,9,1,0.78\\n314,301,100,3,3.5,3,8.04,0,0.67\\n315,305,105,2,3,4,8.13,0,0.66\\n316,308,104,2,2.5,3,8.07,0,0.65\\n317,298,101,2,1.5,2,7.86,0,0.54\\n318,300,99,1,1,2.5,8.01,0,0.58\\n319,324,111,3,2.5,2,8.8,1,0.79\\n320,327,113,4,3.5,3,8.69,1,0.8\\n321,317,106,3,4,3.5,8.5,1,0.75\\n322,323,104,3,4,4,8.44,1,0.73\\n323,314,107,2,2.5,4,8.27,0,0.72\\n324,305,102,2,2,2.5,8.18,0,0.62\\n325,315,104,3,3,2.5,8.33,0,0.67\\n326,326,116,3,3.5,4,9.14,1,0.81\\n327,299,100,3,2,2,8.02,0,0.63\\n328,295,101,2,2.5,2,7.86,0,0.69\\n329,324,112,4,4,3.5,8.77,1,0.8\\n330,297,96,2,2.5,1.5,7.89,0,0.43\\n331,327,113,3,3.5,3,8.66,1,0.8\\n332,311,105,2,3,2,8.12,1,0.73\\n333,308,106,3,3.5,2.5,8.21,1,0.75\\n334,319,108,3,3,3.5,8.54,1,0.71\\n335,312,107,4,4.5,4,8.65,1,0.73\\n336,325,111,4,4,4.5,9.11,1,0.83\\n337,319,110,3,3,2.5,8.79,0,0.72\\n338,332,118,5,5,5,9.47,1,0.94\\n339,323,108,5,4,4,8.74,1,0.81\\n340,324,107,5,3.5,4,8.66,1,0.81\\n341,312,107,3,3,3,8.46,1,0.75\\n342,326,110,3,3.5,3.5,8.76,1,0.79\\n343,308,106,3,3,3,8.24,0,0.58\\n344,305,103,2,2.5,3.5,8.13,0,0.59\\n345,295,96,2,1.5,2,7.34,0,0.47\\n346,316,98,1,1.5,2,7.43,0,0.49\\n347,304,97,2,1.5,2,7.64,0,0.47\\n348,299,94,1,1,1,7.34,0,0.42\\n349,302,99,1,2,2,7.25,0,0.57\\n350,313,101,3,2.5,3,8.04,0,0.62\\n351,318,107,3,3,3.5,8.27,1,0.74\\n352,325,110,4,3.5,4,8.67,1,0.73\\n353,303,100,2,3,3.5,8.06,1,0.64\\n354,300,102,3,3.5,2.5,8.17,0,0.63\\n355,297,98,2,2.5,3,7.67,0,0.59\\n356,317,106,2,2,3.5,8.12,0,0.73\\n357,327,109,3,3.5,4,8.77,1,0.79\\n358,301,104,2,3.5,3.5,7.89,1,0.68\\n359,314,105,2,2.5,2,7.64,0,0.7\\n360,321,107,2,2,1.5,8.44,0,0.81\\n361,322,110,3,4,5,8.64,1,0.85\\n362,334,116,4,4,3.5,9.54,1,0.93\\n363,338,115,5,4.5,5,9.23,1,0.91\\n364,306,103,2,2.5,3,8.36,0,0.69\\n365,313,102,3,3.5,4,8.9,1,0.77\\n366,330,114,4,4.5,3,9.17,1,0.86\\n367,320,104,3,3.5,4.5,8.34,1,0.74\\n368,311,98,1,1,2.5,7.46,0,0.57\\n369,298,92,1,2,2,7.88,0,0.51\\n370,301,98,1,2,3,8.03,1,0.67\\n371,310,103,2,2.5,2.5,8.24,0,0.72\\n372,324,110,3,3.5,3,9.22,1,0.89\\n373,336,119,4,4.5,4,9.62,1,0.95\\n374,321,109,3,3,3,8.54,1,0.79\\n375,315,105,2,2,2.5,7.65,0,0.39\\n376,304,101,2,2,2.5,7.66,0,0.38\\n377,297,96,2,2.5,2,7.43,0,0.34\\n378,290,100,1,1.5,2,7.56,0,0.47\\n379,303,98,1,2,2.5,7.65,0,0.56\\n380,311,99,1,2.5,3,8.43,1,0.71\\n381,322,104,3,3.5,4,8.84,1,0.78\\n382,319,105,3,3,3.5,8.67,1,0.73\\n383,324,110,4,4.5,4,9.15,1,0.82\\n384,300,100,3,3,3.5,8.26,0,0.62\\n385,340,113,4,5,5,9.74,1,0.96\\n386,335,117,5,5,5,9.82,1,0.96\\n387,302,101,2,2.5,3.5,7.96,0,0.46\\n388,307,105,2,2,3.5,8.1,0,0.53\\n389,296,97,2,1.5,2,7.8,0,0.49\\n390,320,108,3,3.5,4,8.44,1,0.76\\n391,314,102,2,2,2.5,8.24,0,0.64\\n392,318,106,3,2,3,8.65,0,0.71\\n393,326,112,4,4,3.5,9.12,1,0.84\\n394,317,104,2,3,3,8.76,0,0.77\\n395,329,111,4,4.5,4,9.23,1,0.89\\n396,324,110,3,3.5,3.5,9.04,1,0.82\\n397,325,107,3,3,3.5,9.11,1,0.84\\n398,330,116,4,5,4.5,9.45,1,0.91\\n399,312,103,3,3.5,4,8.78,0,0.67\\n400,333,117,4,5,4,9.66,1,0.95\\n401,304,100,2,3.5,3,8.22,0,0.63\\n402,315,105,2,3,3,8.34,0,0.66\\n403,324,109,3,3.5,3,8.94,1,0.78\\n404,330,116,4,4,3.5,9.23,1,0.91\\n405,311,101,3,2,2.5,7.64,1,0.62\\n406,302,99,3,2.5,3,7.45,0,0.52\\n407,322,103,4,3,2.5,8.02,1,0.61\\n408,298,100,3,2.5,4,7.95,1,0.58\\n409,297,101,3,2,4,7.67,1,0.57\\n410,300,98,1,2,2.5,8.02,0,0.61\\n411,301,96,1,3,4,7.56,0,0.54\\n412,313,94,2,2.5,1.5,8.13,0,0.56\\n413,314,102,4,2.5,2,7.88,1,0.59\\n414,317,101,3,3,2,7.94,1,0.49\\n415,321,110,4,3.5,4,8.35,1,0.72\\n416,327,106,4,4,4.5,8.75,1,0.76\\n417,315,104,3,4,2.5,8.1,0,0.65\\n418,316,103,3,3.5,2,7.68,0,0.52\\n419,309,111,2,2.5,4,8.03,0,0.6\\n420,308,102,2,2,3.5,7.98,1,0.58\\n421,299,100,3,2,3,7.42,0,0.42\\n422,321,112,3,3,4.5,8.95,1,0.77\\n423,322,112,4,3.5,2.5,9.02,1,0.73\\n424,334,119,5,4.5,5,9.54,1,0.94\\n425,325,114,5,4,5,9.46,1,0.91\\n426,323,111,5,4,5,9.86,1,0.92\\n427,312,106,3,3,5,8.57,0,0.71\\n428,310,101,3,3.5,5,8.65,1,0.71\\n429,316,103,2,2,4.5,8.74,0,0.69\\n430,340,115,5,5,4.5,9.06,1,0.95\\n431,311,104,3,4,3.5,8.13,1,0.74\\n432,320,112,2,3.5,3.5,8.78,1,0.73\\n433,324,112,4,4.5,4,9.22,1,0.86\\n434,316,111,4,4,5,8.54,0,0.71\\n435,306,103,3,3.5,3,8.21,0,0.64\\n436,309,105,2,2.5,4,7.68,0,0.55\\n437,310,110,1,1.5,4,7.23,1,0.58\\n438,317,106,1,1.5,3.5,7.65,1,0.61\\n439,318,110,1,2.5,3.5,8.54,1,0.67\\n440,312,105,2,1.5,3,8.46,0,0.66\\n441,305,104,2,2.5,1.5,7.79,0,0.53\\n442,332,112,1,1.5,3,8.66,1,0.79\\n443,331,116,4,4.5,4.5,9.44,1,0.92\\n444,321,114,5,4.5,4.5,9.16,1,0.87\\n445,324,113,5,4,5,9.25,1,0.92\\n446,328,116,5,4.5,5,9.08,1,0.91\\n447,327,118,4,5,5,9.67,1,0.93\\n448,320,108,3,3.5,5,8.97,1,0.84\\n449,312,109,2,2.5,4,9.02,0,0.8\\n450,315,101,3,3.5,4.5,9.13,0,0.79\\n451,320,112,4,3,4.5,8.86,1,0.82\\n452,324,113,4,4.5,4.5,9.25,1,0.89\\n453,328,116,4,5,3.5,9.6,1,0.93\\n454,319,103,3,2.5,4,8.76,1,0.73\\n455,310,105,2,3,3.5,8.01,0,0.71\\n456,305,102,2,1.5,2.5,7.64,0,0.59\\n457,299,100,2,2,2,7.88,0,0.51\\n458,295,99,1,2,1.5,7.57,0,0.37\\n459,312,100,1,3,3,8.53,1,0.69\\n460,329,113,4,4,3.5,9.36,1,0.89\\n461,319,105,4,4,4.5,8.66,1,0.77\\n462,301,102,3,2.5,2,8.13,1,0.68\\n463,307,105,4,3,3,7.94,0,0.62\\n464,304,107,3,3.5,3,7.86,0,0.57\\n465,298,97,2,2,3,7.21,0,0.45\\n466,305,96,4,3,4.5,8.26,0,0.54\\n467,314,99,4,3.5,4.5,8.73,1,0.71\\n468,318,101,5,3.5,5,8.78,1,0.78\\n469,323,110,4,4,5,8.88,1,0.81\\n470,326,114,4,4,3.5,9.16,1,0.86\\n471,320,110,5,4,4,9.27,1,0.87\\n472,311,103,3,2,4,8.09,0,0.64\\n473,327,116,4,4,4.5,9.48,1,0.9\\n474,316,102,2,4,3.5,8.15,0,0.67\\n475,308,105,4,3,2.5,7.95,1,0.67\\n476,300,101,3,3.5,2.5,7.88,0,0.59\\n477,304,104,3,2.5,2,8.12,0,0.62\\n478,309,105,4,3.5,2,8.18,0,0.65\\n479,318,103,3,4,4.5,8.49,1,0.71\\n480,325,110,4,4.5,4,8.96,1,0.79\\n481,321,102,3,3.5,4,9.01,1,0.8\\n482,323,107,4,3,2.5,8.48,1,0.78\\n483,328,113,4,4,2.5,8.77,1,0.83\\n484,304,103,5,5,3,7.92,0,0.71\\n485,317,106,3,3.5,3,7.89,1,0.73\\n486,311,101,2,2.5,3.5,8.34,1,0.7\\n487,319,102,3,2.5,2.5,8.37,0,0.68\\n488,327,115,4,3.5,4,9.14,0,0.79\\n489,322,112,3,3,4,8.62,1,0.76\\n490,302,110,3,4,4.5,8.5,0,0.65\\n491,307,105,2,2.5,4.5,8.12,1,0.67\\n492,297,99,4,3,3.5,7.81,0,0.54\\n493,298,101,4,2.5,4.5,7.69,1,0.53\\n494,300,95,2,3,1.5,8.22,1,0.62\\n495,301,99,3,2.5,2,8.45,1,0.68\\n496,332,108,5,4.5,4,9.02,1,0.87\\n497,337,117,5,5,5,9.87,1,0.96\\n498,330,120,5,4.5,5,9.56,1,0.93\\n499,312,103,4,4,5,8.43,0,0.73\\n500,327,113,4,4.5,4.5,9.04,0,0.84'}"
            ]
          },
          "metadata": {},
          "execution_count": 87
        }
      ]
    },
    {
      "cell_type": "code",
      "source": [
        "df = pd.read_csv('Admission_Data.csv')"
      ],
      "metadata": {
        "id": "7D4lg68GOC_S"
      },
      "execution_count": 88,
      "outputs": []
    },
    {
      "cell_type": "markdown",
      "source": [
        "### 'Serial No.' 삭제하기 (뒤에 . 주의)"
      ],
      "metadata": {
        "id": "DnaIl12MOdFg"
      }
    },
    {
      "cell_type": "code",
      "source": [
        "df"
      ],
      "metadata": {
        "colab": {
          "base_uri": "https://localhost:8080/",
          "height": 424
        },
        "id": "wt_IjwYZXt76",
        "outputId": "26928777-6be6-400a-8d7f-dbd680d69655"
      },
      "execution_count": 89,
      "outputs": [
        {
          "output_type": "execute_result",
          "data": {
            "text/plain": [
              "     Serial No.  GRE Score  TOEFL Score  University Rating  SOP  LOR   CGPA  \\\n",
              "0             1        337          118                  4  4.5   4.5  9.65   \n",
              "1             2        324          107                  4  4.0   4.5  8.87   \n",
              "2             3        316          104                  3  3.0   3.5  8.00   \n",
              "3             4        322          110                  3  3.5   2.5  8.67   \n",
              "4             5        314          103                  2  2.0   3.0  8.21   \n",
              "..          ...        ...          ...                ...  ...   ...   ...   \n",
              "495         496        332          108                  5  4.5   4.0  9.02   \n",
              "496         497        337          117                  5  5.0   5.0  9.87   \n",
              "497         498        330          120                  5  4.5   5.0  9.56   \n",
              "498         499        312          103                  4  4.0   5.0  8.43   \n",
              "499         500        327          113                  4  4.5   4.5  9.04   \n",
              "\n",
              "     Research  Chance of Admit   \n",
              "0           1              0.92  \n",
              "1           1              0.76  \n",
              "2           1              0.72  \n",
              "3           1              0.80  \n",
              "4           0              0.65  \n",
              "..        ...               ...  \n",
              "495         1              0.87  \n",
              "496         1              0.96  \n",
              "497         1              0.93  \n",
              "498         0              0.73  \n",
              "499         0              0.84  \n",
              "\n",
              "[500 rows x 9 columns]"
            ],
            "text/html": [
              "\n",
              "  <div id=\"df-726bb98e-f299-45e9-b0ea-4a7f91355fa1\">\n",
              "    <div class=\"colab-df-container\">\n",
              "      <div>\n",
              "<style scoped>\n",
              "    .dataframe tbody tr th:only-of-type {\n",
              "        vertical-align: middle;\n",
              "    }\n",
              "\n",
              "    .dataframe tbody tr th {\n",
              "        vertical-align: top;\n",
              "    }\n",
              "\n",
              "    .dataframe thead th {\n",
              "        text-align: right;\n",
              "    }\n",
              "</style>\n",
              "<table border=\"1\" class=\"dataframe\">\n",
              "  <thead>\n",
              "    <tr style=\"text-align: right;\">\n",
              "      <th></th>\n",
              "      <th>Serial No.</th>\n",
              "      <th>GRE Score</th>\n",
              "      <th>TOEFL Score</th>\n",
              "      <th>University Rating</th>\n",
              "      <th>SOP</th>\n",
              "      <th>LOR</th>\n",
              "      <th>CGPA</th>\n",
              "      <th>Research</th>\n",
              "      <th>Chance of Admit</th>\n",
              "    </tr>\n",
              "  </thead>\n",
              "  <tbody>\n",
              "    <tr>\n",
              "      <th>0</th>\n",
              "      <td>1</td>\n",
              "      <td>337</td>\n",
              "      <td>118</td>\n",
              "      <td>4</td>\n",
              "      <td>4.5</td>\n",
              "      <td>4.5</td>\n",
              "      <td>9.65</td>\n",
              "      <td>1</td>\n",
              "      <td>0.92</td>\n",
              "    </tr>\n",
              "    <tr>\n",
              "      <th>1</th>\n",
              "      <td>2</td>\n",
              "      <td>324</td>\n",
              "      <td>107</td>\n",
              "      <td>4</td>\n",
              "      <td>4.0</td>\n",
              "      <td>4.5</td>\n",
              "      <td>8.87</td>\n",
              "      <td>1</td>\n",
              "      <td>0.76</td>\n",
              "    </tr>\n",
              "    <tr>\n",
              "      <th>2</th>\n",
              "      <td>3</td>\n",
              "      <td>316</td>\n",
              "      <td>104</td>\n",
              "      <td>3</td>\n",
              "      <td>3.0</td>\n",
              "      <td>3.5</td>\n",
              "      <td>8.00</td>\n",
              "      <td>1</td>\n",
              "      <td>0.72</td>\n",
              "    </tr>\n",
              "    <tr>\n",
              "      <th>3</th>\n",
              "      <td>4</td>\n",
              "      <td>322</td>\n",
              "      <td>110</td>\n",
              "      <td>3</td>\n",
              "      <td>3.5</td>\n",
              "      <td>2.5</td>\n",
              "      <td>8.67</td>\n",
              "      <td>1</td>\n",
              "      <td>0.80</td>\n",
              "    </tr>\n",
              "    <tr>\n",
              "      <th>4</th>\n",
              "      <td>5</td>\n",
              "      <td>314</td>\n",
              "      <td>103</td>\n",
              "      <td>2</td>\n",
              "      <td>2.0</td>\n",
              "      <td>3.0</td>\n",
              "      <td>8.21</td>\n",
              "      <td>0</td>\n",
              "      <td>0.65</td>\n",
              "    </tr>\n",
              "    <tr>\n",
              "      <th>...</th>\n",
              "      <td>...</td>\n",
              "      <td>...</td>\n",
              "      <td>...</td>\n",
              "      <td>...</td>\n",
              "      <td>...</td>\n",
              "      <td>...</td>\n",
              "      <td>...</td>\n",
              "      <td>...</td>\n",
              "      <td>...</td>\n",
              "    </tr>\n",
              "    <tr>\n",
              "      <th>495</th>\n",
              "      <td>496</td>\n",
              "      <td>332</td>\n",
              "      <td>108</td>\n",
              "      <td>5</td>\n",
              "      <td>4.5</td>\n",
              "      <td>4.0</td>\n",
              "      <td>9.02</td>\n",
              "      <td>1</td>\n",
              "      <td>0.87</td>\n",
              "    </tr>\n",
              "    <tr>\n",
              "      <th>496</th>\n",
              "      <td>497</td>\n",
              "      <td>337</td>\n",
              "      <td>117</td>\n",
              "      <td>5</td>\n",
              "      <td>5.0</td>\n",
              "      <td>5.0</td>\n",
              "      <td>9.87</td>\n",
              "      <td>1</td>\n",
              "      <td>0.96</td>\n",
              "    </tr>\n",
              "    <tr>\n",
              "      <th>497</th>\n",
              "      <td>498</td>\n",
              "      <td>330</td>\n",
              "      <td>120</td>\n",
              "      <td>5</td>\n",
              "      <td>4.5</td>\n",
              "      <td>5.0</td>\n",
              "      <td>9.56</td>\n",
              "      <td>1</td>\n",
              "      <td>0.93</td>\n",
              "    </tr>\n",
              "    <tr>\n",
              "      <th>498</th>\n",
              "      <td>499</td>\n",
              "      <td>312</td>\n",
              "      <td>103</td>\n",
              "      <td>4</td>\n",
              "      <td>4.0</td>\n",
              "      <td>5.0</td>\n",
              "      <td>8.43</td>\n",
              "      <td>0</td>\n",
              "      <td>0.73</td>\n",
              "    </tr>\n",
              "    <tr>\n",
              "      <th>499</th>\n",
              "      <td>500</td>\n",
              "      <td>327</td>\n",
              "      <td>113</td>\n",
              "      <td>4</td>\n",
              "      <td>4.5</td>\n",
              "      <td>4.5</td>\n",
              "      <td>9.04</td>\n",
              "      <td>0</td>\n",
              "      <td>0.84</td>\n",
              "    </tr>\n",
              "  </tbody>\n",
              "</table>\n",
              "<p>500 rows × 9 columns</p>\n",
              "</div>\n",
              "      <button class=\"colab-df-convert\" onclick=\"convertToInteractive('df-726bb98e-f299-45e9-b0ea-4a7f91355fa1')\"\n",
              "              title=\"Convert this dataframe to an interactive table.\"\n",
              "              style=\"display:none;\">\n",
              "        \n",
              "  <svg xmlns=\"http://www.w3.org/2000/svg\" height=\"24px\"viewBox=\"0 0 24 24\"\n",
              "       width=\"24px\">\n",
              "    <path d=\"M0 0h24v24H0V0z\" fill=\"none\"/>\n",
              "    <path d=\"M18.56 5.44l.94 2.06.94-2.06 2.06-.94-2.06-.94-.94-2.06-.94 2.06-2.06.94zm-11 1L8.5 8.5l.94-2.06 2.06-.94-2.06-.94L8.5 2.5l-.94 2.06-2.06.94zm10 10l.94 2.06.94-2.06 2.06-.94-2.06-.94-.94-2.06-.94 2.06-2.06.94z\"/><path d=\"M17.41 7.96l-1.37-1.37c-.4-.4-.92-.59-1.43-.59-.52 0-1.04.2-1.43.59L10.3 9.45l-7.72 7.72c-.78.78-.78 2.05 0 2.83L4 21.41c.39.39.9.59 1.41.59.51 0 1.02-.2 1.41-.59l7.78-7.78 2.81-2.81c.8-.78.8-2.07 0-2.86zM5.41 20L4 18.59l7.72-7.72 1.47 1.35L5.41 20z\"/>\n",
              "  </svg>\n",
              "      </button>\n",
              "      \n",
              "  <style>\n",
              "    .colab-df-container {\n",
              "      display:flex;\n",
              "      flex-wrap:wrap;\n",
              "      gap: 12px;\n",
              "    }\n",
              "\n",
              "    .colab-df-convert {\n",
              "      background-color: #E8F0FE;\n",
              "      border: none;\n",
              "      border-radius: 50%;\n",
              "      cursor: pointer;\n",
              "      display: none;\n",
              "      fill: #1967D2;\n",
              "      height: 32px;\n",
              "      padding: 0 0 0 0;\n",
              "      width: 32px;\n",
              "    }\n",
              "\n",
              "    .colab-df-convert:hover {\n",
              "      background-color: #E2EBFA;\n",
              "      box-shadow: 0px 1px 2px rgba(60, 64, 67, 0.3), 0px 1px 3px 1px rgba(60, 64, 67, 0.15);\n",
              "      fill: #174EA6;\n",
              "    }\n",
              "\n",
              "    [theme=dark] .colab-df-convert {\n",
              "      background-color: #3B4455;\n",
              "      fill: #D2E3FC;\n",
              "    }\n",
              "\n",
              "    [theme=dark] .colab-df-convert:hover {\n",
              "      background-color: #434B5C;\n",
              "      box-shadow: 0px 1px 3px 1px rgba(0, 0, 0, 0.15);\n",
              "      filter: drop-shadow(0px 1px 2px rgba(0, 0, 0, 0.3));\n",
              "      fill: #FFFFFF;\n",
              "    }\n",
              "  </style>\n",
              "\n",
              "      <script>\n",
              "        const buttonEl =\n",
              "          document.querySelector('#df-726bb98e-f299-45e9-b0ea-4a7f91355fa1 button.colab-df-convert');\n",
              "        buttonEl.style.display =\n",
              "          google.colab.kernel.accessAllowed ? 'block' : 'none';\n",
              "\n",
              "        async function convertToInteractive(key) {\n",
              "          const element = document.querySelector('#df-726bb98e-f299-45e9-b0ea-4a7f91355fa1');\n",
              "          const dataTable =\n",
              "            await google.colab.kernel.invokeFunction('convertToInteractive',\n",
              "                                                     [key], {});\n",
              "          if (!dataTable) return;\n",
              "\n",
              "          const docLinkHtml = 'Like what you see? Visit the ' +\n",
              "            '<a target=\"_blank\" href=https://colab.research.google.com/notebooks/data_table.ipynb>data table notebook</a>'\n",
              "            + ' to learn more about interactive tables.';\n",
              "          element.innerHTML = '';\n",
              "          dataTable['output_type'] = 'display_data';\n",
              "          await google.colab.output.renderOutput(dataTable, element);\n",
              "          const docLink = document.createElement('div');\n",
              "          docLink.innerHTML = docLinkHtml;\n",
              "          element.appendChild(docLink);\n",
              "        }\n",
              "      </script>\n",
              "    </div>\n",
              "  </div>\n",
              "  "
            ]
          },
          "metadata": {},
          "execution_count": 89
        }
      ]
    },
    {
      "cell_type": "code",
      "source": [
        "df = df.drop('Serial No.', axis = 1)"
      ],
      "metadata": {
        "id": "xZtScPVWOhDD"
      },
      "execution_count": 90,
      "outputs": []
    },
    {
      "cell_type": "markdown",
      "source": [
        "### 대략적인 구조 보기"
      ],
      "metadata": {
        "id": "b8vUCKtZPBs9"
      }
    },
    {
      "cell_type": "code",
      "source": [
        "df.head()"
      ],
      "metadata": {
        "id": "_pT2lp9PPAxy",
        "colab": {
          "base_uri": "https://localhost:8080/",
          "height": 206
        },
        "outputId": "732f75b4-0759-40dc-99ff-bb75f79ac141"
      },
      "execution_count": 94,
      "outputs": [
        {
          "output_type": "execute_result",
          "data": {
            "text/plain": [
              "   GRE Score  TOEFL Score  University Rating  SOP  LOR   CGPA  Research  \\\n",
              "0        337          118                  4  4.5   4.5  9.65         1   \n",
              "1        324          107                  4  4.0   4.5  8.87         1   \n",
              "2        316          104                  3  3.0   3.5  8.00         1   \n",
              "3        322          110                  3  3.5   2.5  8.67         1   \n",
              "4        314          103                  2  2.0   3.0  8.21         0   \n",
              "\n",
              "   Chance of Admit   \n",
              "0              0.92  \n",
              "1              0.76  \n",
              "2              0.72  \n",
              "3              0.80  \n",
              "4              0.65  "
            ],
            "text/html": [
              "\n",
              "  <div id=\"df-5be66844-5e28-428d-b732-0ecfaaf07bcc\">\n",
              "    <div class=\"colab-df-container\">\n",
              "      <div>\n",
              "<style scoped>\n",
              "    .dataframe tbody tr th:only-of-type {\n",
              "        vertical-align: middle;\n",
              "    }\n",
              "\n",
              "    .dataframe tbody tr th {\n",
              "        vertical-align: top;\n",
              "    }\n",
              "\n",
              "    .dataframe thead th {\n",
              "        text-align: right;\n",
              "    }\n",
              "</style>\n",
              "<table border=\"1\" class=\"dataframe\">\n",
              "  <thead>\n",
              "    <tr style=\"text-align: right;\">\n",
              "      <th></th>\n",
              "      <th>GRE Score</th>\n",
              "      <th>TOEFL Score</th>\n",
              "      <th>University Rating</th>\n",
              "      <th>SOP</th>\n",
              "      <th>LOR</th>\n",
              "      <th>CGPA</th>\n",
              "      <th>Research</th>\n",
              "      <th>Chance of Admit</th>\n",
              "    </tr>\n",
              "  </thead>\n",
              "  <tbody>\n",
              "    <tr>\n",
              "      <th>0</th>\n",
              "      <td>337</td>\n",
              "      <td>118</td>\n",
              "      <td>4</td>\n",
              "      <td>4.5</td>\n",
              "      <td>4.5</td>\n",
              "      <td>9.65</td>\n",
              "      <td>1</td>\n",
              "      <td>0.92</td>\n",
              "    </tr>\n",
              "    <tr>\n",
              "      <th>1</th>\n",
              "      <td>324</td>\n",
              "      <td>107</td>\n",
              "      <td>4</td>\n",
              "      <td>4.0</td>\n",
              "      <td>4.5</td>\n",
              "      <td>8.87</td>\n",
              "      <td>1</td>\n",
              "      <td>0.76</td>\n",
              "    </tr>\n",
              "    <tr>\n",
              "      <th>2</th>\n",
              "      <td>316</td>\n",
              "      <td>104</td>\n",
              "      <td>3</td>\n",
              "      <td>3.0</td>\n",
              "      <td>3.5</td>\n",
              "      <td>8.00</td>\n",
              "      <td>1</td>\n",
              "      <td>0.72</td>\n",
              "    </tr>\n",
              "    <tr>\n",
              "      <th>3</th>\n",
              "      <td>322</td>\n",
              "      <td>110</td>\n",
              "      <td>3</td>\n",
              "      <td>3.5</td>\n",
              "      <td>2.5</td>\n",
              "      <td>8.67</td>\n",
              "      <td>1</td>\n",
              "      <td>0.80</td>\n",
              "    </tr>\n",
              "    <tr>\n",
              "      <th>4</th>\n",
              "      <td>314</td>\n",
              "      <td>103</td>\n",
              "      <td>2</td>\n",
              "      <td>2.0</td>\n",
              "      <td>3.0</td>\n",
              "      <td>8.21</td>\n",
              "      <td>0</td>\n",
              "      <td>0.65</td>\n",
              "    </tr>\n",
              "  </tbody>\n",
              "</table>\n",
              "</div>\n",
              "      <button class=\"colab-df-convert\" onclick=\"convertToInteractive('df-5be66844-5e28-428d-b732-0ecfaaf07bcc')\"\n",
              "              title=\"Convert this dataframe to an interactive table.\"\n",
              "              style=\"display:none;\">\n",
              "        \n",
              "  <svg xmlns=\"http://www.w3.org/2000/svg\" height=\"24px\"viewBox=\"0 0 24 24\"\n",
              "       width=\"24px\">\n",
              "    <path d=\"M0 0h24v24H0V0z\" fill=\"none\"/>\n",
              "    <path d=\"M18.56 5.44l.94 2.06.94-2.06 2.06-.94-2.06-.94-.94-2.06-.94 2.06-2.06.94zm-11 1L8.5 8.5l.94-2.06 2.06-.94-2.06-.94L8.5 2.5l-.94 2.06-2.06.94zm10 10l.94 2.06.94-2.06 2.06-.94-2.06-.94-.94-2.06-.94 2.06-2.06.94z\"/><path d=\"M17.41 7.96l-1.37-1.37c-.4-.4-.92-.59-1.43-.59-.52 0-1.04.2-1.43.59L10.3 9.45l-7.72 7.72c-.78.78-.78 2.05 0 2.83L4 21.41c.39.39.9.59 1.41.59.51 0 1.02-.2 1.41-.59l7.78-7.78 2.81-2.81c.8-.78.8-2.07 0-2.86zM5.41 20L4 18.59l7.72-7.72 1.47 1.35L5.41 20z\"/>\n",
              "  </svg>\n",
              "      </button>\n",
              "      \n",
              "  <style>\n",
              "    .colab-df-container {\n",
              "      display:flex;\n",
              "      flex-wrap:wrap;\n",
              "      gap: 12px;\n",
              "    }\n",
              "\n",
              "    .colab-df-convert {\n",
              "      background-color: #E8F0FE;\n",
              "      border: none;\n",
              "      border-radius: 50%;\n",
              "      cursor: pointer;\n",
              "      display: none;\n",
              "      fill: #1967D2;\n",
              "      height: 32px;\n",
              "      padding: 0 0 0 0;\n",
              "      width: 32px;\n",
              "    }\n",
              "\n",
              "    .colab-df-convert:hover {\n",
              "      background-color: #E2EBFA;\n",
              "      box-shadow: 0px 1px 2px rgba(60, 64, 67, 0.3), 0px 1px 3px 1px rgba(60, 64, 67, 0.15);\n",
              "      fill: #174EA6;\n",
              "    }\n",
              "\n",
              "    [theme=dark] .colab-df-convert {\n",
              "      background-color: #3B4455;\n",
              "      fill: #D2E3FC;\n",
              "    }\n",
              "\n",
              "    [theme=dark] .colab-df-convert:hover {\n",
              "      background-color: #434B5C;\n",
              "      box-shadow: 0px 1px 3px 1px rgba(0, 0, 0, 0.15);\n",
              "      filter: drop-shadow(0px 1px 2px rgba(0, 0, 0, 0.3));\n",
              "      fill: #FFFFFF;\n",
              "    }\n",
              "  </style>\n",
              "\n",
              "      <script>\n",
              "        const buttonEl =\n",
              "          document.querySelector('#df-5be66844-5e28-428d-b732-0ecfaaf07bcc button.colab-df-convert');\n",
              "        buttonEl.style.display =\n",
              "          google.colab.kernel.accessAllowed ? 'block' : 'none';\n",
              "\n",
              "        async function convertToInteractive(key) {\n",
              "          const element = document.querySelector('#df-5be66844-5e28-428d-b732-0ecfaaf07bcc');\n",
              "          const dataTable =\n",
              "            await google.colab.kernel.invokeFunction('convertToInteractive',\n",
              "                                                     [key], {});\n",
              "          if (!dataTable) return;\n",
              "\n",
              "          const docLinkHtml = 'Like what you see? Visit the ' +\n",
              "            '<a target=\"_blank\" href=https://colab.research.google.com/notebooks/data_table.ipynb>data table notebook</a>'\n",
              "            + ' to learn more about interactive tables.';\n",
              "          element.innerHTML = '';\n",
              "          dataTable['output_type'] = 'display_data';\n",
              "          await google.colab.output.renderOutput(dataTable, element);\n",
              "          const docLink = document.createElement('div');\n",
              "          docLink.innerHTML = docLinkHtml;\n",
              "          element.appendChild(docLink);\n",
              "        }\n",
              "      </script>\n",
              "    </div>\n",
              "  </div>\n",
              "  "
            ]
          },
          "metadata": {},
          "execution_count": 94
        }
      ]
    },
    {
      "cell_type": "markdown",
      "source": [
        "### Chance of Admit 제외한 새로운 df 생성 이후, 각 column들에 polynomialfeatures(degree = 2) 진행"
      ],
      "metadata": {
        "id": "axLPbANjPiai"
      }
    },
    {
      "cell_type": "code",
      "source": [
        "df.columns"
      ],
      "metadata": {
        "colab": {
          "base_uri": "https://localhost:8080/"
        },
        "id": "_RrhFzvMYlJg",
        "outputId": "ab355abe-31e8-4d03-d771-83b1aa1eb67d"
      },
      "execution_count": 102,
      "outputs": [
        {
          "output_type": "execute_result",
          "data": {
            "text/plain": [
              "Index(['GRE Score', 'TOEFL Score', 'University Rating', 'SOP', 'LOR ', 'CGPA',\n",
              "       'Research', 'Chance of Admit '],\n",
              "      dtype='object')"
            ]
          },
          "metadata": {},
          "execution_count": 102
        }
      ]
    },
    {
      "cell_type": "code",
      "source": [
        "X = df.drop('Chance of Admit ', axis = 1)\n",
        "\n",
        "polynomial_transformer = PolynomialFeatures(degree = 2)\n",
        "polynomial_features = polynomial_transformer.fit_transform(X.values)\n",
        "features = polynomial_transformer.get_feature_names_out(X.columns)"
      ],
      "metadata": {
        "id": "YvqXo8FrPZqA"
      },
      "execution_count": 103,
      "outputs": []
    },
    {
      "cell_type": "markdown",
      "source": [
        "### 새로 polynomial df를 생성"
      ],
      "metadata": {
        "id": "4qSvrvINPg6T"
      }
    },
    {
      "cell_type": "code",
      "source": [
        "X = pd.DataFrame(polynomial_features, columns=features)\n",
        "X.head()"
      ],
      "metadata": {
        "id": "dj6LDBxAPet_",
        "colab": {
          "base_uri": "https://localhost:8080/",
          "height": 314
        },
        "outputId": "c8cf6cf3-4767-4950-f466-84d044456ddd"
      },
      "execution_count": 104,
      "outputs": [
        {
          "output_type": "execute_result",
          "data": {
            "text/plain": [
              "     1  GRE Score  TOEFL Score  University Rating  SOP  LOR   CGPA  Research  \\\n",
              "0  1.0      337.0        118.0                4.0  4.5   4.5  9.65       1.0   \n",
              "1  1.0      324.0        107.0                4.0  4.0   4.5  8.87       1.0   \n",
              "2  1.0      316.0        104.0                3.0  3.0   3.5  8.00       1.0   \n",
              "3  1.0      322.0        110.0                3.0  3.5   2.5  8.67       1.0   \n",
              "4  1.0      314.0        103.0                2.0  2.0   3.0  8.21       0.0   \n",
              "\n",
              "   GRE Score^2  GRE Score TOEFL Score  ...  SOP^2  SOP LOR   SOP CGPA  \\\n",
              "0     113569.0                39766.0  ...  20.25     20.25    43.425   \n",
              "1     104976.0                34668.0  ...  16.00     18.00    35.480   \n",
              "2      99856.0                32864.0  ...   9.00     10.50    24.000   \n",
              "3     103684.0                35420.0  ...  12.25      8.75    30.345   \n",
              "4      98596.0                32342.0  ...   4.00      6.00    16.420   \n",
              "\n",
              "   SOP Research  LOR ^2  LOR  CGPA  LOR  Research   CGPA^2  CGPA Research  \\\n",
              "0           4.5   20.25     43.425            4.5  93.1225           9.65   \n",
              "1           4.0   20.25     39.915            4.5  78.6769           8.87   \n",
              "2           3.0   12.25     28.000            3.5  64.0000           8.00   \n",
              "3           3.5    6.25     21.675            2.5  75.1689           8.67   \n",
              "4           0.0    9.00     24.630            0.0  67.4041           0.00   \n",
              "\n",
              "   Research^2  \n",
              "0         1.0  \n",
              "1         1.0  \n",
              "2         1.0  \n",
              "3         1.0  \n",
              "4         0.0  \n",
              "\n",
              "[5 rows x 36 columns]"
            ],
            "text/html": [
              "\n",
              "  <div id=\"df-8c68cd7a-009b-4e0f-9316-73bf1ccc1fbb\">\n",
              "    <div class=\"colab-df-container\">\n",
              "      <div>\n",
              "<style scoped>\n",
              "    .dataframe tbody tr th:only-of-type {\n",
              "        vertical-align: middle;\n",
              "    }\n",
              "\n",
              "    .dataframe tbody tr th {\n",
              "        vertical-align: top;\n",
              "    }\n",
              "\n",
              "    .dataframe thead th {\n",
              "        text-align: right;\n",
              "    }\n",
              "</style>\n",
              "<table border=\"1\" class=\"dataframe\">\n",
              "  <thead>\n",
              "    <tr style=\"text-align: right;\">\n",
              "      <th></th>\n",
              "      <th>1</th>\n",
              "      <th>GRE Score</th>\n",
              "      <th>TOEFL Score</th>\n",
              "      <th>University Rating</th>\n",
              "      <th>SOP</th>\n",
              "      <th>LOR</th>\n",
              "      <th>CGPA</th>\n",
              "      <th>Research</th>\n",
              "      <th>GRE Score^2</th>\n",
              "      <th>GRE Score TOEFL Score</th>\n",
              "      <th>...</th>\n",
              "      <th>SOP^2</th>\n",
              "      <th>SOP LOR</th>\n",
              "      <th>SOP CGPA</th>\n",
              "      <th>SOP Research</th>\n",
              "      <th>LOR ^2</th>\n",
              "      <th>LOR  CGPA</th>\n",
              "      <th>LOR  Research</th>\n",
              "      <th>CGPA^2</th>\n",
              "      <th>CGPA Research</th>\n",
              "      <th>Research^2</th>\n",
              "    </tr>\n",
              "  </thead>\n",
              "  <tbody>\n",
              "    <tr>\n",
              "      <th>0</th>\n",
              "      <td>1.0</td>\n",
              "      <td>337.0</td>\n",
              "      <td>118.0</td>\n",
              "      <td>4.0</td>\n",
              "      <td>4.5</td>\n",
              "      <td>4.5</td>\n",
              "      <td>9.65</td>\n",
              "      <td>1.0</td>\n",
              "      <td>113569.0</td>\n",
              "      <td>39766.0</td>\n",
              "      <td>...</td>\n",
              "      <td>20.25</td>\n",
              "      <td>20.25</td>\n",
              "      <td>43.425</td>\n",
              "      <td>4.5</td>\n",
              "      <td>20.25</td>\n",
              "      <td>43.425</td>\n",
              "      <td>4.5</td>\n",
              "      <td>93.1225</td>\n",
              "      <td>9.65</td>\n",
              "      <td>1.0</td>\n",
              "    </tr>\n",
              "    <tr>\n",
              "      <th>1</th>\n",
              "      <td>1.0</td>\n",
              "      <td>324.0</td>\n",
              "      <td>107.0</td>\n",
              "      <td>4.0</td>\n",
              "      <td>4.0</td>\n",
              "      <td>4.5</td>\n",
              "      <td>8.87</td>\n",
              "      <td>1.0</td>\n",
              "      <td>104976.0</td>\n",
              "      <td>34668.0</td>\n",
              "      <td>...</td>\n",
              "      <td>16.00</td>\n",
              "      <td>18.00</td>\n",
              "      <td>35.480</td>\n",
              "      <td>4.0</td>\n",
              "      <td>20.25</td>\n",
              "      <td>39.915</td>\n",
              "      <td>4.5</td>\n",
              "      <td>78.6769</td>\n",
              "      <td>8.87</td>\n",
              "      <td>1.0</td>\n",
              "    </tr>\n",
              "    <tr>\n",
              "      <th>2</th>\n",
              "      <td>1.0</td>\n",
              "      <td>316.0</td>\n",
              "      <td>104.0</td>\n",
              "      <td>3.0</td>\n",
              "      <td>3.0</td>\n",
              "      <td>3.5</td>\n",
              "      <td>8.00</td>\n",
              "      <td>1.0</td>\n",
              "      <td>99856.0</td>\n",
              "      <td>32864.0</td>\n",
              "      <td>...</td>\n",
              "      <td>9.00</td>\n",
              "      <td>10.50</td>\n",
              "      <td>24.000</td>\n",
              "      <td>3.0</td>\n",
              "      <td>12.25</td>\n",
              "      <td>28.000</td>\n",
              "      <td>3.5</td>\n",
              "      <td>64.0000</td>\n",
              "      <td>8.00</td>\n",
              "      <td>1.0</td>\n",
              "    </tr>\n",
              "    <tr>\n",
              "      <th>3</th>\n",
              "      <td>1.0</td>\n",
              "      <td>322.0</td>\n",
              "      <td>110.0</td>\n",
              "      <td>3.0</td>\n",
              "      <td>3.5</td>\n",
              "      <td>2.5</td>\n",
              "      <td>8.67</td>\n",
              "      <td>1.0</td>\n",
              "      <td>103684.0</td>\n",
              "      <td>35420.0</td>\n",
              "      <td>...</td>\n",
              "      <td>12.25</td>\n",
              "      <td>8.75</td>\n",
              "      <td>30.345</td>\n",
              "      <td>3.5</td>\n",
              "      <td>6.25</td>\n",
              "      <td>21.675</td>\n",
              "      <td>2.5</td>\n",
              "      <td>75.1689</td>\n",
              "      <td>8.67</td>\n",
              "      <td>1.0</td>\n",
              "    </tr>\n",
              "    <tr>\n",
              "      <th>4</th>\n",
              "      <td>1.0</td>\n",
              "      <td>314.0</td>\n",
              "      <td>103.0</td>\n",
              "      <td>2.0</td>\n",
              "      <td>2.0</td>\n",
              "      <td>3.0</td>\n",
              "      <td>8.21</td>\n",
              "      <td>0.0</td>\n",
              "      <td>98596.0</td>\n",
              "      <td>32342.0</td>\n",
              "      <td>...</td>\n",
              "      <td>4.00</td>\n",
              "      <td>6.00</td>\n",
              "      <td>16.420</td>\n",
              "      <td>0.0</td>\n",
              "      <td>9.00</td>\n",
              "      <td>24.630</td>\n",
              "      <td>0.0</td>\n",
              "      <td>67.4041</td>\n",
              "      <td>0.00</td>\n",
              "      <td>0.0</td>\n",
              "    </tr>\n",
              "  </tbody>\n",
              "</table>\n",
              "<p>5 rows × 36 columns</p>\n",
              "</div>\n",
              "      <button class=\"colab-df-convert\" onclick=\"convertToInteractive('df-8c68cd7a-009b-4e0f-9316-73bf1ccc1fbb')\"\n",
              "              title=\"Convert this dataframe to an interactive table.\"\n",
              "              style=\"display:none;\">\n",
              "        \n",
              "  <svg xmlns=\"http://www.w3.org/2000/svg\" height=\"24px\"viewBox=\"0 0 24 24\"\n",
              "       width=\"24px\">\n",
              "    <path d=\"M0 0h24v24H0V0z\" fill=\"none\"/>\n",
              "    <path d=\"M18.56 5.44l.94 2.06.94-2.06 2.06-.94-2.06-.94-.94-2.06-.94 2.06-2.06.94zm-11 1L8.5 8.5l.94-2.06 2.06-.94-2.06-.94L8.5 2.5l-.94 2.06-2.06.94zm10 10l.94 2.06.94-2.06 2.06-.94-2.06-.94-.94-2.06-.94 2.06-2.06.94z\"/><path d=\"M17.41 7.96l-1.37-1.37c-.4-.4-.92-.59-1.43-.59-.52 0-1.04.2-1.43.59L10.3 9.45l-7.72 7.72c-.78.78-.78 2.05 0 2.83L4 21.41c.39.39.9.59 1.41.59.51 0 1.02-.2 1.41-.59l7.78-7.78 2.81-2.81c.8-.78.8-2.07 0-2.86zM5.41 20L4 18.59l7.72-7.72 1.47 1.35L5.41 20z\"/>\n",
              "  </svg>\n",
              "      </button>\n",
              "      \n",
              "  <style>\n",
              "    .colab-df-container {\n",
              "      display:flex;\n",
              "      flex-wrap:wrap;\n",
              "      gap: 12px;\n",
              "    }\n",
              "\n",
              "    .colab-df-convert {\n",
              "      background-color: #E8F0FE;\n",
              "      border: none;\n",
              "      border-radius: 50%;\n",
              "      cursor: pointer;\n",
              "      display: none;\n",
              "      fill: #1967D2;\n",
              "      height: 32px;\n",
              "      padding: 0 0 0 0;\n",
              "      width: 32px;\n",
              "    }\n",
              "\n",
              "    .colab-df-convert:hover {\n",
              "      background-color: #E2EBFA;\n",
              "      box-shadow: 0px 1px 2px rgba(60, 64, 67, 0.3), 0px 1px 3px 1px rgba(60, 64, 67, 0.15);\n",
              "      fill: #174EA6;\n",
              "    }\n",
              "\n",
              "    [theme=dark] .colab-df-convert {\n",
              "      background-color: #3B4455;\n",
              "      fill: #D2E3FC;\n",
              "    }\n",
              "\n",
              "    [theme=dark] .colab-df-convert:hover {\n",
              "      background-color: #434B5C;\n",
              "      box-shadow: 0px 1px 3px 1px rgba(0, 0, 0, 0.15);\n",
              "      filter: drop-shadow(0px 1px 2px rgba(0, 0, 0, 0.3));\n",
              "      fill: #FFFFFF;\n",
              "    }\n",
              "  </style>\n",
              "\n",
              "      <script>\n",
              "        const buttonEl =\n",
              "          document.querySelector('#df-8c68cd7a-009b-4e0f-9316-73bf1ccc1fbb button.colab-df-convert');\n",
              "        buttonEl.style.display =\n",
              "          google.colab.kernel.accessAllowed ? 'block' : 'none';\n",
              "\n",
              "        async function convertToInteractive(key) {\n",
              "          const element = document.querySelector('#df-8c68cd7a-009b-4e0f-9316-73bf1ccc1fbb');\n",
              "          const dataTable =\n",
              "            await google.colab.kernel.invokeFunction('convertToInteractive',\n",
              "                                                     [key], {});\n",
              "          if (!dataTable) return;\n",
              "\n",
              "          const docLinkHtml = 'Like what you see? Visit the ' +\n",
              "            '<a target=\"_blank\" href=https://colab.research.google.com/notebooks/data_table.ipynb>data table notebook</a>'\n",
              "            + ' to learn more about interactive tables.';\n",
              "          element.innerHTML = '';\n",
              "          dataTable['output_type'] = 'display_data';\n",
              "          await google.colab.output.renderOutput(dataTable, element);\n",
              "          const docLink = document.createElement('div');\n",
              "          docLink.innerHTML = docLinkHtml;\n",
              "          element.appendChild(docLink);\n",
              "        }\n",
              "      </script>\n",
              "    </div>\n",
              "  </div>\n",
              "  "
            ]
          },
          "metadata": {},
          "execution_count": 104
        }
      ]
    },
    {
      "cell_type": "markdown",
      "source": [
        "### Chance of Admit 을 target으로 지정"
      ],
      "metadata": {
        "id": "vPbUMj-uQpVp"
      }
    },
    {
      "cell_type": "code",
      "source": [
        "y = df['Chance of Admit ']\n",
        "y.head()"
      ],
      "metadata": {
        "id": "VAi5R59YQpoM",
        "colab": {
          "base_uri": "https://localhost:8080/"
        },
        "outputId": "199f704c-5c0d-4765-82e3-295693df301e"
      },
      "execution_count": 105,
      "outputs": [
        {
          "output_type": "execute_result",
          "data": {
            "text/plain": [
              "0    0.92\n",
              "1    0.76\n",
              "2    0.72\n",
              "3    0.80\n",
              "4    0.65\n",
              "Name: Chance of Admit , dtype: float64"
            ]
          },
          "metadata": {},
          "execution_count": 105
        }
      ]
    },
    {
      "cell_type": "markdown",
      "source": [
        "### 하이퍼 파라미터들을 미리 지정"
      ],
      "metadata": {
        "id": "B3bDb67NQ32f"
      }
    },
    {
      "cell_type": "code",
      "source": [
        "hyper_parameter = {\n",
        "    'alpha': [0.01, 0.1, 1, 10],\n",
        "    'max_iter': [100, 500, 1000, 1500, 2000]\n",
        "}"
      ],
      "metadata": {
        "id": "38hzBNRIQ3FN"
      },
      "execution_count": 106,
      "outputs": []
    },
    {
      "cell_type": "markdown",
      "source": [
        "### Lasso와 비교를 진행하기 위해 Lasso 모델에는 아무런 조치도 취하지 않고 객체를 만들어줍니다"
      ],
      "metadata": {
        "id": "i6spPzKLRHyW"
      }
    },
    {
      "cell_type": "code",
      "source": [
        "model = Lasso()"
      ],
      "metadata": {
        "id": "muOx0965RGoK"
      },
      "execution_count": 107,
      "outputs": []
    },
    {
      "cell_type": "markdown",
      "source": [
        "### GridSearchCV를 호출하여 estimator = model, 파라미터는 위에서 지정한 하이퍼 파라미터, 5겹으로 교차검증을 진행합니다"
      ],
      "metadata": {
        "id": "ppu7ePO-RRJr"
      }
    },
    {
      "cell_type": "code",
      "source": [
        "hyper_parameter_tuner = GridSearchCV(estimator = model, cv = 5, param_grid = hyper_parameter)"
      ],
      "metadata": {
        "id": "x5H-OUJURQYz"
      },
      "execution_count": 108,
      "outputs": []
    },
    {
      "cell_type": "markdown",
      "source": [
        "### 새로 만든 모델을 학습시켜줍니다"
      ],
      "metadata": {
        "id": "NtYfSeYrRz7W"
      }
    },
    {
      "cell_type": "code",
      "source": [
        "hyper_parameter_tuner.fit(X,y)"
      ],
      "metadata": {
        "id": "Ao44WM6SRzWF",
        "colab": {
          "base_uri": "https://localhost:8080/"
        },
        "outputId": "2022bd25-6747-46be-baff-20552e129f5c"
      },
      "execution_count": 109,
      "outputs": [
        {
          "output_type": "execute_result",
          "data": {
            "text/plain": [
              "GridSearchCV(cv=5, estimator=Lasso(),\n",
              "             param_grid={'alpha': [0.01, 0.1, 1, 10],\n",
              "                         'max_iter': [100, 500, 1000, 1500, 2000]})"
            ]
          },
          "metadata": {},
          "execution_count": 109
        }
      ]
    },
    {
      "cell_type": "markdown",
      "source": [
        "### 최적의 파라미터값들을 찾습니다"
      ],
      "metadata": {
        "id": "gj-WSksRR92j"
      }
    },
    {
      "cell_type": "code",
      "source": [
        "hyper_parameter_tuner.best_params_"
      ],
      "metadata": {
        "id": "F5GF_osjR9Wp",
        "colab": {
          "base_uri": "https://localhost:8080/"
        },
        "outputId": "69b42a4b-5427-4b50-b932-06a0feaadcbb"
      },
      "execution_count": 110,
      "outputs": [
        {
          "output_type": "execute_result",
          "data": {
            "text/plain": [
              "{'alpha': 0.1, 'max_iter': 500}"
            ]
          },
          "metadata": {},
          "execution_count": 110
        }
      ]
    },
    {
      "cell_type": "markdown",
      "source": [
        "## 베이시안 최적화"
      ],
      "metadata": {
        "id": "u89kTpKESd5c"
      }
    },
    {
      "cell_type": "markdown",
      "source": [
        "### 베이시안 라이브러리 설치"
      ],
      "metadata": {
        "id": "t6ubMgN-fgab"
      }
    },
    {
      "cell_type": "code",
      "source": [
        "!pip install bayesian-optimization"
      ],
      "metadata": {
        "id": "qvJflegEUwcg",
        "colab": {
          "base_uri": "https://localhost:8080/"
        },
        "outputId": "43de90b2-d40e-4d44-e527-f148b75647f1"
      },
      "execution_count": 111,
      "outputs": [
        {
          "output_type": "stream",
          "name": "stdout",
          "text": [
            "Looking in indexes: https://pypi.org/simple, https://us-python.pkg.dev/colab-wheels/public/simple/\n",
            "Collecting bayesian-optimization\n",
            "  Downloading bayesian_optimization-1.3.1-py3-none-any.whl (16 kB)\n",
            "Requirement already satisfied: scipy>=1.0.0 in /usr/local/lib/python3.7/dist-packages (from bayesian-optimization) (1.7.3)\n",
            "Requirement already satisfied: numpy>=1.9.0 in /usr/local/lib/python3.7/dist-packages (from bayesian-optimization) (1.21.6)\n",
            "Requirement already satisfied: scikit-learn>=0.18.0 in /usr/local/lib/python3.7/dist-packages (from bayesian-optimization) (1.0.2)\n",
            "Requirement already satisfied: joblib>=0.11 in /usr/local/lib/python3.7/dist-packages (from scikit-learn>=0.18.0->bayesian-optimization) (1.2.0)\n",
            "Requirement already satisfied: threadpoolctl>=2.0.0 in /usr/local/lib/python3.7/dist-packages (from scikit-learn>=0.18.0->bayesian-optimization) (3.1.0)\n",
            "Installing collected packages: bayesian-optimization\n",
            "Successfully installed bayesian-optimization-1.3.1\n"
          ]
        }
      ]
    },
    {
      "cell_type": "markdown",
      "source": [
        "### 베이시안 최적화를 import"
      ],
      "metadata": {
        "id": "0gGdRD7Ofifg"
      }
    },
    {
      "cell_type": "code",
      "source": [
        "from bayes_opt import BayesianOptimization\n",
        "import numpy as np"
      ],
      "metadata": {
        "id": "iGtbDZghVGX0"
      },
      "execution_count": 112,
      "outputs": []
    },
    {
      "cell_type": "markdown",
      "source": [
        "### 목표 함수를 설정"
      ],
      "metadata": {
        "id": "hyJpWIQlfmfh"
      }
    },
    {
      "cell_type": "code",
      "source": [
        "def target(x):\n",
        "    return np.exp(-(x-3)**2) + np.exp(-(3*x-2)**2) + 1/(x**2+1)"
      ],
      "metadata": {
        "id": "LQBqL2DLfNQ_"
      },
      "execution_count": 113,
      "outputs": []
    },
    {
      "cell_type": "markdown",
      "source": [
        "### 베이시안 최적화 객체 생성"
      ],
      "metadata": {
        "id": "9aitRLjNfonD"
      }
    },
    {
      "cell_type": "code",
      "source": [
        "bayes_optimizer = BayesianOptimization(target, {'x': (-2, 6)}, \n",
        "                                       random_state=0)"
      ],
      "metadata": {
        "id": "H5jmRO7EfQJS"
      },
      "execution_count": 114,
      "outputs": []
    },
    {
      "cell_type": "markdown",
      "source": [
        "### 모델을 14회에 걸쳐서 진행\n",
        "##### iter는 반복 회차, target은 목적 함수의 값, x는 입력값"
      ],
      "metadata": {
        "id": "NHR-HcCWful9"
      }
    },
    {
      "cell_type": "code",
      "source": [
        "bayes_optimizer.maximize(init_points=2, n_iter=14, acq='ei', xi=0.01)"
      ],
      "metadata": {
        "id": "Gyz_25uvfUQA",
        "colab": {
          "base_uri": "https://localhost:8080/"
        },
        "outputId": "8a3696e4-4daa-431f-dcf9-777d42852763"
      },
      "execution_count": 115,
      "outputs": [
        {
          "output_type": "stream",
          "name": "stdout",
          "text": [
            "|   iter    |  target   |     x     |\n",
            "-------------------------------------\n",
            "| \u001b[0m1        \u001b[0m | \u001b[0m0.8386   \u001b[0m | \u001b[0m2.391    \u001b[0m |\n",
            "| \u001b[0m2        \u001b[0m | \u001b[0m0.6615   \u001b[0m | \u001b[0m3.722    \u001b[0m |\n",
            "| \u001b[95m3        \u001b[0m | \u001b[95m0.8388   \u001b[0m | \u001b[95m2.391    \u001b[0m |\n",
            "| \u001b[95m4        \u001b[0m | \u001b[95m0.9439   \u001b[0m | \u001b[95m2.541    \u001b[0m |\n",
            "| \u001b[95m5        \u001b[0m | \u001b[95m1.023    \u001b[0m | \u001b[95m2.676    \u001b[0m |\n",
            "| \u001b[95m6        \u001b[0m | \u001b[95m1.089    \u001b[0m | \u001b[95m2.856    \u001b[0m |\n",
            "| \u001b[95m7        \u001b[0m | \u001b[95m1.098    \u001b[0m | \u001b[95m3.02     \u001b[0m |\n",
            "| \u001b[0m8        \u001b[0m | \u001b[0m0.2003   \u001b[0m | \u001b[0m-1.998   \u001b[0m |\n",
            "| \u001b[0m9        \u001b[0m | \u001b[0m0.02715  \u001b[0m | \u001b[0m6.0      \u001b[0m |\n",
            "| \u001b[0m10       \u001b[0m | \u001b[0m1.051    \u001b[0m | \u001b[0m0.1121   \u001b[0m |\n",
            "| \u001b[95m11       \u001b[0m | \u001b[95m1.707    \u001b[0m | \u001b[95m0.6321   \u001b[0m |\n",
            "| \u001b[0m12       \u001b[0m | \u001b[0m1.244    \u001b[0m | \u001b[0m0.8781   \u001b[0m |\n",
            "| \u001b[0m13       \u001b[0m | \u001b[0m1.633    \u001b[0m | \u001b[0m0.5334   \u001b[0m |\n",
            "| \u001b[0m14       \u001b[0m | \u001b[0m1.089    \u001b[0m | \u001b[0m2.856    \u001b[0m |\n",
            "| \u001b[0m15       \u001b[0m | \u001b[0m0.6326   \u001b[0m | \u001b[0m-0.7621  \u001b[0m |\n",
            "| \u001b[0m16       \u001b[0m | \u001b[0m0.09098  \u001b[0m | \u001b[0m4.74     \u001b[0m |\n",
            "=====================================\n"
          ]
        }
      ]
    },
    {
      "cell_type": "markdown",
      "source": [
        "##### 위와 같이 여러 횟수에 걸쳐서 실제 목표하는 함수에 최대한 다다르도록 추정한다"
      ],
      "metadata": {
        "id": "c96fPGPggUit"
      }
    }
  ]
}